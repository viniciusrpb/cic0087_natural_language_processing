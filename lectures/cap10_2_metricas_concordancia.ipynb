{
  "nbformat": 4,
  "nbformat_minor": 0,
  "metadata": {
    "colab": {
      "name": "cap10_2_metricas_concordancia.ipynb",
      "provenance": [],
      "collapsed_sections": [],
      "authorship_tag": "ABX9TyPyiVTCT4NDwEzqKuDCyITs",
      "include_colab_link": true
    },
    "kernelspec": {
      "name": "python3",
      "display_name": "Python 3"
    },
    "language_info": {
      "name": "python"
    }
  },
  "cells": [
    {
      "cell_type": "markdown",
      "metadata": {
        "id": "view-in-github",
        "colab_type": "text"
      },
      "source": [
        "<a href=\"https://colab.research.google.com/github/viniciusrpb/cic0269_natural_language_processing/blob/main/lectures/cap10_2_metricas_concordancia.ipynb\" target=\"_parent\"><img src=\"https://colab.research.google.com/assets/colab-badge.svg\" alt=\"Open In Colab\"/></a>"
      ]
    },
    {
      "cell_type": "markdown",
      "source": [
        "# Capítulo 10 - Construção e Anotação de Corpos de Textos\n",
        "\n",
        "\n",
        "Fontes:\n",
        "\n",
        "[Sklearn Cohen's Kappa](https://scikit-learn.org/stable/modules/generated/sklearn.metrics.cohen_kappa_score.html)\n",
        "\n",
        "[Fast Krippendorff](https://github.com/pln-fing-udelar/fast-krippendorff)\n"
      ],
      "metadata": {
        "id": "0rN_Hrj0nHgu"
      }
    },
    {
      "cell_type": "markdown",
      "source": [
        "## 10.2 - Métricas de Concordâncias entre Anotadores"
      ],
      "metadata": {
        "id": "HHxaEZDCjn0H"
      }
    },
    {
      "cell_type": "code",
      "source": [
        "!pip install krippendorff"
      ],
      "metadata": {
        "colab": {
          "base_uri": "https://localhost:8080/"
        },
        "id": "RwixhkOv1bMx",
        "outputId": "bd41a83d-d8b6-4982-dc76-e8e2449f7976"
      },
      "execution_count": null,
      "outputs": [
        {
          "output_type": "stream",
          "name": "stdout",
          "text": [
            "Looking in indexes: https://pypi.org/simple, https://us-python.pkg.dev/colab-wheels/public/simple/\n",
            "Collecting krippendorff\n",
            "  Downloading krippendorff-0.5.1-py3-none-any.whl (17 kB)\n",
            "Requirement already satisfied: numpy in /usr/local/lib/python3.7/dist-packages (from krippendorff) (1.21.6)\n",
            "Installing collected packages: krippendorff\n",
            "Successfully installed krippendorff-0.5.1\n"
          ]
        }
      ]
    },
    {
      "cell_type": "code",
      "execution_count": null,
      "metadata": {
        "id": "xsXb1Xe1mDfA"
      },
      "outputs": [],
      "source": [
        "import krippendorff\n",
        "import numpy as np\n",
        "import pandas as pd\n",
        "from sklearn.metrics import cohen_kappa_score"
      ]
    },
    {
      "cell_type": "markdown",
      "source": [
        "Veja o seguinte exemplo (colocamos em um objeto DataFrame apenas para facilitar o entendimento):"
      ],
      "metadata": {
        "id": "9HxVkpNyUYMH"
      }
    },
    {
      "cell_type": "code",
      "source": [
        "corpus = []\n",
        "\n",
        "corpus.append([\"O ser humano fede!\",\"negativo\",\"negativo\",\"negativo\"])\n",
        "corpus.append([\"Onde existem flores, existe vida!\",\"positivo\",\"positivo\",\"positivo\"])\n",
        "corpus.append([\"Choveu ontem lá no ICC\",\"neutro\",\"neutro\",\"negativo\"])\n",
        "corpus.append([\"Minha sogra me visitou ontem\",\"negativo\",\"negativo\",\"neutro\"])\n",
        "corpus.append([\"Agora são 13 horas e 14 minutos\",\"positivo\",\"neutro\",\"negativo\"])\n",
        "\n",
        "df = pd.DataFrame(corpus, columns = ['texto','Label - Anotador 1','Label - Anotador 2','Label - Anotador 3'])"
      ],
      "metadata": {
        "id": "yh4Du2H2UY-S"
      },
      "execution_count": null,
      "outputs": []
    },
    {
      "cell_type": "code",
      "source": [
        "df"
      ],
      "metadata": {
        "colab": {
          "base_uri": "https://localhost:8080/",
          "height": 206
        },
        "id": "asuHa6wlUecA",
        "outputId": "2e5a28c7-a320-4600-8d33-fb05ce42eb78"
      },
      "execution_count": null,
      "outputs": [
        {
          "output_type": "execute_result",
          "data": {
            "text/plain": [
              "                               texto Label - Anotador 1 Label - Anotador 2  \\\n",
              "0                 O ser humano fede!           negativo           negativo   \n",
              "1  Onde existem flores, existe vida!           positivo           positivo   \n",
              "2             Choveu ontem lá no ICC             neutro             neutro   \n",
              "3       Minha sogra me visitou ontem           negativo           negativo   \n",
              "4    Agora são 13 horas e 14 minutos           positivo             neutro   \n",
              "\n",
              "  Label - Anotador 3  \n",
              "0           negativo  \n",
              "1           positivo  \n",
              "2           negativo  \n",
              "3             neutro  \n",
              "4           negativo  "
            ],
            "text/html": [
              "\n",
              "  <div id=\"df-7478783f-c5d7-4f69-970a-90d262cd6445\">\n",
              "    <div class=\"colab-df-container\">\n",
              "      <div>\n",
              "<style scoped>\n",
              "    .dataframe tbody tr th:only-of-type {\n",
              "        vertical-align: middle;\n",
              "    }\n",
              "\n",
              "    .dataframe tbody tr th {\n",
              "        vertical-align: top;\n",
              "    }\n",
              "\n",
              "    .dataframe thead th {\n",
              "        text-align: right;\n",
              "    }\n",
              "</style>\n",
              "<table border=\"1\" class=\"dataframe\">\n",
              "  <thead>\n",
              "    <tr style=\"text-align: right;\">\n",
              "      <th></th>\n",
              "      <th>texto</th>\n",
              "      <th>Label - Anotador 1</th>\n",
              "      <th>Label - Anotador 2</th>\n",
              "      <th>Label - Anotador 3</th>\n",
              "    </tr>\n",
              "  </thead>\n",
              "  <tbody>\n",
              "    <tr>\n",
              "      <th>0</th>\n",
              "      <td>O ser humano fede!</td>\n",
              "      <td>negativo</td>\n",
              "      <td>negativo</td>\n",
              "      <td>negativo</td>\n",
              "    </tr>\n",
              "    <tr>\n",
              "      <th>1</th>\n",
              "      <td>Onde existem flores, existe vida!</td>\n",
              "      <td>positivo</td>\n",
              "      <td>positivo</td>\n",
              "      <td>positivo</td>\n",
              "    </tr>\n",
              "    <tr>\n",
              "      <th>2</th>\n",
              "      <td>Choveu ontem lá no ICC</td>\n",
              "      <td>neutro</td>\n",
              "      <td>neutro</td>\n",
              "      <td>negativo</td>\n",
              "    </tr>\n",
              "    <tr>\n",
              "      <th>3</th>\n",
              "      <td>Minha sogra me visitou ontem</td>\n",
              "      <td>negativo</td>\n",
              "      <td>negativo</td>\n",
              "      <td>neutro</td>\n",
              "    </tr>\n",
              "    <tr>\n",
              "      <th>4</th>\n",
              "      <td>Agora são 13 horas e 14 minutos</td>\n",
              "      <td>positivo</td>\n",
              "      <td>neutro</td>\n",
              "      <td>negativo</td>\n",
              "    </tr>\n",
              "  </tbody>\n",
              "</table>\n",
              "</div>\n",
              "      <button class=\"colab-df-convert\" onclick=\"convertToInteractive('df-7478783f-c5d7-4f69-970a-90d262cd6445')\"\n",
              "              title=\"Convert this dataframe to an interactive table.\"\n",
              "              style=\"display:none;\">\n",
              "        \n",
              "  <svg xmlns=\"http://www.w3.org/2000/svg\" height=\"24px\"viewBox=\"0 0 24 24\"\n",
              "       width=\"24px\">\n",
              "    <path d=\"M0 0h24v24H0V0z\" fill=\"none\"/>\n",
              "    <path d=\"M18.56 5.44l.94 2.06.94-2.06 2.06-.94-2.06-.94-.94-2.06-.94 2.06-2.06.94zm-11 1L8.5 8.5l.94-2.06 2.06-.94-2.06-.94L8.5 2.5l-.94 2.06-2.06.94zm10 10l.94 2.06.94-2.06 2.06-.94-2.06-.94-.94-2.06-.94 2.06-2.06.94z\"/><path d=\"M17.41 7.96l-1.37-1.37c-.4-.4-.92-.59-1.43-.59-.52 0-1.04.2-1.43.59L10.3 9.45l-7.72 7.72c-.78.78-.78 2.05 0 2.83L4 21.41c.39.39.9.59 1.41.59.51 0 1.02-.2 1.41-.59l7.78-7.78 2.81-2.81c.8-.78.8-2.07 0-2.86zM5.41 20L4 18.59l7.72-7.72 1.47 1.35L5.41 20z\"/>\n",
              "  </svg>\n",
              "      </button>\n",
              "      \n",
              "  <style>\n",
              "    .colab-df-container {\n",
              "      display:flex;\n",
              "      flex-wrap:wrap;\n",
              "      gap: 12px;\n",
              "    }\n",
              "\n",
              "    .colab-df-convert {\n",
              "      background-color: #E8F0FE;\n",
              "      border: none;\n",
              "      border-radius: 50%;\n",
              "      cursor: pointer;\n",
              "      display: none;\n",
              "      fill: #1967D2;\n",
              "      height: 32px;\n",
              "      padding: 0 0 0 0;\n",
              "      width: 32px;\n",
              "    }\n",
              "\n",
              "    .colab-df-convert:hover {\n",
              "      background-color: #E2EBFA;\n",
              "      box-shadow: 0px 1px 2px rgba(60, 64, 67, 0.3), 0px 1px 3px 1px rgba(60, 64, 67, 0.15);\n",
              "      fill: #174EA6;\n",
              "    }\n",
              "\n",
              "    [theme=dark] .colab-df-convert {\n",
              "      background-color: #3B4455;\n",
              "      fill: #D2E3FC;\n",
              "    }\n",
              "\n",
              "    [theme=dark] .colab-df-convert:hover {\n",
              "      background-color: #434B5C;\n",
              "      box-shadow: 0px 1px 3px 1px rgba(0, 0, 0, 0.15);\n",
              "      filter: drop-shadow(0px 1px 2px rgba(0, 0, 0, 0.3));\n",
              "      fill: #FFFFFF;\n",
              "    }\n",
              "  </style>\n",
              "\n",
              "      <script>\n",
              "        const buttonEl =\n",
              "          document.querySelector('#df-7478783f-c5d7-4f69-970a-90d262cd6445 button.colab-df-convert');\n",
              "        buttonEl.style.display =\n",
              "          google.colab.kernel.accessAllowed ? 'block' : 'none';\n",
              "\n",
              "        async function convertToInteractive(key) {\n",
              "          const element = document.querySelector('#df-7478783f-c5d7-4f69-970a-90d262cd6445');\n",
              "          const dataTable =\n",
              "            await google.colab.kernel.invokeFunction('convertToInteractive',\n",
              "                                                     [key], {});\n",
              "          if (!dataTable) return;\n",
              "\n",
              "          const docLinkHtml = 'Like what you see? Visit the ' +\n",
              "            '<a target=\"_blank\" href=https://colab.research.google.com/notebooks/data_table.ipynb>data table notebook</a>'\n",
              "            + ' to learn more about interactive tables.';\n",
              "          element.innerHTML = '';\n",
              "          dataTable['output_type'] = 'display_data';\n",
              "          await google.colab.output.renderOutput(dataTable, element);\n",
              "          const docLink = document.createElement('div');\n",
              "          docLink.innerHTML = docLinkHtml;\n",
              "          element.appendChild(docLink);\n",
              "        }\n",
              "      </script>\n",
              "    </div>\n",
              "  </div>\n",
              "  "
            ]
          },
          "metadata": {},
          "execution_count": 4
        }
      ]
    },
    {
      "cell_type": "markdown",
      "source": [
        "Alterando a representação do DataFrame para o formato de entrada de uma tabela em que:\n",
        "\n",
        "\n",
        "*   Cada linha é um anotador\n",
        "*   Cada coluna é um documento\n",
        "*   Cada célula da tabela é o rótulo (\\textit{label}) $v_{ij}$ atribuído pelo anotador $i$ para o documento $j$\n",
        "\n",
        "\n",
        "    [\n",
        "        {unit1:value, unit2:value, ...},  # coder 1\n",
        "        {unit1:value, unit3:value, ...},   # coder 2\n",
        "        ...                            # more coders\n",
        "    ]\n",
        "\n"
      ],
      "metadata": {
        "id": "-JyewSeuDbd9"
      }
    },
    {
      "cell_type": "code",
      "source": [
        "corpus_transpose = []\n",
        "\n",
        "for atrib in df:\n",
        "\n",
        "    if atrib != 'texto':\n",
        "\n",
        "        lista = np.array(df[atrib])\n",
        "        corpus_transpose.append(list(lista.T))"
      ],
      "metadata": {
        "id": "WoURLza0Uo6J"
      },
      "execution_count": null,
      "outputs": []
    },
    {
      "cell_type": "markdown",
      "source": [
        "Como resultado, obtemos uma matriz em que cada linha se refere a um anotador e as colunas os labels atribuídos para cada documento:"
      ],
      "metadata": {
        "id": "8C0YT64qJ62j"
      }
    },
    {
      "cell_type": "code",
      "source": [
        "corpus_transpose"
      ],
      "metadata": {
        "colab": {
          "base_uri": "https://localhost:8080/"
        },
        "id": "H9c7BH3_DocL",
        "outputId": "2dbacf32-42cd-4c19-d440-2f623d22a9ff"
      },
      "execution_count": null,
      "outputs": [
        {
          "output_type": "execute_result",
          "data": {
            "text/plain": [
              "[['negativo', 'positivo', 'neutro', 'negativo', 'positivo'],\n",
              " ['negativo', 'positivo', 'neutro', 'negativo', 'neutro'],\n",
              " ['negativo', 'positivo', 'negativo', 'neutro', 'negativo']]"
            ]
          },
          "metadata": {},
          "execution_count": 6
        }
      ]
    },
    {
      "cell_type": "markdown",
      "source": [
        "Podemos também obter a representação inteira dos labels ao invés de strings:"
      ],
      "metadata": {
        "id": "DEtBujBbKCd2"
      }
    },
    {
      "cell_type": "code",
      "source": [
        "mapping = {'positivo' : 2, 'neutro' : 1, 'negativo' : 0}"
      ],
      "metadata": {
        "id": "rPhUCwCVKClf"
      },
      "execution_count": null,
      "outputs": []
    },
    {
      "cell_type": "code",
      "source": [
        "corpus_transpose_int = []\n",
        "\n",
        "for labels in corpus_transpose:\n",
        "    t = []\n",
        "    for doc in labels:\n",
        "        t.append(mapping[doc])\n",
        "    corpus_transpose_int.append(t)\n",
        "\n",
        "corpus_transpose_int"
      ],
      "metadata": {
        "colab": {
          "base_uri": "https://localhost:8080/"
        },
        "id": "MCbtKsDmKUFK",
        "outputId": "3b9f2da3-48f7-4637-ccc6-55a1baa43609"
      },
      "execution_count": null,
      "outputs": [
        {
          "output_type": "execute_result",
          "data": {
            "text/plain": [
              "[[0, 2, 1, 0, 2], [0, 2, 1, 0, 1], [0, 2, 0, 1, 0]]"
            ]
          },
          "metadata": {},
          "execution_count": 8
        }
      ]
    },
    {
      "cell_type": "markdown",
      "source": [
        "### Coeficiente de Cohen's Kappa $\\kappa$\n",
        "\n",
        "Lembre-se que o coeficiente Cohen's Kappa calcula a concordância entre dois anotadores apenas:"
      ],
      "metadata": {
        "id": "Cvlz1Jr8TuL7"
      }
    },
    {
      "cell_type": "code",
      "source": [
        "print(cohen_kappa_score(corpus_transpose[0], corpus_transpose[1]))"
      ],
      "metadata": {
        "colab": {
          "base_uri": "https://localhost:8080/"
        },
        "id": "yIwk4fWQTubi",
        "outputId": "dcdd1ef0-b092-4256-cc52-d6fa8b5b8ecf"
      },
      "execution_count": null,
      "outputs": [
        {
          "output_type": "stream",
          "name": "stdout",
          "text": [
            "0.7058823529411765\n"
          ]
        }
      ]
    },
    {
      "cell_type": "markdown",
      "source": [
        "### Coeficiente de Krippendorff\n",
        "\n"
      ],
      "metadata": {
        "id": "NPrl0Vj3nT_c"
      }
    },
    {
      "cell_type": "markdown",
      "source": [
        "Exemplo da documentação: com valores ausentes (*), isto é, o anotador (por algum motivo) não atribui rótulos"
      ],
      "metadata": {
        "id": "UaNa8Z3PMDZD"
      }
    },
    {
      "cell_type": "code",
      "source": [
        "reliability_data_str = [\"*    *    *    *    *    3    4    1    2    1    1    3    3    *    3\",  # anotador A\n",
        "                        \"1    *    2    1    3    3    4    3    *    *    *    *    *    *    *\",  # anotador B\n",
        "                        \"*    *    2    1    3    4    4    *    2    1    1    3    3    *    4\"]  # anotador C\n",
        "print(\"\\n\".join(reliability_data_str))"
      ],
      "metadata": {
        "colab": {
          "base_uri": "https://localhost:8080/"
        },
        "id": "o7ieQPvVnUGO",
        "outputId": "b77b0a27-e2f5-4b9a-bea1-fff79dccb527"
      },
      "execution_count": null,
      "outputs": [
        {
          "output_type": "stream",
          "name": "stdout",
          "text": [
            "*    *    *    *    *    3    4    1    2    1    1    3    3    *    3\n",
            "1    *    2    1    3    3    4    3    *    *    *    *    *    *    *\n",
            "*    *    2    1    3    4    4    *    2    1    1    3    3    *    4\n"
          ]
        }
      ]
    },
    {
      "cell_type": "code",
      "source": [
        "reliability_data = [[np.nan if v == \"*\" else int(v) for v in coder.split()] for coder in reliability_data_str]\n",
        "reliability_data"
      ],
      "metadata": {
        "colab": {
          "base_uri": "https://localhost:8080/"
        },
        "id": "8wsZJTqNHo8a",
        "outputId": "47b74013-46e1-414c-f5b4-db94a21aeaf8"
      },
      "execution_count": null,
      "outputs": [
        {
          "output_type": "execute_result",
          "data": {
            "text/plain": [
              "[[nan, nan, nan, nan, nan, 3, 4, 1, 2, 1, 1, 3, 3, nan, 3],\n",
              " [1, nan, 2, 1, 3, 3, 4, 3, nan, nan, nan, nan, nan, nan, nan],\n",
              " [nan, nan, 2, 1, 3, 4, 4, nan, 2, 1, 1, 3, 3, nan, 4]]"
            ]
          },
          "metadata": {},
          "execution_count": 11
        }
      ]
    },
    {
      "cell_type": "markdown",
      "source": [
        "Agora com matriz de contagem"
      ],
      "metadata": {
        "id": "WPYCGmwl3bdE"
      }
    },
    {
      "cell_type": "code",
      "source": [
        "print(\"Krippendorff's alpha for nominal metric: \", krippendorff.alpha(reliability_data=reliability_data,\n",
        "                                                                          level_of_measurement=\"nominal\"))\n",
        "\n",
        "print(\"From value counts:\\n\")\n",
        "\n",
        "value_counts = np.array([[1, 0, 0, 0],\n",
        "                         [0, 0, 0, 0],\n",
        "                         [0, 2, 0, 0],\n",
        "                         [2, 0, 0, 0],\n",
        "                         [0, 0, 2, 0],\n",
        "                         [0, 0, 2, 1],\n",
        "                         [0, 0, 0, 3],\n",
        "                         [1, 0, 1, 0],\n",
        "                         [0, 2, 0, 0],\n",
        "                         [2, 0, 0, 0],\n",
        "                         [2, 0, 0, 0],\n",
        "                         [0, 0, 2, 0],\n",
        "                         [0, 0, 2, 0],\n",
        "                         [0, 0, 0, 0],\n",
        "                         [0, 0, 1, 1]])\n",
        "print(value_counts)\n",
        "print(\"Krippendorff's alpha for nominal metric: \", krippendorff.alpha(value_counts=value_counts,\n",
        "                                                                          level_of_measurement=\"nominal\"))"
      ],
      "metadata": {
        "colab": {
          "base_uri": "https://localhost:8080/"
        },
        "id": "QKbKlilv3bny",
        "outputId": "dff9e663-6bdd-492c-b1cf-7c1c8074ba18"
      },
      "execution_count": null,
      "outputs": [
        {
          "output_type": "stream",
          "name": "stdout",
          "text": [
            "Krippendorff's alpha for nominal metric:  0.691358024691358\n",
            "From value counts:\n",
            "\n",
            "[[1 0 0 0]\n",
            " [0 0 0 0]\n",
            " [0 2 0 0]\n",
            " [2 0 0 0]\n",
            " [0 0 2 0]\n",
            " [0 0 2 1]\n",
            " [0 0 0 3]\n",
            " [1 0 1 0]\n",
            " [0 2 0 0]\n",
            " [2 0 0 0]\n",
            " [2 0 0 0]\n",
            " [0 0 2 0]\n",
            " [0 0 2 0]\n",
            " [0 0 0 0]\n",
            " [0 0 1 1]]\n",
            "Krippendorff's alpha for nominal metric:  0.691358024691358\n"
          ]
        }
      ]
    },
    {
      "cell_type": "markdown",
      "source": [
        "## 10.3 - Avaliação por Similaridade entre Textos"
      ],
      "metadata": {
        "id": "o9TFSJwU-NOi"
      }
    },
    {
      "cell_type": "code",
      "source": [
        "texto_anotador_a = \"uma parte de um texto\"\n",
        "texto_anotador_b = \"uma parte de um texto\"\n",
        "texto_anotador_c = \"uma parte de um texto que vai longe\"\n",
        "texto_anotador_d = \"Visando obter uma parte de um texto que vai longe\""
      ],
      "metadata": {
        "id": "81tNr07LvFC6"
      },
      "execution_count": null,
      "outputs": []
    },
    {
      "cell_type": "markdown",
      "source": [
        "Edit Distance"
      ],
      "metadata": {
        "id": "jz4HH2CF4MDY"
      }
    },
    {
      "cell_type": "code",
      "source": [
        ""
      ],
      "metadata": {
        "id": "9JukSC8m4NLf"
      },
      "execution_count": null,
      "outputs": []
    },
    {
      "cell_type": "markdown",
      "source": [
        "Coeficiente de Jaccard"
      ],
      "metadata": {
        "id": "PdSCM1tJ2ph8"
      }
    },
    {
      "cell_type": "code",
      "source": [
        ""
      ],
      "metadata": {
        "id": "sdlPXTas2oGN",
        "colab": {
          "base_uri": "https://localhost:8080/",
          "height": 130
        },
        "outputId": "7d62b236-6495-4e6c-96a8-461252f92297"
      },
      "execution_count": null,
      "outputs": [
        {
          "output_type": "error",
          "ename": "SyntaxError",
          "evalue": "ignored",
          "traceback": [
            "\u001b[0;36m  File \u001b[0;32m\"<ipython-input-14-0a843fa070a7>\"\u001b[0;36m, line \u001b[0;32m3\u001b[0m\n\u001b[0;31m    for\u001b[0m\n\u001b[0m       ^\u001b[0m\n\u001b[0;31mSyntaxError\u001b[0m\u001b[0;31m:\u001b[0m invalid syntax\n"
          ]
        }
      ]
    }
  ]
}