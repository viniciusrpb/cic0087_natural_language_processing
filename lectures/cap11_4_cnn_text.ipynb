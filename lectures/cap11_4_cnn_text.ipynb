{
  "nbformat": 4,
  "nbformat_minor": 0,
  "metadata": {
    "colab": {
      "provenance": [],
      "collapsed_sections": [],
      "authorship_tag": "ABX9TyOHKFeJj2FlLwd0BBY0NfpX",
      "include_colab_link": true
    },
    "kernelspec": {
      "name": "python3",
      "display_name": "Python 3"
    },
    "language_info": {
      "name": "python"
    }
  },
  "cells": [
    {
      "cell_type": "markdown",
      "metadata": {
        "id": "view-in-github",
        "colab_type": "text"
      },
      "source": [
        "<a href=\"https://colab.research.google.com/github/viniciusrpb/cic0269_natural_language_processing/blob/main/lectures/cap11_4_cnn_text.ipynb\" target=\"_parent\"><img src=\"https://colab.research.google.com/assets/colab-badge.svg\" alt=\"Open In Colab\"/></a>"
      ]
    },
    {
      "cell_type": "markdown",
      "source": [
        "# Capítulo 11 - Redes Neurais Convolucionais\n",
        "\n",
        "## 11.4 - Redes Neurais Convolucionais em Textos"
      ],
      "metadata": {
        "id": "t0lv6SPzPbXi"
      }
    },
    {
      "cell_type": "code",
      "execution_count": 1,
      "metadata": {
        "id": "8qesw4rNMsde",
        "colab": {
          "base_uri": "https://localhost:8080/"
        },
        "outputId": "b941b732-038f-493b-c82b-3a6d460bc788"
      },
      "outputs": [
        {
          "output_type": "stream",
          "name": "stdout",
          "text": [
            "Looking in indexes: https://pypi.org/simple, https://us-python.pkg.dev/colab-wheels/public/simple/\n",
            "Requirement already satisfied: keras in /usr/local/lib/python3.7/dist-packages (2.8.0)\n",
            "Looking in indexes: https://pypi.org/simple, https://us-python.pkg.dev/colab-wheels/public/simple/\n",
            "Requirement already satisfied: tensorflow in /usr/local/lib/python3.7/dist-packages (2.8.2+zzzcolab20220719082949)\n",
            "Requirement already satisfied: tensorflow-io-gcs-filesystem>=0.23.1 in /usr/local/lib/python3.7/dist-packages (from tensorflow) (0.26.0)\n",
            "Requirement already satisfied: numpy>=1.20 in /usr/local/lib/python3.7/dist-packages (from tensorflow) (1.21.6)\n",
            "Requirement already satisfied: gast>=0.2.1 in /usr/local/lib/python3.7/dist-packages (from tensorflow) (0.5.3)\n",
            "Requirement already satisfied: protobuf<3.20,>=3.9.2 in /usr/local/lib/python3.7/dist-packages (from tensorflow) (3.17.3)\n",
            "Requirement already satisfied: termcolor>=1.1.0 in /usr/local/lib/python3.7/dist-packages (from tensorflow) (1.1.0)\n",
            "Requirement already satisfied: six>=1.12.0 in /usr/local/lib/python3.7/dist-packages (from tensorflow) (1.15.0)\n",
            "Requirement already satisfied: keras-preprocessing>=1.1.1 in /usr/local/lib/python3.7/dist-packages (from tensorflow) (1.1.2)\n",
            "Requirement already satisfied: setuptools in /usr/local/lib/python3.7/dist-packages (from tensorflow) (57.4.0)\n",
            "Requirement already satisfied: h5py>=2.9.0 in /usr/local/lib/python3.7/dist-packages (from tensorflow) (3.1.0)\n",
            "Requirement already satisfied: absl-py>=0.4.0 in /usr/local/lib/python3.7/dist-packages (from tensorflow) (1.2.0)\n",
            "Requirement already satisfied: wrapt>=1.11.0 in /usr/local/lib/python3.7/dist-packages (from tensorflow) (1.14.1)\n",
            "Requirement already satisfied: libclang>=9.0.1 in /usr/local/lib/python3.7/dist-packages (from tensorflow) (14.0.6)\n",
            "Requirement already satisfied: keras<2.9,>=2.8.0rc0 in /usr/local/lib/python3.7/dist-packages (from tensorflow) (2.8.0)\n",
            "Requirement already satisfied: flatbuffers>=1.12 in /usr/local/lib/python3.7/dist-packages (from tensorflow) (2.0.7)\n",
            "Requirement already satisfied: grpcio<2.0,>=1.24.3 in /usr/local/lib/python3.7/dist-packages (from tensorflow) (1.47.0)\n",
            "Requirement already satisfied: tensorflow-estimator<2.9,>=2.8 in /usr/local/lib/python3.7/dist-packages (from tensorflow) (2.8.0)\n",
            "Requirement already satisfied: tensorboard<2.9,>=2.8 in /usr/local/lib/python3.7/dist-packages (from tensorflow) (2.8.0)\n",
            "Requirement already satisfied: google-pasta>=0.1.1 in /usr/local/lib/python3.7/dist-packages (from tensorflow) (0.2.0)\n",
            "Requirement already satisfied: opt-einsum>=2.3.2 in /usr/local/lib/python3.7/dist-packages (from tensorflow) (3.3.0)\n",
            "Requirement already satisfied: astunparse>=1.6.0 in /usr/local/lib/python3.7/dist-packages (from tensorflow) (1.6.3)\n",
            "Requirement already satisfied: typing-extensions>=3.6.6 in /usr/local/lib/python3.7/dist-packages (from tensorflow) (4.1.1)\n",
            "Requirement already satisfied: wheel<1.0,>=0.23.0 in /usr/local/lib/python3.7/dist-packages (from astunparse>=1.6.0->tensorflow) (0.37.1)\n",
            "Requirement already satisfied: cached-property in /usr/local/lib/python3.7/dist-packages (from h5py>=2.9.0->tensorflow) (1.5.2)\n",
            "Requirement already satisfied: requests<3,>=2.21.0 in /usr/local/lib/python3.7/dist-packages (from tensorboard<2.9,>=2.8->tensorflow) (2.23.0)\n",
            "Requirement already satisfied: tensorboard-data-server<0.7.0,>=0.6.0 in /usr/local/lib/python3.7/dist-packages (from tensorboard<2.9,>=2.8->tensorflow) (0.6.1)\n",
            "Requirement already satisfied: google-auth<3,>=1.6.3 in /usr/local/lib/python3.7/dist-packages (from tensorboard<2.9,>=2.8->tensorflow) (1.35.0)\n",
            "Requirement already satisfied: google-auth-oauthlib<0.5,>=0.4.1 in /usr/local/lib/python3.7/dist-packages (from tensorboard<2.9,>=2.8->tensorflow) (0.4.6)\n",
            "Requirement already satisfied: markdown>=2.6.8 in /usr/local/lib/python3.7/dist-packages (from tensorboard<2.9,>=2.8->tensorflow) (3.4.1)\n",
            "Requirement already satisfied: tensorboard-plugin-wit>=1.6.0 in /usr/local/lib/python3.7/dist-packages (from tensorboard<2.9,>=2.8->tensorflow) (1.8.1)\n",
            "Requirement already satisfied: werkzeug>=0.11.15 in /usr/local/lib/python3.7/dist-packages (from tensorboard<2.9,>=2.8->tensorflow) (1.0.1)\n",
            "Requirement already satisfied: pyasn1-modules>=0.2.1 in /usr/local/lib/python3.7/dist-packages (from google-auth<3,>=1.6.3->tensorboard<2.9,>=2.8->tensorflow) (0.2.8)\n",
            "Requirement already satisfied: cachetools<5.0,>=2.0.0 in /usr/local/lib/python3.7/dist-packages (from google-auth<3,>=1.6.3->tensorboard<2.9,>=2.8->tensorflow) (4.2.4)\n",
            "Requirement already satisfied: rsa<5,>=3.1.4 in /usr/local/lib/python3.7/dist-packages (from google-auth<3,>=1.6.3->tensorboard<2.9,>=2.8->tensorflow) (4.9)\n",
            "Requirement already satisfied: requests-oauthlib>=0.7.0 in /usr/local/lib/python3.7/dist-packages (from google-auth-oauthlib<0.5,>=0.4.1->tensorboard<2.9,>=2.8->tensorflow) (1.3.1)\n",
            "Requirement already satisfied: importlib-metadata>=4.4 in /usr/local/lib/python3.7/dist-packages (from markdown>=2.6.8->tensorboard<2.9,>=2.8->tensorflow) (4.12.0)\n",
            "Requirement already satisfied: zipp>=0.5 in /usr/local/lib/python3.7/dist-packages (from importlib-metadata>=4.4->markdown>=2.6.8->tensorboard<2.9,>=2.8->tensorflow) (3.8.1)\n",
            "Requirement already satisfied: pyasn1<0.5.0,>=0.4.6 in /usr/local/lib/python3.7/dist-packages (from pyasn1-modules>=0.2.1->google-auth<3,>=1.6.3->tensorboard<2.9,>=2.8->tensorflow) (0.4.8)\n",
            "Requirement already satisfied: urllib3!=1.25.0,!=1.25.1,<1.26,>=1.21.1 in /usr/local/lib/python3.7/dist-packages (from requests<3,>=2.21.0->tensorboard<2.9,>=2.8->tensorflow) (1.24.3)\n",
            "Requirement already satisfied: certifi>=2017.4.17 in /usr/local/lib/python3.7/dist-packages (from requests<3,>=2.21.0->tensorboard<2.9,>=2.8->tensorflow) (2022.6.15)\n",
            "Requirement already satisfied: chardet<4,>=3.0.2 in /usr/local/lib/python3.7/dist-packages (from requests<3,>=2.21.0->tensorboard<2.9,>=2.8->tensorflow) (3.0.4)\n",
            "Requirement already satisfied: idna<3,>=2.5 in /usr/local/lib/python3.7/dist-packages (from requests<3,>=2.21.0->tensorboard<2.9,>=2.8->tensorflow) (2.10)\n",
            "Requirement already satisfied: oauthlib>=3.0.0 in /usr/local/lib/python3.7/dist-packages (from requests-oauthlib>=0.7.0->google-auth-oauthlib<0.5,>=0.4.1->tensorboard<2.9,>=2.8->tensorflow) (3.2.0)\n"
          ]
        }
      ],
      "source": [
        "!pip install keras\n",
        "!pip install tensorflow"
      ]
    },
    {
      "cell_type": "code",
      "source": [
        "import pandas as pd\n",
        "from keras.models import Sequential\n",
        "from keras.layers import Dense,Conv1D,Embedding,GlobalMaxPooling1D,MaxPooling1D,Activation,Flatten\n",
        "from sklearn.feature_extraction.text import TfidfVectorizer\n",
        "from tensorflow.keras.optimizers import SGD\n",
        "from tensorflow.keras.preprocessing.text import Tokenizer\n",
        "from tensorflow.keras.preprocessing.sequence import pad_sequences\n",
        "from keras.utils.np_utils import to_categorical\n",
        "from sklearn.metrics import classification_report\n",
        "import matplotlib.pyplot as plt\n",
        "import numpy as np"
      ],
      "metadata": {
        "id": "kLa3daEePeVT"
      },
      "execution_count": 2,
      "outputs": []
    },
    {
      "cell_type": "markdown",
      "source": [
        "### Carregamento do corpus para Pandas DataFrames\n",
        "\n",
        "PS.: Mais informações sobre a divisão de um conjunto de dados em treinamento, validação e teste, você encontra nesse link."
      ],
      "metadata": {
        "id": "WlJzC1vbQhgz"
      }
    },
    {
      "cell_type": "code",
      "source": [
        "path_train = 'https://raw.githubusercontent.com/viniciusrpb/cic0269_natural_language_processing/main/datasets/corpora/tweets_polarity_classification/twitter-2013train-A.txt'\n",
        "path_test = 'https://raw.githubusercontent.com/viniciusrpb/cic0269_natural_language_processing/main/datasets/corpora/tweets_polarity_classification/twitter-2013test-A.txt'\n",
        "path_valid = 'https://raw.githubusercontent.com/viniciusrpb/cic0269_natural_language_processing/main/datasets/corpora/tweets_polarity_classification/twitter-2013dev-A.txt'\n",
        "\n",
        "df_train = pd.read_csv(path_train,names=['id','polarity','text'],sep='\\t')\n",
        "df_valid = pd.read_csv(path_valid,names=['id','polarity','text'],sep='\\t')\n",
        "df_test = pd.read_csv(path_test,names=['id','polarity','text'],sep='\\t')"
      ],
      "metadata": {
        "id": "kJ8N5yE_Nwm6"
      },
      "execution_count": 3,
      "outputs": []
    },
    {
      "cell_type": "code",
      "source": [
        "print(f'Train size {df_train.shape}')\n",
        "print(f'Valid size {df_valid.shape}')\n",
        "print(f'Test size {df_test.shape}')"
      ],
      "metadata": {
        "colab": {
          "base_uri": "https://localhost:8080/"
        },
        "id": "DSwe3wvLP_xb",
        "outputId": "76b0d4f5-119c-49ee-bccd-7a1cb8c8f952"
      },
      "execution_count": 4,
      "outputs": [
        {
          "output_type": "stream",
          "name": "stdout",
          "text": [
            "Train size (9684, 3)\n",
            "Valid size (1654, 3)\n",
            "Test size (3547, 3)\n"
          ]
        }
      ]
    },
    {
      "cell_type": "code",
      "source": [
        "df_train = df_train.drop(labels=['id'],axis=1)\n",
        "df_valid = df_valid.drop(labels=['id'],axis=1)\n",
        "df_test = df_test.drop(labels=['id'],axis=1)"
      ],
      "metadata": {
        "id": "JEEwUpt-Qa-o"
      },
      "execution_count": 5,
      "outputs": []
    },
    {
      "cell_type": "markdown",
      "source": [
        "Geração dos Logits dos labels utilizando a função to_categorical do Tensorflow:"
      ],
      "metadata": {
        "id": "Z-DT8xuoQyUi"
      }
    },
    {
      "cell_type": "code",
      "source": [
        "df_train['polarity'] = pd.Categorical(df_train['polarity'])\n",
        "y_train_int = df_train['polarity'].cat.codes\n",
        "\n",
        "df_valid['polarity'] = pd.Categorical(df_valid['polarity'])\n",
        "y_valid_int = df_valid['polarity'].cat.codes\n",
        "\n",
        "df_test['polarity'] = pd.Categorical(df_test['polarity'])\n",
        "y_test_int = df_test['polarity'].cat.codes"
      ],
      "metadata": {
        "id": "BrT8ydnGb4Eq"
      },
      "execution_count": 6,
      "outputs": []
    },
    {
      "cell_type": "code",
      "source": [
        "y_train = to_categorical(y_train_int)\n",
        "y_valid = to_categorical(y_valid_int)\n",
        "y_test = to_categorical(y_test_int)"
      ],
      "metadata": {
        "id": "V4Wd20UQdP9z"
      },
      "execution_count": 7,
      "outputs": []
    },
    {
      "cell_type": "markdown",
      "source": [
        "### Numericalização\n",
        "\n",
        "Esse é o processo de transformar as palavras de um texto em números. Por exemplo: os textos\n",
        "\n",
        "1.   \"Eu quero jogar futebol\"\n",
        "2.   \"Não dá para assistir futebol\"\n",
        "3.   \"Não vou jogar meu boné fora\"\n",
        "\n",
        "Constrói-se o vocabulário com índices:\n",
        "\n",
        "1. eu\n",
        "2. quero\n",
        "3. jogar\n",
        "4. futebol\n",
        "5. não\n",
        "6. dá\n",
        "7. para\n",
        "8. assistir\n",
        "9. vou\n",
        "10. jogar\n",
        "11. meu\n",
        "12. boné\n",
        "13. fora\n",
        "\n",
        "Assim, a geração do vocabulário do *corpus* de treinamento **deve ser feita apenas para os textos de treinamento**, já que eles são conhecidos para os modelos de linguagem e de classificação:"
      ],
      "metadata": {
        "id": "xuz2GYQw1WlX"
      }
    },
    {
      "cell_type": "code",
      "source": [
        "train_tweets = df_train['text'].to_list()\n",
        "\n",
        "vocabulary = {}\n",
        "\n",
        "for i in range(0,len(train_tweets)):\n",
        "    train_tweets[i] = train_tweets[i].lower()\n",
        "    for word in train_tweets[i].split():\n",
        "        if word not in vocabulary:\n",
        "            vocabulary[word] = 1\n",
        "        else:\n",
        "            vocabulary[word]+=1"
      ],
      "metadata": {
        "id": "o0uf2O6e5wIJ"
      },
      "execution_count": 8,
      "outputs": []
    },
    {
      "cell_type": "code",
      "source": [
        "vocab_size = len(vocabulary)"
      ],
      "metadata": {
        "id": "mmxCCUKF2coO"
      },
      "execution_count": 9,
      "outputs": []
    },
    {
      "cell_type": "markdown",
      "source": [
        "Outra possibilidade consiste em utilizar a classe [Tokenizer](https://www.tensorflow.org/api_docs/python/tf/keras/preprocessing/text/Tokenizer) do tensorflow."
      ],
      "metadata": {
        "id": "ELORL8Ci57E9"
      }
    },
    {
      "cell_type": "code",
      "source": [
        "tokenizer = Tokenizer(num_words = vocab_size)\n",
        "tokenizer.fit_on_texts(df_train['text'])"
      ],
      "metadata": {
        "id": "9jjAj7fSdyP1"
      },
      "execution_count": 10,
      "outputs": []
    },
    {
      "cell_type": "markdown",
      "source": [
        "Com o word_index é possível ver o vocabulário e os índices de cada palavra:"
      ],
      "metadata": {
        "id": "rILp14RlsJbb"
      }
    },
    {
      "cell_type": "code",
      "source": [
        "word_index = tokenizer.word_index\n",
        "print(f\"{word_index['blue']} is the index of word 'blue'\")\n",
        "print(f\"{word_index['launch']} is the index of word 'launch'\")"
      ],
      "metadata": {
        "id": "xm3_0C352bam",
        "colab": {
          "base_uri": "https://localhost:8080/"
        },
        "outputId": "7ca0f277-d205-483f-d84b-df6bddc5f276"
      },
      "execution_count": 11,
      "outputs": [
        {
          "output_type": "stream",
          "name": "stdout",
          "text": [
            "919 is the index of word 'blue'\n",
            "865 is the index of word 'launch'\n"
          ]
        }
      ]
    },
    {
      "cell_type": "markdown",
      "source": [
        "O próximo passo consiste em transformar as palavras em números de acordo com os índices do vocabulário. É o último passo da numericalização, em que se obtém um vetor de números inteiros a partir de um tweet de entrada. Fazendo-se para os textos de treinamento, tem-se que:"
      ],
      "metadata": {
        "id": "QInQoKxFsTIz"
      }
    },
    {
      "cell_type": "code",
      "source": [
        "train_sequences = tokenizer.texts_to_sequences(df_train['text'])"
      ],
      "metadata": {
        "id": "7pX2C5C62gkm"
      },
      "execution_count": 12,
      "outputs": []
    },
    {
      "cell_type": "markdown",
      "source": [
        "Veja o resultado para um dos tweets de treinamento:"
      ],
      "metadata": {
        "id": "ihdqwgCGsgpa"
      }
    },
    {
      "cell_type": "code",
      "source": [
        "print(f\"Tweet: {df_train['text'][0]}\")\n",
        "print('Tweet numericalizado: ')\n",
        "print(train_sequences[0])\n",
        "print(f'Quantidade de palavras no tweet: {len(train_sequences[0])}')"
      ],
      "metadata": {
        "colab": {
          "base_uri": "https://localhost:8080/"
        },
        "id": "59_mHl-b2lga",
        "outputId": "87324bbe-ca79-4544-8299-470604ed8506"
      },
      "execution_count": 13,
      "outputs": [
        {
          "output_type": "stream",
          "name": "stdout",
          "text": [
            "Tweet: Gas by my house hit $3.39!!!! I\\u2019m going to Chapel Hill on Sat. :)\n",
            "Tweet numericalizado: \n",
            "[2711, 68, 22, 191, 383, 72, 2909, 4, 57, 31, 2, 1966, 1127, 6, 115]\n",
            "Quantidade de palavras no tweet: 15\n"
          ]
        }
      ]
    },
    {
      "cell_type": "markdown",
      "source": [
        "Acontece que os tweets podem variar na quantidade de palavras e as redes neurais não processam os tweets representados em estruturas de dimensões distintas. Veja um outro exemplo de tweet de treinamento:"
      ],
      "metadata": {
        "id": "zg_tWI_WvgNe"
      }
    },
    {
      "cell_type": "code",
      "source": [
        "print(f\"Tweet: {df_train['text'][2]}\")\n",
        "print('Tweet numericalizado: ')\n",
        "print(train_sequences[2])\n",
        "print(f'Quantidade de palavras no tweet: {len(train_sequences[2])}')"
      ],
      "metadata": {
        "colab": {
          "base_uri": "https://localhost:8080/"
        },
        "id": "rn_YFJXu2nNm",
        "outputId": "0d99b73b-cf41-47db-dc41-d273558e3642"
      },
      "execution_count": 14,
      "outputs": [
        {
          "output_type": "stream",
          "name": "stdout",
          "text": [
            "Tweet: its not that I\\u2019m a GSP fan\\u002c i just hate Nick Diaz. can\\u2019t wait for february.\n",
            "Tweet numericalizado: \n",
            "[141, 61, 23, 4, 57, 8, 5680, 475, 3, 4, 30, 574, 501, 2177, 55, 35, 103, 10, 269]\n",
            "Quantidade de palavras no tweet: 19\n"
          ]
        }
      ]
    },
    {
      "cell_type": "markdown",
      "source": [
        "### Pós-processamento da numericalização\n",
        "\n",
        "Vamos tornar todos os vetores numéricos acrescentando-se zeros ao final, precisamos fixar um tamanho para os vetores numéricos resultantes da numericalização.\n",
        "\n",
        "Uma estratégia consiste em calcular a quantidade de tweets que existe para cada quantidade possível de palavras. Supondo que o tweets pós-processados não possuirão mais do que $50$ palavras, montamos o seguinte histograma:"
      ],
      "metadata": {
        "id": "HFhFxk-Qvwi9"
      }
    },
    {
      "cell_type": "code",
      "source": [
        "max_words = 50\n",
        "\n",
        "hist = {}\n",
        "\n",
        "hist['qtde'] = [x for x in range(0,max_words)]\n",
        "\n",
        "lista = [0]*(max_words)\n",
        "for x in train_sequences:\n",
        "    lista[len(x)]+=1\n",
        "\n",
        "hist['num tweets'] = lista"
      ],
      "metadata": {
        "id": "LU2YIq73v8Fb"
      },
      "execution_count": 15,
      "outputs": []
    },
    {
      "cell_type": "code",
      "source": [
        "fig = plt.figure(figsize = (10, 5))\n",
        " \n",
        "# creating the bar plot\n",
        "plt.bar(hist['qtde'],hist['num tweets'],\n",
        "        color ='blue')\n",
        " \n",
        "plt.xlabel(\"Number of words\")\n",
        "plt.ylabel(\"Number of tweets\")\n",
        "plt.title(\"Comparando a quantidade de palavras e a quantidade de tweets\")\n",
        "plt.show()"
      ],
      "metadata": {
        "colab": {
          "base_uri": "https://localhost:8080/",
          "height": 350
        },
        "id": "OwJFdyEVwWYL",
        "outputId": "4801b1e4-85ac-42ef-ef92-49ae0330f6b2"
      },
      "execution_count": 16,
      "outputs": [
        {
          "output_type": "display_data",
          "data": {
            "text/plain": [
              "<Figure size 720x360 with 1 Axes>"
            ],
            "image/png": "[encoded data removed]"
          },
          "metadata": {
            "needs_background": "light"
          }
        }
      ]
    },
    {
      "cell_type": "markdown",
      "source": [
        "Pode-se verificar que grande parte dos tweets do treinamento possui entre 10 e 30 palavras. Por isso, vamos ajustar o tamanho dos vetores numericalizados como 32:"
      ],
      "metadata": {
        "id": "YSBQ3tCe1tFd"
      }
    },
    {
      "cell_type": "code",
      "source": [
        "max_length = 32"
      ],
      "metadata": {
        "id": "Dp8IbQ5f1bd_"
      },
      "execution_count": 17,
      "outputs": []
    },
    {
      "cell_type": "markdown",
      "source": [
        "Assim, tweets cujos vetores numericalizados possuírem menos do que 32 palavras serão completados com zeros. Tweets que possuírem mais do que 32 palavras serão truncados (terão algumas palavras removidas)\n",
        "\n",
        "A função que faz essas operações de truncamento e de padding é [pad_sequences](https://www.tensorflow.org/api_docs/python/tf/keras/utils/pad_sequences). Ajustamos a seguir o tipo de truncamento (se é no início ou no final) e o padding (inclusão de zeros ocorre no início ou no final):"
      ],
      "metadata": {
        "id": "IPonN9N32kzL"
      }
    },
    {
      "cell_type": "code",
      "source": [
        "trunc_type = 'post'\n",
        "padding_type = 'post'"
      ],
      "metadata": {
        "id": "BlmM1HE02Y38"
      },
      "execution_count": 18,
      "outputs": []
    },
    {
      "cell_type": "markdown",
      "source": [
        "Agora vai..."
      ],
      "metadata": {
        "id": "M4vObkUn1aJM"
      }
    },
    {
      "cell_type": "code",
      "source": [
        "train_padded = pad_sequences(train_sequences, maxlen=max_length, padding=padding_type, truncating=trunc_type)"
      ],
      "metadata": {
        "id": "7dz_Q2b_2jgH"
      },
      "execution_count": 19,
      "outputs": []
    },
    {
      "cell_type": "markdown",
      "source": [
        "Veja o resultado em que todos os vetores \"padded\" possuem tamanho $32$:"
      ],
      "metadata": {
        "id": "i9fE8J7X3dBg"
      }
    },
    {
      "cell_type": "code",
      "source": [
        "print('Tweet:')\n",
        "print(df_train['text'][0])\n",
        "print('\\nVetor numericalizado do tweet:')\n",
        "print(train_sequences[0])\n",
        "print('\\nVetor numericalizado pós-processado com padding e truncamento:')\n",
        "print(train_padded[0])"
      ],
      "metadata": {
        "colab": {
          "base_uri": "https://localhost:8080/"
        },
        "id": "IAB4cLYh3Eh1",
        "outputId": "d66e70cf-4aa0-41c4-ae0c-278ebe9236b1"
      },
      "execution_count": 20,
      "outputs": [
        {
          "output_type": "stream",
          "name": "stdout",
          "text": [
            "Tweet:\n",
            "Gas by my house hit $3.39!!!! I\\u2019m going to Chapel Hill on Sat. :)\n",
            "\n",
            "Vetor numericalizado do tweet:\n",
            "[2711, 68, 22, 191, 383, 72, 2909, 4, 57, 31, 2, 1966, 1127, 6, 115]\n",
            "\n",
            "Vetor numericalizado pós-processado com padding e truncamento:\n",
            "[2711   68   22  191  383   72 2909    4   57   31    2 1966 1127    6\n",
            "  115    0    0    0    0    0    0    0    0    0    0    0    0    0\n",
            "    0    0    0    0]\n"
          ]
        }
      ]
    },
    {
      "cell_type": "code",
      "source": [
        "print('Tweet:')\n",
        "print(df_train['text'][2])\n",
        "print('\\nVetor numericalizado do tweet:')\n",
        "print(train_sequences[2])\n",
        "print('\\nVetor numericalizado pós-processado com padding e truncamento:')\n",
        "print(train_padded[2])"
      ],
      "metadata": {
        "colab": {
          "base_uri": "https://localhost:8080/"
        },
        "id": "oS21dum_2EE8",
        "outputId": "782b5717-b9ce-44a4-90e4-6bf4568e3fa5"
      },
      "execution_count": 21,
      "outputs": [
        {
          "output_type": "stream",
          "name": "stdout",
          "text": [
            "Tweet:\n",
            "its not that I\\u2019m a GSP fan\\u002c i just hate Nick Diaz. can\\u2019t wait for february.\n",
            "\n",
            "Vetor numericalizado do tweet:\n",
            "[141, 61, 23, 4, 57, 8, 5680, 475, 3, 4, 30, 574, 501, 2177, 55, 35, 103, 10, 269]\n",
            "\n",
            "Vetor numericalizado pós-processado com padding e truncamento:\n",
            "[ 141   61   23    4   57    8 5680  475    3    4   30  574  501 2177\n",
            "   55   35  103   10  269    0    0    0    0    0    0    0    0    0\n",
            "    0    0    0    0]\n"
          ]
        }
      ]
    },
    {
      "cell_type": "markdown",
      "source": [
        "Finalmente, temos que numericalizar os tweets de validação e de testes:"
      ],
      "metadata": {
        "id": "bDHrcuEqNhgl"
      }
    },
    {
      "cell_type": "code",
      "source": [
        "valid_sequences = tokenizer.texts_to_sequences(df_valid['text'])\n",
        "test_sequences = tokenizer.texts_to_sequences(df_test['text'])\n",
        "\n",
        "valid_padded = pad_sequences(valid_sequences, maxlen=max_length, padding=padding_type, truncating=trunc_type)\n",
        "test_padded = pad_sequences(test_sequences, maxlen=max_length, padding=padding_type, truncating=trunc_type)"
      ],
      "metadata": {
        "id": "VWNRPhj0Nhnb"
      },
      "execution_count": 22,
      "outputs": []
    },
    {
      "cell_type": "markdown",
      "source": [
        "## Arquitetura da Rede Neural Convolucional Profunda (RNCP)\n",
        "\n",
        "Começamos pela camada de entrada da RNCP. Poderíamos até colocar os vetores numericalizados ou one-hot encoding como entrada da rede (utilizando a camada de [Input](https://www.tensorflow.org/api_docs/python/tf/keras/layers/InputLayer)), mas trata-se de um espaço esparso que é difícil de identificar relacionamentos entre as palavras (Fonte: [Word Embeddings Tensorflow](https://www.tensorflow.org/text/guide/word_embeddings)).\n",
        "\n",
        "Por isso, uma abordagem mais apropriada trata-se da criação de word embeddings de tamanho fixo. Nessa representação, cada palavra é representada por um vetor de tamanho $n$ em que palavras similares em relação a um contexto possuem valores (codificação) parecidas:\n",
        "\n"
      ],
      "metadata": {
        "id": "8ZBTwtGUR7oW"
      }
    },
    {
      "cell_type": "markdown",
      "source": [
        "![embedding.png](data:image/png;base64,iVBORw0KGgoAAAANSUhEUgAAAoQAAAD7CAYAAADzXIVyAAAACXBIWXMAABYlAAAWJQFJUiTwAAAA6XpUWHRYTUw6Y29tLmFkb2JlLnhtcAAAGJVlUE1vgzAMvfMrovRMDGw7EAUuRb1VmjZN2hWou6I1CUo8kf37kUKZtPnkj+f3nq2CDHrUSC0L+mq8DBVvT7ZDOeexDZzdIPRZ8ffjM9tbh+xJPIqM1wljTLnTWb40h3V9rip+IRolwDRNYnoQ1n1AXpYlZAUURTojUv9tqA2p8buF5M7ToO/dMNJgDYt129kvqjhfMUssQhiGXyXjxc206K2GOIFcZLBxR/rYlW8e3d5qjYbq194hGn+xpODf8G4K/rhaTob15jpRsP2vTn4ASGpmt1QVKYYAACAASURBVHic7N13VFRX1wfg3wwMM3RpFpqIoBALGgWxojH2HjVGjUYTWzRGUWOMXWPB1xh78hp77BoV7FFj7F0UwY4V6VWpw5T9/cHHeRkBBQXGhP2sxVowc+aePXcuM/uee84eCRERGGOMMcZYuSXVdwCMMcYYY0y/OCFkjDHGGCvnOCFkjDHGGCvnOCFkjDHGGCvnOCFkjDHGGCvnOCFkjDHGGCvnOCFkjDHGGCvnOCFkjDHGGCvnOCFkjDHGGCvnOCFkjDHGGCvnOCFkjDHGGCvnOCFkjDHGGCvnOCFkjDHGGCvnOCFkjDHGGCvnOCFkjDHGGCvnOCFkjDHGGCvnOCFkjDHGGCvnDPUdACsd4eHhWLJkCbKzs+Hi4oJx48ZBoVDoO6x/pWXLliEsLAwAMHz4cDRo0AAA8PjxY9y5cwe+vr6wtrbWZ4iMMcbYa/EIYRFpNBocOHAA3bp1g6urK6ysrFCnTh2MGjUKt2/fBhHpO0QdMTExWL9+PVavXo29e/dCrVbrO6R/rcOHD2P16tVYvXo1Hj9+DAAIDQ1Fo0aN0KlTJ3To0AFJSUl6jpIxxhgrHI8QFkFqaiq+/PJL7N69WyfxS0lJQVhYGNasWYNly5ZhyJAhMDAw0GOkZev06dNYu3YtAKBx48YYNmwYpFI+xwCAqKgovHz5EgAQERGB1NRUHiVkjDH23uKE8A2ICEOHDsUff/wBAJBKpahTpw6qVq2Ka9euITIyEtnZ2RgxYgSsra3Rq1cvSCQSPUddNsLDw/H7778DANRqNYYOHarniN4fLVq0wIQJE3D+/HkMHDgQjo6O+g6JMcYYKxQnhG9w8OBB7N69GwBgbGyMDRs2oFevXpBKpcjOzsbXX3+N9evXg4gwbtw4fPzxx7Cysip0e1qtFgCKNJKmVqthYGBQogmmRqOBVCot0jZLo/9XqVQqyGSyYj1GrVbD0PDNh65Go4FEIinSviYiqNXqIsfypn1jbGyMOXPmFGlbRdleruK8fowxxlhR8fW9N9i0aZOYf9evXz/07NlTJBhGRkZYsmQJqlSpAgB4/vw5jh8/DgC4evUqvLy84OnpCX9/f1y5cgXt2rWDtbU1zM3N8dFHHyE0NDTf3MO0tDTMmzcPNWvWhEKhgJWVFZo3b47AwECRTL6N69evo02bNrC0tESFChXQuXNn3L9/P1+7qKgojBs3Ds7OzpDL5bC1tUXLli2xf/9+aDQaAEB0dDQaN26MKVOmiMcdOHAAtWrVwowZM94Yy+XLl9GrVy9YW1vD2NgYbm5uGDJkCKKiokQbtVqN1q1bw9PTE35+frh37x5GjBgBZ2dnmJiYwNPTE1u3bs03N1KpVOKnn36Ct7c3LCwsYGFhAR8fH2zduhUqlUqnLRFh//79aNOmDSwsLGBiYoIaNWpgxIgRiIyMzBe3SqXCwoULUbt2bZiamqJGjRr47bffCpyfGRYWhkaNGsHT0xNdu3YVcwi/+uoreHp6olatWrh58yZmzJiBmjVrwtjYGC4uLli4cCGysrJ0tqVWq7F06VJ4eXnBxMQELi4u+OGHH7BhwwZ4enrC09MTO3bseON+Z4wxxgpFrFBZWVlkY2NDAAgAnThxosB2I0eOFG0GDx5MarWaTp8+TXK5nACQvb09mZiYiDa5Py4uLpSUlCS2k5iYSE2bNs3XDgBJJBKaOnUqqVSqIsV+5swZ0aelpSUZGxvn26aHh4dO/7du3SJXV9cC+wdAY8eOJaVSSc+ePSNbW9sC2wwfPvy1ce3YsYPMzMwKfKyDgwOFhoYSEVF2djZVrVqVAJBcLidHR8d87Q0MDOjYsWNi20lJSdS2bdtC4x83bhxlZ2cTEZFWq6UZM2aQTCYrsG2lSpXo4sWLYtsajYaGDBlCUqk0X1tDQ0Px+65du4iI6MqVK1ShQgUCQLVr16a4uDgiImrTpo1o6+bmVmDfK1asEP2qVCoaNmxYgf3mfU1//fXXIh0XjL2LmJgY8vf3p6FDh9IPP/xAycnJRJRznF64cIFOnz4t/sf+rdRqNV2+fJn+/vvv9/a5RkVF0dChQ2no0KE0adIkfYdToLS0NBo5ciQNHTqUxowZQxkZGWXSr1arpR07doj9c+DAgTc+5sSJE6L9+vXrxe1xcXG0f/9+ioiIKMWIyw4nhK8RERGhk8g9fvy4wHYLFy4Ubdq1a0dKpVInIQRAXl5eNHv2bBo7dqzONjdt2iS2kzexrFatGv3444/0/fffk5WVFQEghUJBwcHBRYo9b0IIgBo0aECzZ8+mMWPGkKmpqbh98+bNRJSTgPn5+Ynba9euTT/++CONGDGCFAoFASCpVEp//PEHpaWl0ZYtW2jw4MGiva+vL61Zs4bOnTtXaEzh4eFUpUoVkeD27t2bFi5cSB06dBAJT8+ePSkzM1MnIQRAdnZ25O/vT7NnzyZ3d3dxe58+fUSSPG/ePLGdatWq0YwZM8jf35/Mzc0JABkZGdHJkyeJiOjo0aNiPxgaGtLAgQNp3rx55OvrK7bt7e1NiYmJRER0+vRpsR2pVEp9+vShWbNmUePGjXWStOIkhKampvTVV1/R/PnzqVGjRjr7MiUlhYiI/vrrLxGnRCKhHj160I8//kht27bVSRI5IfznUqlUNH78eGrWrBk1a9ZM/E++i5SUFBo8eLDY5u7du0sgUqL79++Lk2QXFxeKjIwkIqJFixaJY3T69Okl0tf7atWqVeK5jh8/Xt/hFOjWrVvivcHZ2Vnf4RQoISFBfLZUqFBBvOeVNq1WS/7+/mL/zJ49+42PWb58uWg/aNAgIspJaHM/o2xsbMT/wj8ZJ4Svcf36dXHAymSyQg/YDRs2iA/nhg0bUkZGhk5CWK1aNZEQEBGNHj1aHFzTpk0jIqLY2FiR+JmamtLt27dF+99//12MQo0cOZK0Wi09fPiQ/vrrr3w/uQdl3oTQzc1Np/8xY8aI/idPnkxERKdOnRLtnZyc6Pnz56L9ihUryMDAgABQ69atKT09nYiI1q5dK7bTr18/UqvVr92f8+bNE+0HDBhASqWSiIiUSqVIxAwMDOj+/fv5EsLjx4+L7Rw8eFDs26ZNm9LLly8pMTFRtH81cV68eDFJJBKdf/4+ffqIbf/www8i9hcvXlD9+vXFfbkfpMOGDRO3DR48WIwMJCcnU7169d4qIVy+fDlptVoiIrp586YYda1atao44+zbt69o/+WXX4p+s7KyqH379pwQ/gvcuXOHKlasKF7LZs2aUWZm5ltvT6vVigQt77FWEgpLCIcOHSr66t27d4n09b4aO3aseK4dO3bUdzgF4oSwcCWVEMbExIjPfZlMRpcvXy7t0EsdLyp5jbwlZLRabaFz+DQajZgLWNBiB1tbW5iamoq/q1WrJn5PSEgAEeHixYtIS0sDALi5ueHZs2eIjY0F8L+FF2q1Gk+ePEF2djbWr19f4KKFVatWYdiwYTq3VahQAcbGxuJvNzc38XtsbCyICJcuXUJGRgYAoF27dmJeJAD07NkTM2fOREJCAm7evIm0tDSYmJgUuC9e56+//hK/V69eHefPnxd/V65cGUDOvnz06BFcXFx0Hpv378qVK8PY2BhKpRIpKSnIzs5GRESEKPNSp04dnX386aefwtraGmq1Gu7u7khPT8fly5cB5LzG/fr1E6+1hYUF+vTpg+vXrwMAzp8/j08++URnvmXv3r3F4pMKFSqI2IvL2dlZLA6xs7ODmZkZEhIS8PLlS2RlZUGr1eLevXui/aBBg0S/ufM72T/fkSNHEBcXJ/4OCQnB9evX0bhx47fa3q1bt/Cf//ynpMIrkgkTJiAlJQUqlQrTpk0r077L2pgxYxATE4O0tDTMnDlT3+EwPbG1tcWyZcuwa9cutGrVCg0bNtR3SO+ME8LXqFixokgUNBoNYmNjC1xBHBMTIxJCW1vbN9YizLtCNPdxcXFxYnFCSEgI2rdvX+BjIyMj8y2OKK68q25z+4+Ojha3OTk56bSpWLGiSCjj4+ORlJSEihUrFrvfvAs1XvdGmlvcuTAFrbCNiooSCa2VlRXkcrm4z97eHgMHDhR/P3/+HEqlEkBOQmdhYaGzLScnJ/F7eHg4srKydPZPaZSQKeg5JScn48WLFwAAMzMz2NnZlXi/TL/S0tJESatcqamp2L1791slhJmZmZgxY4Y4mSwJWq0WRPTa97UaNWpg586dRdoevWZFv0qlgqGh4RtX0b9uG697jEajeWOFgtxtFxaHi4sLtm3b9sb+ilPlIG/fWq32jZ8hb4rxXb1N9YfCXrvcAZOiVIYAil5FInfbAIpU/7c4283d9usqOhgYGGDUqFEYNWpUkbZX1EoSxY2zJPEq49ewtbXVSQBDQkIKbHfr1i3xu6ur61u9mHK5XBwolpaWqFu3Lry8vPL9VK9eHRKJBKNGjcKNGzfy/fTs2bPYfQPQKZr8asKpVCpFsmpkZKQz2lkcr45SFvT8vLy8YGlpWextm5iYiDcFlUr12hXZZmZm4s1Oo9Hka5ubWAI5r4WRkZFO7LlvQqVNLpeLYynvKDT79wgNDUVwcDAAwMPDQ5xsHDp0CPHx8cXe3u7duxEUFAQjI6O3OmnL6/nz5xgwYAAcHR1hbm6OVq1a4erVqwW2/eWXX8SK9wULFgDIOaHp3r07PD090bp1a4SGhmLIkCFwdnaGQqFAzZo1sW3bNiiVSqxcuRJubm6Qy+WoWLEiBg8eXGBSGxYWhgEDBqBixYpQKBRwcXFB//798fDhQ9EmPT0dn3/+OTw9PdG0aVPcuHEDEyZMgJubG4yNjeHu7o6VK1fqVAcgIoSFhaFfv36wt7eHQqGAjY0NWrVqhaCgIJ3/+byr+1+tqvDixQvMmjULNWrUgEKhQIUKFdC4cWOsWbNGp7+UlBR06dIFnp6eaNGiBcLDwzF8+HBUrVoVCoUCH3zwATZv3qzzP09EuHfvHr788kvY29tDLpfDwsICvr6+2LZt2zu/L8XExMDf3x9OTk5QKBSoVKkSOnbsiIsXL+q0W7BgATw9PVG7dm3s378fK1asQN26dWFiYgIrKyv4+/sjPT0dFy5cQMuWLaFQKGBubo4mTZrg3LlzBfZNRDh79iwaNWoEMzMz2NvbY8CAAQUeA9nZ2Vi+fDnq1q0LY2NjWFpawtfXF2vXrs33HqnVarF161Z4e3vDzMwMTk5OmDZtGrKzswuN4/jx42jWrBksLCxQqVIljBgxAqmpqfnaZmVliUoSXl5eYpT/999/F8fHunXrsHv3bvG8bGxs0L9/fyQkJOTrN/ck0NzcHBUrVsTAgQNx4sQJsa25c+cW/uKVlLK8Pv1P9M0334i5A23atBHz3nJFRESQpaVlvrlueecQent7i3l3RDlz2nLbjxgxgrRaLV24cEGsGq1Tpw6lpqa+U9x55xA2bNhQZ3srV67UmZem1Wpp69atYp5g7969dVbPhYWFiedYvXp1SkhIIKLizyH8/PPPRftffvnltW1fnUMYHh4u7gsODhbz82rVqkUJCQl0//59srOzIwDk6elJ8fHxov3Tp0/p119/peXLl4vXx9vbW0wMP3PmjE7feecIzZ07l4iIunXrJm7btm2bTvu8c/mKM4cwKChIbCMmJoZcXFwIAFlZWdGDBw+IiKhFixaifWBgYKH7k+cQ/jPlncv066+/irmthoaGtHfv3mJt6+nTp1S9enUCchZnDRgw4K3nED558oQ8PT115iECOQuqcudN5Z1DOGvWLNFm3LhxREQUHx9PdevWFfN6886TzP0xNzenjh075rsdAHXq1EmnqsKRI0fI2tq6wLZ2dnbi//jly5fUvHlzAnIWkjk5OeVrL5PJdBb0nT9/vtBtGxgY0KxZs0TbvPMzhw0bJm6Pioqihg0bFrgNiURC3bt3F3NDExMT6YMPPiAgp4pCQTEaGxvT4cOHxfZPnz4t5pkX9LrkXcxT3DmE9+7dE8fOqz9yuZw2bNgg2uY9Zp2dnQt8rh07dhSL8PL+WFlZicWZeecQ5h7zr7avWbMmRUVFib4zMjKoa9euhe7jgQMHinnZGo2GFi1aJOaPv/r65/6eO4dQq9XSzp07ycjI6LXtc+cQZmRkiPd4uVwu/heWLFki2lavXr3A/jt06CCek1ar1Znnnvcn7/4ZPXr0G1/Hd8UjhG8wdOhQmJmZAQCOHTuGcePGiXl/9+7dwyeffCIu63l7e6NJkyZv1c8HH3wg5u2FhoZi/vz54ixGrVZj7ty58Pf3L/TM5l01bNhQjMwdOnQIp06dAhEhOzsbP//8s3iOjRo1grm5OQBAJpOJUc3o6GhxGbYwfn5+YsQrICAAV65cEWd0Dx48QKdOnXDhwoW3it/JyUnMM7xz5w4OHToErVYLjUaD5cuX4+uvv8bo0aNx5swZAEDr1q0BAESE+fPni+cXEhKC7du3A8gZoWvWrBkAwNfXV/S1YsUKJCYmAgCCg4Nx48aNt4q5KHL7B3LOzHPPmJ8+fSrmObJ/ppiYGBw5cgRAzrxYPz8/McKvVquxdevWIo8Kq9VqzJs3Dw8fPkSVKlUwe/bsYl/yy0VE+OWXX3Dnzh0AOVdKvvvuO4wbNw4VK1Z8q3qoWVlZkEgk+O677zBt2jTY29sDyLk8fujQIfj4+GD27NkYOHCgeI84d+6cOMajo6MxevRoJCUlQSqVokOHDli4cKGoCxsfH4/JkycjMzNTp9/s7Gy8ePECo0aNwpw5c+Dl5QUg5yrC6tWrAeRcAZkzZw6SkpIgl8sxZcoUhISEYMOGDbCwsBDvIbn7oyDZ2dmYOnWqGEF1cnLC9OnTMX78eFhbW4uap0uXLs33WKVSiYyMDIwbNw6zZ8+Gu7s7gJzL/+vXrweQM+o5ffp0JCcnw8DAAJ9//jn+/PNPLFq0CHK5HFqtFsuXL8eDBw+K/dpkZGTg22+/FaOsDRo0wIIFCzBixAgoFAoolUpMnToVMTEx+R4bFRWFvn37IiAgAC1atACQc/wcOnQICoUC48ePx7Rp08RodXJyMjZv3lxgHFWqVMHEiRPx/fffw8bGBgBw//59/PrrrwByRvuWLl2Kffv2AciZyjR9+nTMmDED9vb2ICJs27YNhw8fBpAzP37OnDkgIkgkEnz88ceYO3cuOnbsWOC0q4yMDEyZMkV8xnp7e2POnDno27dvgbVmi+LRo0do27YtFixYgM8//1zcfuzYMTE/PCYmBtOnTxf/682bN8e8efPQr1+/fDVpS12pp5z/AgsWLNAp8SGRSMSZQe6Pubk5Xbp0STymuCOERES7d+/WOTuxt7cnHx8fsrCwELetXr1atH+d4o4QEhFNnz5dnKXIZDLy8vLSqf9XoUIFunPnjtjOiRMndErb1KxZk0aPHl1oba6srCydETIjIyPy8vKiGjVqiNFJd3d3iouLK/YIIRFRUFCQOKMyMDCg2rVrk7u7u3hOVlZWYvV2dHS0Th3AihUr0ocffqhT2+/LL78UI8IRERE6Z/G2trZUu3btfHUMS3qE8OHDh+Tg4KBzhu3l5ZWvriWPEP7zBAYGiveVdu3akUqloidPnojjwN7enu7du1ekbR0+fJiMjY1JKpXSzz//TEREX375pTg+8o4Qpqen05kzZ/JVKLh06RKp1WqKjIwUpZ3kcrnOSOXx48fF/1hxRghNTEzo4MGDYju//PKLaO/h4UGxsbFElFPKo2XLluJ/OPd/ZM2aNaJ9bmkvIqLMzEwxem9iYkJ//fWXzgihTCajjRs3in6Dg4PFSJSrqyulp6dTfHw81a5dm4Cc+qO57zVKpZIWL15MQ4YMoREjRtDNmzeJqOARwkePHomrKFZWVjpVDo4cOaIzqpqenq4zQmhsbKxTC+/YsWNi+15eXkSUM+o5bdo0GjNmDP3www/iCkhmZia1a9dOvJ/m7q/ijBBevXpVvEe6urqKUlsajYamTJkitrNy5Uoi0h0h/Prrr8V2IiIixPunXC6nffv2EVH+Ve8DBw4kIt0RQhMTE519dvjwYdHewcGBNBoNpaamijq5crlclBAjyvm8zW3ftWtXItL9nPX19RWfS9nZ2TqjjLkjhEFBQTr77OXLl0SUU3cyb2WQ4owQdujQgTQajeg3t7yYVCqlgwcPklarpblz54r2jRo10qmVm7ffshgh5EUlRTBx4kSYmZlh0qRJSE1NBREhJSVF3O/q6opt27bB29v7nfrp0aMHli1bhsmTJyMpKQlRUVE6397RoUMHdO/evdS+tmzixIl48eIFfvnlF6hUKp05k05OTli1ahVq1KghbmvSpAm8vb1x6tQpAMC9e/fg4eFR6KiGXC7H2rVrMXr0aOzfvx/Z2dk6fVhaWmLSpEmwtrZ+q1GITp06Yf78+Zg+fTpSU1MRFhYm7rOyssJvv/0GDw8PADkjMps3b8bQoUMRGhqKuLg4MQdEIpGIs14jIyMAOQtJlixZgqFDhyIpKQkJCQlISEhApUqVUKNGDTHyWNJcXV2xYsUKDB06FAkJCUhOTkZycjLMzc1RpUoVncUu7J9Do9Fgy5Yt4jjv0aMHDA0N4eTkhMaNG+PJkyeIiorCsWPHdP7nCpKQkICpU6ciMzMTfn5+GDJkyGvbR0VFoVevXvnmZ9WuXRuXL1/GixcvxH3Ozs46o9TOzs4wNTUt9sjFq3Maq1atKn63t7cX95mYmIjV8xqNBklJSSAinQoFnp6eOhUKcud5Z2RkIDIyUud92NDQEA4ODuJva2trWFpaIjExEUqlEi9evIC1tTXc3d0RFhaG2NhYdOvWDQMHDkTr1q3xzTffFGlO+PXr18VVBi8vL9SvX1/c5+Pjg7p16+LGjRtITk7GnTt3dKogGBkZiRFTQLeiQlJSEjQaDczNzTF79mwQEaKjoxEcHIzIyEid10qlUul8LhXViRMnxHu2p6cnbt68Ke7LW00iPDw832PzLrAzMzODra0tIiIiIJfL8cEHHwDIeT91dnYW7fKuqM9lZGQEV1dX8Xfjxo1RuXJlxMTE4OXLl4iLi0N8fDwePXoEIOezQqPR4OTJkwByRlDlcjmUSiUePHgAItIZLc1bGcLQ0BDVq1fPF0PeShJdunQRV8IMDAze+D9YmLwLNKVSKapWrYpLly6BiBAfHw8iwt27d0X7vJUkJBKJznFRFjghLKKRI0eiT58+2LZtG27evImkpCQ4OjqiWbNm6Nq1q0gccjk7O2Pq1KlQq9VwcHDQuXzj6+srJiPnXaoukUgwfPhwdOrUCfv27UNoaCgSEhLg5OSEzp07w8/Pr0irqXL7nzx5MlQqFezt7XXi8/b2Fv3nfeMyNTXFkiVL8Nlnn+HEiRO4ffs2LC0tUadOHfTs2TPfKle5XI59+/Zh9erVuHbtGoyNjdGmTZvXxujk5IQ9e/bgr7/+wvnz53H37l3IZDLUr18fvXv31nmDGTt2rHiDy7u4p3Llyvj++++RlZWlswLawMAAY8eORbt27XDw4EGEhYVBpVLBy8sLffv21Vk9DORc/j579iyCgoIQHByMmJgY1KhRA82bN0fLli3zfRB88skn8PDwwJ49e3D37l24u7ujf//+iI+Px59//gkA4k3Q3t5eJ8bcN9YBAwaIaQU1a9bU2fdjxoxBSkoKjI2NdRb5dO/eHR988AF2796NW7duwcHBAX379sW0adNw4MABABDTGtg/w6NHj3D27FkAOSvdraysxOXR2rVri3bbt2/HV199BYVCUeB2tFotli1bhmvXrsHIyAgdO3YUi1TyXuILDw/HuXPnUKdOnTfG9uLFC1HCyczM7LXfzf62CjuplUgk+aowKJVKMUUDAJYsWYIlS5YU+PgnT54UKw4iglwuR0BAAO7cuYO7d+/i1q1b+P777wHklIMaPHgwvv/+e53/yVflPTHLm/wAgEKhEAlvRkYGnj17ppMQvurVfZObrMXHx8Pf3x+7du0q0alDeas/HDx4EAcPHiyw3ZuqPwCvf11zFTZgkJehoSFsbW0RExMDtVqNqKgonUQyLi5OTPt5VW7FidzBFAMDgzcmVkSEiIgI8fernxUl5dX9o9Vq8ezZMwD/Sxj1iRPCYrCxscE333xTpLZVq1bF1KlTC7zP19dXZ07aqxwdHTFy5Mi3ijGXs7OzzncN5+Xt7f3a0cw3xZeXhYUFxo8fX6zYpFIp2rRpgzZt2hTaJje5K0iVKlUwadKkQh+buyqrKCwsLDBgwAAMGDCgSO0/+OADkfTlcnNzy1cixN7evsAYC+vHzMys0Od7//59hIeHY+LEiSLZfvTokZi7aGhoqFNbkr3/jh49KpKIlJQU9OnTp8B2b6pJGBUVJUqgZGdni0TmVUuXLsWGDRtw9OhReHl54a+//so3L0qhUEAul0OhUEAmk4nV+kUpg1KaDAwMdE5oXVxcCq1E8Lqk7XVq1KiBK1euYOPGjdizZw/OnTsHpVKJ+Ph4/Oc//8HVq1dx4MABnWoDhfX76n7VaDRiRNXQ0DBfmauiyMjIwJAhQ7Bv3z5IJBK0aNECvXv3hpWVFZYvX45Lly4Ve5u58j6nSpUqFVpXtbjltoqS+L3usbmj5xKJBHK5XGe00tjYuNBRO1NTUxCROEmm/y839Ca5I4JA2VWSkEgkOlU73nauYknhhJCx91haWhpGjhyJkydPol27dmjatCkyMzOxZcsWPH/+HADQtGnTfEkqe39lZGRg165dRWqbmpqKPXv2FJoQymSyfFcn3kQul6NWrVqF3m9ubg5ra2vExsYiJSUFMTExpTZiArw5cZDJZDof/oMGDcpX7iWvgkqEvE5mZiaSkpIAAP3798eoUaPw8uVLBAUFYeLEiYiJicH58+dx5swZtG3btsBt5I3v7t27OnX80tPTxciliYnJW+3LmJgYsVjC1dUVhw4dgqmpKdRqNYKCgt4pIcx7LPj6+iIwMPCtt1VSsrOzxcilTCaDpxe23QAAIABJREFUg4ODqPGr0WhgamqK06dPF5pcE5GYKqDVanUuBxdEIpHojM69bgFRSZJKpWKKgFarRWhoKLp06VImfRcYj956Zoy9UUpKCpKTk6HRaHDo0CFMmTIFc+bMEZdvqlevjhUrVrzVqAPTj7CwMLEa1cbGBosXL8bmzZt1fvKOLh88eDBf3bJcNjY2+OOPP3D16tV8P926dRPtJk6ciJMnT742EcxlZ2cnRpwjIiKwYcMGsWI/KCgIycnJ7/L030re6TIrV67EiRMnxH0RERHo2bMnDh069FbbDgkJgaOjIxwdHdGrVy+oVCpYWFigX79+aNmyJYCcEaNXVzDn5ezsLFYH3759Gxs3bgSQM69vzZo14rKgu7v7W10WjI2NFStjtVqtGEmKiYnRqYP7NqNyPj4+YnTsyJEjWL16tRidS01NxahRo7B48eJib7c40tPTxUmSRqPB4sWLxZzMatWqiS8QyL2ylZiYCH9/f1EzVqPRYM2aNejXrx+ys7MhkUh0Kn5s2LABT58+BaCbXOfl4+Mj5vsFBQWJKzBpaWlFLrpeXBKJRGeO7sqVK8Vq7/T0dBw9erRU+i0MjxAy9h5zdHTEqVOnsH79euzatQt3796FRCJBtWrV0KVLFwwfPpy/wu4fZvfu3UhPTweQM4e4oIULz549w86dO/Ho0SM8ePAA586d00nwchkaGhY6PSK3dAeQMyeqXr16RYrPwsICI0eOxPnz56HVajFz5kxs3LgRarVafKiWtbZt2+Kzzz7Dli1bEB8fj3bt2ok5uPfu3YNarcbly5dx8uTJYhfk9vT0ROPGjXHhwgWcPHkSnTt3RosWLfDkyRMEBQUByClxkluypiB2dnaYNm0aBg4ciKysLIwYMQI///wzVCqVWIxhYmKC2bNnQy6Xi9e/qKpVqwY7OzvEx8fj8ePH8Pb2hoeHBy5cuCBOFoio2NsFcqa8TJ48GT/88AOUSiWGDx+OgIAAVKhQAbdv30ZWVhaMjY1Rr149tGrVqtjbLwqVSoVhw4Zh/vz50Gg04jjLO3XI2NgYixcvhp+fH7Kzs7Fu3Trs378frq6uePDgAZKSkiCRSODu7o5Zs2ahTZs2+PDDDxEcHIxnz56hdu3acHNzw927dwtcFFWrVi107doVgYGBSE1Nha+vLzw9PfHw4cNijzoXR8+ePVGrVi3cunULUVFRqFOnDjw9PREeHi7m8pYVHiFk7D1nZmaG0aNH4/Tp04iLi0NsbCwuXryIKVOmcDL4DxMfH68zkpW7uvhVjo6OYoSjuDUJS0K3bt3wzTffQCqVQqvV4uHDh3j69Cm8vb3zLZp4V0V5XgqFAj///DMGDhwIqVQKtVqNW7du4datW1Cr1WJR1usWaxTG0tIS69atQ926daHRaHD06FFMnToVa9asQWZmJmxtbfHf//433/erv+rTTz9FQEAATExMoNFocOfOHZEMWltbY/ny5fj444+LHR+QM7fvp59+El/J+eDBA+zfvx8ZGRmoW7euaFfQSuA3kUqlGDt2LKZOnQqFQgEiwqNHjxAcHIysrCwYGBjoLIYrquIcr1WrVkWDBg3w6NEjkQxKpVJ88cUX+Oyzz0Q7Hx8fbN26VSwSiY+Px6VLl8Ql/0aNGuGrr74CkHPMrFq1SlyiT0tLw40bNyCRSNCpU6d8MRgaGmLRokVi4ZVSqcSNGzeQkZGBHj16FOu5F4dMJsPmzZvFyHFmZiaCg4ORlpZW5nPDeYSQMcbKiFKpxKeffoqePXtCLpejc+fOBbaTSqXw9/cX5TFsbGyQnp5erNXkXbt2FR+GPj4+xYrT1NQUixYtQrt27XD8+HGkpKSgadOm6NmzJwIDA/H06VNUqFBBXGr08/MT8/py5zuamJhgxIgRiI2NhUKh0Fnp6ebmJtq/mmj17t1bzInNO6pZsWJFrF+/HkOHDsXJkydFuY46deqgV69eYl8ZGRlh8ODB+OijjyCTyXSSREtLS0ycOBEZGRmwsLAQ8eeOtu3fvx9///034uPjYWdnhzp16qBv3746i0YaN24sYm/QoIG4XS6XY+LEiejcuTMOHz6MW7duwcDAAF5eXujcubNOHMbGxhg5ciTi4+OhUCh0FnJYWVmJ7VtaWorv0x0wYAA+/PBDbNq0CU+fPoWLiws+/fRTKBQKcUkzd+GHnZ2dzjbeRKFQYPbs2ejbty8OHz6M27dvIy0tDe7u7ujRo4fO82zXrp2YotK8eXOdbYwdOxYvXryAXC7X2Wd5v+YvN8kxNjbGlClToFar4ebmhm7dumH9+vW4evUqrK2t0bJlS3Tr1k1nZa5UKkXPnj3RsmVL7N69G2FhYYiKikLlypXRrl07dOjQQZxgSSQSNGzYEBcvXsTWrVtx48YNODo6onfv3rC0tBQVPnILagM58zPPnDmDTZs24cqVK7CyskLXrl3h5eUlEu/cY9LQ0FBUkjA0NBTHUqNGjQo8PiQSCXr16gUPDw9IJBIx4iyRSFCvXj1cvnwZW7duxbVr12BlZYVu3brh+PHjCAgIAFA2lSQkVJannYwxxhhjTEhNTRUlpnLnMWZlZcHHxwehoaGQSCRYt24dBg0aVKpxcELIGGOMMaYHWq0Ww4cPx5o1a9CkSRO0bdsWRkZG2Llzp1jYYmdnh/Dw8FJfPMiXjBljjDHG9ECtVotV6OfPn9f5Fh4gZ5HX9u3by6SSBI8QMsYYY4zpiUajwfbt27Fp0yaEhIRAqVTC0dERbdu2xbffflviC7kKwwkhY4wxxlg5x2VnGGOMMcbKOU4IGWOMMcbKOU4IGWOMMcbKOU4IGWOMMcbKOU4IGWOMMcbKOU4IGWOMMcbKOU4IGWOMMcbKOU4IGWOMMcbKOU4IGWOMMcbKOU4IGWOMMcbKOU4IGWOMMcbKOU4IGWOMMcbKOU4IGWOMMcbKOU4IGWOMMcbKOU4IGWOMMcbKOU4IGWOMMcbKOU4IGWOMMcbKOU4IGWOMMcbKOU4IGWOMMcbKOU4I2b+SRqPRdwiMMcbYPwYnhOxf58yZM/D19UVISAgA4M8//8Tt27f1HBVjjDH2/uKEkP2rEBE2bNiAa9euoWvXrpg3bx569+6NGTNmICsrS9/hMcYYY+8lCRGRvoNgrCRlZGRgyJAh2L59O4gIvr6+CAwMRKVKlfQdGmOMMfZe4hFC9q9jYmKCLl26QKFQAACioqIQHR2t56gYY4yx9xePELJ/nYsXL6J9+/aoXbs2rKyscPDgQTg5OSEoKAj16tXTd3iMMcbYe4dHCFmJ2bNnDy5evIjcc4z4+Hi9xPHhhx9i7ty52L17N3bs2IG+ffsiIiIC3bp1w40bN/QSU1l7+fIlDhw4AJVKBQBQq9W88poxxlihOCFkJeL8+fMYNGgQunTpgjNnzmDx4sWoX7++XhIwIyMjjBo1CpUqVYKJiQlWr15drpLC7OxsDB8+HN27d8eCBQsQGRmJdu3aYcGCBVCr1foOjzHG2HuIE0JWInx8fDBw4EAkJSWhXbt2mDBhApo2bQp3d/cy6f/vv//GoEGD0LZtW0ydOhWJiYnivoKSwuvXrwMAdu7ciYsXL5ZJjGXFyMgIn376KczMzDBz5kx4e3vjypUrcHd3h4GBgV5jU6lU2LVrF3r37o02bdpgwoQJXBKIMcbeB8RYCVGpVNSqVSsCQEZGRnT8+HHSarWl2qdarabp06eTkZERARA/bm5uFBISotM2PT2d+vXrRxKJhKytralDhw6kUCioc+fOlJGRUapx6sPGjRvFfvniiy8oOztbr/G8fPmSPv/8c5JIJDqvlampKS1YsICUSqVe42OMsfKME0JWYhYtWkRGRkbk7OxMUqmUbG1t6dSpU6WaFK5YsYJkMhn16NGDbt++Tbdu3aJOnToRAKpatWqBSeHo0aPJ0NCQAJCHhwfdvXu31OLTl5iYGGrRogUpFAqSyWRkYGBAs2fP1mtSOG3aNJJKpTR06FB69uwZxcbG0n/+8x+ysLAgqVRK48aNo6ysLL3Fxxhj5RknhKxEaLVamjp1KvXv359SUlLom2++KfWkMC4ujlxcXKhJkyb04sULcXtYWBjZ2NgUmhRqtVq6desWHT16lF6+fFnicb0Pzp49S66urrRr1y7as2cPWVpa6jUpjIyMJDc3N/roo48oNTVV3P78+XNq0KABKRQKWrVqFWk0mjKPjTHGGCeErARpNBrxga5SqUo9KTxy5AgpFApasGCBuO3JkydUu3Zt8vDwoLZt25JEIikwKSwp4eHh9Msvv9Dvv/9OsbGxpdLH23r58qXY53v37tVrUnjx4kUyNzenKVOmiNueP39OjRo14mSQMcbeA7yohL2TJ0+eYMuWLThy5AiysrIgleYcUoaGhli8eDFGjhyJpKQk9OzZE6dPnwYRQavV4sGDB6I8zdtSKpXQaDR49OgRNBoNUlNTMXjwYGRkZCAoKAh79+5Fnz598OzZM3Ts2BGnTp165z7zWrduHRo0aICRI0di4MCBqFevHg4cOACtVltifRQHEeH+/fu4ePEiUlJSYG5uDolEAgDo3r07NmzYADMzM8yaNQsBAQGiJE1qaiqUSmWZxBgREQEiQmRkJHr27ImQkBAsXboUQ4YMgVQqxfHjx9G7d2+Eh4eXSTyMMcb+n17TUfaPlZmZSRMnTiSZTCYWB9SqVYsuXbqk0y7vSKGNjQ398ssvNH78eLKxscnXtriePn1KXl5e9PfffxMR0Q8//EAWFhZ05swZ0eb69etkZWVFAEgul9Pq1atLZKTy6NGjZGpqSg4ODjR27Fjq0KEDGRgYkEKhoHXr1pX5aNfdu3epefPmYsGGjY0NrV27llQqlU67vCOFEyZMoLNnz5KPjw9NmjQpX9uSFBUVRW5ublS5cmU6evRooSODAQEBpFAo6MqVK6UWC2OMsfw4IWTFplKpaMCAAQSA2rdvTwEBAeTn50cSiYRsbW11ErLc9mPHjhULOQBQs2bNKCUl5Z1jyZ2PlpSURK6urtSvXz+dy6EXLlwgCwsL6tKlC/Xo0YOSkpLeuU8iou7du5O7uzuFh4cTUc7l8iVLlpBCoSjzpPD69evk4OBA5ubm1K9fP+rWrRvJ5XIyMDCgOXPm5Ls8HBgYKJJkAGRoaEhr1qwp9RXhkyZNEv0VlAyqVCr65JNPyMXFhR4/flyqsTDGGNPFCSErtl27dpGRkRGNGzdOJBvZ2dnUv39/AlBgUqjVamn37t3Ur18/mjp1arETs1OnTpG/vz9NmjSJrly5ki95CQkJISsrK/r66691kozx48eTnZ0dPXv27C2fra7z58/Tzp07qUaNGrR48WKd+7RaLS1fvrxMk8KMjAzy8/OjSpUq0dmzZ8Xt27ZtIzMzs0KTwuDgYOrVqxc1b96ctmzZUuzRwYcPH1JaWlq+27Ozs2njxo3Uu3dvGjZsGJ07d068VjExMdSwYUMCQPXr16enT5+Kx6lUKlq6dCnJ5XL69ttvSz05ZYwxposTQlZs3bt3Jzs7O4qOjha3Xb58mapUqULW1tZiIcnp06ffuS+1Wk1Tp07VqTOoUCho/vz5OnXrIiMjycHBgaytremPP/6g2NhYCggIIGNjY+rbty9lZma+cyyxsbHk5uZGMpmMpFIp7d69O1+bV5PCtWvXlmpSeOrUKTIxMaEZM2aI21QqFX3//fckl8tJKpUWmhS+rePHj5OtrS19+eWXOklhWloa9e/fX6fOoLGxMQUEBIjX6vbt2+Th4UEAyM7OjgYPHkyTJk2ili1bklQqpebNm1N8fHyJxMkYY6zoOCFkxVanTh1ydnamuLg4IspZaevk5ETNmzen6OhoGjlypEgKjx079k6jPWvXriWZTEb169en3377jSZOnEimpqYEgCZOnKhTty4gIICkUqlO0WN3d/cSvfy4e/duMjc3JwA0ZsyYApMsrVZLK1asKJOkcOPGjQSA1qxZI/qeM2cOGRsb07Jly2jnzp1kYWFBBgYGNHPmzBIp/nz58mVycnIiADpJ4U8//URSqZS6d+9O+/bto+nTp5OZmRlJpVKaPHmy6Pv58+fUt29fnSkEMpmMvvjiC3FMMcYYK1ucELJi69atG7m6utLTp08pNTWVmjZtSp6envT8+XMiyrlsmPuNJaampjR79uy3+iYQtVpNXl5e5OvrS4mJieL2o0ePkrW1db6kUKVS0X//+1/y8fGhWrVq0dixY0ulFExuUiiVSmnevHlvTAqbNGmiE39JOnjwIBkZGdGMGTNIq9XS3r17yczMjGbOnCkuA69Zs4YMDAxIIpFQ//79S+Ty+atJYWJiIjVs2JC6d+9O6enpot2hQ4fEqHHepJAoZ1FQYGAg7d27l54+fcqXiRljTI84IWTFduPGDXr48CEREe3YsYNkMhkdOHBAp82AAQPIxMSEDAwMaMSIEW91yTYqKooqV65MmzZtynff8ePHC0wKy0repHDu3LmFJoV79+4tsfmLBXn58iWtX7+eMjIyKDMzk3x8fMjPz0+n4Pa5c+fEt4HY2NjQ0aNHS6TvvElh165dycnJiYKCgvK1e11SyBhj7P3ACSF7rYcPH9KGDRtow4YNFBYWlm8UZ9CgQWRtba0znzA9PZ08PDxozJgxdP369WIlg1qtloKCgqhfv37Us2dPMjU1pa1btxbYtrSTwri4OFq5ciV9/fXXNH78eAoKCtJ5LkVJCktaZGQk3bx5U+ebWXJdunSJLC0tac6cOTq3r1mzhuzt7Wnfvn0lXs7lypUrIikEUGiyyUkhY4y93zghZAXKyMjIV2fQ0NCQZsyYoZP4jBgxgiQSCW3ZsoW0Wi2pVCr67rvvSCqV0vbt24vVp0ajoe+++05nbhkAatWqVaFfMVdaSeG+ffuoUqVKOnEAIC8vL536iWWVFD548IDatm1LBgYGYiX3q6NxuQlhjx49xCX6R48eUc2aNcnX1/edy/xcu3ZNXA7WarXi5CBvUti/f/8CVx8TER0+fFgkhT/88AMnhYwx9h7hhJDlo9Fo6KuvviKJREKdO3emTZs20dKlS8nPz4+uXbum0/bYsWNkYmJCMpmM2rRpQ3Xq1CGJREKdOnXSmUtWFNu2bSMjIyNq0KABrVmzhn788UdRL+/zzz8vNNHITQo7depU4MhZcZ05c4YqVKhADg4O9N///pfOnz9P69ato0aNGhEAsrKyomPHjon2pZ0U3rhxgxwdHcnY2Jg6duxIbdu2pZYtW1JUVJROu+TkZPLx8SEA5OfnR8OHD6cqVaqQXC6nwMDAd4ph48aNZGpqSsOHD6fU1FQKCAigb7/9VrzGeZPCwYMHvzYptLGxodGjR5fIym/GGGMlgxNCls+ff/5JCoWC+vfvX6QRt8WLF4uVvxKJhD777LO3Wi3aqlUratKkiU6NwmvXrpGjo+Mbk8LQ0NASSQbVajX5+flRhQoVKDg4WOe+9PR0Gj16NBkYGJCjoyPdu3dP3JebFHp7e5do2ZTU1FRq3rw52dra0okTJ8SonFqtLrD9xYsXqVq1amJE09LSklatWvXO30Jy4cIFsre3F6OkRkZG9MUXX4jC4ERFTwofPnz4VouMGGOMlR5OCFk+o0aNIgAUEhJSaButVkvHjx8XozyxsbF09uxZioyMLPZq0Z07d9KQIUPIzs6Odu3ale/+4ODgIl2SLAm3b98mOzs7+uSTTwpMupRKJfXp04cA0PDhw3XanDp1Sqy0LimnT58mU1NTmjZtms5+zc7Opv3799OgQYOoS5cutHbtWnEJNikpifbt20d79uyhmJiYEovl3LlzZGdnRwCoTp06BSb9RU0KGWOMvV84IWT59O7dmyQSCT148KDQNqtWrSIjIyOdS6dvIy0tjby9vcWI1qFDhwpsV1ZJYe5X3fXt27fQ2oEPHjygypUrk6urK0VGRpZKHLl27dpFACggIICIchLxU6dOUePGjfPNb1y8eHGplW7RaDQ0f/58MjIyErUehw0bVuC0AE4KGWPsn0cKxl5Ro0YNEBECAwNBRAW2qVy5MgDg3Llz79SXqakpdu3ahbp16wIAfvrpJyQmJuZrV79+fQQFBcHJyQlbtmzB8OHDkZ6e/k59F6RKlSowNTXFxYsXERsbW2AbNzc31K9fH5GRkUhLSyvxGPJycnKCpaUlFi5ciHHjxqFTp05o3bo1QkNDMWHCBISEhGDz5s2oUKECVq9ejbi4uFKJIzIyEr///jv69u2Lo0ePwt7eHr/99hv8/f2RkZGh07Zhw4bYs2cPnJycsH79eowePbpUXivGGGMlSN8ZKXv/XLp0iczMzMjGxoauX79eYJvcr0x7tcTJ23ry5AnVrVuXAFDr1q0pISGhwHa5I4WdOnV651WzBdFoNNSjRw8CQP7+/oUuEGnfvj3Z2NiU6LegFESr1dLEiRPF6mKZTEaffvqpzvxFIqIWLVqQs7OzzvcDl7TY2FgxInjhwgVycHB440ihs7MzLyBhjLF/AE4IWYFyy8l4eHjQrVu38t0/YcIEkkqlJfJ9xbmKmhQ+evRIZzFDSbt06RJZWVmRgYEBLVy4MF95lODgYLKxsaEOHTqUyeIIjUZD165do6CgIHr27Fm+y8IPHz4kR0dHat++fZkmXoUlhSqVSsytjI2N5WSQMcb+ATghZAVKS0uj9u3bi5p3v/76KyUnJ1NiYiJNnTqV5HI5devWrcQToqImhaVt48aNZGxsTACoR48edPz4cXr8+DH98ccf5ObmRpaWliWaDBeHUqkUq4ajo6Pp448/JlNT00LnX5amvEnh4MGDKSoqiiZPnkz9+/cvtHYkY4yx9w8nhKxQaWlp9NVXX4nLlRKJRCxgaNGihc63k5Sk9yUpDAwMFMlO3h8rKyvatWuXXr57Nzk5mbp27Uq1atWi7t27k52dHclkMlq0aFGhi2BK24ULF0RpoNyf7t27l+ooLmOMsZIlISpk1QBj/+/s2bPYtGkT7t69CysrK3Tt2hX9+vWDQqEotT6fPn2Krl274ubNm/joo4+wc+dO2NjYlFp/hUlKSsKOHTtw/vx5ZGVloV69evjiiy/g6OhY5rEAQFhYGL744gtcv34dRAQvLy/Mnj0bnTt3hlSqvzVi9+/fx3fffYdLly6hXbt2WLhwISpWrKi3eBhjjBUPJ4TsvZWbFDo7O2Pz5s2wtLTUd0jvBa1Wi5iYGEilUlSqVAkSiUTfITHGGPuH44SQvdfi4+NhamoKExMTfYfCGGOM/WtxQsgYY4wxVs5xYWrGGGOMsXKOE0LGGGOMsXKOE0LGGGOMsXKOE0LGGGOMsXKOE0LGGGOMsXKOE0LGGGOMsXKOE0LGGGOMsXLOUN8BMMYYY2VJpVJh1qxZOHfunL5DQUJCAkxMTPRafJ+IxJcAmJqalvs4cvn7+6Nr1676DqPMcELIGGOsXFGpVLgfFozvWgIulfSXeChVWkzdlISvO9jAtbL+4khXqjH611hMbl8Lbvb6iyMrW4PR/43Dz30bwNxYv+nJzjPPcP/+fb3GUNY4ISwnLly4gHv37uk1htTUVMhkMigUCr3FkJmZCa1Wq9ezT6VSCbVardcYVCoVsrKyYG5urrcYAKBatWpo1qwZDAwM9BoHK59sLYxQtaJ+EyBjIwPYmOs3jtRMFYwMpbDWcxyZSjWMZAawNjOCvY2x3uIAAAsTGbR6jaDscUJYTixduhSKhMtwsNHfZYlDV6PgaGuCui4V9BbDn8HRkMukaFmnkt5iuBPxAlFJmWjtVVlvMTyMScX1h8no1dRZbzEkp2VjU5ot9uw7DEtLS73FwRhjjBPCcuWL1q7wqWmjt/6jkzLh62GL/q1c9BZDYqoSFsYyTO5TS28x7D0fgSsPkvQaw9Hr0UjPUus1hkfRaZh2IE1v/TPGGPsfXmXMGGOMMVbOcULIGGOMMVbO/WMuGe/YsQNpaTmXlxo0aIB69erpOSLGGGOMsX+Hf0xCOHHiRDx79gwAMHv2bE4IGWOMMcZKyHuTEL58+RLh4eHi7zp16kAmk+kxIpZXZrYaKWkq2FjIYWSon5kGmdkapKRlw8ZcDiOZfmLIVmuR+FKJCqYyGMv18++j0WgR/1IJM4UhTBWGkEgkeokDANKz1Ih7kQUHG2MYGXLpmH+i7Oxs3L9/H9nZ2QCAqlWrwsZGf4vPGGP68d4khBcuXEDHjh2h1eZU/omMjIS9vb2eo2IHL0di/q7buPk4GVoCjI0M0M3XATP714WjbdmUsDlyLQrzdtxCyOMUaLQEhZEBuvjYY2b/umVWM+vy/UTM2R6GM2HxUGm0MDSQoGWdSpjVvw68XK3KJIb7kS8xd8ctHLoShcxsDaQSoKG7DaZ+Vgut6lYq88RQpdZi1C9XcPxGDI7N/QieTlw65p8oJiYGnTt3xtOnTwEA69evx6BBg/QbFGOszPGiElaodUcfYsCiCwh7koKG7jbo0sgB5iYybD/9DB2m/42ncemlHsOmE4/Rf+F5hDxOQf3qVujSyAGWpjLsOhuBjtP/xsPo1FKP4eTNWPSYcxp/h8SihoM5ujd2hKONCY7fiEHnmSdx/k58qcdw59kLdPvxNHafi0AVa2N093VETUcLXH2QiN7zz2LX2QgQlXoYgkZL+M/uOwi88LzsOmWMMVZq9D5CqFarER8fj8TERJ3bY2NjIZFIYG1tDblcXuBjnz9/jpCQEFhZWeGDDz6ApaXla0dJnjx5ggcPHkClUsHNzQ3u7u56udyWlpYGhUIBQ0O97/5C3Y98iembb0IqlWDVaB/0bOIEqVSC5LRsDPr5Av4KicXMLaFYNdqn1C4hP4xOxbRNNyEB8Osob3zWoiqkUglS0rIxZNklHLkWjRlbQrF2TCPIZaVzuTI5LRvj1gQjNUOFaX1rw7+7B2SGUmRla/D9+utYf+wRJm8IQeD0FqhgalQqMWSrtfhu3XVExGdg0MeuWDC4HkwVhtAP/YbEAAAgAElEQVRoCYv23EHArtuYsfkmfD1s4GxX+iOmaVlqzNoaitVHwqHWlmEWWs7Fx8cjNDQUWVlZqF69OqpVqwYjo8KPuczMTISFhSE2NhbW1tZwc3ODnZ2deM/TarVISkpCbGwsNBqNeFxKSgqio6NhamoKCwuLUn9eAJCRkQFDQ8PXPh/GWOnS+whhREQEnJ2d0b9/f3G5GAA+/PBD2NvbF/jl41lZWRgyZAiqVq2Kzp07o2nTprC3t8fixYt13thyXb16FX5+fnB1dUXbtm3RqVMn1KxZE/Xr18eZM2dAZTm0AuDmzZuYNm0aDh8+LFZOv2/WH3uElHQV+jR3Ro/GjpBKcz5ErMyMsHKkN+ws5Qi6+BxPYksv/t9PPEbCSyU+aeKE3s2cRQwVzIywbHgD2Fsb49CVKDyIKr1Rwv2XIvEwOg1NPO0wspM7ZP+f/CqMDDDvi3qo41IBV8OTcO526Y0Snr8dj0v3EuFWxQxTP6sFU0XOiYSBVILxn3iibf3KiEjIwN7zEaUWA5DzxfOnQuPQacZJ/HrwAeQyA8j1NJezPImIiEC/fv3g4OCA1q1bo1OnTvDw8ICLiwvWrVsn5v7lSk5OxsSJE2Fvbw8fHx906dIFTZs2hYODA/r06YMHDx4AyDkx7dy5M3x8fPD8+f9Gev39/WFvb4958+aV2XO8efMmZsyYgcOHDyM1tfRH/d/W/ciX+ObXq/luV2u0+P2vx+g44yR6zDmNU6FxpRpHepYa41YHo9e8M1i27x60BZyYqTVaLA68i6PB0aUWR2qmCl8tvYSI+Ayd2zVaLdb++RCdZ57E8BWXEZuSVSr9a7SEDccfofPMkxi67BJikjPz3b/6SLh4XS7fSyxkSwx4D0YI38bixYuRman7wmdmZmL8+PHw9PREhw4dxO3Hjh3DJ598UmDiFRISgrZt2+LkyZNo1KjRW8Vy584dbN++XSeZLUinTp3g6+sLAJBIJEhOTkZgYCAOHz4MX19ffPTRR6hUqezngRWEiPDXjRgAQFdfRxga6H7oO9qaoFFNWxy4HImjwdGo4VDyowg5McQCALo0chCJWC57GxP4ethiz/kI/HktGrWrls7X4Z0IiYFGS2j7YRWYGesucjJVGKJ9A3uEPE7BgcuR6NjQvlRev3O345GZrUETTztUqqD7PdAGUgm6NXbEwStROHY9BsM7uENhVDqjpZfvJ+LTgLNIz1KjRW07jO/hiW/+exWpGapS6Y8BUVFR6NKlC0JCQvLdFx0djSFDhiAqKgpTp04FkDO6169fPxw5ciRfe7VajV27duH+/fs4cuQITExKZw7w/fv3sWnTpje269ixIxo3bgwg5z0xKSkJgYGBOHLkCHx8fNCqVav3Zh45EeHY9RjM3BIqTsjyuh+Zig3HHyFoegs8T8jA1yuv4MAMv3zvGSUVy7pjD1G9ihkCBteD/2/X8PfNWLSu97+vwkzNVGHmllAEXniOhV/WL/EYgJxka0ngXVy4E49ste7n3+OYdBy6GoU9U5pj36VIBOy8hcXDGpR4DBHxOSfCe6Y0x6Fr0Ziz/RZWfN1Q3B/6JAU7zzxD0PQWeBqXji8WXcClxe3ei8/Z95HeE0I7OzusW7cON2/exKJFi8Ro3ZIlS2BlZQVPT898j8nMzETnzp3RvHlzPHv2DGvWrIFSqQQALFu2DG3atIGhoSGSk5MxbNgwkQza29tj2LBhkMlkWL9+PcLDw5GVlYVJkybhzz//fKvLFUqlEnFxcW9MCDMy/ncG1ahRI1j9H3vnHR5Vlf7xz52a3jsJLQGSQOiEXkwoCoKCKAqK3bVhWQuuBfGnYltdu6iIiKvLqkhRBEQBkxAgQCD0EEhCQnqvU+/c3x8DA2MSaiaTNffzPHkgc275zmTmzPe85z3v8fVl27Zt7N27lz/++IOkpCTi4uJITEykZ8+eKBTOi7zklzdSVKVHpRTo06X5hQL9u/nwc1oBB3JrsFgkW/SutSio0FFY0WjV0MLex/27+/Bjaj4HT9YgWiSUrazBYBLZn1sNwIDI5heOxHX1QSHAiaJ6GvRmh3wB7MqqBKB/pG+zHVlkiAceriryyxqpqjcS6ueYTeFFi0RcF28emNKDqUPDKa7UXfgkmctGkiQ++OADmxl0c3Pj1ltvJTIykrVr17Jt2zYkSeKdd95h8uTJDBw4kFWrVtnMoLu7O8899xzjx49n27ZtLFiwgLq6OjIyMvjiiy946qmnWLBgAZmZmbz66qu2tJ177rmH0aNH06dPn8vSfaZPvBDnDuoHDx6Mj48PKSkp7Nu3j6SkJFJSUujduzeJiYn06tXLqX2iaJFoNIi8f/8gXv7PwSbtXYLc+feTI/B0VePlpgYJHJVNYTBZ2HWskvkzY9GoFCT0C+aPg6V2hrC2wcSYPkH4ejhuCj75UCk1DSYGRfk1aYsM9eC7f4zCLFooqtIR4NV82teV0iXIjR+fH4MoWiiqaHqfqFAPvn5iOG5aFT7uGswWCQmQ7WDzON0Qenh4cNttt7Fx40beeecdmyG88cYbWxwdzp07l6VLl6JUWiMhWq2Wd955B4CsrCzMZjMqlYqVK1faVs65ubnx+++/Ex0dDcCtt95KXFwctbW1bN26lT179thGq5dCv379+PDDDy943Llf5AqFgujoaKKjo6mvryctLY2UlBT279/P/v37iYiIICEhgcGDBzslp6a0Wo/RbCHI2wWXFnLzwvytpqOwUofBbMG1laNSZTV69CYLgV7aFq8d5ueKABRX6dAbxWZH7ldCVb2RBr0ZpUIgrAWT5e+lwUWjpLRaT4NBbHVDKFokik4br5byA309tLhpVZTVGqjTmQjFMYZwSE9/Nrx8VZOIsYxjOHHiBMuXL7f9/sorr/D4448DcPfddzNx4kTS09Opqqpiz549DBw4EJPJxPXXXw9Ajx49mD9/PgqFgoEDB5KUlMSqVasASE9PR6PRMHnyZPr06cN7771nM4QjR45k7ty5l627T58+fPzxxxc87tw+UalU0qtXL3r16kVdXR27du0iNTWVAwcOcODAAaf3iSqlguuHh5Nf1vxCOvfTJaAaDWZe++4QN43pYjWGDsAsWtAZzXi5Wfs7Xw8N1fX2aQOdAtzoFODGwZPVDtFQWq1nycYT/Ovegfz98/Qm7YIgYBEt/HPlEb5LyeNdB0QHz9xHslh4Z9VRvv0jl3/da38fD1c1Hq5qdEaRZ5bt47Hro1HI0cEWcbohvByioqJsZhCsHZAgCEiSREFBgS1a98svv9gMZmJiIlFRUbZzOnfuTGxsLDt27ADg6NGjl2UIBUGw03KpeHh4kJCQwFVXXUVOTg7btm0jLS2Nr776iry8PGbNmtXm4e0GvYhokXB3UbUYdXPVWtt0RjOiA4bCjQYRUbTgqtW2aEBctSoUCgGdUXSYBpMo4aJRNJmyPoOLWolKqUBvsmAWzx8lvhx0BtE2HePp2vzHVatRoFYJVDeImEXH5cOqZSPYphQXF1NcbE3dCAoKYuLEibY2f39/Hn30UbZv3277HeC+++7jvvvuA6wRxvr6egoLC2loaLDrp/LzHZdveqV9oqenJwkJCYwbN46TJ0+SkpLC7t27+eqrrzh58iS33HJLK6ptPWoajDz66R7iuvlw/+SoC59wCZRW67n+5ST0RpFbE7rhrlWhN1n7hQaDiFsrD4bPx5kKAz7uGn7clk9OST0/7TzF/ZPt01XUKgXP3dyHOyZ054ZXk0l6c4JDFiCqlAqeuak3d02MZPLCraT+c6LdfWoajNz93k7G9w9hbkK3Vr//X4n/SUP4Z1Qqlc0Qnruo5Ex0EOCnn346b6HrEydOIEnSJZuvS1mQcr5rm81mKioqKC8vx2Sy5mQ5qzC3zmjGYpFQqxS0JFmttLYZTBYkB5ixMyZPo1LQ0kywWmltM5otzSZVXyl6o9WUqpWKFo2xWik4VIPBJNqMZksrqVVKBQpBwGS2ONQQyrQtJ06csA1uPT098fGxT52YO3dus5G8/Px8Pv74Y5YvX05hYWGbaD2X1uwTy8vLKS8vty2caa+bFdTpTDz8yW4mDwnjlrFdW/36QT4upL5tHRBYLBIvfrOfo6dqiQr1YH9OFQPaqBbqGabGd6KgohGTaEGpENCqlXbfFb/tK+a3vcW8fmd/NCpr/+mIxZt/HChh7c4C3r5nIGqVApVCsOuHGw1mbnt7O/dOimTq0PBWv/9fjb+EIWyJ2tpahxx7LhkZGXz66acXzCGcNWsWCQkJTR4vKioiJSWFnTt3UldXhyAIREdHM378eGJjY52S/HrG7JlFCy19hEWLBUmyrrZt7fxBmwaFgFm0tJiLYxZPa1ArHKNBZb2u4Txmz2yRsEigVbdsGq8ElVKwXdfUQgRSFK0aNCoFKqU8HfJXoaHh7PSkUqm8KDOUm5vLlClTOHz4MGA1UJGRkfj6+pKTk2OLODqSgwcPXlQaTXN9oiRJFBcX2/WJCoWCXr16kZiYSGxsrKNkXzKSJPHI4j1MGhRKo8HMxvQisovr+fCnY/h6aPjskaEtpppcCQqFwJ0TInno4118n3wShSDw1IxYymsM3PR6CmsWjMHTAbnMZ1AqBMbGBQHWQfNve4uZODAUjUrBM1/uY0CkL1OGhLFsUzazXk+hpsHE49OjHVIabEhPf5ZsPMFNr6VQ22ji8eujUSkF/vZBGjeN6UxeaQO7jlVQUWvg9e8P46ZVsnbBOFy18q5KzfGXNoR+fmeTXceNG8ff//73FhOTu3bteln30Gq1BAUFXdAQnruiz2g0kp6eTnJysi0yqVarGTFiBImJiXTq1Mmpq6DcTk8V641ii0ZId7rNXdvytPIVadAqUSkE9KaWzZjeJCJKEm5alUOMkIvGqsFosrQ4JW043eaqUaJywHSIi0ZpmzJvNJibPcZotkYRXbSqFqe2Zf73ODfFRafTUV9fT1BQ0HnPWbRokc0MxsbGsnLlSlve9AMPPMDixYsdJ/g0Z/rEC+HqetYsGQwG9u3bR3JyMsePH0eSJDQaDSNGjCAhIYGIiAhHSr5oIgLdWbNgLGCNbn5wzorWm0Z3aTMd3UM8WLdwHDWNJnzc1QiCQIC3ls2vJdod99ysy1sYdLG4aJR8/eQI2++v39nf9v+vnxxOTYMJdxfH9UtuWhXLnxhOTaMJN63KNlX86bx42zF3Toh0yL3/irRbQ2g2N//ldykMHjyYtLQ0wFoKYejQoU06qszMzCY5iZdCTEwML7300iWds3v3bpYvX44kSXh5eTFmzBjGjBmDt3f72Por1NcFrVpBea2hSTmBMxRX6ZEAf0+NQz7swT4uuGiUVNQaMJia1pa0aZCsSdWOyE0J9NLi5qKiqEpPea2BqDDPJsdU1RvRG0V83DUtLsC5ErRqJSG+Lhw9VUthRfOreqvrjegMIj4eGtwcVHJGpu0JCQnBw8OD+vp6SktLycrKonv37oA1OvX3v/+ddevWAXDvvffywAMPcPDg2RWwM2fOtJnBS+FK+96ePXvy8ssvX9I5e/fu5csvvwSw9YmjR49uMk0ucxaFQnDoKuIrRRAEfNpAnyAIDtsUoKPRbsIJnp6edlGxtWvXUlVVZTdtcqnMmTPHNs1SWFjI9OnTSUtLQ6fTcfjwYRYuXEhcXBzvv//+BSN8rU2nTp247bbbeOWVV5g6dWq7MYNgrTPo5aam0SCSW9L863/oZA1gLYXiiAhhmL8rPu7W1WE5F9LQ3dchK19dNEoiQzys98qrafaYo6dqES0SvTp5trjo40qJ7Wx9bxxuQUNeWSN1OhNdg93xd1B5B5m2JzIykpEjRwLWCNqLL77Ivn37aGxs5D//+Q9fffUVWVlZZGdnEx4ejiAIdjMgaWlp1NXVYTab+fnnn1m5cqWtzWKx2HK61Gq1XbTut99+o6ysjJqa5t9vjuLPfaJsBmVk2pZ2Ywijo6PtygnMmzcPPz8/VqxYcdnXHDFiBPfff7/NaKampjJ06FDc3Nzo3bs3L730EiaTieeff96uUr+jGTRoEM899xyjRo1qcVs+Z6JSKmw1rX7ZXdhkyraizkDqkTKUCoGRsYEO0zD+jIZdTTVU1RnY5mANABMHhgKwaW9Rk0il0Wyx7QIwJi7IYdP8Cf2C0agUpBwuo+pP5SUkSWL97kIsEgzt5e+wotQybc+ZOoIeHtZByc6dOxkwYADu7u7MmTOHqqoqAOLj45k0aRLu7u6MGTPGdv6GDRuIiIggMDCQqVOnUlZ2djcdg8Fgq43q6+tLePjZhPv//ve/BAUF2VYrtwUDBgzg+eefb7d9ooxMR6DdGEI/Pz8effTRVr/u22+/zfz581tMyA4ODuabb75p0xwVrVbr1CKrF8PNY7riplXyxa8n2HqgxBZNMJhEnl++n8JKHeP7hxAb4bjI5o2juuDpqmL55hx+3Vts02A0iSz89gB5pQ2MjQuibzfHRRKuGRxGmL8rv6YX8+8tubZcQotF4r01mezKqiQ63MtmXh3B8OgAYiK82HeiivfXZmI8x5h+l5zHmp0FBHhpuWVMV4dpkHEOI0eO5IMPPmhxBmHo0KF89dVXtnzpp556imuvvdbWXlNTQ3V1NV5eXkyYMMH2eFVVlW0FsouLC48//rhdlLCt+V/oE2Vk/uq0qxzCRYsWMWjQIDZs2EBZWRndunVjyJAhADz22GO2KYxzR8EAffv2ZcGCBUiS1GQ1nlqt5rXXXuPuu+/mu+++Y//+/bbk7FGjRjF9+nR8fdt2yf7/AiNiArh9fHc+/SWLW95MZcqQMLoEubM5o5j041UE+biwcE6cQyNS8b38uWtiJB+szWTu26lMHhxGtxAPtu4vYffxSgK8tCycE4eb1nFv4y5B7jx9QyxPL93Lk0vS2bC7kLhuvuw+VkHSoVI0KgUL58QR6O1y4YtdJt7uGl6cHcfct7fzz5VH2HG0nGHRAWSequXX9CJMosRLc+KIDPNwmAYZ56BQKLjjjjsYP348K1asYM+ePdTX1xMWFsakSZO45ppr7Iycr68vK1euZO3atfz222+Ul5cTHR3NrFmz8Pf3Z8mSJVgsFhQKhV1E+5prriE5OZmvv/6akydPEhgYyNVXX+2MpywjI+Mk2pUhFASBmTNnMnPmzCZtZyr0N0e/fv3o16/fea8dFRXFs88+e8UaOxKL5vYjwEvL+2sy+S45z/b4yJgAXruzP3EtbCnXmiycE4e/p4Z/rc7kh21ni+kOi/bntdv7MzCy6bZJrc3dE7vjolHw8n8Osn5PEev3WKeJo8O9ePm2vkwaFOpwDRMHhvL1k8P5x7IMkg+VkXzIOv3Xyd+V52/uw81ju8gV+P/ChIeH8+STT17UsRqNpsV+dMGCBc2eIwgCgwYNYtAgx+woISMj0/5pV4ZQpn2hVimYPzOWeVN7cjivBr1RpGuwB2F+rg6p+9esBqWCv0+P4YHJPTicX4vOYG5zDYIgcOtV3Zg1ugtHT9VSVW8kPMCNzoFubbqN24QBoST0C+F4YR3F1XqCfVzoFuzukPpeF0PnIHeOLL72wgfKyMjIyLR7ZEMoc0HctCoG9/B3qgZXrarZTdTbErVK0SZR0fOhVAj0CveiV7iXU3XIyMjIyPy1kLN4ZWRkZGRkZGQ6OLIhlJGRkZGRkZHp4MiGUEZGRkZGRkamgyPnEMrIyMjIdCgkSaJBb+TrzXkE+jiuZNSFMIsSmadqWb45h1C/YqfpMJgs5JU18u8tuWzeX+I0HSazhZOlDSxen4W3e/O1g9uK3VmVjOnlVAltjmwIOwharZZ/fLXPIXv+XiwnSxs4mFfNv7fkOE1DXlkjGpWCHZnlTtNwZo/ovScqnaahqsFIcaWOaxZscZoGCXAJ7CkXJJZpcyRJQhQt6LFgMLbttqXnYhYtiBYJk9m5OgxmEUmSMDpZh0m0bqno7NcDrCa5oyEbwg7Chx9+SEXFS07VoNPpUKlULe4a0xYYDAYAp26PZTKZUCgUKJXO22ZOFEVMJhMuLs6LjgB4eXnh6enpVA0yHQ+FQoGXuwv3jo2kdxfnVQ7QG0VOFNdz98RI+nZz3gYJdToTaZkV3DWhOwPaoLZrS+gMZnZlVTJvai/C/J23cw7Ap+uP09EsoWwIOwienp7yF6+MjIyMjIxMs8hzNR2Eu+++G0EQ5B/5p139TJw4kfr6emd/PGRkZGQ6PHKEsIPQ0NDA5kWJxPdyXoHpeZ/sZlh0AHOu6uo0DU8sScfLVc2Lc+KcpmFVaj67sipZdPv5t1t0JL/uLWLprydYMX+U0zRkF9Xzws/1iKLoNA0yMjIyMlbkCKGMjIyMjIyMTAdHNoQyMjIyMjIyMh0c2RDKyMjIyMjIyHRwZEMoIyMjIyMjI2OH5GwBbY68qERGRkZGxkZ9fT0LFizg+PHjANx8883Mnj3byapkZGQcjWwIZS6aRr2Zhd8eICbCmzvGd0MQhDa5ryhK/Lq3iJ3HKqioNRDu78bUoZ2IifBqMw2SJJF6pJw/DpRSVKkj0FvLpEGhDO7hj1LRNhoADuRWszG9iLzSBrzc1IyNC2JsXHCb7kCTW1LPT2kFnCiqR6tWMKxXAJMGheKmlbuTvwImk4mkpCT27NkDwIABA5ysSEZGpi3ocD14UVERRUVFALi4uBAdHS1vnXURSJLE6z8cZvEvWcy5qit3jO/WJvctrtJx5792kHKozC6A//r3h3jqhhienBGDRu3YHT/qdSYe/mQ3q7afQrScVfHWj0e4LaEbb97ZHw9Xx+6+YjJbePGbAyz+JQuj+Wz9/HfXZDJhQAifPhxPkIP3ZJUkiU9+yeKlbw/QoD9bKuajn7Po182HZY8Pp0cnufi5jIyMzP8iHc4QfvbZZyxcuBCAmJgY9uzZg6urc7fIae+IFom3Vh7m/bWZWNowrcJgErnvgzSSD5UxpKcf82fG0snfjU17i3njh8O89t1hgn1duWtCd4dFCiVJ4pllGfywLZ/IUA9euLkPsZ292ZlZzssrDrH89xz8PTUsnNPXoZHC99dm8tHPx/Dz1PDCzX0YFh3AkfwaXllxiE17i3nii3Q+mzcUV43jzPGPqadY8O8DKBUCC+fEMWlgKAUVOv658jA7Miv424dp/PDsKPw8nbct4P8yNTU1/Otf/6KoqAiFQsEjjzxCY2Mjn376Kfv370epVDJq1CgeffRRwsLCOHHiBB9//DE7d+5EqVQSFxfHgw8+SGxsbJNrV1RU8O233/L7779TWFiIh4cHvXr14uabb2bMmDEIgoAkSXz00Ufs3r2bkydP2s79+eefKS4uZvDgwdx7771t8loUFRWRkZHByJEj280OSzqDSOqRMvw8NfTv7ttsnyNJEgdyqwkPcHPY56BBbyb1SBlatZLh0QGoz5kdkCSJrMI6KmqNAHi5q+nd2dshOs7cL6ekgWMFtQzu4U+Al7ZJ+/HCOvLLG4nv6e+QgbPOYCbpYClh/m7EdbXfhlCSJLKL6ymttm5Z6u6iom83521V2N7pcIZQ5tIoq9HzxJK9rN6e36ZmEGD97iJSDpURHe7Ff+ePskXA4rr6EBHoxgMf7eLd1UeZNrQTgd6OiY6lH69iVWo+Qd5aVswfSUyEtXON7exNTIQ3N76WzNJfs5lzVTeiw70couFUeSNLNp5ArVLw5WPDGNc32KZhQKQf1y7cys87C9g+voyEfiEO0VCnM/HemqMYTCIfPziEW6/qiiAIxHX1YUhPP254NZm0YxWs3n6KuyZGOkTDXx2dTsd3333HkSNHACgpKWHjxo00NjbajklNTWXTpk3Mnz+fefPmUVZWZmtLSkpixYoVrFmzhpEjR9oe37x5M3PnzqWgoMDuflu2bOHzzz/n7rvv5oMPPkCtVrNhwwbWrVtnd1x6ejrp6elUV1dfliFsbGzk4MGDSNL5O5CQkBC6dOkCWPMYV61axfr16xk6dCjjxo0jLCzsku/dWhhMIk9/uZcwP1fyyxqJ7eLNw9f2bHLcwZM13PJmKsseH+YQQ1jdYOTm17cxIiaA6gYTSzaeYNnjw1CcHozqjCLPfLmP8EA3tGolUaEeF20IL6d7P5RXw7NfZXDN4DA+/OkYn86Lp5O/m/V6ksSaHaf4dMNxZgyP4JNfsnjvvsGtukex0Wzh/o920b+7LyuS8hgXF8Tt47vb2k2idUAf4uuCi0ZJeICbbAjPQ7s0hBaLhf3795Ofn4+fnx/R0dH4+fmdNwp08uRJjh07htlspnv37nTr1g2NRmNr1+l0VFdXU1dXZ3vMZDJRXFyMi4sLwcHBbTZ1XF1djbe3d5vlv10uX2/O4bnlGVTWGekS5E7frj78lFZw4RNbif/8kYvRbOG2hK5NpkOnDw/nw5+Osed4JalHyrluWLhDNKzank9No4k7J3Sn158M37DoAMb3D+X7lDzWpRU4zBD+tq+Y/PJGEvoFMyw6wK6te4gHt17VlUXfHeb7lDzG9Q1G4YD31e6sSg6erCEmwpurB4XavXf9PbU8MLkH97y3k5Xb8pk9risuDoxUdhRWrVoFgJubGzqdzmao9u7dyy233IIkSajVagRBwGi0RoQqKip44403+PHHH1GpVOTk5HDnnXfazGBAQADx8fHk5ORw5MgRRFFk6dKlDBo0iHvvvddmyoqKimzX9PHxwdfXl+Dg4Mt6HlVVVSxduvSChjAxMdFmCP38/IiLi+Pw4cP88ccfJCcn07t3bxITE+nVq1ebp/kcya+lotbAB/cPpqRKz70f7OTO8d1xdzn7FVrbaOLdNUeJDPVwmI6KWgPj+4fw5A0xVNUbufmNFMprDbb+sVFvxmyRePe+QQhwyd8xl2IKRYvE5xtP8Oi0XiT2D0GlEFi5LZ9HpvUCrGbth235vHZ7f/p390WtUrBk43EWzG69XaL2HK9EpRB4/PpoKusMzHg1mbmJ3TnztE1mC9X1Rv77zMjLevTtGMAAACAASURBVD06Gu0uee7f//43Xbt2ZcCAAUybNo1Ro0YREBDAzJkzOXnyZJNOZcuWLcTHx9O1a1cmTpzI5MmTiY6Opnv37nzxxRe2bbFWrVpFeHg4b7/9tu3c48eP0717d7p06UJDQ0ObPce3336bTz75hMzMTCwWy4VPcBIb9hTRoDdz79WRJL0xnoFRvqdbHP+hajSYOZBbDcCYuKAm7SqlgpGxVnOUdLCUC3zXXBaSBDuPVVg19Alq1miN7hMIQOrRcrvcvtYkLdOqYVivgGaN1tBeAWhUCvbnVFNdb3SIhn3ZVRjNFvp08W4yLQTQu4s3fl4asgrrKKrUOURDR6Nnz56kpaVRV1fHvn376Nq1q61NqVTy6quvUlFRQUVFhd0q4EOHDlFSUgLApk2byMvLAyA4OJitW7eybt06du3axaRJkwAwm82sWrUKQRBYsmQJe/fuJS7u7Jf2I488QnZ2Nu+///5lPQ9PT0+uueaaC/7ExMTYzvH39+ehhx7ilVdeYdq0afj7+3PgwAHeffddFi1aRGpqqs2wtgXZRXV0D7EaPTcXJW5aJSXVelu7aJH4fMNxJg8OIyLAzWE6IkM9efIG6+uUkV2FRqXE/5zPY2mNgcN5NUx/OYnRT//G2h2nHKbFaLZQXKmjc5A7AN1DPThWUGtrFwQBAauJlSSrYc4pad3v2ayCOnqEWVMKXDRKBAFqG8++LyrqDGQV1jHjlWRGPrmJ75JPtnQpGdpZhPDDDz/kkUceaXYk+eOPP7Jz507S09MJCrIahDVr1nDTTTc12zEUFBRwzz33IIqiQ/NeFi9e3GQq5s/4+Pjw8MMPo9VaP7iSJJGRkUFGRgadO3cmISGBwYMHo1Y7dmHCpTJzZASL5vajc5A7bT2wyi1poE5nxstNTZBX89PB3UOsHUFOST1Gs4i2lReXVNUbKCi3Tte1NOoPD3BDo1JQWNFIvc7U6tNEkiRx4KTVGEeFNZ9LFeTjgoeriqIqPTWNra8BsJnzyFCPZkfZAV5avN005JU1UFFnoFuI46IkHYX777+fIUOGANC3b19GjBhBbm4uAP379+fJJ5+0zYLMmTOHb7/9FoC6ujoqKyvp1KkT06ZNY+jQoYB1EV1UVBQA7u7ujBo1io0bNwKQl5dHXV2dQ/L1vLy8uO666y75PEEQ8PPzY8qUKVx99dVkZmaybds2MjIy+Oqrr1izZg2TJ09m7Nixra65GTG2XD0BUCoELOd8T6UcKqW0Rs+j1/Vic0aJQ6VIkkTywTIWfXeIjx8cYpe7HOClZfkTwxkRE8jJ0gZu/Wcqif1D7CKZV4LeKPLDtjzMokRUqCcKAdRK6/3VSgXnxjc0KgV3T4rk2a8y+DE1n+oGY6v30YKA3d9FpVDYpTZ5uKhY/sRwxvQJoqzGwOQXt3DN4DA8HbwI8H+VdmMICwsLeeGFF2xmcMCAAcyaNYvS0lIWL15MY2MjBQUFPPvss3z66adIksTjjz9uM4PDhw/n1VdfRalU8sILL5CUlATA/PnzmTNnDsOHD2fZsmWsWrXKNhUTGhrK//3f/+Hi4oKLy+XloFVWVlJaWnreY8xms53Jffrpp9mxYwepqank5eWxbNkyVq9ezdixYxk9enS7SaKePiKihRbHJxPW682YRQt+nlo06uYD2X6eGhQC1DaYMJotrd7ZNOjNmMwWXNQKvN2a70C8XNVo1QpqG80YTK0fITSaLegM1ih3cAuriD1dVbholFTXGzEYxWaPuVLORB5b0uDhosJVo8QsStQ0mhyioaPxZ+Pt5XU2JUGj0dilxJzbZjQa0eut0auQkBBCQkKoqalhzZo1fPnll5w6dYra2lpbnUGw9lFtGXG7VJRKJbGxscTExHD48GGWL19OdXU1GRkZbWIIw/xc2bTXWp3CYLbQoBfx9zwzwIeN6cWkHiln0gtbyC6uJ6uwjiWPDLVFz1oLSZL4eVchn284zhePDWsSjWwwmPFxt74vfD00+LirqdebW80QWiSJ2gYTJlFCtFjw9dBSXmuga7AHRVU6Qv3O5gdKkkS/br6sXTAWk2hhV2YFe7OrWkXHGcL8XcnIsQ5WRYtEo8EaRDhDg0HE2936u6erigAvLXU6s2wIW6DdGMJ3332X6mrrH7Zz585s3brV1snFxsZy3333YbFY2LJlC2azmbq6OgYPHky/fv0AeP755xk0aBAAb775JqNHj8ZkMlFdXU12djZxcXF069aN7OxsmyH08fFhzpw5V7TKeP78+Rd13Lk5L15eXkycOJEJEyZw4sQJUlJSSE9PZ82aNbYk6oSEBEJDQztszkOj3oxZlNCoFC3mxGlUChQKAYPJYlcOptU0GERMooRGrWhxBfFZDaJDNOgMIqbTU9EtrSBWK636jCYLZtExZv2MyWtJg0qpQHk6UtCoNztEg8ylI0kSy5YtY/78+XYLUNqS2tpa/vjjjwvmEHbv3p0+ffo029bY2MiePXvYtm0bOTk5AISFhTF8+PBW19scvcK9KKnSk3q4jMyCWmIivPBxV/NrehHdQzxYdLv1e0i0SDyyeDd3jO/e6mYQIPNULc99lcFTN8SwP6eKI3k1jIwNZPvRciIC3KhpNPHkknTev38w6Scq8ffSEuTdejMGbloVD56zmKa6wcQXG0/g4aJi1bZ8Xrgljga9me9T8rg9sRufbzxOvc7MTaM78+0fJ3nltr6tpgVgSA9/Xv/+MOnHK9l5rIKJA0MRgPW7C4mJ8KLRIHLPezv5bF48xwrqcHdREerr2PJc/8u0G0O4b98+2/+vu+46uyjZ1KlTeeCBBxBF0VYeISAggO+++852jCiKFBYWUlJSQllZmZ2ROnXqlF1OTGuiVF5+VEoQBKKiooiKiuKmm25i165dJCcnk5ycTEpKCm+99Va7iRa2NaIkISGhEGgxZfE8Ta2CRZKQAOE8dxGEttAg2e7lDA2ShM3stjRAsdfQMQcxbcmFzNUZNm3axCOPPEJ9fT0KhYLrrruOGTNmEBgYyA8//MCSJUscrNQ6hb1u3bqLWlRyriG0WCzk5eWRnJzMnj170Ol0KBQKYmJiSExMJDY29or630vB10PDW3cP4Kvfc/D10PDMjdbSPgaTaDcIEwSYPCSsVVfSnkujQeTmMV3IL2skv6wRV42SIT39bToGR/nxytx+/OePXLoEufPRA0McGlSYMiQMk9nC0k3Z3Ht1FL27eFOvM9NoMCMIAvOu7cUXvx7n6805PDE9usW0l8vF01XNh/cPZvnvOQT6uPDU6fzKMwP0mAgvPrh/MCuSThLm58ayx4d12CDLxdBuDGFWVpbt/+Hh4XZ/tKCgID788MMm50iSxNq1a3n33XfZtm0bJlPzU1UX23leDpdy7fO9EWtraykvL6empgYAlUrVod+4rholSoUCo9mCpYXIm1G0YJHAVatEpWz99VEuGiUqhYDu9H2a1WC2RifdtEpUytb/e2nVZ59bS1PS1ukbCRet0q4mWWshCNYpYauG5qekzac1AHZTNjLOZdWqVdTX1wMwduxYVqxYYZtqzsjIaBMNvr6+3HXXXRdVduYMJSUlLFmyxLYgRqPRMGLECBISEoiIaCmVxbFEhnryf7faR7imDrWvbqAQBKYM6eQwDQOj/BgY5dfk8XPvOaZPEGP6NF2I5whUSgUzR3Vm5qjOtsc8XFU8OMUaRXTVKnl4ai+H3V8QrNHbV09HaM9w/fCz75Fh0QFNqjPINE+7MYTnrvK92Hy+N954g+eee862UjcwMJAuXbogSRLp6ekONYJneO211+yKuDaHn58fL774YpPnZTQa2bdvH8nJyWRlZSFJEp6enkyZMoUxY8bg4dFxE/O9XNWolQJ1OnOL06A1DSZEi4S7iwqVA4pCe7qq0agU6IwiOkPz06D1ejNGswU3rQq1g0ypm9YaBamoM7SowWCy4KpxjCEEbAtVKuqazzNrMJjRG0UU55hHGediNps5ceKE7feQkBDbwjWj0WiXQ3gugiDYDUaLi4uvSIebmxvx8fGXdE5tbS15eXl4eXkxevRoxowZg4+PXD9ORsaRtJueOzIy0pbjUlZWhiRJ542QZWdns3DhQpsZfO2113jyySdRqVTk5uYSHR2NwdD8F2hr4ufnh053/jIbPj4+ds+loKCAbdu2sXPnTtvoPSwsjISEBOLj422rkTsyEYFuuGlVFFfpqG002SUrn+FkqXUQ0T3EA20LC0+uBH9PDf5eWvLLG8kra6R3l6ZfSMWVegwmC5383fB0QGRMqRCICvNiX3a17fn+mYpaA/V6M706eeLj7pjoXHS4daqnJQ2VdUZqdWaCfV3x9dQ0e4xM63Exg12VSkXPnj3ZtGkTAGvXrmX+/PmEh4ezadMmuwLUoijaZlg8PDwIDAy0tX3//fdIkkRUVBRPP/10Kz+T5vHy8uK2225jyJAhcn8oI9NGtBtD2KNHD3bs2AHAjh07EEURlcoq7+jRo8yYMQOz2YxSqWT37t3s3r3b1oG5ubnx8MMP246/WMzmK09+v//++y/5nI8//pjy8nIEQSA2Npbx48cTExMj76l8Dt7uGnqGe1JYqWNnZkWTotCSJLH9SDkAQ3qcv2j55SIIAkN6+LEvu4rtR8ubFGQG2H7UqqF/d180DorOxff044eUPNIyKzCLlibT43tPVKE3ikSFeeLj4Rgz1r+7HyqlwMHcauoaTU3Mb1ZhHeU1eob09G9xJbJM2/O3v/2NH3/8kaKiIhoaGnjrrbdsbUql0lantbGxkZqaGkJCQlCpVEyaNIn169cD1sLSn3/+OUOGDGkzQxgcHHzZhbBlZGQuj3bjQG699VZbgvDmzZv56KOPqK2tJT8/nyeffJIjR46QlZWFi4sLarXaLpm4sbGRnTt3IkkSlZWVzJ8/3y46eG7x53PLM2RnZ7Nv3z4qKytbzD90BGq1mpEjR/LCCy/wyCOP0Lt3b9kMNsP04REoBPjq92xq/1TKJPlQGfuyqwj1c2W0A/NlJg8Jw0WtYHVqPqfKG+3asgrrWL+7EDetkqlDHZc3NLZPEP5eWv44WGqrB3iGiloD327NRSHAjaM6O2SXEoBBPfzoEuRORk41SYfsV6vqDGaW/noCiwTThnZqtRIXMldOXFwcq1atYtSoUbbHlEol06ZNY82aNba0lNLSUg4cOGA75q677mLevHl2pW3aW51Umb8ubbxLqsxp2o0LmThxItdeey1gNXCPPfYY3t7edO7c2W5q45lnnkGtVjN8+HC7nJKJEycSERFBYGCg3epjsI5wzxATE2OLJIqiyIgRI/D397fLtXE08+fPZ+7cuXTq1KlDLxy5EDNHdia2szc7Myu4+72dZJ6qRWcws25XAXf9awf1ejP3TIxsdjq5tRgXF8zYuGCyS6xFXvdkVaA3WTe5v+XNbZRU65kxMoJYB24gH9vZm5kjI6iqN3Lb29v5fV8xeqPIwZPV3PrPVA7l1Tg8kTzYx4X7ro7CLFp44KM0vks+SYPeTE5JPQ9+vJtNe4vp1cmTG0d3cZiGvzohISEcPnwYSZKQJInHHnvMrv2TTz6xtW3fvt2ubdSoUba26upqW0FrgKFDh5KUlERZWRkZGRlUVlayZs0apkyZQl1dHZIkYTabmTlzpu0cT09P3nvvPUpLS8nIyCA3N9dW21VGRuavSbsayn/++efU1NSwdevWJm1arZZFixZx4403IggCYWFhfP7559x+++3U19djsVhsO4aMHTuWQ4cOUV5unc4708kKgsCECRMYPXo0W7ZsacunZseV1D3sSHi7q1n8cDy3vLmN9bsLWb+7EJVSsC0yuS2hG49M6+mwqBhYq+D/696BzH5rG3uOVzH2md/tNFzVN5hFc/s5bLoYrFPXz8/qTW5JAxvTi7ju5SSUCsG2qrd3Z28+fGCww1f33jUxksxTtSz7LZu73t2J4nQJKAlrgdhP58UT5kBzLnP5CIJAQEAAAQEXv9pSEAS8vb3p27d1a8fJyMi0T9qVIQwMDOT3339n/fr1/PLLL+Tl5eHq6kqfPn2YPXs2kZGRdhG1GTNmMGjQIJYuXcrhw4fx9vZmxIgR3HbbbaxcuZKjR48C0K1bNywWC0qlEqVSyS+//MLnn3/Ojh07MBqNREVF2bbDk2mZETGBPHtTb/p2a7vVfv27+5L85gSW/57NtsPl6AxmugZ7MGNEBFf1C26xYHRr0jnInQ0vJ7Dij1x+31dCVb2R8AA3Jg0M5brh4Q41g2fw9dTyn/kjWbPjFOvSCiiq0hPs48Lo3oHMHte1TaZpXTVK3r1vENfGd2Jlaj4nSxrw9dAwuIcft4/v3uwexzIyMjKXSvuYN2sfKtqSdmUIwbqjx5QpU5gyZcpFHd+lSxdeeumlJo/ffPPNLZ7j4uLCvHnzmDdv3mXr7IiMjA1kZGzghQ9sZQK8tPx9egx/n97mt7bh4aLinklR3DMpymkaNCoFN47qzI3n1PxqaxQKgYkDQ5k4MNRpGmRkZGRkWp92k0MoIyMjIyMj4xwcvfOTTPtHNoQyMjIyMjIyMh0c2RDKyMjIyMjIyHRw2l0OoYyMjIyMjCNpaGgg80QeN6bmOlWHaLFQVmNg17FKp+qwWCRKa/TMeWv7hQ92pA5JoqRax/jnNjtVB0B1g5GFr9zqbBltimwIOxC/7SvmWGGd0+6fXVKPRq1watHR44V1+Hpo+feWXKdpSD9eSWmN3qkajuTVUFChc6qGqjojRlPH3a9bxnkIgkCYvztrHk8k0Ik76xRX6Zj+ShKrnx9LsK/zdFTUGrju5T9IeWui0zQA1DaamPDcZnb+a5JTdYiihXs+2E1YWJhTdbQ1siHsIMyePZv09HSKnKhh3Azrv87UMHo6SJJzNYT6QyjO1eDjD9MGOFcD/nDbxJ64u7s7U4WMjIyMDLIh7DBMmzaNadOmOVuGjIyMjIyMTDtENoQdhLq6OioqKpyqQafTodFo7PahbmsMBgOCINjt0drWmM1mBEFw6utgsVgwm81OfR3Aure4n5+fUzXIyMjIyMiGsMNw7733krvvtzbZVaMlTpY2EOzrgovaeUYor6wRjUpBiBPzdcprDRjNFqdu81bVYKS4UkdMhOP2YL4QEqDxj+LHtevx9naeDhkZGRkZ2RB2KF67vT/xvfyddv95n+xmWHQAc67q6jQNTyxJx8tVzYtz4pymYVVqPruyKll0ez+nafh1bxFLfz3BivmjnKYhu6ieF36ud9r9ZWRkZGTOItchlJGRkZGRkZHp4MiGUEZGRkZGRkamgyMbQhkZGRkZGRmZDo5sCGVkZGRkZGRkOjiyIZS5KHRGM0WVOoxmixM1iFYNJudpMJotFFXq0BnMTtNwhuoGI3llDZjFtn89LBaJ0mo91Q1GJMmZe8/IyMjIyLQG8ipjmfOyLq2A174/zP6cKiwSuGqUXDesEwvn9CU8wK1NNGzYU8ii/x4iI6ca0SLholEyNT6MhXP60iWobXa5SDtWwSsrDpJ8sAyTaEGlFBgXF8xLc+Lo1923TTScS22jiRteTaai1sCGl68ixLdtStgUVep4c+VhvkvKo6bRBEBMhBdP3RDDjBERqJTyGLMtMBqNZGZmcurUKQICAoiOjsbT07PZ487UH1Uqlfj7W6sMHD58mLy8PEJDQ4mJicHVte1LINXU1ODp6YlCIb9nZGTaAx3uk7hixQrbrh0PPfQQRqPR2ZLaLUt/PcFtb2/nYG41g3v4M3VoJzzd1KxIyuOaBVs4WdrgcA1fb85hzlupZORUMyDSl6lDO+Htrub7lHwmL9jCiSLH7828dX8J019JYktGCT07eXL98HDC/d34bV8x1y7cSuqRModrOBedUeTpL/eSltm2hcaLKnXc9HoKn284gZuLkqnxnRgU5UdWYR33vLeT99ZkYrHI0UJHYjKZWLx4Mb169aJv375MnjyZ+Ph4fH19mTVrFidPnrQ7Pi0tjbCwMMLCwhg2bBjr1q1j2LBh9O3bl2uvvZZBgwYRExPDhg0b2vy5rFmzhtdff50dO3a0+37YYBL51+qjTH5xKze/nsKB3Oomx0iSxC+7CnhvzVGH6TCLFhb/ksX0V5J48ot0ak8Pys7V+ep/DzL1pT94eule6nWmFq50ZYgWiSUbT3D9y0k8/tkeahqa3keSJLYeKGHRfw85RANYZyqWbcrm+peTmLd4N9UNzb+PTpY2cMub2xym469Ch4sQZmZm8tNPPwEQExODKIpOVtQ+OVZQy4J/70ehEPh0Xjw3jIhAoRCoqjdyxzvb+T2jhIXfHODTefEOK3Z9oqiOF77ejwB88tAQbh7TBYVCoLreyD3v72TDniJe/OYAXzw6FK2Dil1X1Rv5+5J06hpNvHBLHx6/Phq1SoHeKDL/y718uSmbZ5dlsHrBGHzcHb/rR3mtnsc/S2f1jlO0pfWSJIlX/3uIvSeqmDAghM8fGUqAlxZJghVJuTz+WTpvrzrCuL7BDIqSdx5xBEajkaeeeooPPvigyTS9KIp89913pKSk8PPPPzNgwIAm5xcUFHDLLbfQ2Nho9/jJkyd58MEH+eOPP4iIiLgsbRs3biQlJeW8x2g0Gm6//XY6d+5sd+8vv/yS1atXM2bMGEaNGoWXl9dlaXAkSQfL2JlZzo/PjWZ3VgVPL93LLy+NQxAEwJpK8vmG43yyLovrhoc7TMeuY5Xszqrg+3+MYtlvOXy87hjP3Njb1p56pJziKj2rnh/NP388yle/5/DQtT1bXce+7CqSDpbww7Oj+PaPk7y75igvzj5b29UsWvjq9xzeW5PJuL7BrX7/MxzKq2FDeiE/PDuKH7bl89bKI7w6176+q8Ek8o9l+zhW4Pjgwf86HS5CKHNxfLkpm+oGE7NGd2b68HAUCmvH5+uh4aMHhxDorWXNjlPkljiusPDyzTmU1xqYMSKCG0d1tmnw8dDw/t8GEebnyi+7CskqdNwH/aedBZwoqmdETCAPTumB+rT5ddEoWXR7f+K6+rD7eCXbDjs2SmgWLaxKzSfx2c2s2n4KT1c1KqXg0HueS+apOn7ZVYifh4ZXbutLgJcWAEGAW8Z25a6J3altNLNsU7acU+gg1q5dy+LFi22v77Bhw3j11Vd56KGHbDu9FBYW8sQTT1BX1/QzYTQaUSqV3HvvvbzxxhtMmjTJ1paTk3NFUcK6ujpKS0vP+1NWVobJdDaSNGvWLO6++2569epFTU0Na9as4fnnn+ebb76hsLDwsrU4giE9/Pjg/sG4aJT4eGgwi/bvcb1RJNBby8u39XWojs37i0noF4JKqeDqQaFsySixax8XF8S79w1CZxCpqjPg5+GYQermjHN0DAxl6357HSZRwlWj5J93Nx2YtK6OkvPqsEjWSGZCv2Dctc7bIet/hXYXISwsLOTjjz9m//79FBYWEhoaSnR0NH/729+IjIy0jcjOYDab+eGHH/jpp5/Izs5GoVAQGRnJpEmTmDVrFiqV9SmmpaXx5ZdfsmvXLtu5RUVFzJs3D41GwzvvvIOLi+O3MzMYDKxfv57hw4cTFBTU5Pm0ByRJ4vd9xQBMGxbeJC8sPMCNob0C+DmtgF/Ti+jZqfVH9FYN1g/31KGdbEbsDGH+bgyLDuDH1Hw27imiTxefVtcA1o5PtEhMHBiKh6vars3dRcXVg8LIyKnm57QCJg8Oc9jf86edBcx9ezsIcMOICG4a05l7309zyL2aIyOnitIaPWPjgogKa5qrNnlwJz5bf5ztmeWU1RgI8nHe1oB/RYxGI1988YVtanX48OGsX392y7/ExERmzZqFyWQiKSmJpKQkpkyZYncNrVbL4sWLmT17NgB33XUXiYmJ7N+/H4CsrKzL1jdjxgymT59+wePOzRfUarXEx8czZMgQSktLSU1NZceOHSQlJZGSkkJsbCyJiYlER0c7Pc/Q57Sxqqo38sqKQ8yb2tPus+7lpuam0V3YsNuxRrau0YyXm7UfUisFTH9aUCYIAnqDmWeXZ5B2rIK5id0coqO20URUqLUfUCmFJgbZVaNk9riupBwqdcj9z1DTaCTUz/r9o1QKmP+UspKRXcWhvBrevLM/y3/PcaiWvwLtyhB+//333HnnnTQ02Oem/fzzz7z33nu8+uqrPPHEE7bOoaCggGnTppGenm53fGpqKl9//TXvv/8+GzZswNfXl+PHj/PZZ59hsZz9AFVXV/PFF1+gVqt54403LssQpqen2416m8PT09PWqVksFrZu3cqGDRvo27cviYmJ9OjRw+kd3rnklzdSVKVHpRTo06X5PWb7d/Ph57QCDuTWYLFItuhda1FQoaOwotGqoWvzZq9/dx9+TM3n4MkaRIuEspU1GEwi+0/nCg2IbH7hSFxXHxQCnCiqp0FvbmIaWwuLJDGqdyBP3RDL2Lgg9p6odMh9WmJ3lvV+vTt7Nzs9Hx7gSoC3lsIKHeW1siFsbfLz8zlw4IDt9zvuuMNu/+eEhAQGDBhAWloaoiiSlpbWxBC6urrSs+fZ6UNfX19CQ0NthvBKonJX0n8JgkBwcDDTp0/n2muv5dChQ6SkpHDo0CEOHjzI3/72NwYOHHjZ128tCit0PPjxLmaN7sy0YY6bFj4fXu5q9CZrmpMogbKZ193dRcUH9w9m17EKnvkqg58WjG11Hd7uGpsOi0Sr9/8Xi4+7Bp3RqkOSQHGOSdcbRZ5Zto+EviEs35xLWa2BtTtOOe1v979AuzGEx44d46677rKZwR49ejBy5EgyMjLYu3cvJpOJZ555hj59+nDNNdcgSRK33HKLzQxqNBrGjRtHfX0927dvR5Ik0tLSeOqpp/j000/x8PCgW7duVFRUUF1t/ZJXq9V06tQJjUZz2R3aN998Q339+adNIyMjbaZPrVYTHx/Pzp07ycjIICMjg86dO5OQkMDgwYNRqx1jKC6F0mo9RrOFIG8XXFrIzQvzt65KLKzUYTBbOy0AYwAAExRJREFUcNW0bji+rEaP3mQh0Evb4rXD/FwRgOIqHXqjiLtL676dq+qNNOjNKBUCYX7Nr8L099LgolFSWq2nwSA6zBBOGxrO9cMjWt30Xiz55da8s4jA5leWe7tr8HBRc6pcR0WdoS2ldQjq6ups/ZZSqaR79+527V5eXoSFhdl+37NnzwWvKQiCXb937mD5UrmUNIHzRdH1ej3l5eVUVFRgsVhQKBQolc6f6iur0XP/hzt5fHoMVzkwJ+5C9Oniza5jFcwc2ZkjeTX0/tOA/YtfT2A0WXhgSg88XVWYHFSiK66LN79nlHDL2K4cya8htnPzgQNHE9fVhzU7TnF7IhzNryU24uxslUop8MDkHjQaRAwmEaUgOCzX/K9CuzGEv/76q81YDRgwgB07dqDRaDCbzQwdOpT09HQsFgurV69m0qRJHDp0iB07dtjOX7FiBddffz2CIPDcc8+xaNEiwLqS7f3337etLH7ppZdYuHAhAFFRUezZs+eKSi4kJiZecIWcn5+freNVqVTMnj2b6dOns2fPHlJSUsjNzWXZsmW2xOoxY8Y0W0KirWjQi4gWCXcXVYsGxFVrbdMZzYgOWFnaaBARRQuuWm2LpUxctSoUCgGdUXSYBpMo4aJRNJmyPoOLWolKqUBvsji0HmBL928rzqxm9GzB8GrVCtQq63ulQe/8Go1/Ncxms62f0Wg0aLVau3ZBEOwGk229anflypVs2rTpvMdotVoeffRRIiMj7R4XRZHjx4+TnJxMRkYGRqMRjUbDiBEjSEhIuOyFLq3Jl5uy2ZtdzfPLMwAI9XNlyaNDeezTPTwwpQdDewW0iY6EfiH8mJrPrf9MparOyCcPD8FgEnngo13cPTGSyYPDuOf9nWw7UkZZjYEFt/RxiI4xfYL4b3Iet/4zlfIaA4sfHkKD3syt/0zljTv7OySNqDlGxATw7dZcbv1nKqXVehY/HI/eKHLzG9t47Y5+XD/c+t6p15n4clM2kwaFtomu/1XajSE8d5q4qqqKsrIywsLCUKlUrFixgtJSay6Cj48PgiDQtWtXu3zAmJgY28gzMTGRN998E7PZTHl5OSUlJXTr5phcismTJ1/Wea6urowaNYpRo0Zx6tQptm3bRlpaGmvXrmXDhg2MHj2a6dOnOyViqDOasVgk1CoFLQ3m1Uprm8FkQXKAGTtj8jQqBS0FxdRKa5vRbHFIuRO90WpK1UpFi8ZYrRQcqqE9IElnTZ5W3bwxVSkUtukrvVFeud/auLq64u7uTnV1NTqdzhYtPMO59QYBW73BtsLT05OgoKDzHqPRaOz6s5qaGnbs2EFqairFxdacZS8vLyZMmMCYMWPw8XFMXvDl8PTMWJ6eGdvk8WV/H273+9WDw7h6cFiT41oLDxcVXz42jNpGE+4uKttgeeljw2zH/PTiWKrrjXi7axw2o+CqVfHFo0OpbTTh5qJCfVrHqufH2B03qncQo3qf/31xJWjVSj6bF2/VoVXZBs6rX7DX4eGqJunNCQ7T8Veh3RjCSZMmsXDhQvR6Pbm5ufTo0YOEhAQSEhIYP348w4cPt5ve8PT0pF+/foiiyPr16/nxxx85deoU5eXllJeX25WT0el0znhKF014eDizZs1i3LhxLF26lNzcXHbv3s21117rFEN4xuyZRUuLpU1EiwVJsq62dUT+iFqpQFAImEULLfkss3hag1rhGA0q63UN5zF7ZouERbIaJWdN5zoaQThrBP+cPH4G0WKxRWndtO2mW/nLEBwcTOfOnW1GcN26dUydOtXWnpOTw8GDB22/Dx48uE31TZo0yW7V8sWwevVqUlNTAejUqRMJCQkMGTKkSfRTxh5BEPA+T4krhSDg5+n41/BCOtqK9qLjr0C76bn79+/PkiVLeOihh6ipqUGn07Fu3TrWrVsHQN++fXn33XcZN+5s7addu3Zx6623cuzYMafp3rBhw0VNGQ8fPrzZXBhRFDl06BDJyckcOnQIURTx9PRk3LhxaDTOeZO7nZ4q1hvFFo2Q7nSbu7blaeUr0qBVolII6E0tmzG9SUSUJNy0KoeUYHHRWDUYTZYWp6QNp9tcNUpUTp7WdSRnciNbmg42ms9OmZ9ZBSnTevj7+zN58mTbApBvvvmGuLg4Zs+eTXFxMU888YRtFiUoKOiSzZkzUCgUtpXEMTEx7SJXUEamI9NuDCHAnDlzSEhIYNmyZfz000+2FXMA+/fv55prrmHLli0MHz6coqIiZsyYwalTpwAYNGgQ9913HxERERw5coSnn366TYpOb9q06aIWlQwdOtSuwysvLyc1NZXt27dTWWldwRkWFkZCQgLx8fFOHSWH+rqgVSsorzW0uHdxcZUeCfD31Dgkvy3YxwUXjZKKWgMGU/N/x+IqPZJkrY3oiOLYgV5a3FxUFFXpKa81NFtupareiN4o4uOuaXEBzl+BLkHWxSSFlc1H22saTTTozbi7qPBo5cU9MtYoyMMPP8zatWs5fPgw9fX1PPzwwzz88MN2xykUCh566CF69+7dwpXaDzNnznTKlnkyMjLN02567jOr1EJCQnjmmWf4xz/+QVVVFatXr+bpp5+mvLwcg8HAhx9+SHx8PJs3b7aVSfD29mbjxo22vBkPDw8UCkWbGMI5c+ZcVNmZM2bQZDKxZMkS9u/fj8ViQRAE2yg5Nja2XZSfCQ9ww8tNzcnSRnJLGprdJ/fQyRoA+kf6OiRCGObvio+7mrIaAzklDUQENt2z2Kahu69D9tB10SiJDPHgRFE9h/JqGBbdNHH86KlaRItEr06eeLq2m49Tq9M7wrqKMPNULaJoQfmn17u4UkdFnZGIADe55IyD6NSpE99////t3X9U1fUdx/Hn/QHcEFC6yK8QQQWDBBXNjoykHFlmek6hDaPjcnVsdpqn4xnqLBdrm8ej2cntj515oloqsbJtcqaZLn8N9ZyJllohQxE0BUFARL0gl3v3h8WirA0Mvhe/r8d/wIX7uhwO93W+38/n/XmXOXPmXHcXcUBAAHl5eSxevNgn55t+ncqgiG/xmXewESNGUFlZCUBBQQFz584lNDSUuXPnUlZWxqpVqwCor6/H6/Vy/PjxzjEJTqeTAQP+WxiOHTv2rWXwq4Wrvr7+hktjd+djud1uysvLsdlsTJw4kcmTJ3Pbbbf51D9wu83KD8dE8vq2SraUnmVCorPLGr2Gljb2ldVjs1r4QfLgXsuQNSaSirPH2XLgLBnJg7tkaGppY28vZwCYkhbFto9q2f5RDY/fG9dlbMFVt4dth2oAmJTim0PGvy93jnQSGuTPx5VNnD7vIi6ia0HfdbSOy61uRg0diDNEa8B6S3JyMiUlJWzevJnt27dz5swZHA4Hd9xxB48++ijJyV03PsTGxvLiiy8C4HA4uoymsVgs5ObmMmHCBABSUlIQEfPymUI4ffp01qxZA8Dzzz+PzWZj9OjRnDx5kqKios7HpaWlYbPZGDlyZOeg58rKSp566ikmTZrEwYMHefPNN7vM1PrqppLY2NjO7zt//jy5ubkMHTqUpUuXEhkZ2euv02azMW3aNCZMmNBlsKyvyZkUR9Huagq2neCelHDuTY3AYrHQ1t7BC28d4Wyjiyljo0ge0nuvYVbGUNbvrOKtHSe5JzWC+9MisVgsXG3vIL/wKKfqLnNPagSp8b23G3Hq+Ghe+dsxth2qZf3OKp7IGobNasHj8bJmUzkHKhq5PSaErDG9/7djpOQhA5l4exhbSs/ym6JPeHVeWue6wpJP6/jDlgoC/Kw8OWX4Tbu5xlc4HA6ys7PJzs7+n4+NjY3tHLP1dV8WQhER8KFCuGzZMnbt2sXhw4epra3liSee+MZjkpKSWLhwIRaLhRkzZpCWlkZpaSlwbZH1hg0bAL6xOPnLkQYAmZmZBAcH09x87XZjcXExAM8880yfFEJ/f3/uu8/3t7+nJ4Xx46xh/HFLBbNX7mPandEMDR/AjsO1HDreRPggB/m5KTi6M5C6mz1hwkgnP5kynN8XlzNn9T4eHB9NfGQQu46co/R4I2EhAeTnpnRrV2t3q8rQ8AEsyk5m0esf8fPXDrG19Cwp8aGU/ruBPZ/W4W+3kp+bwuCBN/dtUj+7lWWzR3HoRCNFe6o59vlFJo+OoLbJxd//dYaLV9wsmJHIXde5rf5dVB1FRHyD8QvWvuB0Otm9ezd5eXkMHtz1FmBwcDALFy5kx44dnbOuAgMD2bRpE4899liX28CjRo2ipKSE2NjYzs99+OGHnVcM4+LiKCgo6FL+rFarT6zd8zXL54zm+ZxR2K0W3vnnKVa9V8bB402kJ4Xx7tIMUr7lSLlv05M3//zcFPJzUwjws7Fx72lWvVfGgYpG7hrp5J0lGaQNv7UHP7V7npwyjN/9dBzhgxy8f7CGlRs/Y8eRc4yICuZPCyfy4J29N3fMl6TEDeLdX2Rw10gnh0828cpfj1G4qxqb1cKvclN4IWdUtzf33JyTG0VE+h+fuUII1zaHrFy5kuXLl1NdXU1TUxORkZFERUVddyRBdHQ0GzZsYO3atZw4cYKIiAjCw6+t5aqurv7W58nOzmbGjBlUVVXR1tbGsGHDtMD5OvzsVhbPTOZn0xP57FQzrVc7iIsIIvrWW3o2968H7/5+NisLH05i/oMJfHb6Iq42941l6AGLxcLj98bzo7uHcuzzizRdukpMWCCxgwN7ZTPL/2N8gpOz6x7u8+cdO/xW/vHbyVTXXeZU/RVCg/wZHhlEoHYWi4j0az75X9xut3/jeKPvMmDAAFJTU7v1HH5+fiQkJHQ3mikFBtgZn3DjJx/cyNWgWwLsjBtx41cDbySDn93a7auiNyOLxUJcRBBxEUFGRxERke+J7pOKiIiImJxPXiEUERHpTRdd7by6qZwBBi53uNTazrkLrawpLjd0oPuVNje1Ta0s//OnhmUAaGvvoK7Z+Bwer5ey082GZjCCCqGIiJhKSEgIS3/5a+rr6w3N4fF4GHJ3I8HBwYaeTuXxeLgto5GQkBDDjkyFawdULEpvMPz3AXD7NAvp6emGZuhrKoQiImIq/v7+TJs2zegYIj7F4v3yzDi5qeXk5NB+eh+3BBh33u6RyibCBjqIdhq3o/uTqgsAjDJwc8ipustcuNzeqwO1/5eaRhcVZ1qYlBJuWAZXWwcX7DH8pfh9nx7SLiJiBiqEJrF//37Ky8sNzdDS0oKfnx8Oh3FDnF0uFx6Pp8tRh32tra0Nt9ttaIb29nZaW1sJDg42LANAfHw8GRkZ1x0rJSIifUeFUERERMTkNHZGRERExORUCEVERERMToVQRERExORUCEVERERMToVQRERExORUCEVERERMToVQRERExORUCEVERERMToVQRERExORUCEVERERMToVQRERExORUCEVERERMToVQRERExORUCEVERERMToVQRERExORUCEVERERMToVQRERExORUCEVERERMToVQRERExORUCEVERERMToVQRERExOT6dSF0u93U1tbi9XoBaGho4MqVKwC0trZSX1/f+TWRnnK5XJw/f77z45qaGtxuNwDNzc1cvHjRqGgiIiLfi35bCN1uN1OnTiUqKooVK1awdetWYmJiGDFiBCdOnCA9PZ3w8HAKCwuNjir92Llz58jMzCQiIoL169ezbNkyhgwZwsyZM9mzZw+JiYnEx8dz9OhRo6OKiIj0WL8thBUVFezZsweA/fv3s27dOlpbW6mpqaGwsLDzDXrv3r14PB4jo0o/VlpayuHDh/F4POzcuZOioiI6Ojo4evQo69ato66ujsbGRsrKyoyOKiIi0mN2owP0VEJCAmPHjqWxsZGXXnqJiooKtm7dypw5c3j66acpLCwkKCiIRYsWYbX2294rBhs9ejRJSUkEBgaydOlSQkJCePvtt8nPzycmJobNmzeTlZXFAw88YHRUERGRHrN4tchORES+cODAAd544w1ycnJITU3l5ZdfJiwsjPnz51NcXExJSQnPPfcc8fHxRkeVHvJ6vXzwwQcUFxfz7LPPEhoayooVKxg3bhyzZ89m7dq1nD59msWLFxMaGmp0XOkj/fYKoYiIfL8aGhqYN28eH3/8Mfv27SMrK4vVq1cTEBCA1WplyZIluFwuLl++zGuvvWZ0XOmhuro6Zs2axaVLl6iqqiI0NJTCwkIGDRpEc3MzCxYsAMDpdJKXl2dwWukrupcqIiIAtLW1dU5qSE1N5erVqwBERkbidDrxeDzY7XbGjx9vZEy5QS0tLXR0dGC1Whk3blznpITY2FgCAwMBcDgcjBkzxsiY0sd0hVBERACIjo6moKCAiooKZs6cicvlIjExkaysLIYPH47D4cBut/PQQw8ZHVVuQHx8PBs3bqS5uZlZs2ZRVVXF/fffzyOPPILT6cTr9ZKQkEBmZqbRUaUPaQ2hiIiIiMnplrGIiIiIyakQioiIiJicCqGIiIiIyakQioiIiJicCqGIiIiIyakQioiIiJicCqGIiIiIyakQioiIiJicCqGIiIiIyakQioiIiJjcfwCDhYEIaLl2IQAAAABJRU5ErkJggg==)"
      ],
      "metadata": {
        "id": "dgOOrsB-6SIW"
      }
    },
    {
      "cell_type": "markdown",
      "source": [
        "Podemos utilizar uma camada [Embedding](https://www.tensorflow.org/api_docs/python/tf/keras/layers/Embedding), que possui pesos inicializados aleatoriamente e que são ajustados durante o treinamento via backpropagation.\n",
        "\n",
        "No exemplo abaixo, vamos criar um embedding que gera vetores de 16 dimensões:"
      ],
      "metadata": {
        "id": "8YycAUa_6f1N"
      }
    },
    {
      "cell_type": "code",
      "source": [
        "n = 16\n",
        "\n",
        "embedding_model = Sequential()\n",
        "embedding_model.add(Embedding(input_dim=4,output_dim = n))"
      ],
      "metadata": {
        "id": "7hktOGWa6f-s"
      },
      "execution_count": 23,
      "outputs": []
    },
    {
      "cell_type": "markdown",
      "source": [
        "Veja como a predição ocorre para um vetor de entrada de quatro dimensões:"
      ],
      "metadata": {
        "id": "B4WPCs-c7b2Z"
      }
    },
    {
      "cell_type": "code",
      "source": [
        "preds = embedding_model.predict([3,2,1,0])\n",
        "print(preds[0])"
      ],
      "metadata": {
        "colab": {
          "base_uri": "https://localhost:8080/"
        },
        "id": "Kj1cnf9r7Q3q",
        "outputId": "f8442f2b-9942-4fc0-dba9-b8da23bf753f"
      },
      "execution_count": 24,
      "outputs": [
        {
          "output_type": "stream",
          "name": "stderr",
          "text": [
            "WARNING:tensorflow:Model was constructed with shape (None, None) for input KerasTensor(type_spec=TensorSpec(shape=(None, None), dtype=tf.float32, name='embedding_input'), name='embedding_input', description=\"created by layer 'embedding_input'\"), but it was called on an input with incompatible shape (None,).\n"
          ]
        },
        {
          "output_type": "stream",
          "name": "stdout",
          "text": [
            "[-0.03864362 -0.04529636  0.04939267 -0.02361571 -0.03147876 -0.03723043\n",
            "  0.02308575 -0.03452451  0.02151182 -0.02179698  0.02911809  0.03318897\n",
            " -0.01687638 -0.02128334  0.02566791 -0.00675777]\n"
          ]
        }
      ]
    },
    {
      "cell_type": "markdown",
      "source": [
        "Voltando para o problema de classificação de polaridade de tweets, vamos gerar embeddings de dimensão 32:"
      ],
      "metadata": {
        "id": "XfMq0CjK8nEV"
      }
    },
    {
      "cell_type": "code",
      "source": [
        "n = 32"
      ],
      "metadata": {
        "id": "GrZxojkR8tIM"
      },
      "execution_count": 25,
      "outputs": []
    },
    {
      "cell_type": "markdown",
      "source": [
        "Agora vamos implementar a arquitetura da nossa rede:\n",
        "\n",
        "\n",
        "\n",
        "*   Camada [Conv1D](https://www.tensorflow.org/api_docs/python/tf/keras/layers/Conv1D):\n",
        "\n",
        "\n",
        "\n"
      ],
      "metadata": {
        "id": "qbhmrsUK87WL"
      }
    },
    {
      "cell_type": "markdown",
      "source": [
        "*   Camada [MaxPooling1D](https://www.tensorflow.org/api_docs/python/tf/keras/layers/GlobalMaxPool1D) ou [AveragePooling1D](https://www.tensorflow.org/api_docs/python/tf/keras/layers/GlobalAveragePooling1D): funciona da mesma maneira que as camadas Max Pooling 2D, reduzindo a dimensão dos vetores conforme o parâmetro de stride"
      ],
      "metadata": {
        "id": "InCD8br5pu5E"
      }
    },
    {
      "cell_type": "markdown",
      "source": [],
      "metadata": {
        "id": "kh8fV2jUpvCi"
      }
    },
    {
      "cell_type": "markdown",
      "source": [
        "*   Camada [GlobalMaxPooling1D](https://www.tensorflow.org/api_docs/python/tf/keras/layers/GlobalMaxPool1D) ou [GlobalAveragePooling1D](https://www.tensorflow.org/api_docs/python/tf/keras/layers/GlobalAveragePooling1D): funciona da mesma maneira que as camadas "
      ],
      "metadata": {
        "id": "kV4J0qJipvKC"
      }
    },
    {
      "cell_type": "code",
      "source": [
        "model = Sequential()\n",
        "model.add(Embedding(vocab_size, output_dim = n, input_length=max_length))\n",
        "model.add(Conv1D(filters=128, kernel_size=11, strides=1))\n",
        "model.add(Activation('relu'))\n",
        "model.add(GlobalMaxPooling1D())\n",
        "model.add(Dense(256))\n",
        "model.add(Activation('relu'))\n",
        "model.add(Dense(128))\n",
        "model.add(Activation('relu'))\n",
        "model.add(Dense(3, activation='softmax'))\n",
        "model.summary()"
      ],
      "metadata": {
        "id": "lFnqMSwQR-C9",
        "colab": {
          "base_uri": "https://localhost:8080/"
        },
        "outputId": "5cfe0c33-01e3-4577-e1ea-6544c5f6ecbf"
      },
      "execution_count": 26,
      "outputs": [
        {
          "output_type": "stream",
          "name": "stdout",
          "text": [
            "Model: \"sequential_1\"\n",
            "_________________________________________________________________\n",
            " Layer (type)                Output Shape              Param #   \n",
            "=================================================================\n",
            " embedding_1 (Embedding)     (None, 32, 32)            1161472   \n",
            "                                                                 \n",
            " conv1d (Conv1D)             (None, 22, 128)           45184     \n",
            "                                                                 \n",
            " activation (Activation)     (None, 22, 128)           0         \n",
            "                                                                 \n",
            " global_max_pooling1d (Globa  (None, 128)              0         \n",
            " lMaxPooling1D)                                                  \n",
            "                                                                 \n",
            " dense (Dense)               (None, 256)               33024     \n",
            "                                                                 \n",
            " activation_1 (Activation)   (None, 256)               0         \n",
            "                                                                 \n",
            " dense_1 (Dense)             (None, 128)               32896     \n",
            "                                                                 \n",
            " activation_2 (Activation)   (None, 128)               0         \n",
            "                                                                 \n",
            " dense_2 (Dense)             (None, 3)                 387       \n",
            "                                                                 \n",
            "=================================================================\n",
            "Total params: 1,272,963\n",
            "Trainable params: 1,272,963\n",
            "Non-trainable params: 0\n",
            "_________________________________________________________________\n"
          ]
        }
      ]
    },
    {
      "cell_type": "code",
      "source": [
        "sgd = SGD(learning_rate=0.01)\n",
        "model.compile(loss=\"categorical_crossentropy\",optimizer=sgd,metrics=['accuracy'])\n",
        "history_fine = model.fit(train_padded,y_train,validation_data=(valid_padded,y_valid),epochs=30)"
      ],
      "metadata": {
        "id": "NVCoUJfAZ21I",
        "colab": {
          "base_uri": "https://localhost:8080/"
        },
        "outputId": "52d846b6-bab2-4b5f-bf1c-0d378e52f5e7"
      },
      "execution_count": 27,
      "outputs": [
        {
          "output_type": "stream",
          "name": "stdout",
          "text": [
            "Epoch 1/30\n",
            "303/303 [==============================] - 4s 11ms/step - loss: 1.0296 - accuracy: 0.4736 - val_loss: 1.0566 - val_accuracy: 0.4468\n",
            "Epoch 2/30\n",
            "303/303 [==============================] - 5s 15ms/step - loss: 1.0073 - accuracy: 0.4736 - val_loss: 1.0620 - val_accuracy: 0.4468\n",
            "Epoch 3/30\n",
            "303/303 [==============================] - 5s 16ms/step - loss: 1.0065 - accuracy: 0.4736 - val_loss: 1.0640 - val_accuracy: 0.4468\n",
            "Epoch 4/30\n",
            "303/303 [==============================] - 5s 17ms/step - loss: 1.0063 - accuracy: 0.4736 - val_loss: 1.0655 - val_accuracy: 0.4468\n",
            "Epoch 5/30\n",
            "303/303 [==============================] - 5s 16ms/step - loss: 1.0061 - accuracy: 0.4736 - val_loss: 1.0644 - val_accuracy: 0.4468\n",
            "Epoch 6/30\n",
            "303/303 [==============================] - 5s 17ms/step - loss: 1.0056 - accuracy: 0.4736 - val_loss: 1.0632 - val_accuracy: 0.4468\n",
            "Epoch 7/30\n",
            "303/303 [==============================] - 5s 16ms/step - loss: 1.0052 - accuracy: 0.4736 - val_loss: 1.0632 - val_accuracy: 0.4468\n",
            "Epoch 8/30\n",
            "303/303 [==============================] - 4s 13ms/step - loss: 1.0045 - accuracy: 0.4736 - val_loss: 1.0629 - val_accuracy: 0.4468\n",
            "Epoch 9/30\n",
            "303/303 [==============================] - 3s 10ms/step - loss: 1.0037 - accuracy: 0.4736 - val_loss: 1.0614 - val_accuracy: 0.4468\n",
            "Epoch 10/30\n",
            "303/303 [==============================] - 3s 10ms/step - loss: 1.0028 - accuracy: 0.4736 - val_loss: 1.0602 - val_accuracy: 0.4468\n",
            "Epoch 11/30\n",
            "303/303 [==============================] - 3s 10ms/step - loss: 1.0014 - accuracy: 0.4736 - val_loss: 1.0603 - val_accuracy: 0.4468\n",
            "Epoch 12/30\n",
            "303/303 [==============================] - 3s 10ms/step - loss: 0.9999 - accuracy: 0.4736 - val_loss: 1.0597 - val_accuracy: 0.4468\n",
            "Epoch 13/30\n",
            "303/303 [==============================] - 3s 10ms/step - loss: 0.9977 - accuracy: 0.4736 - val_loss: 1.0588 - val_accuracy: 0.4468\n",
            "Epoch 14/30\n",
            "303/303 [==============================] - 3s 10ms/step - loss: 0.9951 - accuracy: 0.4736 - val_loss: 1.0563 - val_accuracy: 0.4468\n",
            "Epoch 15/30\n",
            "303/303 [==============================] - 3s 10ms/step - loss: 0.9927 - accuracy: 0.4735 - val_loss: 1.0572 - val_accuracy: 0.4468\n",
            "Epoch 16/30\n",
            "303/303 [==============================] - 3s 10ms/step - loss: 0.9904 - accuracy: 0.4740 - val_loss: 1.0552 - val_accuracy: 0.4468\n",
            "Epoch 17/30\n",
            "303/303 [==============================] - 3s 10ms/step - loss: 0.9882 - accuracy: 0.4808 - val_loss: 1.0573 - val_accuracy: 0.4510\n",
            "Epoch 18/30\n",
            "303/303 [==============================] - 3s 10ms/step - loss: 0.9869 - accuracy: 0.4869 - val_loss: 1.0572 - val_accuracy: 0.4474\n",
            "Epoch 19/30\n",
            "303/303 [==============================] - 3s 9ms/step - loss: 0.9857 - accuracy: 0.4958 - val_loss: 1.0564 - val_accuracy: 0.4643\n",
            "Epoch 20/30\n",
            "303/303 [==============================] - 3s 10ms/step - loss: 0.9845 - accuracy: 0.5107 - val_loss: 1.0571 - val_accuracy: 0.4595\n",
            "Epoch 21/30\n",
            "303/303 [==============================] - 3s 9ms/step - loss: 0.9835 - accuracy: 0.5106 - val_loss: 1.0561 - val_accuracy: 0.4571\n",
            "Epoch 22/30\n",
            "303/303 [==============================] - 3s 9ms/step - loss: 0.9821 - accuracy: 0.5132 - val_loss: 1.0554 - val_accuracy: 0.4498\n",
            "Epoch 23/30\n",
            "303/303 [==============================] - 3s 9ms/step - loss: 0.9809 - accuracy: 0.5192 - val_loss: 1.0527 - val_accuracy: 0.4589\n",
            "Epoch 24/30\n",
            "303/303 [==============================] - 3s 9ms/step - loss: 0.9794 - accuracy: 0.5240 - val_loss: 1.0518 - val_accuracy: 0.4680\n",
            "Epoch 25/30\n",
            "303/303 [==============================] - 3s 9ms/step - loss: 0.9779 - accuracy: 0.5252 - val_loss: 1.0534 - val_accuracy: 0.4613\n",
            "Epoch 26/30\n",
            "303/303 [==============================] - 3s 9ms/step - loss: 0.9762 - accuracy: 0.5284 - val_loss: 1.0493 - val_accuracy: 0.4680\n",
            "Epoch 27/30\n",
            "303/303 [==============================] - 3s 10ms/step - loss: 0.9740 - accuracy: 0.5291 - val_loss: 1.0472 - val_accuracy: 0.4655\n",
            "Epoch 28/30\n",
            "303/303 [==============================] - 3s 10ms/step - loss: 0.9716 - accuracy: 0.5331 - val_loss: 1.0458 - val_accuracy: 0.4680\n",
            "Epoch 29/30\n",
            "303/303 [==============================] - 3s 10ms/step - loss: 0.9687 - accuracy: 0.5344 - val_loss: 1.0453 - val_accuracy: 0.4704\n",
            "Epoch 30/30\n",
            "303/303 [==============================] - 3s 9ms/step - loss: 0.9659 - accuracy: 0.5378 - val_loss: 1.0456 - val_accuracy: 0.4825\n"
          ]
        }
      ]
    },
    {
      "cell_type": "code",
      "source": [
        "plt.plot(history_fine.history['loss'])\n",
        "plt.plot(history_fine.history['val_loss'])\n",
        "plt.title('model loss')\n",
        "plt.ylabel('loss')\n",
        "plt.xlabel('epoch')\n",
        "plt.legend(['training set','validation set'], loc='upper left')\n",
        "plt.show()"
      ],
      "metadata": {
        "id": "OJHj7NfRfJrS",
        "colab": {
          "base_uri": "https://localhost:8080/",
          "height": 295
        },
        "outputId": "13f50a65-9ff3-4e3d-9669-9b701830f60e"
      },
      "execution_count": 28,
      "outputs": [
        {
          "output_type": "display_data",
          "data": {
            "text/plain": [
              "<Figure size 432x288 with 1 Axes>"
            ],
            "image/png": "[encoded data removed]"
          },
          "metadata": {
            "needs_background": "light"
          }
        }
      ]
    },
    {
      "cell_type": "code",
      "source": [
        "plt.plot(history_fine.history['accuracy'])\n",
        "plt.plot(history_fine.history['val_accuracy'])\n",
        "plt.title('model accuracy')\n",
        "plt.ylabel('accuracy')\n",
        "plt.xlabel('epoch')\n",
        "plt.legend(['training set','validation set'], loc='upper left')\n",
        "plt.show()"
      ],
      "metadata": {
        "id": "cUKzQDzCgdVX",
        "colab": {
          "base_uri": "https://localhost:8080/",
          "height": 295
        },
        "outputId": "f71a6a96-0ccf-4555-b015-f2aed7800a47"
      },
      "execution_count": 29,
      "outputs": [
        {
          "output_type": "display_data",
          "data": {
            "text/plain": [
              "<Figure size 432x288 with 1 Axes>"
            ],
            "image/png": "[encoded data removed]"
          },
          "metadata": {
            "needs_background": "light"
          }
        }
      ]
    },
    {
      "cell_type": "markdown",
      "source": [
        "Avaliação com os Dados de Teste"
      ],
      "metadata": {
        "id": "QP7yxTEPg1Nv"
      }
    },
    {
      "cell_type": "code",
      "source": [
        "y_prob = model.predict(test_padded)\n",
        "y_pred = np.argmax(y_prob,axis=1)"
      ],
      "metadata": {
        "id": "yM-hXxVtg4J2"
      },
      "execution_count": 30,
      "outputs": []
    },
    {
      "cell_type": "code",
      "source": [
        "print(classification_report(y_test_int,y_pred))"
      ],
      "metadata": {
        "id": "u42IOHfzlCnM",
        "colab": {
          "base_uri": "https://localhost:8080/"
        },
        "outputId": "ca5257e3-aacb-4617-a227-ebc4a9b220bb"
      },
      "execution_count": 31,
      "outputs": [
        {
          "output_type": "stream",
          "name": "stdout",
          "text": [
            "              precision    recall  f1-score   support\n",
            "\n",
            "           0       0.00      0.00      0.00       559\n",
            "           1       0.48      0.85      0.61      1513\n",
            "           2       0.53      0.31      0.39      1475\n",
            "\n",
            "    accuracy                           0.49      3547\n",
            "   macro avg       0.34      0.39      0.33      3547\n",
            "weighted avg       0.42      0.49      0.42      3547\n",
            "\n"
          ]
        },
        {
          "output_type": "stream",
          "name": "stderr",
          "text": [
            "/usr/local/lib/python3.7/dist-packages/sklearn/metrics/_classification.py:1318: UndefinedMetricWarning: Precision and F-score are ill-defined and being set to 0.0 in labels with no predicted samples. Use `zero_division` parameter to control this behavior.\n",
            "  _warn_prf(average, modifier, msg_start, len(result))\n",
            "/usr/local/lib/python3.7/dist-packages/sklearn/metrics/_classification.py:1318: UndefinedMetricWarning: Precision and F-score are ill-defined and being set to 0.0 in labels with no predicted samples. Use `zero_division` parameter to control this behavior.\n",
            "  _warn_prf(average, modifier, msg_start, len(result))\n",
            "/usr/local/lib/python3.7/dist-packages/sklearn/metrics/_classification.py:1318: UndefinedMetricWarning: Precision and F-score are ill-defined and being set to 0.0 in labels with no predicted samples. Use `zero_division` parameter to control this behavior.\n",
            "  _warn_prf(average, modifier, msg_start, len(result))\n"
          ]
        }
      ]
    }
  ]
}