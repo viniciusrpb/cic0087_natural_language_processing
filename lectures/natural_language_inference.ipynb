{
  "nbformat": 4,
  "nbformat_minor": 0,
  "metadata": {
    "colab": {
      "provenance": [],
      "collapsed_sections": [],
      "authorship_tag": "ABX9TyNBFLRR7F0vswjLRwu5fqGl",
      "include_colab_link": true
    },
    "kernelspec": {
      "name": "python3",
      "display_name": "Python 3"
    },
    "language_info": {
      "name": "python"
    },
    "accelerator": "GPU",
    "gpuClass": "standard"
  },
  "cells": [
    {
      "cell_type": "markdown",
      "metadata": {
        "id": "view-in-github",
        "colab_type": "text"
      },
      "source": [
        "<a href=\"https://colab.research.google.com/github/viniciusrpb/cic0269_natural_language_processing/blob/main/lectures/natural_language_inference.ipynb\" target=\"_parent\"><img src=\"https://colab.research.google.com/assets/colab-badge.svg\" alt=\"Open In Colab\"/></a>"
      ]
    },
    {
      "cell_type": "markdown",
      "source": [
        "# Capítulo 12 - Redes Neurais Recorrentes\n",
        "\n",
        "### Aplicação: Inferência de Linguagem Natural\n",
        "\n",
        "Script que realiza a inferência de linguagem natural por meio de uma tarefa de classificação. Utilizam-se modelos de linguagem baseados em redes neurais recorrentes.\n",
        "\n",
        "O dataset pode ser coletado no repositório do GitHub da disciplina ou no endereço a seguir:\n",
        "\n",
        "https://www.tensorflow.org/datasets/catalog/snli\n",
        "\n",
        "Adotaremos a segunda opção:"
      ],
      "metadata": {
        "id": "_3lXt1cRsWow"
      }
    },
    {
      "cell_type": "code",
      "source": [
        "!pip install tensorflow-datasets\n",
        "!pip install keras\n",
        "!pip install tensorflow"
      ],
      "metadata": {
        "id": "MHBH1ZeRZUDU"
      },
      "execution_count": null,
      "outputs": []
    },
    {
      "cell_type": "code",
      "source": [
        "import matplotlib.pyplot as plt\n",
        "import numpy as np\n",
        "import tensorflow as tf\n",
        "import tensorflow_datasets as tfds\n",
        "import pandas as pd\n",
        "from tensorflow.keras.optimizers import SGD\n",
        "from tensorflow.keras.preprocessing.text import Tokenizer\n",
        "from tensorflow.keras.preprocessing.sequence import pad_sequences\n",
        "from keras.models import Sequential\n",
        "from keras.layers import Dense,Activation,Embedding,SimpleRNN,Dropout\n",
        "from keras.utils.np_utils import to_categorical"
      ],
      "metadata": {
        "id": "et5kXlmYZ0HJ"
      },
      "execution_count": 43,
      "outputs": []
    },
    {
      "cell_type": "markdown",
      "source": [
        "Como o conjunto de treinamento é muito grande, vamos utilizar 50% de seu tamanho. Se os resultados de classificação não ajudarem, você pode aumentar esse tamanho..."
      ],
      "metadata": {
        "id": "zkmVdV_gtOld"
      }
    },
    {
      "cell_type": "code",
      "source": [
        "ds_train = tfds.load('snli', split='train[50%:]', shuffle_files=True)\n",
        "ds_valid = tfds.load('snli', split='validation', shuffle_files=False)\n",
        "ds_test = tfds.load('snli', split='test', shuffle_files=False)"
      ],
      "metadata": {
        "id": "9e1m4OxBZZax"
      },
      "execution_count": 33,
      "outputs": []
    },
    {
      "cell_type": "code",
      "source": [
        "df_train = tfds.as_dataframe(ds_train)\n",
        "df_valid = tfds.as_dataframe(ds_valid)\n",
        "df_test = tfds.as_dataframe(ds_test)"
      ],
      "metadata": {
        "id": "yg7wUCO7fbxD"
      },
      "execution_count": 34,
      "outputs": []
    },
    {
      "cell_type": "code",
      "source": [
        "df_train.head()"
      ],
      "metadata": {
        "colab": {
          "base_uri": "https://localhost:8080/",
          "height": 206
        },
        "id": "s21y73d5ftWd",
        "outputId": "f19d12f3-d712-4b5d-f98d-a4cd9599554a"
      },
      "execution_count": 35,
      "outputs": [
        {
          "output_type": "execute_result",
          "data": {
            "text/plain": [
              "                                       hypothesis  label  \\\n",
              "0                          b'A child reaches up.'      0   \n",
              "1                     b'A person with a backpack'      0   \n",
              "2         b'A man holding a hard hat is running.'      0   \n",
              "3  b'A female in weird clothing holding a glass.'      0   \n",
              "4                            b'There are bikers.'      0   \n",
              "\n",
              "                                             premise  \n",
              "0  b'a child reaches up into the air as a woman s...  \n",
              "1  b'A young woman wearing a backpack takes the b...  \n",
              "2  b'A man holding a hard hat runs across a street.'  \n",
              "3   b'Woman wearing a costume, drinking a beverage.'  \n",
              "4  b'A group of bikers head out the gates in a Lo...  "
            ],
            "text/html": [
              "\n",
              "  <div id=\"df-d8279d6d-a7d8-41f4-8a42-0654b4e8cd11\">\n",
              "    <div class=\"colab-df-container\">\n",
              "      <div>\n",
              "<style scoped>\n",
              "    .dataframe tbody tr th:only-of-type {\n",
              "        vertical-align: middle;\n",
              "    }\n",
              "\n",
              "    .dataframe tbody tr th {\n",
              "        vertical-align: top;\n",
              "    }\n",
              "\n",
              "    .dataframe thead th {\n",
              "        text-align: right;\n",
              "    }\n",
              "</style>\n",
              "<table border=\"1\" class=\"dataframe\">\n",
              "  <thead>\n",
              "    <tr style=\"text-align: right;\">\n",
              "      <th></th>\n",
              "      <th>hypothesis</th>\n",
              "      <th>label</th>\n",
              "      <th>premise</th>\n",
              "    </tr>\n",
              "  </thead>\n",
              "  <tbody>\n",
              "    <tr>\n",
              "      <th>0</th>\n",
              "      <td>b'A child reaches up.'</td>\n",
              "      <td>0</td>\n",
              "      <td>b'a child reaches up into the air as a woman s...</td>\n",
              "    </tr>\n",
              "    <tr>\n",
              "      <th>1</th>\n",
              "      <td>b'A person with a backpack'</td>\n",
              "      <td>0</td>\n",
              "      <td>b'A young woman wearing a backpack takes the b...</td>\n",
              "    </tr>\n",
              "    <tr>\n",
              "      <th>2</th>\n",
              "      <td>b'A man holding a hard hat is running.'</td>\n",
              "      <td>0</td>\n",
              "      <td>b'A man holding a hard hat runs across a street.'</td>\n",
              "    </tr>\n",
              "    <tr>\n",
              "      <th>3</th>\n",
              "      <td>b'A female in weird clothing holding a glass.'</td>\n",
              "      <td>0</td>\n",
              "      <td>b'Woman wearing a costume, drinking a beverage.'</td>\n",
              "    </tr>\n",
              "    <tr>\n",
              "      <th>4</th>\n",
              "      <td>b'There are bikers.'</td>\n",
              "      <td>0</td>\n",
              "      <td>b'A group of bikers head out the gates in a Lo...</td>\n",
              "    </tr>\n",
              "  </tbody>\n",
              "</table>\n",
              "</div>\n",
              "      <button class=\"colab-df-convert\" onclick=\"convertToInteractive('df-d8279d6d-a7d8-41f4-8a42-0654b4e8cd11')\"\n",
              "              title=\"Convert this dataframe to an interactive table.\"\n",
              "              style=\"display:none;\">\n",
              "        \n",
              "  <svg xmlns=\"http://www.w3.org/2000/svg\" height=\"24px\"viewBox=\"0 0 24 24\"\n",
              "       width=\"24px\">\n",
              "    <path d=\"M0 0h24v24H0V0z\" fill=\"none\"/>\n",
              "    <path d=\"M18.56 5.44l.94 2.06.94-2.06 2.06-.94-2.06-.94-.94-2.06-.94 2.06-2.06.94zm-11 1L8.5 8.5l.94-2.06 2.06-.94-2.06-.94L8.5 2.5l-.94 2.06-2.06.94zm10 10l.94 2.06.94-2.06 2.06-.94-2.06-.94-.94-2.06-.94 2.06-2.06.94z\"/><path d=\"M17.41 7.96l-1.37-1.37c-.4-.4-.92-.59-1.43-.59-.52 0-1.04.2-1.43.59L10.3 9.45l-7.72 7.72c-.78.78-.78 2.05 0 2.83L4 21.41c.39.39.9.59 1.41.59.51 0 1.02-.2 1.41-.59l7.78-7.78 2.81-2.81c.8-.78.8-2.07 0-2.86zM5.41 20L4 18.59l7.72-7.72 1.47 1.35L5.41 20z\"/>\n",
              "  </svg>\n",
              "      </button>\n",
              "      \n",
              "  <style>\n",
              "    .colab-df-container {\n",
              "      display:flex;\n",
              "      flex-wrap:wrap;\n",
              "      gap: 12px;\n",
              "    }\n",
              "\n",
              "    .colab-df-convert {\n",
              "      background-color: #E8F0FE;\n",
              "      border: none;\n",
              "      border-radius: 50%;\n",
              "      cursor: pointer;\n",
              "      display: none;\n",
              "      fill: #1967D2;\n",
              "      height: 32px;\n",
              "      padding: 0 0 0 0;\n",
              "      width: 32px;\n",
              "    }\n",
              "\n",
              "    .colab-df-convert:hover {\n",
              "      background-color: #E2EBFA;\n",
              "      box-shadow: 0px 1px 2px rgba(60, 64, 67, 0.3), 0px 1px 3px 1px rgba(60, 64, 67, 0.15);\n",
              "      fill: #174EA6;\n",
              "    }\n",
              "\n",
              "    [theme=dark] .colab-df-convert {\n",
              "      background-color: #3B4455;\n",
              "      fill: #D2E3FC;\n",
              "    }\n",
              "\n",
              "    [theme=dark] .colab-df-convert:hover {\n",
              "      background-color: #434B5C;\n",
              "      box-shadow: 0px 1px 3px 1px rgba(0, 0, 0, 0.15);\n",
              "      filter: drop-shadow(0px 1px 2px rgba(0, 0, 0, 0.3));\n",
              "      fill: #FFFFFF;\n",
              "    }\n",
              "  </style>\n",
              "\n",
              "      <script>\n",
              "        const buttonEl =\n",
              "          document.querySelector('#df-d8279d6d-a7d8-41f4-8a42-0654b4e8cd11 button.colab-df-convert');\n",
              "        buttonEl.style.display =\n",
              "          google.colab.kernel.accessAllowed ? 'block' : 'none';\n",
              "\n",
              "        async function convertToInteractive(key) {\n",
              "          const element = document.querySelector('#df-d8279d6d-a7d8-41f4-8a42-0654b4e8cd11');\n",
              "          const dataTable =\n",
              "            await google.colab.kernel.invokeFunction('convertToInteractive',\n",
              "                                                     [key], {});\n",
              "          if (!dataTable) return;\n",
              "\n",
              "          const docLinkHtml = 'Like what you see? Visit the ' +\n",
              "            '<a target=\"_blank\" href=https://colab.research.google.com/notebooks/data_table.ipynb>data table notebook</a>'\n",
              "            + ' to learn more about interactive tables.';\n",
              "          element.innerHTML = '';\n",
              "          dataTable['output_type'] = 'display_data';\n",
              "          await google.colab.output.renderOutput(dataTable, element);\n",
              "          const docLink = document.createElement('div');\n",
              "          docLink.innerHTML = docLinkHtml;\n",
              "          element.appendChild(docLink);\n",
              "        }\n",
              "      </script>\n",
              "    </div>\n",
              "  </div>\n",
              "  "
            ]
          },
          "metadata": {},
          "execution_count": 35
        }
      ]
    },
    {
      "cell_type": "markdown",
      "source": [
        "Pré-processamento das sentenças do DataFrame do SNLI: remoção do prefixo b e concatenação da premissa e da hipótese em uma única sentença.\n",
        "\n",
        "**Obs.:** Você pode fazer outros pré-processamentos (remoção de stop-words, stemmização, lemmatização etc)...\n",
        "\n",
        "Segue uma proposta de pré-processamento. Thanks to Gabriel Nogueira:"
      ],
      "metadata": {
        "id": "Za04mkKXrn7p"
      }
    },
    {
      "cell_type": "code",
      "source": [
        "def preprocessDataFrame(df):\n",
        "\n",
        "    dic = {}\n",
        "    dic['premise_hypothesis'] = []\n",
        "    dic['label'] = []\n",
        "\n",
        "    hypothesis = [x.decode('utf-8') for x in df['hypothesis'].values]\n",
        "    premise = [x.decode('utf-8') for x in df['premise'].values]\n",
        "\n",
        "    for idx,sentence in enumerate(premise):\n",
        "        dic['premise_hypothesis'].append(premise[idx]+\" \"+hypothesis[idx])\n",
        "        dic['label'].append(df['label'][idx])\n",
        "        \n",
        "    return pd.DataFrame.from_dict(dic)"
      ],
      "metadata": {
        "id": "BdJGv8cJoliY"
      },
      "execution_count": 36,
      "outputs": []
    },
    {
      "cell_type": "code",
      "source": [
        "df_train = preprocessDataFrame(df_train)\n",
        "df_valid = preprocessDataFrame(df_valid)\n",
        "df_test = preprocessDataFrame(df_test)"
      ],
      "metadata": {
        "id": "bRsf8yX6pHQG"
      },
      "execution_count": 37,
      "outputs": []
    },
    {
      "cell_type": "markdown",
      "source": [
        "Criação dos logits"
      ],
      "metadata": {
        "id": "M91PHEQ4rj4C"
      }
    },
    {
      "cell_type": "code",
      "source": [
        "df_train['label'] = pd.Categorical(df_train['label'])\n",
        "y_train_int = df_train['label'].cat.codes\n",
        "\n",
        "df_valid['label'] = pd.Categorical(df_valid['label'])\n",
        "y_valid_int = df_valid['label'].cat.codes\n",
        "\n",
        "df_test['label'] = pd.Categorical(df_test['label'])\n",
        "y_test_int = df_test['label'].cat.codes\n",
        "\n",
        "y_train = to_categorical(y_train_int)\n",
        "y_valid = to_categorical(y_valid_int)\n",
        "y_test = to_categorical(y_test_int)"
      ],
      "metadata": {
        "id": "COL1W3P-hhC9"
      },
      "execution_count": 38,
      "outputs": []
    },
    {
      "cell_type": "markdown",
      "source": [
        "Numericalização e padding!\n",
        "\n",
        "Homework :)"
      ],
      "metadata": {
        "id": "7VEfSPiqiikW"
      }
    },
    {
      "cell_type": "code",
      "source": [
        "model = Sequential()\n",
        "model.add(Embedding(2000,output_dim=64))\n",
        "model.add(SimpleRNN(64,activation='relu'))\n",
        "model.add(Dropout(0.5))\n",
        "model.add(Dense(3,activation=\"softmax\"))\n",
        "model.summary()"
      ],
      "metadata": {
        "colab": {
          "base_uri": "https://localhost:8080/"
        },
        "id": "k8M2p72DjSe0",
        "outputId": "4ed50dac-0fbf-4e24-ed08-aa316eacf0ee"
      },
      "execution_count": 44,
      "outputs": [
        {
          "output_type": "stream",
          "name": "stdout",
          "text": [
            "Model: \"sequential_1\"\n",
            "_________________________________________________________________\n",
            " Layer (type)                Output Shape              Param #   \n",
            "=================================================================\n",
            " embedding_1 (Embedding)     (None, None, 64)          128000    \n",
            "                                                                 \n",
            " simple_rnn_1 (SimpleRNN)    (None, 64)                8256      \n",
            "                                                                 \n",
            " dropout (Dropout)           (None, 64)                0         \n",
            "                                                                 \n",
            " dense (Dense)               (None, 3)                 195       \n",
            "                                                                 \n",
            "=================================================================\n",
            "Total params: 136,451\n",
            "Trainable params: 136,451\n",
            "Non-trainable params: 0\n",
            "_________________________________________________________________\n"
          ]
        }
      ]
    }
  ]
}