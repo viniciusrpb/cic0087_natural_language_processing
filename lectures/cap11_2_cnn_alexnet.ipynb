{
  "nbformat": 4,
  "nbformat_minor": 0,
  "metadata": {
    "colab": {
      "name": "cap11_2_cnn_alexnet.py",
      "provenance": [],
      "collapsed_sections": [],
      "authorship_tag": "ABX9TyMDL3O7AA1UxfbemBAwcT2e",
      "include_colab_link": true
    },
    "kernelspec": {
      "name": "python3",
      "display_name": "Python 3"
    },
    "language_info": {
      "name": "python"
    },
    "accelerator": "GPU",
    "gpuClass": "standard"
  },
  "cells": [
    {
      "cell_type": "markdown",
      "metadata": {
        "id": "view-in-github",
        "colab_type": "text"
      },
      "source": [
        "<a href=\"https://colab.research.google.com/github/viniciusrpb/cic0269_natural_language_processing/blob/main/lectures/cap11_2_cnn_alexnet.ipynb\" target=\"_parent\"><img src=\"https://colab.research.google.com/assets/colab-badge.svg\" alt=\"Open In Colab\"/></a>"
      ]
    },
    {
      "cell_type": "code",
      "source": [
        "!pip install -U keras\n",
        "!pip install tensorflow"
      ],
      "metadata": {
        "id": "6dfyHBHHhQqD"
      },
      "execution_count": null,
      "outputs": []
    },
    {
      "cell_type": "code",
      "source": [
        "from keras.models import Sequential\n",
        "from keras.layers import Dense,Activation,Conv2D,MaxPooling2D,BatchNormalization,Flatten\n",
        "from tensorflow.keras.optimizers import SGD\n",
        "import numpy as np"
      ],
      "metadata": {
        "id": "y6JFUcrWhSaB"
      },
      "execution_count": null,
      "outputs": []
    },
    {
      "cell_type": "markdown",
      "source": [
        "Hyperparameters"
      ],
      "metadata": {
        "id": "A9i8TjKRjHJ1"
      }
    },
    {
      "cell_type": "code",
      "source": [
        "dims = (224,224,3)\n",
        "num_classes = 10"
      ],
      "metadata": {
        "id": "vwZ2ynTPjHRI"
      },
      "execution_count": null,
      "outputs": []
    },
    {
      "cell_type": "code",
      "execution_count": null,
      "metadata": {
        "id": "fK-juiIMguzl"
      },
      "outputs": [],
      "source": [
        "model = Sequential()"
      ]
    },
    {
      "cell_type": "code",
      "source": [
        "# Parte 1 da AlexNet\n",
        "model.add(Conv2D(96,(11,11), strides=(4,4),input_shape=dims))\n",
        "model.add(Activation(\"relu\"))\n",
        "model.add(MaxPooling2D((3, 3),strides=(2,2)))\n",
        "model.add(BatchNormalization())\n",
        "\n",
        "# Parte 2 da AlexNet\n",
        "model.add(Conv2D(256,(5,5), strides=(1,1),padding=\"same\"))\n",
        "model.add(Activation(\"relu\"))\n",
        "model.add(MaxPooling2D((3, 3),strides=(2,2)))\n",
        "model.add(BatchNormalization())\n",
        "\n",
        "# Parte 3 da AlexNet\n",
        "model.add(Conv2D(384,(3,3), strides=(1,1),padding=\"same\"))\n",
        "model.add(Activation(\"relu\"))\n",
        "\n",
        "model.add(Conv2D(384,(3,3), strides=(1,1),padding=\"same\"))\n",
        "model.add(Activation(\"relu\"))\n",
        "\n",
        "model.add(Conv2D(256,(3,3), strides=(1,1),padding=\"same\"))\n",
        "model.add(Activation(\"relu\"))\n",
        "\n",
        "model.add(MaxPooling2D((3, 3),strides=(2,2)))\n",
        "\n",
        "model.add(Flatten())\n",
        "\n",
        "model.add(Dense(4096))\n",
        "model.add(Activation(\"relu\"))\n",
        "\n",
        "model.add(Dense(4096))\n",
        "model.add(Activation(\"relu\"))\n",
        "\n",
        "model.add(Dense(num_classes))\n",
        "model.add(Activation(\"sigmoid\"))"
      ],
      "metadata": {
        "id": "ADggsOKeh1Lc"
      },
      "execution_count": null,
      "outputs": []
    },
    {
      "cell_type": "code",
      "source": [
        "model.summary()"
      ],
      "metadata": {
        "colab": {
          "base_uri": "https://localhost:8080/"
        },
        "id": "1dPoAyxJqk7l",
        "outputId": "dfb25554-cf60-4a1b-9992-4b9b58a3e5ae"
      },
      "execution_count": null,
      "outputs": [
        {
          "output_type": "stream",
          "name": "stdout",
          "text": [
            "Model: \"sequential_5\"\n",
            "_________________________________________________________________\n",
            " Layer (type)                Output Shape              Param #   \n",
            "=================================================================\n",
            " conv2d_24 (Conv2D)          (None, 54, 54, 96)        34944     \n",
            "                                                                 \n",
            " activation_25 (Activation)  (None, 54, 54, 96)        0         \n",
            "                                                                 \n",
            " max_pooling2d_13 (MaxPoolin  (None, 26, 26, 96)       0         \n",
            " g2D)                                                            \n",
            "                                                                 \n",
            " batch_normalization_10 (Bat  (None, 26, 26, 96)       384       \n",
            " chNormalization)                                                \n",
            "                                                                 \n",
            " conv2d_25 (Conv2D)          (None, 26, 26, 256)       614656    \n",
            "                                                                 \n",
            " activation_26 (Activation)  (None, 26, 26, 256)       0         \n",
            "                                                                 \n",
            " max_pooling2d_14 (MaxPoolin  (None, 12, 12, 256)      0         \n",
            " g2D)                                                            \n",
            "                                                                 \n",
            " batch_normalization_11 (Bat  (None, 12, 12, 256)      1024      \n",
            " chNormalization)                                                \n",
            "                                                                 \n",
            " conv2d_26 (Conv2D)          (None, 12, 12, 384)       885120    \n",
            "                                                                 \n",
            " activation_27 (Activation)  (None, 12, 12, 384)       0         \n",
            "                                                                 \n",
            " conv2d_27 (Conv2D)          (None, 12, 12, 384)       1327488   \n",
            "                                                                 \n",
            " activation_28 (Activation)  (None, 12, 12, 384)       0         \n",
            "                                                                 \n",
            " conv2d_28 (Conv2D)          (None, 12, 12, 256)       884992    \n",
            "                                                                 \n",
            " activation_29 (Activation)  (None, 12, 12, 256)       0         \n",
            "                                                                 \n",
            " max_pooling2d_15 (MaxPoolin  (None, 5, 5, 256)        0         \n",
            " g2D)                                                            \n",
            "                                                                 \n",
            " flatten (Flatten)           (None, 6400)              0         \n",
            "                                                                 \n",
            " dense_3 (Dense)             (None, 4096)              26218496  \n",
            "                                                                 \n",
            " activation_30 (Activation)  (None, 4096)              0         \n",
            "                                                                 \n",
            " dense_4 (Dense)             (None, 4096)              16781312  \n",
            "                                                                 \n",
            " activation_31 (Activation)  (None, 4096)              0         \n",
            "                                                                 \n",
            " dense_5 (Dense)             (None, 10)                40970     \n",
            "                                                                 \n",
            " activation_32 (Activation)  (None, 10)                0         \n",
            "                                                                 \n",
            "=================================================================\n",
            "Total params: 46,789,386\n",
            "Trainable params: 46,788,682\n",
            "Non-trainable params: 704\n",
            "_________________________________________________________________\n"
          ]
        }
      ]
    }
  ]
}