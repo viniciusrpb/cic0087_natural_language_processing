{
  "nbformat": 4,
  "nbformat_minor": 0,
  "metadata": {
    "colab": {
      "name": "cap03_regex.ipynb",
      "provenance": [],
      "authorship_tag": "ABX9TyO6r7/ecFzSaC89rB0mCxLe",
      "include_colab_link": true
    },
    "kernelspec": {
      "name": "python3",
      "display_name": "Python 3"
    },
    "language_info": {
      "name": "python"
    }
  },
  "cells": [
    {
      "cell_type": "markdown",
      "metadata": {
        "id": "view-in-github",
        "colab_type": "text"
      },
      "source": [
        "<a href=\"https://colab.research.google.com/github/viniciusrpb/cic0269_natural_language_processing/blob/main/cap03_regex.ipynb\" target=\"_parent\"><img src=\"https://colab.research.google.com/assets/colab-badge.svg\" alt=\"Open In Colab\"/></a>"
      ]
    },
    {
      "cell_type": "markdown",
      "source": [
        "# Capítulo 3 - Expressões Regulares (Regular Expressions - RegEx)\n",
        "\n",
        "## 3.1. Expressões regulares em Python\n",
        "\n",
        "Primeiramente, deve-se importar o pacote [re](https://docs.python.org/3/library/re.html)"
      ],
      "metadata": {
        "id": "bE06DPRqlFZw"
      }
    },
    {
      "cell_type": "code",
      "execution_count": 26,
      "metadata": {
        "id": "J8EoZZ60r0cu"
      },
      "outputs": [],
      "source": [
        "import re"
      ]
    },
    {
      "cell_type": "markdown",
      "source": [
        "Vamos definir um texto de exemplo:"
      ],
      "metadata": {
        "id": "ygGUJbwOlk78"
      }
    },
    {
      "cell_type": "code",
      "source": [
        "s = \"Eu nasci em 1956, assisti de camarote o descobrimento do Brasil há 500 anos. Tenho <p>5 marmotas</p> de estimação e odeio ponto de exclamação!\""
      ],
      "metadata": {
        "id": "BPYydfWllnAW"
      },
      "execution_count": 27,
      "outputs": []
    },
    {
      "cell_type": "markdown",
      "source": [
        "Métodos importantes para elaboração de expressões regulares em Python:\n",
        "\n",
        "### search\n",
        "\n",
        "Percorre o texto procurando pela primeira ocorrência da expressão regular correspondente e retorna a posição da string buscada:"
      ],
      "metadata": {
        "id": "EUvCS0AhlFfL"
      }
    },
    {
      "cell_type": "code",
      "source": [
        "print(re.search(r'de', s))"
      ],
      "metadata": {
        "id": "fhodiY-KlhG8",
        "outputId": "0c4ea7e8-9064-4bc2-b913-66cb98f4f258",
        "colab": {
          "base_uri": "https://localhost:8080/"
        }
      },
      "execution_count": 28,
      "outputs": [
        {
          "output_type": "stream",
          "name": "stdout",
          "text": [
            "<re.Match object; span=(26, 28), match='de'>\n"
          ]
        }
      ]
    },
    {
      "cell_type": "markdown",
      "source": [
        "### match\n",
        "\n",
        "Determina se a expressão regular combina com o início da string e retorna a posição da string buscada:"
      ],
      "metadata": {
        "id": "qSIr8xLdlv-X"
      }
    },
    {
      "cell_type": "code",
      "source": [
        "print(re.match(r'Eu nasci', s))"
      ],
      "metadata": {
        "id": "0m7puKv_mFPL",
        "outputId": "35aef048-5675-4496-dcc3-6303270a3ec5",
        "colab": {
          "base_uri": "https://localhost:8080/"
        }
      },
      "execution_count": 29,
      "outputs": [
        {
          "output_type": "stream",
          "name": "stdout",
          "text": [
            "<re.Match object; span=(0, 8), match='Eu nasci'>\n"
          ]
        }
      ]
    },
    {
      "cell_type": "code",
      "source": [
        "print(re.match(r'camarote', s))"
      ],
      "metadata": {
        "id": "2aQcKbZNoo6Z",
        "outputId": "c82f194f-e360-4b86-fbb2-b574baadb17a",
        "colab": {
          "base_uri": "https://localhost:8080/"
        }
      },
      "execution_count": 30,
      "outputs": [
        {
          "output_type": "stream",
          "name": "stdout",
          "text": [
            "None\n"
          ]
        }
      ]
    },
    {
      "cell_type": "markdown",
      "source": [
        "### findall\n",
        "\n",
        "Encontra **todas as substrings** correspondentes com a expressão regular:"
      ],
      "metadata": {
        "id": "g-bDHHj2mvir"
      }
    },
    {
      "cell_type": "code",
      "source": [
        "print(re.findall(r'de', s))"
      ],
      "metadata": {
        "id": "1pVqkFpqmvpP",
        "outputId": "8f9ae4bd-4043-447d-ea12-dc086ebe6908",
        "colab": {
          "base_uri": "https://localhost:8080/"
        }
      },
      "execution_count": 31,
      "outputs": [
        {
          "output_type": "stream",
          "name": "stdout",
          "text": [
            "['de', 'de', 'de', 'de', 'de']\n"
          ]
        }
      ]
    },
    {
      "cell_type": "markdown",
      "source": [
        "### split\n",
        "\n",
        "Quebra o texto de acordo com as ocorrências encontradas do padrão da RegEx"
      ],
      "metadata": {
        "id": "qXAcICIioHVv"
      }
    },
    {
      "cell_type": "code",
      "source": [
        "'''re.split('de', string, maxsplit=0, flags=0)'''\n",
        "print(re.split(r'de', s))"
      ],
      "metadata": {
        "id": "KBMKucCdoHbp",
        "outputId": "e897fa11-fadf-47f7-9470-3e36019ace65",
        "colab": {
          "base_uri": "https://localhost:8080/"
        }
      },
      "execution_count": 32,
      "outputs": [
        {
          "output_type": "stream",
          "name": "stdout",
          "text": [
            "['Eu nasci em 1956, assisti ', ' camarote o ', 'scobrimento do Brasil há 500 anos. Tenho <p>5 marmotas</p> ', ' estimação e o', 'io ponto ', ' exclamação!']\n"
          ]
        }
      ]
    },
    {
      "cell_type": "markdown",
      "source": [
        "### finditer\n",
        "\n",
        "Encontra **todas as substrings** correspondentes com a expressão regular no texto de entrada e retorna como um iterador (endereço da primeira ocorrência da esquerda para a direita):"
      ],
      "metadata": {
        "id": "6OH_2P4imvwT"
      }
    },
    {
      "cell_type": "code",
      "source": [
        "print(re.finditer(r'de', s))"
      ],
      "metadata": {
        "id": "RJd86e92mv2z",
        "outputId": "e3a4151b-758e-455d-8087-e23496113f4f",
        "colab": {
          "base_uri": "https://localhost:8080/"
        }
      },
      "execution_count": 33,
      "outputs": [
        {
          "output_type": "stream",
          "name": "stdout",
          "text": [
            "<callable_iterator object at 0x7fb7329a1b50>\n"
          ]
        }
      ]
    },
    {
      "cell_type": "markdown",
      "source": [
        ""
      ],
      "metadata": {
        "id": "dxFnmVjPrluJ"
      }
    },
    {
      "cell_type": "code",
      "source": [
        "for it in re.finditer(r'de', s):\n",
        "    print(it)"
      ],
      "metadata": {
        "id": "bDf-_jFprlzg",
        "outputId": "cb249278-8141-4c7c-9907-2d8a27a25399",
        "colab": {
          "base_uri": "https://localhost:8080/"
        }
      },
      "execution_count": 34,
      "outputs": [
        {
          "output_type": "stream",
          "name": "stdout",
          "text": [
            "<re.Match object; span=(26, 28), match='de'>\n",
            "<re.Match object; span=(40, 42), match='de'>\n",
            "<re.Match object; span=(101, 103), match='de'>\n",
            "<re.Match object; span=(117, 119), match='de'>\n",
            "<re.Match object; span=(128, 130), match='de'>\n"
          ]
        }
      ]
    },
    {
      "cell_type": "markdown",
      "source": [
        "**findall()** retorna objetos do tipo *str*, enquanto que **finditer()** retorna objetos do tipo *Match*"
      ],
      "metadata": {
        "id": "7bl6w0O4sFqt"
      }
    },
    {
      "cell_type": "markdown",
      "source": [
        "### sub\n",
        "\n",
        "Encontra o padrão no texto definido pela expressão regular e efetua **todas** as substituições. Retorna a string de entrada processada:"
      ],
      "metadata": {
        "id": "1GdfzUOxmv8y"
      }
    },
    {
      "cell_type": "code",
      "source": [
        "print(re.sub(r'<p>|</p>', '', s))"
      ],
      "metadata": {
        "id": "RUw6KdiemwDm",
        "outputId": "281b2500-1bbb-47af-fda3-ad4ebf581cd9",
        "colab": {
          "base_uri": "https://localhost:8080/"
        }
      },
      "execution_count": 35,
      "outputs": [
        {
          "output_type": "stream",
          "name": "stdout",
          "text": [
            "Eu nasci em 1956, assisti de camarote o descobrimento do Brasil há 500 anos. Tenho 5 marmotas de estimação e odeio ponto de exclamação!\n"
          ]
        }
      ]
    },
    {
      "cell_type": "markdown",
      "source": [
        "## 3.2. Operadores"
      ],
      "metadata": {
        "id": "sewFLeinplLM"
      }
    },
    {
      "cell_type": "code",
      "source": [
        "text = \"Woodchuck\"\n",
        "text2 = \"woodchuck\""
      ],
      "metadata": {
        "id": "wJm69zbzqr2x"
      },
      "execution_count": 36,
      "outputs": []
    },
    {
      "cell_type": "markdown",
      "source": [
        "regra incorreta"
      ],
      "metadata": {
        "id": "CKHiAIDIsUc0"
      }
    },
    {
      "cell_type": "code",
      "source": [
        "result =re.findall(r'Woodchuck',text)\n",
        "print(result)"
      ],
      "metadata": {
        "colab": {
          "base_uri": "https://localhost:8080/"
        },
        "id": "ciCMbQRCqzOY",
        "outputId": "7ac94a12-578d-4683-facc-2d4335b43596"
      },
      "execution_count": 37,
      "outputs": [
        {
          "output_type": "stream",
          "name": "stdout",
          "text": [
            "['Woodchuck']\n"
          ]
        }
      ]
    },
    {
      "cell_type": "code",
      "source": [
        "result =re.findall(r'woodchuck',text)\n",
        "print(result)"
      ],
      "metadata": {
        "colab": {
          "base_uri": "https://localhost:8080/"
        },
        "id": "XcvlAvausWUF",
        "outputId": "e4442a64-73d2-4558-f405-c981d52ca919"
      },
      "execution_count": 38,
      "outputs": [
        {
          "output_type": "stream",
          "name": "stdout",
          "text": [
            "[]\n"
          ]
        }
      ]
    },
    {
      "cell_type": "markdown",
      "source": [
        "### Disjunção: operador \"[ ]\"\n",
        "\n",
        "Regra correta para pegar \"w\" minúsculo ou maiúsculo:"
      ],
      "metadata": {
        "id": "66GEVPS_sYzH"
      }
    },
    {
      "cell_type": "code",
      "source": [
        "result =re.findall(r'[Ww]oodchuck',text2)\n",
        "print(result)"
      ],
      "metadata": {
        "colab": {
          "base_uri": "https://localhost:8080/"
        },
        "id": "1TqqWOtIr0tl",
        "outputId": "c36fca31-e458-4595-aa31-56e6f872f5e3"
      },
      "execution_count": 39,
      "outputs": [
        {
          "output_type": "stream",
          "name": "stdout",
          "text": [
            "['woodchuck']\n"
          ]
        }
      ]
    },
    {
      "cell_type": "markdown",
      "source": [
        "pegar apenas dígitos"
      ],
      "metadata": {
        "id": "6qBZz2lltEIv"
      }
    },
    {
      "cell_type": "code",
      "source": [
        "result =re.findall(r'[0123456789]',\"478\")\n",
        "print(result)"
      ],
      "metadata": {
        "colab": {
          "base_uri": "https://localhost:8080/"
        },
        "id": "pAgYOQL4tFnU",
        "outputId": "6ccb6b59-26f5-45b7-d4f6-4f159e7897d6"
      },
      "execution_count": 40,
      "outputs": [
        {
          "output_type": "stream",
          "name": "stdout",
          "text": [
            "['4', '7', '8']\n"
          ]
        }
      ]
    },
    {
      "cell_type": "markdown",
      "source": [
        "Utilizando o meta caractere '-' para se pegar intervalos dentro do operador de disjunção \"$[ \\quad ]$\""
      ],
      "metadata": {
        "id": "O0JfpYe2tcZg"
      }
    },
    {
      "cell_type": "code",
      "source": [
        "result =re.findall(r'[0-9]',\"478\")\n",
        "print(result)"
      ],
      "metadata": {
        "id": "Z_VfF3aXtch_",
        "outputId": "dbfe76bf-7cb9-4649-9c00-cafc3aaf33e1",
        "colab": {
          "base_uri": "https://localhost:8080/"
        }
      },
      "execution_count": 41,
      "outputs": [
        {
          "output_type": "stream",
          "name": "stdout",
          "text": [
            "['4', '7', '8']\n"
          ]
        }
      ]
    },
    {
      "cell_type": "markdown",
      "source": [
        "Alfabeto (palavras)"
      ],
      "metadata": {
        "id": "onRnlLxztmNb"
      }
    },
    {
      "cell_type": "code",
      "source": [
        "result =re.findall(r'[A-Z]',text2)\n",
        "print(result)"
      ],
      "metadata": {
        "colab": {
          "base_uri": "https://localhost:8080/"
        },
        "id": "Q6B_jiu0tmYm",
        "outputId": "bd2b4155-8dae-427c-9517-0074558d07a3"
      },
      "execution_count": 42,
      "outputs": [
        {
          "output_type": "stream",
          "name": "stdout",
          "text": [
            "[]\n"
          ]
        }
      ]
    },
    {
      "cell_type": "markdown",
      "source": [
        "várias ocorrências de dígitos"
      ],
      "metadata": {
        "id": "KqWhm5kwvSUZ"
      }
    },
    {
      "cell_type": "code",
      "source": [
        "result =re.findall(r'[0-9]',\"Capítulo 1: Seção 2\")\n",
        "print(result)"
      ],
      "metadata": {
        "colab": {
          "base_uri": "https://localhost:8080/"
        },
        "id": "Y-0QwRNUvVJD",
        "outputId": "e6785519-b86c-47b5-9d81-1c1917d47800"
      },
      "execution_count": 43,
      "outputs": [
        {
          "output_type": "stream",
          "name": "stdout",
          "text": [
            "['1', '2']\n"
          ]
        }
      ]
    },
    {
      "cell_type": "markdown",
      "source": [
        "Negação"
      ],
      "metadata": {
        "id": "1Et8RR6XvnuZ"
      }
    },
    {
      "cell_type": "code",
      "source": [
        "result =re.findall(r'[^0-9]',\"Capítulo 1: Seção 2\")\n",
        "print(result)"
      ],
      "metadata": {
        "colab": {
          "base_uri": "https://localhost:8080/"
        },
        "id": "SDKykNhlvn2A",
        "outputId": "f75dd974-de77-4665-9aa0-2456cb508bfe"
      },
      "execution_count": 44,
      "outputs": [
        {
          "output_type": "stream",
          "name": "stdout",
          "text": [
            "['C', 'a', 'p', 'í', 't', 'u', 'l', 'o', ' ', ':', ' ', 'S', 'e', 'ç', 'ã', 'o', ' ']\n"
          ]
        }
      ]
    },
    {
      "cell_type": "code",
      "source": [
        "result =re.findall(r'[^A-Za-z]',\"Capítulo 1: Seção 2\")\n",
        "print(result)"
      ],
      "metadata": {
        "colab": {
          "base_uri": "https://localhost:8080/"
        },
        "id": "JPXZPPCpw4p1",
        "outputId": "67948b2f-9db4-4606-a523-ea8ebed691e2"
      },
      "execution_count": 45,
      "outputs": [
        {
          "output_type": "stream",
          "name": "stdout",
          "text": [
            "['í', ' ', '1', ':', ' ', 'ç', 'ã', ' ', '2']\n"
          ]
        }
      ]
    },
    {
      "cell_type": "markdown",
      "source": [
        "Meta-caractere ponto"
      ],
      "metadata": {
        "id": "cemEX475xV8E"
      }
    },
    {
      "cell_type": "code",
      "source": [
        "result =re.findall(r'beg.n',\"begun\")\n",
        "print(result)"
      ],
      "metadata": {
        "colab": {
          "base_uri": "https://localhost:8080/"
        },
        "id": "lfhwFJ-XxYM_",
        "outputId": "698ce6af-325d-4d88-ca2d-52669fde8e2b"
      },
      "execution_count": 46,
      "outputs": [
        {
          "output_type": "stream",
          "name": "stdout",
          "text": [
            "['begun']\n"
          ]
        }
      ]
    },
    {
      "cell_type": "code",
      "source": [
        "result =re.findall(r'beg.n',\"bexun\")\n",
        "print(result)"
      ],
      "metadata": {
        "colab": {
          "base_uri": "https://localhost:8080/"
        },
        "id": "Itu31NPzxi11",
        "outputId": "4e96e17f-2e13-4aae-af17-ca7b7ae574ef"
      },
      "execution_count": 47,
      "outputs": [
        {
          "output_type": "stream",
          "name": "stdout",
          "text": [
            "[]\n"
          ]
        }
      ]
    },
    {
      "cell_type": "markdown",
      "source": [
        "Disjunção: \"|\"\n",
        "\n",
        "Esse operador pega dois ou mais tipos de termos do padrão na string de entrada:"
      ],
      "metadata": {
        "id": "o_-5H8DA2QQ5"
      }
    },
    {
      "cell_type": "code",
      "source": [
        "texto = 'Groundhog and woodstock'\n",
        "result =re.findall(r'[Gg]roundhog|[Ww]oodstock',texto)\n",
        "print(result)"
      ],
      "metadata": {
        "colab": {
          "base_uri": "https://localhost:8080/"
        },
        "id": "NSBxZ2Dz2UdS",
        "outputId": "75c3bc61-a505-4d3a-8aa3-439f60945f78"
      },
      "execution_count": 48,
      "outputs": [
        {
          "output_type": "stream",
          "name": "stdout",
          "text": [
            "['Groundhog', 'woodstock']\n"
          ]
        }
      ]
    },
    {
      "cell_type": "markdown",
      "source": [
        "O meta caractere ?"
      ],
      "metadata": {
        "id": "RXV9YL_I3m3z"
      }
    },
    {
      "cell_type": "code",
      "source": [
        "texto = 'color and colour'\n",
        "result =re.findall(r'colou?r',texto)\n",
        "print(result)"
      ],
      "metadata": {
        "colab": {
          "base_uri": "https://localhost:8080/"
        },
        "id": "SbuzE7VO3sjk",
        "outputId": "4230ddc3-e3b4-40d1-f864-703310da336a"
      },
      "execution_count": 49,
      "outputs": [
        {
          "output_type": "stream",
          "name": "stdout",
          "text": [
            "['color', 'colour']\n"
          ]
        }
      ]
    },
    {
      "cell_type": "markdown",
      "source": [
        "### Meta-caractere '*':\n",
        "\n",
        "Repete o mínimo possível a expressão regular precedente quantas vezes forem necessárias para corresponder o padrão na RegEx:"
      ],
      "metadata": {
        "id": "OOpoeUfS4Cdg"
      }
    },
    {
      "cell_type": "code",
      "source": [
        "result = re.findall(r'[0-9]*',s)\n",
        "print(result)"
      ],
      "metadata": {
        "id": "_7BIDpw6s5-I",
        "outputId": "1c4de6f4-d004-44e0-c451-c1ef5ae8814d",
        "colab": {
          "base_uri": "https://localhost:8080/"
        }
      },
      "execution_count": 50,
      "outputs": [
        {
          "output_type": "stream",
          "name": "stdout",
          "text": [
            "['', '', '', '', '', '', '', '', '', '', '', '', '1956', '', '', '', '', '', '', '', '', '', '', '', '', '', '', '', '', '', '', '', '', '', '', '', '', '', '', '', '', '', '', '', '', '', '', '', '', '', '', '', '', '', '', '', '', '', '', '', '', '', '', '', '500', '', '', '', '', '', '', '', '', '', '', '', '', '', '', '', '', '5', '', '', '', '', '', '', '', '', '', '', '', '', '', '', '', '', '', '', '', '', '', '', '', '', '', '', '', '', '', '', '', '', '', '', '', '', '', '', '', '', '', '', '', '', '', '', '', '', '', '', '', '', '', '', '', '']\n"
          ]
        }
      ]
    },
    {
      "cell_type": "markdown",
      "source": [
        "O meta caractere +:\n",
        "\n"
      ],
      "metadata": {
        "id": "RnsCVBbt4mDy"
      }
    },
    {
      "cell_type": "code",
      "source": [
        "result = re.findall(r'[0-9]+',s)\n",
        "print(result)"
      ],
      "metadata": {
        "colab": {
          "base_uri": "https://localhost:8080/"
        },
        "id": "RvfJTAz64pRp",
        "outputId": "cf332b1c-8709-4a0c-8132-430ec22c0105"
      },
      "execution_count": 51,
      "outputs": [
        {
          "output_type": "stream",
          "name": "stdout",
          "text": [
            "['1956', '500', '5']\n"
          ]
        }
      ]
    },
    {
      "cell_type": "markdown",
      "source": [
        "O meta caractere $"
      ],
      "metadata": {
        "id": "9-PzLsHf5RGG"
      }
    },
    {
      "cell_type": "code",
      "source": [
        "texto = 'aardvark'\n",
        "result =re.findall(r'r.$',texto)\n",
        "print(result)"
      ],
      "metadata": {
        "colab": {
          "base_uri": "https://localhost:8080/"
        },
        "id": "teExHyCm5QDL",
        "outputId": "426bf688-9c67-4c7d-a1f3-24cbb224b74d"
      },
      "execution_count": 52,
      "outputs": [
        {
          "output_type": "stream",
          "name": "stdout",
          "text": [
            "['rk']\n"
          ]
        }
      ]
    },
    {
      "cell_type": "markdown",
      "source": [
        "Pegar o último ponto da string"
      ],
      "metadata": {
        "id": "qOnJPenh50g5"
      }
    },
    {
      "cell_type": "code",
      "source": [
        "texto = 'Como fazer.'\n",
        "result =re.findall(r'\\.$',texto)\n",
        "print(result)"
      ],
      "metadata": {
        "colab": {
          "base_uri": "https://localhost:8080/"
        },
        "id": "1wr05OdC5q-B",
        "outputId": "af03aa87-726f-4865-ba02-0b247ece8171"
      },
      "execution_count": 53,
      "outputs": [
        {
          "output_type": "stream",
          "name": "stdout",
          "text": [
            "['.']\n"
          ]
        }
      ]
    },
    {
      "cell_type": "markdown",
      "source": [
        "Criando grupos"
      ],
      "metadata": {
        "id": "1KmrO4aT7rqh"
      }
    },
    {
      "cell_type": "code",
      "source": [
        "texto = \"the faster they ran, the faster we ran\"\n",
        "result =re.findall(r'the (.*)er they (.*), the \\1er we \\2',texto)\n",
        "print(result)"
      ],
      "metadata": {
        "colab": {
          "base_uri": "https://localhost:8080/"
        },
        "id": "U5TOaLye7tsJ",
        "outputId": "a744bc72-b8db-43a9-a66b-b202d7e32a7b"
      },
      "execution_count": 54,
      "outputs": [
        {
          "output_type": "stream",
          "name": "stdout",
          "text": [
            "[('fast', 'ran')]\n"
          ]
        }
      ]
    },
    {
      "cell_type": "code",
      "source": [
        "texto = \"Capitulo 35\"\n",
        "result =re.sub(r'([0-9]+)',r'<\\1>',texto)\n",
        "print(result)"
      ],
      "metadata": {
        "colab": {
          "base_uri": "https://localhost:8080/"
        },
        "id": "2Jlis5Rc9TLk",
        "outputId": "64871809-a7ee-4f10-ba64-0f3ead4ebf40"
      },
      "execution_count": 55,
      "outputs": [
        {
          "output_type": "stream",
          "name": "stdout",
          "text": [
            "Capitulo <35>\n"
          ]
        }
      ]
    },
    {
      "cell_type": "markdown",
      "source": [
        "## Exercício 1\n",
        "\n",
        "Elaborar um regex que faz o match com todos os \"the\"\n"
      ],
      "metadata": {
        "id": "nF5Kgr-6z9aD"
      }
    },
    {
      "cell_type": "code",
      "source": [
        "thetext = \"The main feature is that the other oracle wants to be the theoretical leader.\"\n"
      ],
      "metadata": {
        "id": "DM9BqcSEz-P1"
      },
      "execution_count": 56,
      "outputs": []
    },
    {
      "cell_type": "markdown",
      "source": [
        "Primeiro passo"
      ],
      "metadata": {
        "id": "5b-76Vut3Cgh"
      }
    },
    {
      "cell_type": "code",
      "source": [
        "result =re.findall(r'the',thetext)\n",
        "print(result)"
      ],
      "metadata": {
        "colab": {
          "base_uri": "https://localhost:8080/"
        },
        "id": "sKnsWNKQ3EKH",
        "outputId": "65a4ba9d-7f1d-49be-dc39-5127c1a8bf57"
      },
      "execution_count": 57,
      "outputs": [
        {
          "output_type": "stream",
          "name": "stdout",
          "text": [
            "['the', 'the', 'the', 'the']\n"
          ]
        }
      ]
    },
    {
      "cell_type": "markdown",
      "source": [
        "Uma melhora..."
      ],
      "metadata": {
        "id": "u-ZvLut83Tjs"
      }
    },
    {
      "cell_type": "code",
      "source": [
        "result =re.findall(r'[Tt]he',thetext)\n",
        "print(result)"
      ],
      "metadata": {
        "colab": {
          "base_uri": "https://localhost:8080/"
        },
        "id": "rmcSwDDn3U5P",
        "outputId": "47d17de9-a4d3-4f1f-f810-a1f8bfe21710"
      },
      "execution_count": 58,
      "outputs": [
        {
          "output_type": "stream",
          "name": "stdout",
          "text": [
            "['The', 'the', 'the', 'the', 'the']\n"
          ]
        }
      ]
    },
    {
      "cell_type": "markdown",
      "source": [
        "Mais uma melhora..."
      ],
      "metadata": {
        "id": "ZequdivX5_bb"
      }
    },
    {
      "cell_type": "code",
      "source": [
        "result =re.findall(r'[^A-Za-z][Tt]he[^A-Za-z]',thetext)\n",
        "print(result)"
      ],
      "metadata": {
        "colab": {
          "base_uri": "https://localhost:8080/"
        },
        "id": "odXrnDP56EA4",
        "outputId": "e3ea0553-95da-4c19-a6de-9e3345efd0d4"
      },
      "execution_count": 74,
      "outputs": [
        {
          "output_type": "stream",
          "name": "stdout",
          "text": [
            "[' the ', ' the ']\n"
          ]
        }
      ]
    },
    {
      "cell_type": "markdown",
      "source": [
        "Por fim"
      ],
      "metadata": {
        "id": "hYX__UT27RmW"
      }
    },
    {
      "cell_type": "code",
      "source": [
        "result =re.findall(r'[^A-Za-z][Tt]he[^A-Za-z]',thetext)\n",
        "print(result)"
      ],
      "metadata": {
        "id": "2tsdQTKW7Rs6",
        "outputId": "9fc5c354-1afa-40da-8a68-b438b1078391",
        "colab": {
          "base_uri": "https://localhost:8080/"
        }
      },
      "execution_count": 60,
      "outputs": [
        {
          "output_type": "stream",
          "name": "stdout",
          "text": [
            "[' the ', ' the ']\n"
          ]
        }
      ]
    },
    {
      "cell_type": "markdown",
      "source": [
        "## 3.4. Exercício"
      ],
      "metadata": {
        "id": "23FeadZi0Sxq"
      }
    },
    {
      "cell_type": "code",
      "source": [
        "dosp_input = '((TITULO))CONTRAÇÃO DE NATUREZA ARTÍSTICA\\n((TEXTO))((NG)) Publicado por omissão no D.O.C de 23.01.2016 (CL))\\n((NG)) Processo SEI 6025.2016/0000154-0((CL))\\nÀ vista dos elementos constantes do presente, em especial o Parecer da Comissão de Atividades Artísticas e Culturais, na competência a mim delegada pela Portaria nº 19/2006 – SMC.G, ((NG))AUTORIZO,((CL)) com fundamento no artigo 25, inciso III, da Lei Federal nº 8.666/1993 e alterações posteriores, artigo 1º da Lei Municipal 13.278/2002, nos termos dos artigos 16 e 17 do Decreto Municipal nº 44.279/2003, a contratação dos serviços de natureza artística nas condições abaixo estipuladas, observada a legislação vigente e demais cautelas legais: ((NG))CONTRATADO: ((CL))Tatiana Weberman (CPF nº 280.704.688-66), nome artístico “Tatiana Weberman”, conforme a Declaração de Exclusividade, por intermédio de DFJV PRODUÇÕES ARTÍSTICAS E CULTURAIS LTDA – ME, inscrita no CNPJ sob o nº 22.130.863/0001-16. ((NG))OBJETO:((CL)) Apresentação da intervenção artística intitulada “Slow Kids”, conforme proposta e programação oficial do evento, a ser realizada em 24 e 25 de janeiro de 2016.\\n((NG))VALOR GLOBAL: ((CL))R$ 117.650,00 (cento e dezessete mil, seiscentos e cinquenta reais), a serem pagos em parcela única, após a confirmação da execução dos serviços pela unidade requisitante.\\n((NG))DOTAÇÃO ORÇAMENTÁRIA:((CL)) 25.10 13.392.3001.6.354 3.3.90.39.00 00, conforme anotação de reserva de recursos.Nos termos do art. 6º do Decreto Municipal nº 54.873/2014, designo Ana Carollina Correa, RF 812.640.2, como fiscal do contrato e Luciana Schwinden, RF 791.181.5, como suplente.'"
      ],
      "metadata": {
        "id": "r8QnfbxCzlGF"
      },
      "execution_count": 61,
      "outputs": []
    },
    {
      "cell_type": "code",
      "source": [
        "print(dosp_input)"
      ],
      "metadata": {
        "id": "MPbEuNn2z9fw",
        "outputId": "b9752af4-9f9c-46c3-a75d-efc9415e5ba9",
        "colab": {
          "base_uri": "https://localhost:8080/"
        }
      },
      "execution_count": 62,
      "outputs": [
        {
          "output_type": "stream",
          "name": "stdout",
          "text": [
            "((TITULO))CONTRAÇÃO DE NATUREZA ARTÍSTICA\n",
            "((TEXTO))((NG)) Publicado por omissão no D.O.C de 23.01.2016 (CL))\n",
            "((NG)) Processo SEI 6025.2016/0000154-0((CL))\n",
            "À vista dos elementos constantes do presente, em especial o Parecer da Comissão de Atividades Artísticas e Culturais, na competência a mim delegada pela Portaria nº 19/2006 – SMC.G, ((NG))AUTORIZO,((CL)) com fundamento no artigo 25, inciso III, da Lei Federal nº 8.666/1993 e alterações posteriores, artigo 1º da Lei Municipal 13.278/2002, nos termos dos artigos 16 e 17 do Decreto Municipal nº 44.279/2003, a contratação dos serviços de natureza artística nas condições abaixo estipuladas, observada a legislação vigente e demais cautelas legais: ((NG))CONTRATADO: ((CL))Tatiana Weberman (CPF nº 280.704.688-66), nome artístico “Tatiana Weberman”, conforme a Declaração de Exclusividade, por intermédio de DFJV PRODUÇÕES ARTÍSTICAS E CULTURAIS LTDA – ME, inscrita no CNPJ sob o nº 22.130.863/0001-16. ((NG))OBJETO:((CL)) Apresentação da intervenção artística intitulada “Slow Kids”, conforme proposta e programação oficial do evento, a ser realizada em 24 e 25 de janeiro de 2016.\n",
            "((NG))VALOR GLOBAL: ((CL))R$ 117.650,00 (cento e dezessete mil, seiscentos e cinquenta reais), a serem pagos em parcela única, após a confirmação da execução dos serviços pela unidade requisitante.\n",
            "((NG))DOTAÇÃO ORÇAMENTÁRIA:((CL)) 25.10 13.392.3001.6.354 3.3.90.39.00 00, conforme anotação de reserva de recursos.Nos termos do art. 6º do Decreto Municipal nº 54.873/2014, designo Ana Carollina Correa, RF 812.640.2, como fiscal do contrato e Luciana Schwinden, RF 791.181.5, como suplente.\n"
          ]
        }
      ]
    },
    {
      "cell_type": "markdown",
      "source": [
        "Um RegEx para pegar os números da dotação orçamentária"
      ],
      "metadata": {
        "id": "SutaI7ee0aK5"
      }
    },
    {
      "cell_type": "code",
      "source": [
        "do = re.findall(r\"^DOTAÇÃO.*.$\",dosp_input)\n",
        "print(do)"
      ],
      "metadata": {
        "id": "Rmoar5fX0XSK",
        "outputId": "c9fe28c8-38b4-47ca-eebd-7ff796415c14",
        "colab": {
          "base_uri": "https://localhost:8080/"
        }
      },
      "execution_count": 94,
      "outputs": [
        {
          "output_type": "stream",
          "name": "stdout",
          "text": [
            "[]\n"
          ]
        }
      ]
    },
    {
      "cell_type": "code",
      "source": [
        "do = re.findall(r'.*^DOTAÇÃO.*\\.$',dosp_input)\n",
        "print(do)\n"
      ],
      "metadata": {
        "id": "fPm2co_P4w2_",
        "outputId": "09a8914c-ddd6-4d7f-bb8d-d6bd00395de0",
        "colab": {
          "base_uri": "https://localhost:8080/"
        }
      },
      "execution_count": 91,
      "outputs": [
        {
          "output_type": "stream",
          "name": "stdout",
          "text": [
            "[]\n"
          ]
        }
      ]
    }
  ]
}
