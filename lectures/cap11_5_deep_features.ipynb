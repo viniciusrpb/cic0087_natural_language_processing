{
  "nbformat": 4,
  "nbformat_minor": 0,
  "metadata": {
    "colab": {
      "provenance": [],
      "collapsed_sections": [],
      "authorship_tag": "ABX9TyPnqyf2pdFXgh8UHJF9BF1x",
      "include_colab_link": true
    },
    "kernelspec": {
      "name": "python3",
      "display_name": "Python 3"
    },
    "language_info": {
      "name": "python"
    },
    "gpuClass": "standard",
    "accelerator": "GPU"
  },
  "cells": [
    {
      "cell_type": "markdown",
      "metadata": {
        "id": "view-in-github",
        "colab_type": "text"
      },
      "source": [
        "<a href=\"https://colab.research.google.com/github/viniciusrpb/cic0269_natural_language_processing/blob/main/lectures/cap11_5_deep_features.ipynb\" target=\"_parent\"><img src=\"https://colab.research.google.com/assets/colab-badge.svg\" alt=\"Open In Colab\"/></a>"
      ]
    },
    {
      "cell_type": "markdown",
      "source": [
        "#Capítulo 11 - Redes Neurais Convolucionais\n",
        "\n",
        "## 11.5 - Extração de Deep Features"
      ],
      "metadata": {
        "id": "aab4WW7ehp1i"
      }
    },
    {
      "cell_type": "markdown",
      "source": [
        "Informações sobre a coleção de imagens utilizada. É uma amostragem aleatória do conjunto"
      ],
      "metadata": {
        "id": "TqbCGYPXBXdB"
      }
    },
    {
      "cell_type": "code",
      "source": [
        "!pip install -U keras\n",
        "!pip install tensorflow"
      ],
      "metadata": {
        "id": "6dfyHBHHhQqD",
        "colab": {
          "base_uri": "https://localhost:8080/"
        },
        "outputId": "92004089-bf0e-4d9b-950a-e2279625320c"
      },
      "execution_count": 1,
      "outputs": [
        {
          "output_type": "stream",
          "name": "stdout",
          "text": [
            "Looking in indexes: https://pypi.org/simple, https://us-python.pkg.dev/colab-wheels/public/simple/\n",
            "Requirement already satisfied: keras in /usr/local/lib/python3.7/dist-packages (2.9.0)\n",
            "Collecting keras\n",
            "  Downloading keras-2.10.0-py2.py3-none-any.whl (1.7 MB)\n",
            "\u001b[K     |████████████████████████████████| 1.7 MB 4.7 MB/s \n",
            "\u001b[?25hInstalling collected packages: keras\n",
            "  Attempting uninstall: keras\n",
            "    Found existing installation: keras 2.9.0\n",
            "    Uninstalling keras-2.9.0:\n",
            "      Successfully uninstalled keras-2.9.0\n",
            "\u001b[31mERROR: pip's dependency resolver does not currently take into account all the packages that are installed. This behaviour is the source of the following dependency conflicts.\n",
            "tensorflow 2.9.2 requires keras<2.10.0,>=2.9.0rc0, but you have keras 2.10.0 which is incompatible.\u001b[0m\n",
            "Successfully installed keras-2.10.0\n",
            "Looking in indexes: https://pypi.org/simple, https://us-python.pkg.dev/colab-wheels/public/simple/\n",
            "Requirement already satisfied: tensorflow in /usr/local/lib/python3.7/dist-packages (2.9.2)\n",
            "Requirement already satisfied: gast<=0.4.0,>=0.2.1 in /usr/local/lib/python3.7/dist-packages (from tensorflow) (0.4.0)\n",
            "Requirement already satisfied: termcolor>=1.1.0 in /usr/local/lib/python3.7/dist-packages (from tensorflow) (2.0.1)\n",
            "Requirement already satisfied: grpcio<2.0,>=1.24.3 in /usr/local/lib/python3.7/dist-packages (from tensorflow) (1.49.1)\n",
            "Requirement already satisfied: flatbuffers<2,>=1.12 in /usr/local/lib/python3.7/dist-packages (from tensorflow) (1.12)\n",
            "Requirement already satisfied: google-pasta>=0.1.1 in /usr/local/lib/python3.7/dist-packages (from tensorflow) (0.2.0)\n",
            "Requirement already satisfied: packaging in /usr/local/lib/python3.7/dist-packages (from tensorflow) (21.3)\n",
            "Collecting keras<2.10.0,>=2.9.0rc0\n",
            "  Downloading keras-2.9.0-py2.py3-none-any.whl (1.6 MB)\n",
            "\u001b[K     |████████████████████████████████| 1.6 MB 4.7 MB/s \n",
            "\u001b[?25hRequirement already satisfied: tensorboard<2.10,>=2.9 in /usr/local/lib/python3.7/dist-packages (from tensorflow) (2.9.1)\n",
            "Requirement already satisfied: libclang>=13.0.0 in /usr/local/lib/python3.7/dist-packages (from tensorflow) (14.0.6)\n",
            "Requirement already satisfied: tensorflow-io-gcs-filesystem>=0.23.1 in /usr/local/lib/python3.7/dist-packages (from tensorflow) (0.27.0)\n",
            "Requirement already satisfied: astunparse>=1.6.0 in /usr/local/lib/python3.7/dist-packages (from tensorflow) (1.6.3)\n",
            "Requirement already satisfied: setuptools in /usr/local/lib/python3.7/dist-packages (from tensorflow) (57.4.0)\n",
            "Requirement already satisfied: typing-extensions>=3.6.6 in /usr/local/lib/python3.7/dist-packages (from tensorflow) (4.1.1)\n",
            "Requirement already satisfied: keras-preprocessing>=1.1.1 in /usr/local/lib/python3.7/dist-packages (from tensorflow) (1.1.2)\n",
            "Requirement already satisfied: opt-einsum>=2.3.2 in /usr/local/lib/python3.7/dist-packages (from tensorflow) (3.3.0)\n",
            "Requirement already satisfied: absl-py>=1.0.0 in /usr/local/lib/python3.7/dist-packages (from tensorflow) (1.3.0)\n",
            "Requirement already satisfied: protobuf<3.20,>=3.9.2 in /usr/local/lib/python3.7/dist-packages (from tensorflow) (3.17.3)\n",
            "Requirement already satisfied: six>=1.12.0 in /usr/local/lib/python3.7/dist-packages (from tensorflow) (1.15.0)\n",
            "Requirement already satisfied: tensorflow-estimator<2.10.0,>=2.9.0rc0 in /usr/local/lib/python3.7/dist-packages (from tensorflow) (2.9.0)\n",
            "Requirement already satisfied: wrapt>=1.11.0 in /usr/local/lib/python3.7/dist-packages (from tensorflow) (1.14.1)\n",
            "Requirement already satisfied: h5py>=2.9.0 in /usr/local/lib/python3.7/dist-packages (from tensorflow) (3.1.0)\n",
            "Requirement already satisfied: numpy>=1.20 in /usr/local/lib/python3.7/dist-packages (from tensorflow) (1.21.6)\n",
            "Requirement already satisfied: wheel<1.0,>=0.23.0 in /usr/local/lib/python3.7/dist-packages (from astunparse>=1.6.0->tensorflow) (0.37.1)\n",
            "Requirement already satisfied: cached-property in /usr/local/lib/python3.7/dist-packages (from h5py>=2.9.0->tensorflow) (1.5.2)\n",
            "Requirement already satisfied: markdown>=2.6.8 in /usr/local/lib/python3.7/dist-packages (from tensorboard<2.10,>=2.9->tensorflow) (3.4.1)\n",
            "Requirement already satisfied: google-auth<3,>=1.6.3 in /usr/local/lib/python3.7/dist-packages (from tensorboard<2.10,>=2.9->tensorflow) (1.35.0)\n",
            "Requirement already satisfied: tensorboard-plugin-wit>=1.6.0 in /usr/local/lib/python3.7/dist-packages (from tensorboard<2.10,>=2.9->tensorflow) (1.8.1)\n",
            "Requirement already satisfied: google-auth-oauthlib<0.5,>=0.4.1 in /usr/local/lib/python3.7/dist-packages (from tensorboard<2.10,>=2.9->tensorflow) (0.4.6)\n",
            "Requirement already satisfied: tensorboard-data-server<0.7.0,>=0.6.0 in /usr/local/lib/python3.7/dist-packages (from tensorboard<2.10,>=2.9->tensorflow) (0.6.1)\n",
            "Requirement already satisfied: werkzeug>=1.0.1 in /usr/local/lib/python3.7/dist-packages (from tensorboard<2.10,>=2.9->tensorflow) (1.0.1)\n",
            "Requirement already satisfied: requests<3,>=2.21.0 in /usr/local/lib/python3.7/dist-packages (from tensorboard<2.10,>=2.9->tensorflow) (2.23.0)\n",
            "Requirement already satisfied: rsa<5,>=3.1.4 in /usr/local/lib/python3.7/dist-packages (from google-auth<3,>=1.6.3->tensorboard<2.10,>=2.9->tensorflow) (4.9)\n",
            "Requirement already satisfied: cachetools<5.0,>=2.0.0 in /usr/local/lib/python3.7/dist-packages (from google-auth<3,>=1.6.3->tensorboard<2.10,>=2.9->tensorflow) (4.2.4)\n",
            "Requirement already satisfied: pyasn1-modules>=0.2.1 in /usr/local/lib/python3.7/dist-packages (from google-auth<3,>=1.6.3->tensorboard<2.10,>=2.9->tensorflow) (0.2.8)\n",
            "Requirement already satisfied: requests-oauthlib>=0.7.0 in /usr/local/lib/python3.7/dist-packages (from google-auth-oauthlib<0.5,>=0.4.1->tensorboard<2.10,>=2.9->tensorflow) (1.3.1)\n",
            "Requirement already satisfied: importlib-metadata>=4.4 in /usr/local/lib/python3.7/dist-packages (from markdown>=2.6.8->tensorboard<2.10,>=2.9->tensorflow) (4.13.0)\n",
            "Requirement already satisfied: zipp>=0.5 in /usr/local/lib/python3.7/dist-packages (from importlib-metadata>=4.4->markdown>=2.6.8->tensorboard<2.10,>=2.9->tensorflow) (3.9.0)\n",
            "Requirement already satisfied: pyasn1<0.5.0,>=0.4.6 in /usr/local/lib/python3.7/dist-packages (from pyasn1-modules>=0.2.1->google-auth<3,>=1.6.3->tensorboard<2.10,>=2.9->tensorflow) (0.4.8)\n",
            "Requirement already satisfied: urllib3!=1.25.0,!=1.25.1,<1.26,>=1.21.1 in /usr/local/lib/python3.7/dist-packages (from requests<3,>=2.21.0->tensorboard<2.10,>=2.9->tensorflow) (1.24.3)\n",
            "Requirement already satisfied: idna<3,>=2.5 in /usr/local/lib/python3.7/dist-packages (from requests<3,>=2.21.0->tensorboard<2.10,>=2.9->tensorflow) (2.10)\n",
            "Requirement already satisfied: certifi>=2017.4.17 in /usr/local/lib/python3.7/dist-packages (from requests<3,>=2.21.0->tensorboard<2.10,>=2.9->tensorflow) (2022.9.24)\n",
            "Requirement already satisfied: chardet<4,>=3.0.2 in /usr/local/lib/python3.7/dist-packages (from requests<3,>=2.21.0->tensorboard<2.10,>=2.9->tensorflow) (3.0.4)\n",
            "Requirement already satisfied: oauthlib>=3.0.0 in /usr/local/lib/python3.7/dist-packages (from requests-oauthlib>=0.7.0->google-auth-oauthlib<0.5,>=0.4.1->tensorboard<2.10,>=2.9->tensorflow) (3.2.1)\n",
            "Requirement already satisfied: pyparsing!=3.0.5,>=2.0.2 in /usr/local/lib/python3.7/dist-packages (from packaging->tensorflow) (3.0.9)\n",
            "Installing collected packages: keras\n",
            "  Attempting uninstall: keras\n",
            "    Found existing installation: keras 2.10.0\n",
            "    Uninstalling keras-2.10.0:\n",
            "      Successfully uninstalled keras-2.10.0\n",
            "Successfully installed keras-2.9.0\n"
          ]
        }
      ]
    },
    {
      "cell_type": "markdown",
      "source": [
        "### Leitura das imagens\n",
        "\n",
        "Veja informações sobre a leitura das imagens e a organização das pastas do dataset nesse [Python Notebook](lectures/cap11_2_cnn_alexnet.ipynb). Não faremos nada diferente por enquanto.\n",
        "\n",
        "Supondo que a pasta \"documents\" esteja no Google Drive, vamos montar o drive e copiar a pasta para o ambiente no Colab:"
      ],
      "metadata": {
        "id": "fGQCcH0fCUlt"
      }
    },
    {
      "cell_type": "code",
      "source": [
        "from google.colab import drive\n",
        "drive.mount('/content/drive')"
      ],
      "metadata": {
        "id": "tb5JozJiFDBb",
        "colab": {
          "base_uri": "https://localhost:8080/"
        },
        "outputId": "2563250a-3f44-4447-8537-1199260c0ec2"
      },
      "execution_count": 2,
      "outputs": [
        {
          "output_type": "stream",
          "name": "stdout",
          "text": [
            "Mounted at /content/drive\n"
          ]
        }
      ]
    },
    {
      "cell_type": "code",
      "source": [
        "!cp -r '/content/drive/MyDrive/ocr/full_3/' 'documents'"
      ],
      "metadata": {
        "id": "SbzoQKYgFj18"
      },
      "execution_count": 3,
      "outputs": []
    },
    {
      "cell_type": "markdown",
      "source": [
        "Fazendo-se os imports necessários:"
      ],
      "metadata": {
        "id": "_ZpGpiGiHeGM"
      }
    },
    {
      "cell_type": "code",
      "source": [
        "from tensorflow.keras.models import Sequential,Model\n",
        "from tensorflow.keras.applications.resnet50 import ResNet50\n",
        "from keras.layers import Dense,Activation,Conv2D,MaxPooling2D,BatchNormalization,Flatten,Dropout,Input\n",
        "from tensorflow.keras.optimizers import SGD\n",
        "from tensorflow.keras.preprocessing.image import ImageDataGenerator\n",
        "from tensorflow.keras import layers\n",
        "from sklearn.model_selection import train_test_split\n",
        "from sklearn.metrics import classification_report\n",
        "import matplotlib.pyplot as plt\n",
        "import numpy as np\n",
        "import pandas as pd\n",
        "import os"
      ],
      "metadata": {
        "id": "y6JFUcrWhSaB"
      },
      "execution_count": 4,
      "outputs": []
    },
    {
      "cell_type": "markdown",
      "source": [
        "Leitura de dados"
      ],
      "metadata": {
        "id": "mMlOC9NtJQNF"
      }
    },
    {
      "cell_type": "code",
      "source": [
        "path_documents = 'documents'\n",
        "lista_subfolders = os.listdir(path_documents)\n",
        "\n",
        "dataset_dict = {}\n",
        "\n",
        "dataset_dict['filename'] = []\n",
        "dataset_dict['label'] = []\n",
        "\n",
        "for folder in lista_subfolders:\n",
        "    lista_imagens = os.listdir(path_documents+'/'+folder)\n",
        "\n",
        "    for img_file in lista_imagens:\n",
        "        dataset_dict['filename'].append(folder+'/'+img_file)\n",
        "        dataset_dict['label'].append(folder)"
      ],
      "metadata": {
        "id": "eITuq3OnKdEq"
      },
      "execution_count": 5,
      "outputs": []
    },
    {
      "cell_type": "code",
      "source": [
        "df = pd.DataFrame(dataset_dict,columns=['filename','label'])"
      ],
      "metadata": {
        "id": "McRygJeDNIlQ"
      },
      "execution_count": 6,
      "outputs": []
    },
    {
      "cell_type": "code",
      "source": [
        "X = df['filename'].values\n",
        "y = df['label'].values"
      ],
      "metadata": {
        "id": "q2vXYvZJKxeB"
      },
      "execution_count": 7,
      "outputs": []
    },
    {
      "cell_type": "code",
      "source": [
        "X_train, X_test, y_train, y_test = train_test_split(X, y, test_size=0.3, random_state=45)\n",
        "X_valid, X_test, y_valid, y_test = train_test_split(X_test, y_test, test_size=0.6, random_state=45)"
      ],
      "metadata": {
        "id": "ku6mg89eJms9"
      },
      "execution_count": 8,
      "outputs": []
    },
    {
      "cell_type": "markdown",
      "source": [
        "Criação dos logits dos labels"
      ],
      "metadata": {
        "id": "NmXVHUj6OsbQ"
      }
    },
    {
      "cell_type": "code",
      "source": [
        "from keras.utils.np_utils import to_categorical\n",
        "\n",
        "train_labels = pd.Categorical(y_train)\n",
        "valid_labels = pd.Categorical(y_valid)\n",
        "test_labels = pd.Categorical(y_test)\n",
        "\n",
        "y_train_int = train_labels.codes\n",
        "y_valid_int = valid_labels.codes\n",
        "y_test_int = test_labels.codes\n",
        "\n",
        "y_train_logits = to_categorical(y_train_int)\n",
        "y_valid_logits = to_categorical(y_valid_int)\n",
        "y_test_logits = to_categorical(y_test_int)"
      ],
      "metadata": {
        "id": "8sPRtB2oOujl"
      },
      "execution_count": 9,
      "outputs": []
    },
    {
      "cell_type": "code",
      "source": [
        "lista_train = []\n",
        "for i in range(0,len(X_train)):\n",
        "    lista_train.append([X_train[i],y_train[i]])\n",
        "\n",
        "lista_valid = []\n",
        "for i in range(0,len(X_valid)):\n",
        "    lista_valid.append([X_valid[i],y_valid[i]])\n",
        "\n",
        "lista_test = []\n",
        "for i in range(0,len(X_test)):\n",
        "    lista_test.append([X_test[i],y_test[i]])"
      ],
      "metadata": {
        "id": "TkbKFucdQ7C2"
      },
      "execution_count": 10,
      "outputs": []
    },
    {
      "cell_type": "code",
      "source": [
        "df_train = pd.DataFrame(lista_train,columns = ['filename','label'])\n",
        "df_valid = pd.DataFrame(lista_valid,columns = ['filename','label'])\n",
        "df_test = pd.DataFrame(lista_test,columns = ['filename','label'])"
      ],
      "metadata": {
        "id": "agY1B8lPRt0j"
      },
      "execution_count": 11,
      "outputs": []
    },
    {
      "cell_type": "code",
      "source": [
        "datagen = ImageDataGenerator(rescale=1./255)\n",
        "\n",
        "train_generator = datagen.flow_from_dataframe(df_train,\n",
        "                                              directory=path_documents,\n",
        "                                              x_col='filename',y_col='label',\n",
        "                                              class_mode='categorical',\n",
        "                                              shuffle=True)\n",
        "\n",
        "valid_generator = datagen.flow_from_dataframe(df_valid,\n",
        "                                              directory=path_documents,\n",
        "                                              x_col='filename',y_col='label',\n",
        "                                              class_mode='categorical',\n",
        "                                              shuffle=False)\n",
        "\n",
        "test_generator = datagen.flow_from_dataframe(df_test,\n",
        "                                              directory=path_documents,\n",
        "                                              x_col='filename',y_col='label',\n",
        "                                             class_mode='categorical',\n",
        "                                              shuffle=False)\n"
      ],
      "metadata": {
        "colab": {
          "base_uri": "https://localhost:8080/"
        },
        "id": "y9YGsrzzJRrr",
        "outputId": "64ea742a-30bd-4e83-d4fc-8bedec9bfce6"
      },
      "execution_count": 12,
      "outputs": [
        {
          "output_type": "stream",
          "name": "stdout",
          "text": [
            "Found 2072 validated image filenames belonging to 3 classes.\n",
            "Found 355 validated image filenames belonging to 3 classes.\n",
            "Found 534 validated image filenames belonging to 3 classes.\n"
          ]
        }
      ]
    },
    {
      "cell_type": "markdown",
      "source": [
        "Hyperparameters"
      ],
      "metadata": {
        "id": "A9i8TjKRjHJ1"
      }
    },
    {
      "cell_type": "code",
      "source": [
        "dims = (224,224,3)\n",
        "dimensionality = 1000\n",
        "num_classes = 3"
      ],
      "metadata": {
        "id": "vwZ2ynTPjHRI"
      },
      "execution_count": 13,
      "outputs": []
    },
    {
      "cell_type": "code",
      "source": [
        "pre_trained_model = ResNet50(input_shape=(224,224,3),\n",
        "    include_top=False,\n",
        "    pooling ='avg',\n",
        "    weights=\"imagenet\")\n",
        "\n",
        "for layer in pre_trained_model.layers:\n",
        "    layer.trainable = False\n",
        "\n",
        "inputs = Input(shape=(224,224,3))\n",
        "\n",
        "x = pre_trained_model(inputs)\n",
        "\n",
        "flat = Flatten()(x)\n",
        "\n",
        "deep_features = Dense(dimensionality, activation='relu')(flat)\n",
        "\n",
        "outputs = Dense(num_classes,activation='softmax')(deep_features)"
      ],
      "metadata": {
        "id": "ADggsOKeh1Lc",
        "colab": {
          "base_uri": "https://localhost:8080/"
        },
        "outputId": "56de593d-b921-46ca-a5e8-156e6fe9b92e"
      },
      "execution_count": 14,
      "outputs": [
        {
          "output_type": "stream",
          "name": "stdout",
          "text": [
            "Downloading data from https://storage.googleapis.com/tensorflow/keras-applications/resnet/resnet50_weights_tf_dim_ordering_tf_kernels_notop.h5\n",
            "94765736/94765736 [==============================] - 1s 0us/step\n"
          ]
        }
      ]
    },
    {
      "cell_type": "code",
      "source": [
        "model = Model(inputs=inputs, outputs=outputs)\n",
        "model.summary()"
      ],
      "metadata": {
        "colab": {
          "base_uri": "https://localhost:8080/"
        },
        "id": "1dPoAyxJqk7l",
        "outputId": "8287d762-88c4-49f2-da28-612acad7620c"
      },
      "execution_count": 15,
      "outputs": [
        {
          "output_type": "stream",
          "name": "stdout",
          "text": [
            "Model: \"model\"\n",
            "_________________________________________________________________\n",
            " Layer (type)                Output Shape              Param #   \n",
            "=================================================================\n",
            " input_2 (InputLayer)        [(None, 224, 224, 3)]     0         \n",
            "                                                                 \n",
            " resnet50 (Functional)       (None, 2048)              23587712  \n",
            "                                                                 \n",
            " flatten (Flatten)           (None, 2048)              0         \n",
            "                                                                 \n",
            " dense (Dense)               (None, 1000)              2049000   \n",
            "                                                                 \n",
            " dense_1 (Dense)             (None, 3)                 3003      \n",
            "                                                                 \n",
            "=================================================================\n",
            "Total params: 25,639,715\n",
            "Trainable params: 2,052,003\n",
            "Non-trainable params: 23,587,712\n",
            "_________________________________________________________________\n"
          ]
        }
      ]
    },
    {
      "cell_type": "code",
      "source": [
        "sgd = SGD(learning_rate=0.001)\n",
        "\n",
        "model.compile(optimizer=sgd,loss=\"categorical_crossentropy\",metrics=['accuracy'])\n",
        "\n",
        "history_fine =model.fit(train_generator,\n",
        "                        epochs=15,\n",
        "                        batch_size=32,\n",
        "                        validation_data=valid_generator)"
      ],
      "metadata": {
        "id": "_UPcf4FSHnw6",
        "colab": {
          "base_uri": "https://localhost:8080/"
        },
        "outputId": "31c5a6e1-2a0e-4b65-8047-a908ddea7b7c"
      },
      "execution_count": 16,
      "outputs": [
        {
          "output_type": "stream",
          "name": "stdout",
          "text": [
            "Epoch 1/10\n",
            "65/65 [==============================] - 24s 200ms/step - loss: 0.9188 - accuracy: 0.7317 - val_loss: 0.7883 - val_accuracy: 0.8394\n",
            "Epoch 2/10\n",
            "65/65 [==============================] - 11s 170ms/step - loss: 0.7470 - accuracy: 0.8002 - val_loss: 0.7033 - val_accuracy: 0.8197\n",
            "Epoch 3/10\n",
            "65/65 [==============================] - 11s 168ms/step - loss: 0.6787 - accuracy: 0.8224 - val_loss: 0.6626 - val_accuracy: 0.8000\n",
            "Epoch 4/10\n",
            "65/65 [==============================] - 11s 169ms/step - loss: 0.6347 - accuracy: 0.8238 - val_loss: 0.6178 - val_accuracy: 0.8197\n",
            "Epoch 5/10\n",
            "65/65 [==============================] - 11s 171ms/step - loss: 0.5990 - accuracy: 0.8292 - val_loss: 0.6084 - val_accuracy: 0.8113\n",
            "Epoch 6/10\n",
            "65/65 [==============================] - 11s 171ms/step - loss: 0.5736 - accuracy: 0.8340 - val_loss: 0.5654 - val_accuracy: 0.8254\n",
            "Epoch 7/10\n",
            "65/65 [==============================] - 11s 169ms/step - loss: 0.5530 - accuracy: 0.8364 - val_loss: 0.5508 - val_accuracy: 0.8225\n",
            "Epoch 8/10\n",
            "65/65 [==============================] - 12s 186ms/step - loss: 0.5350 - accuracy: 0.8398 - val_loss: 0.5461 - val_accuracy: 0.8366\n",
            "Epoch 9/10\n",
            "65/65 [==============================] - 12s 176ms/step - loss: 0.5208 - accuracy: 0.8451 - val_loss: 0.5241 - val_accuracy: 0.8423\n",
            "Epoch 10/10\n",
            "65/65 [==============================] - 11s 169ms/step - loss: 0.5086 - accuracy: 0.8398 - val_loss: 0.5159 - val_accuracy: 0.8254\n"
          ]
        }
      ]
    },
    {
      "cell_type": "code",
      "source": [
        "loss = history_fine.history['loss']\n",
        "val_loss = history_fine.history['val_loss']\n",
        "\n",
        "plt.plot(history_fine.history['loss'])\n",
        "plt.plot(history_fine.history['val_loss'])\n",
        "plt.title('model loss')\n",
        "plt.ylabel('loss')\n",
        "plt.xlabel('epoch')\n",
        "plt.legend(['training set','validation set'], loc='upper left')\n",
        "plt.show()"
      ],
      "metadata": {
        "id": "tjI0SUBHYsNk",
        "colab": {
          "base_uri": "https://localhost:8080/",
          "height": 295
        },
        "outputId": "3f6af522-24da-45ed-bd65-5b3154ca80d6"
      },
      "execution_count": 17,
      "outputs": [
        {
          "output_type": "display_data",
          "data": {
            "text/plain": [
              "<Figure size 432x288 with 1 Axes>"
            ],
            "image/png": "[encoded data removed]"
          },
          "metadata": {
            "needs_background": "light"
          }
        }
      ]
    },
    {
      "cell_type": "markdown",
      "source": [
        "Provavelmente temos um underfitting... tentando de novo"
      ],
      "metadata": {
        "id": "gyUZenhW6lh0"
      }
    },
    {
      "cell_type": "code",
      "source": [
        "model2 = Model(inputs=inputs, outputs=model.layers[-2].output)\n",
        "model2.summary()"
      ],
      "metadata": {
        "colab": {
          "base_uri": "https://localhost:8080/"
        },
        "id": "3k7a4RwJi9xQ",
        "outputId": "793f08fd-46cd-4684-cead-9e97a055b0f2"
      },
      "execution_count": 18,
      "outputs": [
        {
          "output_type": "stream",
          "name": "stdout",
          "text": [
            "Model: \"model_1\"\n",
            "_________________________________________________________________\n",
            " Layer (type)                Output Shape              Param #   \n",
            "=================================================================\n",
            " input_2 (InputLayer)        [(None, 224, 224, 3)]     0         \n",
            "                                                                 \n",
            " resnet50 (Functional)       (None, 2048)              23587712  \n",
            "                                                                 \n",
            " flatten (Flatten)           (None, 2048)              0         \n",
            "                                                                 \n",
            " dense (Dense)               (None, 1000)              2049000   \n",
            "                                                                 \n",
            "=================================================================\n",
            "Total params: 25,636,712\n",
            "Trainable params: 2,049,000\n",
            "Non-trainable params: 23,587,712\n",
            "_________________________________________________________________\n"
          ]
        }
      ]
    },
    {
      "cell_type": "code",
      "source": [
        "feat_vectors_train = model2.predict(train_generator)\n",
        "feat_vectors_valid = model2.predict(valid_generator)\n",
        "feat_vectors_test = model2.predict(test_generator)"
      ],
      "metadata": {
        "colab": {
          "base_uri": "https://localhost:8080/"
        },
        "id": "LnFsQ9MM1Owe",
        "outputId": "38f0cb09-72a2-4d34-9fc7-2f4236382e42"
      },
      "execution_count": 19,
      "outputs": [
        {
          "output_type": "stream",
          "name": "stdout",
          "text": [
            "65/65 [==============================] - 9s 128ms/step\n",
            "12/12 [==============================] - 2s 130ms/step\n",
            "17/17 [==============================] - 3s 176ms/step\n"
          ]
        }
      ]
    },
    {
      "cell_type": "code",
      "source": [
        "len(feat_vectors_train[0])"
      ],
      "metadata": {
        "colab": {
          "base_uri": "https://localhost:8080/"
        },
        "id": "qr9OkX3iticg",
        "outputId": "32d4406d-bc07-40d6-a860-2366a8d71fb5"
      },
      "execution_count": 20,
      "outputs": [
        {
          "output_type": "execute_result",
          "data": {
            "text/plain": [
              "1000"
            ]
          },
          "metadata": {},
          "execution_count": 20
        }
      ]
    },
    {
      "cell_type": "code",
      "source": [
        "from sklearn.model_selection import RandomizedSearchCV\n",
        "from sklearn.svm import SVC\n",
        "from scipy import stats\n",
        "\n",
        "clfsvm = SVC(kernel=\"rbf\", random_state = 1)\n",
        "\n",
        "rand_list = {\"C\": stats.uniform(2, 10),\n",
        "             \"gamma\": stats.uniform(1, 2)}"
      ],
      "metadata": {
        "id": "sj5ZH5Iu8Nx5"
      },
      "execution_count": 21,
      "outputs": []
    },
    {
      "cell_type": "code",
      "source": [
        "from sklearn.metrics import make_scorer, f1_score\n",
        "f1 = make_scorer(f1_score)"
      ],
      "metadata": {
        "id": "hTX4OEQBNAry"
      },
      "execution_count": 22,
      "outputs": []
    },
    {
      "cell_type": "code",
      "source": [
        "rand_search = RandomizedSearchCV(clfsvm, param_distributions = rand_list, n_iter = 20, cv=3,n_jobs = 4, random_state = 42, scoring = f1) \n",
        "rand_search.fit(feat_vectors_train, y_train) \n",
        "\n",
        "rand_search.best_params_"
      ],
      "metadata": {
        "colab": {
          "base_uri": "https://localhost:8080/"
        },
        "id": "yG2dRdML_M7B",
        "outputId": "f5fcbc67-d6da-4933-a8b1-52ee5121a3c8"
      },
      "execution_count": 27,
      "outputs": [
        {
          "output_type": "stream",
          "name": "stderr",
          "text": [
            "/usr/local/lib/python3.7/dist-packages/sklearn/model_selection/_search.py:972: UserWarning: One or more of the test scores are non-finite: [nan nan nan nan nan nan nan nan nan nan nan nan nan nan nan nan nan nan\n",
            " nan nan]\n",
            "  category=UserWarning,\n"
          ]
        },
        {
          "output_type": "execute_result",
          "data": {
            "text/plain": [
              "{'C': 5.745401188473625, 'gamma': 2.9014286128198323}"
            ]
          },
          "metadata": {},
          "execution_count": 27
        }
      ]
    },
    {
      "cell_type": "code",
      "source": [
        "clfsvm.fit(feat_vectors_train,y_train)"
      ],
      "metadata": {
        "colab": {
          "base_uri": "https://localhost:8080/"
        },
        "id": "6fidCI2OPWhA",
        "outputId": "c6102af8-9eb6-40a8-9bf6-e2c73889a6c1"
      },
      "execution_count": 28,
      "outputs": [
        {
          "output_type": "execute_result",
          "data": {
            "text/plain": [
              "SVC(random_state=1)"
            ]
          },
          "metadata": {},
          "execution_count": 28
        }
      ]
    },
    {
      "cell_type": "code",
      "source": [
        "rand_search.cv_results_"
      ],
      "metadata": {
        "id": "593ZE_U4yig_",
        "outputId": "72a968f7-627f-4273-86e9-f5863cfcd054",
        "colab": {
          "base_uri": "https://localhost:8080/"
        }
      },
      "execution_count": 31,
      "outputs": [
        {
          "output_type": "execute_result",
          "data": {
            "text/plain": [
              "{'mean_fit_time': array([3.76299032, 3.6970799 , 3.64102077, 3.7282997 , 3.59086871,\n",
              "        3.50876546, 3.59067297, 3.63276792, 3.98699919, 3.5772117 ,\n",
              "        3.5981613 , 3.68370652, 3.647036  , 3.59344721, 3.58748595,\n",
              "        3.60640709, 3.57045849, 3.56739672, 3.53198536, 3.63365547]),\n",
              " 'std_fit_time': array([0.13622683, 0.18392578, 0.09976985, 0.06981013, 0.10413248,\n",
              "        0.24075947, 0.01538848, 0.05552602, 0.17228873, 0.19140512,\n",
              "        0.09788273, 0.05960949, 0.03633425, 0.21363827, 0.11806611,\n",
              "        0.21872037, 0.13756973, 0.0941614 , 0.08788936, 0.07131601]),\n",
              " 'mean_score_time': array([2.51313734, 2.43464843, 2.46871591, 2.44375269, 2.60235445,\n",
              "        2.45766322, 2.643375  , 2.55702901, 2.58059764, 2.43751629,\n",
              "        2.46740341, 2.50547512, 2.52355019, 2.62245679, 2.39720384,\n",
              "        2.40759905, 2.59481589, 2.37693119, 2.55273875, 2.08123104]),\n",
              " 'std_score_time': array([0.07916285, 0.15101427, 0.10414821, 0.14313496, 0.11402005,\n",
              "        0.15316957, 0.08882368, 0.27113337, 0.08768085, 0.13456111,\n",
              "        0.24189289, 0.16420237, 0.09716201, 0.16107984, 0.22758232,\n",
              "        0.22132844, 0.02689526, 0.09353551, 0.04957931, 0.28737011]),\n",
              " 'param_C': masked_array(data=[5.745401188473625, 9.31993941811405, 3.560186404424365,\n",
              "                    2.580836121681995, 8.011150117432088,\n",
              "                    2.2058449429580245, 10.324426408004218,\n",
              "                    3.818249672071006, 5.042422429595377,\n",
              "                    6.319450186421157, 8.118528947223794,\n",
              "                    4.921446485352181, 6.56069984217036, 3.996737821583597,\n",
              "                    7.924145688620425, 8.075448519014383,\n",
              "                    2.650515929852795, 11.656320330745594,\n",
              "                    5.046137691733707, 8.842330265121568],\n",
              "              mask=[False, False, False, False, False, False, False, False,\n",
              "                    False, False, False, False, False, False, False, False,\n",
              "                    False, False, False, False],\n",
              "        fill_value='?',\n",
              "             dtype=object),\n",
              " 'param_gamma': masked_array(data=[2.9014286128198323, 2.197316968394073,\n",
              "                    1.3119890406724053, 2.73235229154987,\n",
              "                    2.416145155592091, 2.9398197043239884,\n",
              "                    1.4246782213565523, 1.3668090197068676,\n",
              "                    2.049512863264476, 1.5824582803960838,\n",
              "                    1.2789877213040837, 1.7327236865873834,\n",
              "                    2.570351922786027, 2.0284688768272234,\n",
              "                    1.0929008254399954, 1.341048247374583,\n",
              "                    2.8977710745066663, 2.6167946962329225,\n",
              "                    1.1953442280127677, 1.8803049874792026],\n",
              "              mask=[False, False, False, False, False, False, False, False,\n",
              "                    False, False, False, False, False, False, False, False,\n",
              "                    False, False, False, False],\n",
              "        fill_value='?',\n",
              "             dtype=object),\n",
              " 'params': [{'C': 5.745401188473625, 'gamma': 2.9014286128198323},\n",
              "  {'C': 9.31993941811405, 'gamma': 2.197316968394073},\n",
              "  {'C': 3.560186404424365, 'gamma': 1.3119890406724053},\n",
              "  {'C': 2.580836121681995, 'gamma': 2.73235229154987},\n",
              "  {'C': 8.011150117432088, 'gamma': 2.416145155592091},\n",
              "  {'C': 2.2058449429580245, 'gamma': 2.9398197043239884},\n",
              "  {'C': 10.324426408004218, 'gamma': 1.4246782213565523},\n",
              "  {'C': 3.818249672071006, 'gamma': 1.3668090197068676},\n",
              "  {'C': 5.042422429595377, 'gamma': 2.049512863264476},\n",
              "  {'C': 6.319450186421157, 'gamma': 1.5824582803960838},\n",
              "  {'C': 8.118528947223794, 'gamma': 1.2789877213040837},\n",
              "  {'C': 4.921446485352181, 'gamma': 1.7327236865873834},\n",
              "  {'C': 6.56069984217036, 'gamma': 2.570351922786027},\n",
              "  {'C': 3.996737821583597, 'gamma': 2.0284688768272234},\n",
              "  {'C': 7.924145688620425, 'gamma': 1.0929008254399954},\n",
              "  {'C': 8.075448519014383, 'gamma': 1.341048247374583},\n",
              "  {'C': 2.650515929852795, 'gamma': 2.8977710745066663},\n",
              "  {'C': 11.656320330745594, 'gamma': 2.6167946962329225},\n",
              "  {'C': 5.046137691733707, 'gamma': 1.1953442280127677},\n",
              "  {'C': 8.842330265121568, 'gamma': 1.8803049874792026}],\n",
              " 'split0_test_score': array([nan, nan, nan, nan, nan, nan, nan, nan, nan, nan, nan, nan, nan,\n",
              "        nan, nan, nan, nan, nan, nan, nan]),\n",
              " 'split1_test_score': array([nan, nan, nan, nan, nan, nan, nan, nan, nan, nan, nan, nan, nan,\n",
              "        nan, nan, nan, nan, nan, nan, nan]),\n",
              " 'split2_test_score': array([nan, nan, nan, nan, nan, nan, nan, nan, nan, nan, nan, nan, nan,\n",
              "        nan, nan, nan, nan, nan, nan, nan]),\n",
              " 'mean_test_score': array([nan, nan, nan, nan, nan, nan, nan, nan, nan, nan, nan, nan, nan,\n",
              "        nan, nan, nan, nan, nan, nan, nan]),\n",
              " 'std_test_score': array([nan, nan, nan, nan, nan, nan, nan, nan, nan, nan, nan, nan, nan,\n",
              "        nan, nan, nan, nan, nan, nan, nan]),\n",
              " 'rank_test_score': array([ 1, 18, 17, 16, 15, 14, 13, 12, 11, 10,  9,  8,  7,  6,  5,  4,  3,\n",
              "         2, 19, 20], dtype=int32)}"
            ]
          },
          "metadata": {},
          "execution_count": 31
        }
      ]
    },
    {
      "cell_type": "markdown",
      "source": [
        "Avaliação de performance com os dados de teste"
      ],
      "metadata": {
        "id": "EyzKAVDvZavU"
      }
    },
    {
      "cell_type": "code",
      "source": [
        "clfsvm = SVC(kernel=\"rbf\", random_state = 1,C=5.74,gamma=2.79)\n",
        "clfsvm.fit(feat_vectors_train,y_train)\n",
        "y_pred = clfsvm.predict(feat_vectors_test)"
      ],
      "metadata": {
        "id": "98omvivRZPye"
      },
      "execution_count": 32,
      "outputs": []
    },
    {
      "cell_type": "code",
      "source": [
        "print(classification_report(y_test,y_pred))"
      ],
      "metadata": {
        "colab": {
          "base_uri": "https://localhost:8080/"
        },
        "id": "iS7VvgytpTCT",
        "outputId": "647431b0-f1a3-4fc3-8ebf-fa2740696444"
      },
      "execution_count": 33,
      "outputs": [
        {
          "output_type": "stream",
          "name": "stdout",
          "text": [
            "                         precision    recall  f1-score   support\n",
            "\n",
            "          advertisement       0.46      0.89      0.61       171\n",
            "                  email       0.55      0.26      0.36       193\n",
            "scientific _publication       0.29      0.19      0.23       170\n",
            "\n",
            "               accuracy                           0.44       534\n",
            "              macro avg       0.43      0.45      0.40       534\n",
            "           weighted avg       0.44      0.44      0.40       534\n",
            "\n"
          ]
        }
      ]
    }
  ]
}