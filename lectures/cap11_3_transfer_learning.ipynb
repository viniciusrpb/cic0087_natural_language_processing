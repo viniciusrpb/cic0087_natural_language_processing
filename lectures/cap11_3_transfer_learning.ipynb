{
  "nbformat": 4,
  "nbformat_minor": 0,
  "metadata": {
    "colab": {
      "name": "cap11_3_transfer_learning.ipnyb",
      "provenance": [],
      "collapsed_sections": [],
      "authorship_tag": "ABX9TyNfSFhq4i3NtmXqvEnRXlUH",
      "include_colab_link": true
    },
    "kernelspec": {
      "name": "python3",
      "display_name": "Python 3"
    },
    "language_info": {
      "name": "python"
    },
    "gpuClass": "standard",
    "accelerator": "GPU"
  },
  "cells": [
    {
      "cell_type": "markdown",
      "metadata": {
        "id": "view-in-github",
        "colab_type": "text"
      },
      "source": [
        "<a href=\"https://colab.research.google.com/github/viniciusrpb/cic0269_natural_language_processing/blob/main/lectures/cap11_3_transfer_learning.ipynb\" target=\"_parent\"><img src=\"https://colab.research.google.com/assets/colab-badge.svg\" alt=\"Open In Colab\"/></a>"
      ]
    },
    {
      "cell_type": "markdown",
      "source": [
        "#Capítulo 11 - Redes Neurais Convolucionais\n",
        "\n",
        "## 11.3 - Transferência de Aprendizado"
      ],
      "metadata": {
        "id": "aab4WW7ehp1i"
      }
    },
    {
      "cell_type": "markdown",
      "source": [
        "![The-architecture-of-ResNet-50-vd-a-Stem-block-b-Stage1-Block1-c-Stage1-Block2.png](data:image/png;base64,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)"
      ],
      "metadata": {
        "id": "hb9bw9nohq9p"
      }
    },
    {
      "cell_type": "markdown",
      "source": [
        "Informações sobre a coleção de imagens utilizada. É uma amostragem aleatória do conjunto"
      ],
      "metadata": {
        "id": "TqbCGYPXBXdB"
      }
    },
    {
      "cell_type": "code",
      "source": [
        "!pip install -U keras\n",
        "!pip install tensorflow"
      ],
      "metadata": {
        "id": "6dfyHBHHhQqD",
        "colab": {
          "base_uri": "https://localhost:8080/"
        },
        "outputId": "2ecdf212-10c7-452e-e9dd-0bafc87a5fed"
      },
      "execution_count": 1,
      "outputs": [
        {
          "output_type": "stream",
          "name": "stdout",
          "text": [
            "Looking in indexes: https://pypi.org/simple, https://us-python.pkg.dev/colab-wheels/public/simple/\n",
            "Requirement already satisfied: keras in /usr/local/lib/python3.7/dist-packages (2.8.0)\n",
            "Collecting keras\n",
            "  Downloading keras-2.9.0-py2.py3-none-any.whl (1.6 MB)\n",
            "\u001b[K     |████████████████████████████████| 1.6 MB 5.3 MB/s \n",
            "\u001b[?25hInstalling collected packages: keras\n",
            "  Attempting uninstall: keras\n",
            "    Found existing installation: keras 2.8.0\n",
            "    Uninstalling keras-2.8.0:\n",
            "      Successfully uninstalled keras-2.8.0\n",
            "\u001b[31mERROR: pip's dependency resolver does not currently take into account all the packages that are installed. This behaviour is the source of the following dependency conflicts.\n",
            "tensorflow 2.8.2+zzzcolab20220719082949 requires keras<2.9,>=2.8.0rc0, but you have keras 2.9.0 which is incompatible.\u001b[0m\n",
            "Successfully installed keras-2.9.0\n",
            "Looking in indexes: https://pypi.org/simple, https://us-python.pkg.dev/colab-wheels/public/simple/\n",
            "Requirement already satisfied: tensorflow in /usr/local/lib/python3.7/dist-packages (2.8.2+zzzcolab20220719082949)\n",
            "Requirement already satisfied: wrapt>=1.11.0 in /usr/local/lib/python3.7/dist-packages (from tensorflow) (1.14.1)\n",
            "Requirement already satisfied: flatbuffers>=1.12 in /usr/local/lib/python3.7/dist-packages (from tensorflow) (2.0)\n",
            "Requirement already satisfied: opt-einsum>=2.3.2 in /usr/local/lib/python3.7/dist-packages (from tensorflow) (3.3.0)\n",
            "Requirement already satisfied: gast>=0.2.1 in /usr/local/lib/python3.7/dist-packages (from tensorflow) (0.5.3)\n",
            "Requirement already satisfied: typing-extensions>=3.6.6 in /usr/local/lib/python3.7/dist-packages (from tensorflow) (4.1.1)\n",
            "Requirement already satisfied: termcolor>=1.1.0 in /usr/local/lib/python3.7/dist-packages (from tensorflow) (1.1.0)\n",
            "Requirement already satisfied: astunparse>=1.6.0 in /usr/local/lib/python3.7/dist-packages (from tensorflow) (1.6.3)\n",
            "Requirement already satisfied: grpcio<2.0,>=1.24.3 in /usr/local/lib/python3.7/dist-packages (from tensorflow) (1.47.0)\n",
            "Requirement already satisfied: protobuf<3.20,>=3.9.2 in /usr/local/lib/python3.7/dist-packages (from tensorflow) (3.17.3)\n",
            "Requirement already satisfied: libclang>=9.0.1 in /usr/local/lib/python3.7/dist-packages (from tensorflow) (14.0.6)\n",
            "Collecting keras<2.9,>=2.8.0rc0\n",
            "  Downloading keras-2.8.0-py2.py3-none-any.whl (1.4 MB)\n",
            "\u001b[K     |████████████████████████████████| 1.4 MB 4.9 MB/s \n",
            "\u001b[?25hRequirement already satisfied: tensorboard<2.9,>=2.8 in /usr/local/lib/python3.7/dist-packages (from tensorflow) (2.8.0)\n",
            "Requirement already satisfied: tensorflow-estimator<2.9,>=2.8 in /usr/local/lib/python3.7/dist-packages (from tensorflow) (2.8.0)\n",
            "Requirement already satisfied: google-pasta>=0.1.1 in /usr/local/lib/python3.7/dist-packages (from tensorflow) (0.2.0)\n",
            "Requirement already satisfied: numpy>=1.20 in /usr/local/lib/python3.7/dist-packages (from tensorflow) (1.21.6)\n",
            "Requirement already satisfied: tensorflow-io-gcs-filesystem>=0.23.1 in /usr/local/lib/python3.7/dist-packages (from tensorflow) (0.26.0)\n",
            "Requirement already satisfied: h5py>=2.9.0 in /usr/local/lib/python3.7/dist-packages (from tensorflow) (3.1.0)\n",
            "Requirement already satisfied: setuptools in /usr/local/lib/python3.7/dist-packages (from tensorflow) (57.4.0)\n",
            "Requirement already satisfied: keras-preprocessing>=1.1.1 in /usr/local/lib/python3.7/dist-packages (from tensorflow) (1.1.2)\n",
            "Requirement already satisfied: six>=1.12.0 in /usr/local/lib/python3.7/dist-packages (from tensorflow) (1.15.0)\n",
            "Requirement already satisfied: absl-py>=0.4.0 in /usr/local/lib/python3.7/dist-packages (from tensorflow) (1.2.0)\n",
            "Requirement already satisfied: wheel<1.0,>=0.23.0 in /usr/local/lib/python3.7/dist-packages (from astunparse>=1.6.0->tensorflow) (0.37.1)\n",
            "Requirement already satisfied: cached-property in /usr/local/lib/python3.7/dist-packages (from h5py>=2.9.0->tensorflow) (1.5.2)\n",
            "Requirement already satisfied: markdown>=2.6.8 in /usr/local/lib/python3.7/dist-packages (from tensorboard<2.9,>=2.8->tensorflow) (3.4.1)\n",
            "Requirement already satisfied: tensorboard-data-server<0.7.0,>=0.6.0 in /usr/local/lib/python3.7/dist-packages (from tensorboard<2.9,>=2.8->tensorflow) (0.6.1)\n",
            "Requirement already satisfied: werkzeug>=0.11.15 in /usr/local/lib/python3.7/dist-packages (from tensorboard<2.9,>=2.8->tensorflow) (1.0.1)\n",
            "Requirement already satisfied: google-auth<3,>=1.6.3 in /usr/local/lib/python3.7/dist-packages (from tensorboard<2.9,>=2.8->tensorflow) (1.35.0)\n",
            "Requirement already satisfied: google-auth-oauthlib<0.5,>=0.4.1 in /usr/local/lib/python3.7/dist-packages (from tensorboard<2.9,>=2.8->tensorflow) (0.4.6)\n",
            "Requirement already satisfied: tensorboard-plugin-wit>=1.6.0 in /usr/local/lib/python3.7/dist-packages (from tensorboard<2.9,>=2.8->tensorflow) (1.8.1)\n",
            "Requirement already satisfied: requests<3,>=2.21.0 in /usr/local/lib/python3.7/dist-packages (from tensorboard<2.9,>=2.8->tensorflow) (2.23.0)\n",
            "Requirement already satisfied: cachetools<5.0,>=2.0.0 in /usr/local/lib/python3.7/dist-packages (from google-auth<3,>=1.6.3->tensorboard<2.9,>=2.8->tensorflow) (4.2.4)\n",
            "Requirement already satisfied: pyasn1-modules>=0.2.1 in /usr/local/lib/python3.7/dist-packages (from google-auth<3,>=1.6.3->tensorboard<2.9,>=2.8->tensorflow) (0.2.8)\n",
            "Requirement already satisfied: rsa<5,>=3.1.4 in /usr/local/lib/python3.7/dist-packages (from google-auth<3,>=1.6.3->tensorboard<2.9,>=2.8->tensorflow) (4.9)\n",
            "Requirement already satisfied: requests-oauthlib>=0.7.0 in /usr/local/lib/python3.7/dist-packages (from google-auth-oauthlib<0.5,>=0.4.1->tensorboard<2.9,>=2.8->tensorflow) (1.3.1)\n",
            "Requirement already satisfied: importlib-metadata>=4.4 in /usr/local/lib/python3.7/dist-packages (from markdown>=2.6.8->tensorboard<2.9,>=2.8->tensorflow) (4.12.0)\n",
            "Requirement already satisfied: zipp>=0.5 in /usr/local/lib/python3.7/dist-packages (from importlib-metadata>=4.4->markdown>=2.6.8->tensorboard<2.9,>=2.8->tensorflow) (3.8.1)\n",
            "Requirement already satisfied: pyasn1<0.5.0,>=0.4.6 in /usr/local/lib/python3.7/dist-packages (from pyasn1-modules>=0.2.1->google-auth<3,>=1.6.3->tensorboard<2.9,>=2.8->tensorflow) (0.4.8)\n",
            "Requirement already satisfied: idna<3,>=2.5 in /usr/local/lib/python3.7/dist-packages (from requests<3,>=2.21.0->tensorboard<2.9,>=2.8->tensorflow) (2.10)\n",
            "Requirement already satisfied: certifi>=2017.4.17 in /usr/local/lib/python3.7/dist-packages (from requests<3,>=2.21.0->tensorboard<2.9,>=2.8->tensorflow) (2022.6.15)\n",
            "Requirement already satisfied: urllib3!=1.25.0,!=1.25.1,<1.26,>=1.21.1 in /usr/local/lib/python3.7/dist-packages (from requests<3,>=2.21.0->tensorboard<2.9,>=2.8->tensorflow) (1.24.3)\n",
            "Requirement already satisfied: chardet<4,>=3.0.2 in /usr/local/lib/python3.7/dist-packages (from requests<3,>=2.21.0->tensorboard<2.9,>=2.8->tensorflow) (3.0.4)\n",
            "Requirement already satisfied: oauthlib>=3.0.0 in /usr/local/lib/python3.7/dist-packages (from requests-oauthlib>=0.7.0->google-auth-oauthlib<0.5,>=0.4.1->tensorboard<2.9,>=2.8->tensorflow) (3.2.0)\n",
            "Installing collected packages: keras\n",
            "  Attempting uninstall: keras\n",
            "    Found existing installation: keras 2.9.0\n",
            "    Uninstalling keras-2.9.0:\n",
            "      Successfully uninstalled keras-2.9.0\n",
            "Successfully installed keras-2.8.0\n"
          ]
        }
      ]
    },
    {
      "cell_type": "markdown",
      "source": [
        "### Leitura das imagens\n",
        "\n",
        "Fazer o carregamento de coleções de imagens que estão já carregadas dentro do Keras-tensorflow é tranquilo, vide o [Cifar-10 (recomendo ver este link)](https://keras.io/api/datasets/cifar10/). E quando temos e queremos processar nossas próprias imagens? Aí é um pouco mais difícil, mas não impossível!\n",
        "\n",
        "Para viabilizar o carregamento das imagens em uma estrutura que permita ler as imagens do disco e processá-las pelos objetos do Keras-tensorflow, vamos utilizar a classe [ImageDataGenerator](https://www.tensorflow.org/api_docs/python/tf/keras/preprocessing/image/ImageDataGenerator). Os principais motivos dessa escolha são:\n",
        "\n",
        "*   Facilidade de se carregar imagens diretamente do disco ou por DataFrames;\n",
        "*   Facilidade de utilizar operações de pré-processamento (normalização, reescalonamento etc) e que podem ser úteis em uma etapa conhecida como DataAugmentation (veremos adiante)!\n",
        "\n",
        "### Organizando os arquivos das imagens\n",
        "\n",
        "A pasta principal da coleção de imagens possui nome \"documents\". Dentro dessa pasta existem três subpastas, cada uma associada com uma label:\n",
        "\n",
        "*   documents\n",
        "    + advertisement\n",
        "    + email\n",
        "    + scientific paper\n",
        "\n",
        "Nesse notebook, teremos que dividir a coleção de imagens em sub-partes (treinamento, validação e testes) utilizando a técnica Holdout. Essa técnica foi escolhida pela sua simplicidade e para facilitar a codificação na sala de aula. Entretanto, recomenda-se o uso da técnica [Stratified K-Fold Cross Validation](lectures/cap08_2_avaliacao_desempenho.ipynb) para avaliação do desempenho da classificação, visto que essa abordagem retorna resultados menos enviesados em relação à amostragem realizada para obter a divisão treinamento-validação-teste e que evita risco de supertreinamento *overfitting*.\n",
        "\n",
        "Supondo que a pasta \"documents\" esteja no Google Drive, vamos montar o drive e copiar a pasta para o ambiente no Colab:"
      ],
      "metadata": {
        "id": "fGQCcH0fCUlt"
      }
    },
    {
      "cell_type": "code",
      "source": [
        "from google.colab import drive\n",
        "drive.mount('/content/drive')"
      ],
      "metadata": {
        "id": "tb5JozJiFDBb",
        "colab": {
          "base_uri": "https://localhost:8080/"
        },
        "outputId": "c42e7ff6-6418-4ca3-f57a-8b3394097ea9"
      },
      "execution_count": 2,
      "outputs": [
        {
          "output_type": "stream",
          "name": "stdout",
          "text": [
            "Mounted at /content/drive\n"
          ]
        }
      ]
    },
    {
      "cell_type": "code",
      "source": [
        "!cp -r '/content/drive/MyDrive/ocr/full_3/' 'documents'"
      ],
      "metadata": {
        "id": "SbzoQKYgFj18"
      },
      "execution_count": 3,
      "outputs": []
    },
    {
      "cell_type": "markdown",
      "source": [
        "Fazendo-se os imports necessários:"
      ],
      "metadata": {
        "id": "_ZpGpiGiHeGM"
      }
    },
    {
      "cell_type": "code",
      "source": [
        "from tensorflow.keras.models import Sequential\n",
        "from tensorflow.keras.applications.resnet50 import ResNet50\n",
        "from keras.layers import Dense,Activation,Conv2D,MaxPooling2D,BatchNormalization,Flatten,Dropout\n",
        "from tensorflow.keras.optimizers import SGD\n",
        "from tensorflow.keras.preprocessing.image import ImageDataGenerator\n",
        "from tensorflow.keras import layers\n",
        "from sklearn.model_selection import train_test_split\n",
        "from sklearn.metrics import classification_report\n",
        "import matplotlib.pyplot as plt\n",
        "import numpy as np\n",
        "import pandas as pd\n",
        "import os"
      ],
      "metadata": {
        "id": "y6JFUcrWhSaB"
      },
      "execution_count": 4,
      "outputs": []
    },
    {
      "cell_type": "markdown",
      "source": [
        "Leitura de dados"
      ],
      "metadata": {
        "id": "mMlOC9NtJQNF"
      }
    },
    {
      "cell_type": "code",
      "source": [
        "path_documents = 'documents'\n",
        "lista_subfolders = os.listdir(path_documents)\n",
        "\n",
        "dataset_dict = {}\n",
        "\n",
        "dataset_dict['filename'] = []\n",
        "dataset_dict['label'] = []\n",
        "\n",
        "for folder in lista_subfolders:\n",
        "    lista_imagens = os.listdir(path_documents+'/'+folder)\n",
        "\n",
        "    for img_file in lista_imagens:\n",
        "        dataset_dict['filename'].append(folder+'/'+img_file)\n",
        "        dataset_dict['label'].append(folder)"
      ],
      "metadata": {
        "id": "eITuq3OnKdEq"
      },
      "execution_count": 5,
      "outputs": []
    },
    {
      "cell_type": "code",
      "source": [
        "df = pd.DataFrame(dataset_dict,columns=['filename','label'])"
      ],
      "metadata": {
        "id": "McRygJeDNIlQ"
      },
      "execution_count": 6,
      "outputs": []
    },
    {
      "cell_type": "code",
      "source": [
        "X = df['filename'].values\n",
        "y = df['label'].values"
      ],
      "metadata": {
        "id": "q2vXYvZJKxeB"
      },
      "execution_count": 7,
      "outputs": []
    },
    {
      "cell_type": "code",
      "source": [
        "X_train, X_test, y_train, y_test = train_test_split(X, y, test_size=0.3, random_state=45)\n",
        "X_valid, X_test, y_valid, y_test = train_test_split(X_test, y_test, test_size=0.6, random_state=45)"
      ],
      "metadata": {
        "id": "ku6mg89eJms9"
      },
      "execution_count": 8,
      "outputs": []
    },
    {
      "cell_type": "markdown",
      "source": [
        "Criação dos logits dos labels"
      ],
      "metadata": {
        "id": "NmXVHUj6OsbQ"
      }
    },
    {
      "cell_type": "code",
      "source": [
        "from keras.utils.np_utils import to_categorical\n",
        "\n",
        "train_labels = pd.Categorical(y_train)\n",
        "valid_labels = pd.Categorical(y_valid)\n",
        "test_labels = pd.Categorical(y_test)\n",
        "\n",
        "y_train_int = train_labels.codes\n",
        "y_valid_int = valid_labels.codes\n",
        "y_test_int = test_labels.codes\n",
        "\n",
        "y_train_logits = to_categorical(y_train_int)\n",
        "y_valid_logits = to_categorical(y_valid_int)\n",
        "y_test_logits = to_categorical(y_test_int)"
      ],
      "metadata": {
        "id": "8sPRtB2oOujl"
      },
      "execution_count": 9,
      "outputs": []
    },
    {
      "cell_type": "code",
      "source": [
        "lista_train = []\n",
        "for i in range(0,len(X_train)):\n",
        "    lista_train.append([X_train[i],y_train[i]])\n",
        "\n",
        "lista_valid = []\n",
        "for i in range(0,len(X_valid)):\n",
        "    lista_valid.append([X_valid[i],y_valid[i]])\n",
        "\n",
        "lista_test = []\n",
        "for i in range(0,len(X_test)):\n",
        "    lista_test.append([X_test[i],y_test[i]])"
      ],
      "metadata": {
        "id": "TkbKFucdQ7C2"
      },
      "execution_count": 10,
      "outputs": []
    },
    {
      "cell_type": "code",
      "source": [
        "df_train = pd.DataFrame(lista_train,columns = ['filename','label'])\n",
        "df_valid = pd.DataFrame(lista_valid,columns = ['filename','label'])\n",
        "df_test = pd.DataFrame(lista_test,columns = ['filename','label'])"
      ],
      "metadata": {
        "id": "agY1B8lPRt0j"
      },
      "execution_count": 11,
      "outputs": []
    },
    {
      "cell_type": "code",
      "source": [
        "datagen = ImageDataGenerator(rescale=1./255)\n",
        "\n",
        "train_generator = datagen.flow_from_dataframe(df_train,\n",
        "                                              directory=path_documents,\n",
        "                                              x_col='filename',y_col='label',\n",
        "                                              class_mode='categorical',\n",
        "                                              shuffle=True)\n",
        "\n",
        "valid_generator = datagen.flow_from_dataframe(df_valid,\n",
        "                                              directory=path_documents,\n",
        "                                              x_col='filename',y_col='label',\n",
        "                                              class_mode='categorical',\n",
        "                                              shuffle=True)\n",
        "\n",
        "test_generator = datagen.flow_from_dataframe(df_test,\n",
        "                                              directory=path_documents,\n",
        "                                              x_col='filename',y_col='label',\n",
        "                                             class_mode='categorical',\n",
        "                                              shuffle=True)\n"
      ],
      "metadata": {
        "colab": {
          "base_uri": "https://localhost:8080/"
        },
        "id": "y9YGsrzzJRrr",
        "outputId": "f4655822-dee5-4874-f853-b2c7fbcfd6f9"
      },
      "execution_count": 12,
      "outputs": [
        {
          "output_type": "stream",
          "name": "stdout",
          "text": [
            "Found 2072 validated image filenames belonging to 3 classes.\n",
            "Found 355 validated image filenames belonging to 3 classes.\n",
            "Found 534 validated image filenames belonging to 3 classes.\n"
          ]
        }
      ]
    },
    {
      "cell_type": "markdown",
      "source": [
        "Hyperparameters"
      ],
      "metadata": {
        "id": "A9i8TjKRjHJ1"
      }
    },
    {
      "cell_type": "code",
      "source": [
        "dims = (224,224,3)\n",
        "num_classes = 3"
      ],
      "metadata": {
        "id": "vwZ2ynTPjHRI"
      },
      "execution_count": 13,
      "outputs": []
    },
    {
      "cell_type": "code",
      "source": [
        "model_resnet_pt = Sequential()\n",
        "\n",
        "pre_trained_model = ResNet50(input_shape=(224,224,3),\n",
        "    include_top=False,\n",
        "    pooling ='avg',\n",
        "    weights=\"imagenet\")\n",
        "\n",
        "for layer in pre_trained_model.layers:\n",
        "    layer.trainable = False\n",
        "\n",
        "model_resnet_pt.add(pre_trained_model)\n",
        "model_resnet_pt.add(Flatten())\n",
        "\n",
        "model_resnet_pt.add(Dense(num_classes))\n",
        "model_resnet_pt.add(Activation(\"softmax\"))"
      ],
      "metadata": {
        "id": "ADggsOKeh1Lc",
        "colab": {
          "base_uri": "https://localhost:8080/"
        },
        "outputId": "e080e5d1-adaa-492a-ee3a-fedce957a360"
      },
      "execution_count": 14,
      "outputs": [
        {
          "output_type": "stream",
          "name": "stdout",
          "text": [
            "Downloading data from https://storage.googleapis.com/tensorflow/keras-applications/resnet/resnet50_weights_tf_dim_ordering_tf_kernels_notop.h5\n",
            "94773248/94765736 [==============================] - 0s 0us/step\n",
            "94781440/94765736 [==============================] - 0s 0us/step\n"
          ]
        }
      ]
    },
    {
      "cell_type": "code",
      "source": [
        "model_resnet_pt.summary()"
      ],
      "metadata": {
        "colab": {
          "base_uri": "https://localhost:8080/"
        },
        "id": "1dPoAyxJqk7l",
        "outputId": "d811745f-0042-4c02-ecb5-3c74bc861b81"
      },
      "execution_count": 15,
      "outputs": [
        {
          "output_type": "stream",
          "name": "stdout",
          "text": [
            "Model: \"sequential\"\n",
            "_________________________________________________________________\n",
            " Layer (type)                Output Shape              Param #   \n",
            "=================================================================\n",
            " resnet50 (Functional)       (None, 2048)              23587712  \n",
            "                                                                 \n",
            " flatten (Flatten)           (None, 2048)              0         \n",
            "                                                                 \n",
            " dense (Dense)               (None, 3)                 6147      \n",
            "                                                                 \n",
            " activation (Activation)     (None, 3)                 0         \n",
            "                                                                 \n",
            "=================================================================\n",
            "Total params: 23,593,859\n",
            "Trainable params: 6,147\n",
            "Non-trainable params: 23,587,712\n",
            "_________________________________________________________________\n"
          ]
        }
      ]
    },
    {
      "cell_type": "code",
      "source": [
        "sgd = SGD(learning_rate=0.0001)\n",
        "\n",
        "model_resnet_pt.compile(optimizer=sgd,loss=\"categorical_crossentropy\",metrics=['accuracy'])\n",
        "\n",
        "history_fine =model_resnet_pt.fit(train_generator,\n",
        "                        epochs=30,\n",
        "                        batch_size=32,\n",
        "                        validation_data=valid_generator)"
      ],
      "metadata": {
        "id": "_UPcf4FSHnw6",
        "colab": {
          "base_uri": "https://localhost:8080/"
        },
        "outputId": "eb7b7e6c-333c-4cfc-adf6-37cb345d9f58"
      },
      "execution_count": 16,
      "outputs": [
        {
          "output_type": "stream",
          "name": "stdout",
          "text": [
            "Epoch 1/30\n",
            "65/65 [==============================] - 29s 233ms/step - loss: 1.0900 - accuracy: 0.4566 - val_loss: 1.0384 - val_accuracy: 0.5437\n",
            "Epoch 2/30\n",
            "65/65 [==============================] - 13s 191ms/step - loss: 1.0226 - accuracy: 0.5980 - val_loss: 1.0204 - val_accuracy: 0.5549\n",
            "Epoch 3/30\n",
            "65/65 [==============================] - 12s 181ms/step - loss: 1.0054 - accuracy: 0.5912 - val_loss: 1.0043 - val_accuracy: 0.5803\n",
            "Epoch 4/30\n",
            "65/65 [==============================] - 14s 218ms/step - loss: 0.9886 - accuracy: 0.6028 - val_loss: 0.9897 - val_accuracy: 0.6000\n",
            "Epoch 5/30\n",
            "65/65 [==============================] - 12s 185ms/step - loss: 0.9735 - accuracy: 0.6158 - val_loss: 0.9761 - val_accuracy: 0.6000\n",
            "Epoch 6/30\n",
            "65/65 [==============================] - 12s 178ms/step - loss: 0.9587 - accuracy: 0.6240 - val_loss: 0.9628 - val_accuracy: 0.6000\n",
            "Epoch 7/30\n",
            "65/65 [==============================] - 12s 184ms/step - loss: 0.9446 - accuracy: 0.6588 - val_loss: 0.9519 - val_accuracy: 0.5915\n",
            "Epoch 8/30\n",
            "65/65 [==============================] - 12s 183ms/step - loss: 0.9323 - accuracy: 0.6226 - val_loss: 0.9387 - val_accuracy: 0.6282\n",
            "Epoch 9/30\n",
            "65/65 [==============================] - 14s 215ms/step - loss: 0.9201 - accuracy: 0.6438 - val_loss: 0.9282 - val_accuracy: 0.6563\n",
            "Epoch 10/30\n",
            "65/65 [==============================] - 12s 179ms/step - loss: 0.9083 - accuracy: 0.6535 - val_loss: 0.9189 - val_accuracy: 0.6732\n",
            "Epoch 11/30\n",
            "65/65 [==============================] - 13s 192ms/step - loss: 0.8977 - accuracy: 0.6819 - val_loss: 0.9087 - val_accuracy: 0.6676\n",
            "Epoch 12/30\n",
            "65/65 [==============================] - 12s 185ms/step - loss: 0.8872 - accuracy: 0.6979 - val_loss: 0.9007 - val_accuracy: 0.6366\n",
            "Epoch 13/30\n",
            "65/65 [==============================] - 12s 179ms/step - loss: 0.8772 - accuracy: 0.6877 - val_loss: 0.8914 - val_accuracy: 0.6873\n",
            "Epoch 14/30\n",
            "65/65 [==============================] - 12s 190ms/step - loss: 0.8679 - accuracy: 0.7124 - val_loss: 0.8819 - val_accuracy: 0.7127\n",
            "Epoch 15/30\n",
            "65/65 [==============================] - 12s 188ms/step - loss: 0.8588 - accuracy: 0.7302 - val_loss: 0.8747 - val_accuracy: 0.7239\n",
            "Epoch 16/30\n",
            "65/65 [==============================] - 12s 180ms/step - loss: 0.8501 - accuracy: 0.7457 - val_loss: 0.8678 - val_accuracy: 0.7239\n",
            "Epoch 17/30\n",
            "65/65 [==============================] - 14s 215ms/step - loss: 0.8422 - accuracy: 0.7669 - val_loss: 0.8619 - val_accuracy: 0.6761\n",
            "Epoch 18/30\n",
            "65/65 [==============================] - 12s 188ms/step - loss: 0.8341 - accuracy: 0.7611 - val_loss: 0.8534 - val_accuracy: 0.7014\n",
            "Epoch 19/30\n",
            "65/65 [==============================] - 12s 183ms/step - loss: 0.8263 - accuracy: 0.7432 - val_loss: 0.8440 - val_accuracy: 0.7831\n",
            "Epoch 20/30\n",
            "65/65 [==============================] - 12s 179ms/step - loss: 0.8195 - accuracy: 0.7819 - val_loss: 0.8394 - val_accuracy: 0.7690\n",
            "Epoch 21/30\n",
            "65/65 [==============================] - 12s 182ms/step - loss: 0.8123 - accuracy: 0.7867 - val_loss: 0.8333 - val_accuracy: 0.7549\n",
            "Epoch 22/30\n",
            "65/65 [==============================] - 12s 181ms/step - loss: 0.8057 - accuracy: 0.7765 - val_loss: 0.8262 - val_accuracy: 0.7803\n",
            "Epoch 23/30\n",
            "65/65 [==============================] - 12s 190ms/step - loss: 0.7991 - accuracy: 0.7944 - val_loss: 0.8208 - val_accuracy: 0.7718\n",
            "Epoch 24/30\n",
            "65/65 [==============================] - 12s 179ms/step - loss: 0.7928 - accuracy: 0.7934 - val_loss: 0.8155 - val_accuracy: 0.7634\n",
            "Epoch 25/30\n",
            "65/65 [==============================] - 12s 178ms/step - loss: 0.7867 - accuracy: 0.7934 - val_loss: 0.8105 - val_accuracy: 0.7662\n",
            "Epoch 26/30\n",
            "65/65 [==============================] - 13s 196ms/step - loss: 0.7809 - accuracy: 0.8016 - val_loss: 0.8063 - val_accuracy: 0.7521\n",
            "Epoch 27/30\n",
            "65/65 [==============================] - 12s 188ms/step - loss: 0.7752 - accuracy: 0.7910 - val_loss: 0.7985 - val_accuracy: 0.7944\n",
            "Epoch 28/30\n",
            "65/65 [==============================] - 12s 188ms/step - loss: 0.7700 - accuracy: 0.8123 - val_loss: 0.7955 - val_accuracy: 0.7718\n",
            "Epoch 29/30\n",
            "65/65 [==============================] - 12s 189ms/step - loss: 0.7644 - accuracy: 0.8050 - val_loss: 0.7901 - val_accuracy: 0.7831\n",
            "Epoch 30/30\n",
            "65/65 [==============================] - 12s 191ms/step - loss: 0.7593 - accuracy: 0.8089 - val_loss: 0.7844 - val_accuracy: 0.7775\n"
          ]
        }
      ]
    },
    {
      "cell_type": "code",
      "source": [
        "loss = history_fine.history['loss']\n",
        "val_loss = history_fine.history['val_loss']\n",
        "\n",
        "plt.plot(history_fine.history['loss'])\n",
        "plt.plot(history_fine.history['val_loss'])\n",
        "plt.title('model loss')\n",
        "plt.ylabel('loss')\n",
        "plt.xlabel('epoch')\n",
        "plt.legend(['training set','validation set'], loc='upper left')\n",
        "plt.show()"
      ],
      "metadata": {
        "id": "tjI0SUBHYsNk",
        "colab": {
          "base_uri": "https://localhost:8080/",
          "height": 295
        },
        "outputId": "18ff6cd5-235e-40a1-afc2-f7dec659d58d"
      },
      "execution_count": 17,
      "outputs": [
        {
          "output_type": "display_data",
          "data": {
            "text/plain": [
              "<Figure size 432x288 with 1 Axes>"
            ],
            "image/png": "[encoded data removed]"
          },
          "metadata": {
            "needs_background": "light"
          }
        }
      ]
    },
    {
      "cell_type": "markdown",
      "source": [
        "Provavelmente temos um underfitting... tentando de novo"
      ],
      "metadata": {
        "id": "gyUZenhW6lh0"
      }
    },
    {
      "cell_type": "code",
      "source": [
        "y_prob = model_resnet_pt.predict(test_generator)\n",
        "y_pred = np.argmax(y_prob,axis=1)\n",
        "\n",
        "y_test = test_generator.classes\n",
        "print(classification_report(y_test,y_pred))"
      ],
      "metadata": {
        "colab": {
          "base_uri": "https://localhost:8080/"
        },
        "id": "LnFsQ9MM1Owe",
        "outputId": "4709cb62-5d35-4365-a120-b2d295313ce8"
      },
      "execution_count": 18,
      "outputs": [
        {
          "output_type": "stream",
          "name": "stdout",
          "text": [
            "              precision    recall  f1-score   support\n",
            "\n",
            "           0       0.32      0.27      0.29       176\n",
            "           1       0.35      0.39      0.37       193\n",
            "           2       0.26      0.27      0.27       165\n",
            "\n",
            "    accuracy                           0.31       534\n",
            "   macro avg       0.31      0.31      0.31       534\n",
            "weighted avg       0.31      0.31      0.31       534\n",
            "\n"
          ]
        }
      ]
    },
    {
      "cell_type": "code",
      "source": [
        "model_resnet_pt = Sequential()\n",
        "\n",
        "pre_trained_model = ResNet50(input_shape=(224,224,3),\n",
        "    include_top=False,\n",
        "    pooling ='avg',\n",
        "    weights=\"imagenet\")\n",
        "\n",
        "for layer in pre_trained_model.layers:\n",
        "    layer.trainable = False\n",
        "\n",
        "model_resnet_pt.add(pre_trained_model)\n",
        "model_resnet_pt.add(Flatten())\n",
        "\n",
        "model_resnet_pt.add(Dense(512))\n",
        "model_resnet_pt.add(Activation(\"relu\"))\n",
        "model_resnet_pt.add(Dropout(0.5))\n",
        "\n",
        "model_resnet_pt.add(Dense(num_classes))\n",
        "model_resnet_pt.add(Activation(\"softmax\"))"
      ],
      "metadata": {
        "id": "mVJZ4vKx6pC7"
      },
      "execution_count": 19,
      "outputs": []
    },
    {
      "cell_type": "code",
      "source": [
        "sgd = SGD(learning_rate=0.00002)\n",
        "\n",
        "model_resnet_pt.compile(optimizer=sgd,loss=\"categorical_crossentropy\",metrics=['accuracy'])\n",
        "\n",
        "history_fine =model_resnet_pt.fit(train_generator,\n",
        "                        epochs=10,\n",
        "                        batch_size=32,\n",
        "                        validation_data=valid_generator)"
      ],
      "metadata": {
        "id": "d-5tyWhh6yVD",
        "colab": {
          "base_uri": "https://localhost:8080/"
        },
        "outputId": "a36fc066-80dd-438e-ee81-d5e15c341054"
      },
      "execution_count": 20,
      "outputs": [
        {
          "output_type": "stream",
          "name": "stdout",
          "text": [
            "Epoch 1/10\n",
            "65/65 [==============================] - 18s 211ms/step - loss: 1.8456 - accuracy: 0.3388 - val_loss: 1.5709 - val_accuracy: 0.2873\n",
            "Epoch 2/10\n",
            "65/65 [==============================] - 13s 201ms/step - loss: 1.5458 - accuracy: 0.3586 - val_loss: 1.3249 - val_accuracy: 0.2930\n",
            "Epoch 3/10\n",
            "65/65 [==============================] - 12s 190ms/step - loss: 1.4168 - accuracy: 0.3605 - val_loss: 1.1900 - val_accuracy: 0.3437\n",
            "Epoch 4/10\n",
            "65/65 [==============================] - 12s 180ms/step - loss: 1.3519 - accuracy: 0.3567 - val_loss: 1.1144 - val_accuracy: 0.4197\n",
            "Epoch 5/10\n",
            "65/65 [==============================] - 12s 176ms/step - loss: 1.2958 - accuracy: 0.3774 - val_loss: 1.0665 - val_accuracy: 0.4873\n",
            "Epoch 6/10\n",
            "65/65 [==============================] - 12s 177ms/step - loss: 1.2423 - accuracy: 0.3929 - val_loss: 1.0402 - val_accuracy: 0.5239\n",
            "Epoch 7/10\n",
            "65/65 [==============================] - 12s 180ms/step - loss: 1.2698 - accuracy: 0.3610 - val_loss: 1.0206 - val_accuracy: 0.5521\n",
            "Epoch 8/10\n",
            "65/65 [==============================] - 13s 201ms/step - loss: 1.2206 - accuracy: 0.3938 - val_loss: 1.0095 - val_accuracy: 0.5718\n",
            "Epoch 9/10\n",
            "65/65 [==============================] - 12s 179ms/step - loss: 1.2100 - accuracy: 0.3866 - val_loss: 0.9995 - val_accuracy: 0.5746\n",
            "Epoch 10/10\n",
            "65/65 [==============================] - 12s 188ms/step - loss: 1.1943 - accuracy: 0.3977 - val_loss: 0.9900 - val_accuracy: 0.6169\n"
          ]
        }
      ]
    },
    {
      "cell_type": "code",
      "source": [
        "loss = history_fine.history['loss']\n",
        "val_loss = history_fine.history['val_loss']\n",
        "\n",
        "plt.plot(history_fine.history['loss'])\n",
        "plt.plot(history_fine.history['val_loss'])\n",
        "plt.title('model loss')\n",
        "plt.ylabel('loss')\n",
        "plt.xlabel('epoch')\n",
        "plt.legend(['training set','validation set'], loc='upper left')\n",
        "plt.show()"
      ],
      "metadata": {
        "id": "pNUsf6IHzGj8",
        "colab": {
          "base_uri": "https://localhost:8080/",
          "height": 295
        },
        "outputId": "5a71069f-65f0-4272-9955-c00b1fb760a0"
      },
      "execution_count": 21,
      "outputs": [
        {
          "output_type": "display_data",
          "data": {
            "text/plain": [
              "<Figure size 432x288 with 1 Axes>"
            ],
            "image/png": "[encoded data removed]"
          },
          "metadata": {
            "needs_background": "light"
          }
        }
      ]
    },
    {
      "cell_type": "markdown",
      "source": [
        "Avaliação de performance com os dados de teste"
      ],
      "metadata": {
        "id": "EyzKAVDvZavU"
      }
    },
    {
      "cell_type": "code",
      "source": [
        "y_prob = model_resnet_pt.predict(test_generator)\n",
        "y_pred = np.argmax(y_prob,axis=1)"
      ],
      "metadata": {
        "id": "GOCq_a72Za2h"
      },
      "execution_count": 22,
      "outputs": []
    },
    {
      "cell_type": "code",
      "source": [
        "from sklearn.metrics import classification_report\n",
        "print(classification_report(y_test,y_pred))"
      ],
      "metadata": {
        "id": "cMTEd_LtaFIX",
        "colab": {
          "base_uri": "https://localhost:8080/"
        },
        "outputId": "02a26393-571f-4a25-a48d-e0b146d1a927"
      },
      "execution_count": 23,
      "outputs": [
        {
          "output_type": "stream",
          "name": "stdout",
          "text": [
            "              precision    recall  f1-score   support\n",
            "\n",
            "           0       0.39      0.36      0.37       176\n",
            "           1       0.36      0.64      0.47       193\n",
            "           2       0.24      0.05      0.08       165\n",
            "\n",
            "    accuracy                           0.37       534\n",
            "   macro avg       0.33      0.35      0.31       534\n",
            "weighted avg       0.34      0.37      0.32       534\n",
            "\n"
          ]
        }
      ]
    }
  ]
}