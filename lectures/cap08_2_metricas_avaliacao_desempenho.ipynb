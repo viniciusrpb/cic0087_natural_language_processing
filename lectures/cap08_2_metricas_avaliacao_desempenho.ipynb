{
  "nbformat": 4,
  "nbformat_minor": 0,
  "metadata": {
    "colab": {
      "name": "cap08_2_metricas_avaliacao_desempenho.ipynb",
      "provenance": [],
      "collapsed_sections": [],
      "authorship_tag": "ABX9TyP8V4DdEgs+AYkZT0XpUACk",
      "include_colab_link": true
    },
    "kernelspec": {
      "name": "python3",
      "display_name": "Python 3"
    },
    "language_info": {
      "name": "python"
    }
  },
  "cells": [
    {
      "cell_type": "markdown",
      "metadata": {
        "id": "view-in-github",
        "colab_type": "text"
      },
      "source": [
        "<a href=\"https://colab.research.google.com/github/viniciusrpb/cic0269_natural_language_processing/blob/main/lectures/cap08_2_metricas_avaliacao_desempenho.ipynb\" target=\"_parent\"><img src=\"https://colab.research.google.com/assets/colab-badge.svg\" alt=\"Open In Colab\"/></a>"
      ]
    },
    {
      "cell_type": "markdown",
      "source": [
        "# Capítulo 8 - Classificação de Textos\n",
        "\n",
        "## 8.2. Métricas de Avaliação de Desempenho de Classificação\n",
        "\n",
        "Nesta seção vamos estudar como avaliar e comparar os desempenhos entre classificadores"
      ],
      "metadata": {
        "id": "whiaqg-5QDf6"
      }
    },
    {
      "cell_type": "code",
      "source": [
        "import numpy as np"
      ],
      "metadata": {
        "id": "zsXuuS_FAQ73"
      },
      "execution_count": 1,
      "outputs": []
    },
    {
      "cell_type": "markdown",
      "source": [
        "## Começando pela Classificação Binária\n",
        "\n",
        "Considere um dataset qualquer em que os labels sejam apenas denotados por \"positivo\" (representado pelo inteiro 0) ou \"negativo\" (representando pelo inteiro 1). A label de interesse (target) é a positiva. Suponha as seguintes predições:"
      ],
      "metadata": {
        "id": "hXES_TaiQzHt"
      }
    },
    {
      "cell_type": "code",
      "execution_count": 2,
      "metadata": {
        "id": "VEkpERItiRmU"
      },
      "outputs": [],
      "source": [
        "y_true = [0,0,1,1,0,0,1,0,1,0,1,0,1,1,0]\n",
        "y_pred = [0,0,1,1,0,1,1,0,0,0,1,0,0,0,0]"
      ]
    },
    {
      "cell_type": "markdown",
      "source": [
        "Construindo a matriz de confusão"
      ],
      "metadata": {
        "id": "BfcNlEt0ix23"
      }
    },
    {
      "cell_type": "code",
      "source": [
        "mat_conf = [[0,0],[0,0]]\n",
        "\n",
        "for i in range(0,len(y_true)):\n",
        "    mat_conf[y_true[i]][y_pred[i]]+=1"
      ],
      "metadata": {
        "id": "iPGSenfni0en"
      },
      "execution_count": 3,
      "outputs": []
    },
    {
      "cell_type": "code",
      "source": [
        "np.array(mat_conf)"
      ],
      "metadata": {
        "colab": {
          "base_uri": "https://localhost:8080/"
        },
        "id": "tRsZcbdVjlFs",
        "outputId": "a18ca502-2494-400e-8511-80be2baa76f7"
      },
      "execution_count": 4,
      "outputs": [
        {
          "output_type": "execute_result",
          "data": {
            "text/plain": [
              "array([[7, 1],\n",
              "       [3, 4]])"
            ]
          },
          "metadata": {},
          "execution_count": 4
        }
      ]
    },
    {
      "cell_type": "code",
      "source": [
        "tp = mat_conf[0][0]\n",
        "fp = mat_conf[1][0]\n",
        "fn = mat_conf[0][1]\n",
        "tn = mat_conf[1][1]"
      ],
      "metadata": {
        "id": "nxIrjDxCr2eU"
      },
      "execution_count": 5,
      "outputs": []
    },
    {
      "cell_type": "code",
      "source": [
        "tn"
      ],
      "metadata": {
        "colab": {
          "base_uri": "https://localhost:8080/"
        },
        "id": "Yv0VLuSdtpGn",
        "outputId": "bd75c18c-2019-4d2a-bd33-1efc17c75867"
      },
      "execution_count": 6,
      "outputs": [
        {
          "output_type": "execute_result",
          "data": {
            "text/plain": [
              "4"
            ]
          },
          "metadata": {},
          "execution_count": 6
        }
      ]
    },
    {
      "cell_type": "markdown",
      "source": [
        "Acurácia (Taxa de classificação correta): métrica não confiável para dados com desbalanceamento entre classes"
      ],
      "metadata": {
        "id": "FnIpFfWArxXk"
      }
    },
    {
      "cell_type": "code",
      "source": [
        "acc = (tp+tn)/(tp+fn+fp+tn)\n",
        "print(f'Acuracia: {acc:.3f}')"
      ],
      "metadata": {
        "colab": {
          "base_uri": "https://localhost:8080/"
        },
        "id": "-Q00xER1rwv-",
        "outputId": "3b397283-c7b0-43a9-bee3-bb7d557bb210"
      },
      "execution_count": 7,
      "outputs": [
        {
          "output_type": "stream",
          "name": "stdout",
          "text": [
            "Acuracia: 0.733\n"
          ]
        }
      ]
    },
    {
      "cell_type": "markdown",
      "source": [
        "Precisão"
      ],
      "metadata": {
        "id": "4LL-2LJxsqGy"
      }
    },
    {
      "cell_type": "code",
      "source": [
        "prec = tp/(tp+fp)\n",
        "print(f'Precisao: {prec:.3f}')"
      ],
      "metadata": {
        "colab": {
          "base_uri": "https://localhost:8080/"
        },
        "id": "R-_-UOhQsr55",
        "outputId": "0e3ba3d7-ae57-4c97-acb0-df9f802c3052"
      },
      "execution_count": 8,
      "outputs": [
        {
          "output_type": "stream",
          "name": "stdout",
          "text": [
            "Precisao: 0.700\n"
          ]
        }
      ]
    },
    {
      "cell_type": "markdown",
      "source": [
        "Revocação"
      ],
      "metadata": {
        "id": "kFBuTpqisvWh"
      }
    },
    {
      "cell_type": "code",
      "source": [
        "rec = tp/(tp+fn)\n",
        "print(f'Revocacao: {rec:.3f}')"
      ],
      "metadata": {
        "colab": {
          "base_uri": "https://localhost:8080/"
        },
        "id": "b5HTsPGFsvf5",
        "outputId": "397651a6-1097-4a2c-bcc9-fb6e7a925f92"
      },
      "execution_count": 9,
      "outputs": [
        {
          "output_type": "stream",
          "name": "stdout",
          "text": [
            "Revocacao: 0.875\n"
          ]
        }
      ]
    },
    {
      "cell_type": "markdown",
      "source": [
        "F1-Score"
      ],
      "metadata": {
        "id": "h_gef2jYugnb"
      }
    },
    {
      "cell_type": "code",
      "source": [
        "f1 = 2*(prec*rec)/(prec+rec)\n",
        "print(f'F1 Score: {f1:.3f}')"
      ],
      "metadata": {
        "colab": {
          "base_uri": "https://localhost:8080/"
        },
        "id": "xY3-yBN3uguK",
        "outputId": "c8d37e62-41e5-4fb2-9b28-919a07359b52"
      },
      "execution_count": 10,
      "outputs": [
        {
          "output_type": "stream",
          "name": "stdout",
          "text": [
            "F1 Score: 0.778\n"
          ]
        }
      ]
    },
    {
      "cell_type": "markdown",
      "source": [
        "## Generalizando para Classificação Multi-classes\n",
        "\n",
        "Vamos tratar aqui a abordadem \"One Against All\" para calcular as métricas acima, em que tomamos classe por classe"
      ],
      "metadata": {
        "id": "O1tLWYl7Q8bF"
      }
    },
    {
      "cell_type": "code",
      "source": [
        "y_true = [0,2,1,0,0,1,1,2,0,1,1,0,1,2,1,2,1,0,2,1,0]\n",
        "y_pred = [0,2,1,2,0,1,2,2,0,1,2,1,2,0,0,0,1,0,2,1,1]"
      ],
      "metadata": {
        "id": "xomNjbyHxIsU"
      },
      "execution_count": 11,
      "outputs": []
    },
    {
      "cell_type": "markdown",
      "source": [
        "Extraindo-se o suporte para cada classe, isto é, a quantidade de instâncias verdadeiras de cada classe:"
      ],
      "metadata": {
        "id": "U2tVrSfe654s"
      }
    },
    {
      "cell_type": "code",
      "source": [
        "sup = []\n",
        "c = 3\n",
        "for i in range(0,c):\n",
        "    v = len([x for x in y_true if x == i])\n",
        "    sup.append(v)\n",
        "    print(f'Suporte Label {i}: {v}')"
      ],
      "metadata": {
        "colab": {
          "base_uri": "https://localhost:8080/"
        },
        "id": "bdjJZoSv69Eo",
        "outputId": "70151598-2f86-4394-95d5-02a34159d47a"
      },
      "execution_count": 12,
      "outputs": [
        {
          "output_type": "stream",
          "name": "stdout",
          "text": [
            "Suporte Label 0: 7\n",
            "Suporte Label 1: 9\n",
            "Suporte Label 2: 5\n"
          ]
        }
      ]
    },
    {
      "cell_type": "code",
      "source": [
        "mat_conf = []\n",
        "c = 3\n",
        "n = len(y_true)\n",
        "\n",
        "for i in range(0,c):\n",
        "    mat_conf.append([0]*c)\n",
        "\n",
        "for i in range(0,len(y_true)):\n",
        "    mat_conf[y_true[i]][y_pred[i]]+=1"
      ],
      "metadata": {
        "id": "zT8oDN9q1F5H"
      },
      "execution_count": 13,
      "outputs": []
    },
    {
      "cell_type": "code",
      "source": [
        "np.array(mat_conf)"
      ],
      "metadata": {
        "colab": {
          "base_uri": "https://localhost:8080/"
        },
        "id": "-jSpgroL2PT7",
        "outputId": "ac9350e9-e884-4c23-9822-c08aa9879745"
      },
      "execution_count": 14,
      "outputs": [
        {
          "output_type": "execute_result",
          "data": {
            "text/plain": [
              "array([[4, 2, 1],\n",
              "       [1, 5, 3],\n",
              "       [2, 0, 3]])"
            ]
          },
          "metadata": {},
          "execution_count": 14
        }
      ]
    },
    {
      "cell_type": "markdown",
      "source": [
        "Acurácia geral"
      ],
      "metadata": {
        "id": "RbDeRs7t12NE"
      }
    },
    {
      "cell_type": "code",
      "source": [
        "tp_0 = mat_conf[0][0]\n",
        "tp_1 = mat_conf[1][1]\n",
        "tp_2 = mat_conf[2][2]\n",
        "acc = (tp_0+tp_1+tp_2)/(n)\n",
        "print(f'Acuracia: {acc:.3f}')"
      ],
      "metadata": {
        "colab": {
          "base_uri": "https://localhost:8080/"
        },
        "id": "Oz0g2Umc1338",
        "outputId": "222c6ee1-fce5-48f6-a8ca-7930c2407f3f"
      },
      "execution_count": 15,
      "outputs": [
        {
          "output_type": "stream",
          "name": "stdout",
          "text": [
            "Acuracia: 0.571\n"
          ]
        }
      ]
    },
    {
      "cell_type": "code",
      "source": [
        "prec = [0]*c\n",
        "rec = [0]*c\n",
        "f1 = [0]*c"
      ],
      "metadata": {
        "id": "YBgKVu655Y0A"
      },
      "execution_count": 16,
      "outputs": []
    },
    {
      "cell_type": "markdown",
      "source": [
        "Métricas para a classe \"0\""
      ],
      "metadata": {
        "id": "7NYtyfFr1kFk"
      }
    },
    {
      "cell_type": "code",
      "source": [
        "tp = mat_conf[0][0]\n",
        "fp = mat_conf[1][0]+mat_conf[2][0]\n",
        "fn = mat_conf[0][1]+mat_conf[0][2]"
      ],
      "metadata": {
        "id": "e-9KzLEw1nCt"
      },
      "execution_count": 17,
      "outputs": []
    },
    {
      "cell_type": "code",
      "source": [
        "prec[0] = tp/(tp+fp)\n",
        "print(f'Precisao: {prec[0]:.3f}')\n",
        "rec[0] = tp/(tp+fn)\n",
        "print(f'Revocacao: {rec[0]:.3f}')\n",
        "f1[0] = 2*(prec[0]*rec[0])/(prec[0]+rec[0])\n",
        "print(f'F1 Score: {f1[0]:.3f}')"
      ],
      "metadata": {
        "colab": {
          "base_uri": "https://localhost:8080/"
        },
        "id": "p6EMWUp65HsY",
        "outputId": "29010dc3-f3e4-420d-f00a-8cb7aba824de"
      },
      "execution_count": 18,
      "outputs": [
        {
          "output_type": "stream",
          "name": "stdout",
          "text": [
            "Precisao: 0.571\n",
            "Revocacao: 0.571\n",
            "F1 Score: 0.571\n"
          ]
        }
      ]
    },
    {
      "cell_type": "markdown",
      "source": [
        "Métricas para a classe \"1\""
      ],
      "metadata": {
        "id": "xopmekgQ5EF5"
      }
    },
    {
      "cell_type": "code",
      "source": [
        "tp = mat_conf[1][1]\n",
        "fp = mat_conf[0][1]+mat_conf[2][1]\n",
        "fn = mat_conf[1][0]+mat_conf[1][2]"
      ],
      "metadata": {
        "id": "Tci_v3125GaR"
      },
      "execution_count": 19,
      "outputs": []
    },
    {
      "cell_type": "code",
      "source": [
        "prec[1] = tp/(tp+fp)\n",
        "print(f'Precisao: {prec[1]:.3f}')\n",
        "rec[1] = tp/(tp+fn)\n",
        "print(f'Revocacao: {rec[1]:.3f}')\n",
        "f1[1] = 2*(prec[1]*rec[1])/(prec[1]+rec[1])\n",
        "print(f'F1 Score: {f1[1]:.3f}')"
      ],
      "metadata": {
        "colab": {
          "base_uri": "https://localhost:8080/"
        },
        "id": "qUhwOFiQ6KRG",
        "outputId": "1b0ca8f5-547c-4fd8-b8ac-9b85573669c8"
      },
      "execution_count": 20,
      "outputs": [
        {
          "output_type": "stream",
          "name": "stdout",
          "text": [
            "Precisao: 0.714\n",
            "Revocacao: 0.556\n",
            "F1 Score: 0.625\n"
          ]
        }
      ]
    },
    {
      "cell_type": "markdown",
      "source": [
        "Métricas para a classe \"2\""
      ],
      "metadata": {
        "id": "WZcPTavm6Q81"
      }
    },
    {
      "cell_type": "code",
      "source": [
        "tp = mat_conf[2][2]\n",
        "fp = mat_conf[0][2]+mat_conf[1][2]\n",
        "fn = mat_conf[2][0]+mat_conf[2][1]"
      ],
      "metadata": {
        "id": "siMcGX0j6Tks"
      },
      "execution_count": 21,
      "outputs": []
    },
    {
      "cell_type": "code",
      "source": [
        "prec[2] = tp/(tp+fp)\n",
        "print(f'Precisao: {prec[2]:.3f}')\n",
        "rec[2] = tp/(tp+fn)\n",
        "print(f'Revocacao: {rec[2]:.3f}')\n",
        "f1[2] = 2*(prec[2]*rec[2])/(prec[2]+rec[2])\n",
        "print(f'F1 Score: {f1[2]:.3f}')"
      ],
      "metadata": {
        "colab": {
          "base_uri": "https://localhost:8080/"
        },
        "id": "nRoM7RCX6UrM",
        "outputId": "ce4780d1-baf0-4c72-e4b5-c9401e1d6ab0"
      },
      "execution_count": 22,
      "outputs": [
        {
          "output_type": "stream",
          "name": "stdout",
          "text": [
            "Precisao: 0.429\n",
            "Revocacao: 0.600\n",
            "F1 Score: 0.500\n"
          ]
        }
      ]
    },
    {
      "cell_type": "markdown",
      "source": [
        "**Métricas Weighted-Average e Macro**\n",
        "\n",
        "Atenção: para dados que apresentam desbalanceamento entre classes, a abordagem *Macro* é a mais apropriada por desconsiderar o suporte (quantidade de instâncias por classe) no cálculo da precisão, da revocação e da F1-Score gerais.\n",
        "\n",
        "Precisão Weighted-Average"
      ],
      "metadata": {
        "id": "w8QoN0fV6d9M"
      }
    },
    {
      "cell_type": "code",
      "source": [
        "avg_weighted_prec = 0\n",
        "for i in range(0,len(prec)):\n",
        "    avg_weighted_prec+=prec[i]*(sup[i]/n)\n",
        "\n",
        "print(f'Weighted-Avg Precisao: {avg_weighted_prec:.3f}')"
      ],
      "metadata": {
        "colab": {
          "base_uri": "https://localhost:8080/"
        },
        "id": "xYbjai-66hgc",
        "outputId": "56f2c0bc-c09d-4741-ad02-568c69581adc"
      },
      "execution_count": 23,
      "outputs": [
        {
          "output_type": "stream",
          "name": "stdout",
          "text": [
            "Weighted-Avg Precisao: 0.599\n"
          ]
        }
      ]
    },
    {
      "cell_type": "markdown",
      "source": [
        "Precisão Macro"
      ],
      "metadata": {
        "id": "v2IOBUJ99mtx"
      }
    },
    {
      "cell_type": "code",
      "source": [
        "prec_macro = 0\n",
        "for i in range(0,len(prec)):\n",
        "    prec_macro+=prec[i]\n",
        "prec_macro/=c\n",
        "\n",
        "print(f'Precisao Macro: {prec_macro:.3f}')"
      ],
      "metadata": {
        "colab": {
          "base_uri": "https://localhost:8080/"
        },
        "id": "6beUHFIH9mcZ",
        "outputId": "f812a273-48c6-47f7-eb7c-99023c232e26"
      },
      "execution_count": 24,
      "outputs": [
        {
          "output_type": "stream",
          "name": "stdout",
          "text": [
            "Precisao Macro: 0.571\n"
          ]
        }
      ]
    },
    {
      "cell_type": "markdown",
      "source": [
        "Revocação Weighted-Average"
      ],
      "metadata": {
        "id": "3JOrd1YH8gA-"
      }
    },
    {
      "cell_type": "code",
      "source": [
        "avg_weighted_rec = 0\n",
        "for i in range(0,len(rec)):\n",
        "    avg_weighted_rec+=rec[i]*(sup[i]/n)\n",
        "\n",
        "print(f'Weighted-Avg Revocacao: {avg_weighted_rec:.3f}')"
      ],
      "metadata": {
        "colab": {
          "base_uri": "https://localhost:8080/"
        },
        "id": "L-fDauA38gHm",
        "outputId": "ca192956-e545-4744-a44b-3f0c25885dca"
      },
      "execution_count": 25,
      "outputs": [
        {
          "output_type": "stream",
          "name": "stdout",
          "text": [
            "Weighted-Avg Revocacao: 0.571\n"
          ]
        }
      ]
    },
    {
      "cell_type": "markdown",
      "source": [
        "Revocação Macro"
      ],
      "metadata": {
        "id": "-O7gOmGHBUE6"
      }
    },
    {
      "cell_type": "code",
      "source": [
        "rec_macro = 0\n",
        "for i in range(0,len(rec)):\n",
        "    rec_macro+=rec[i]\n",
        "rec_macro/=c\n",
        "\n",
        "print(f'Revocacao Macro: {rec_macro:.3f}')"
      ],
      "metadata": {
        "colab": {
          "base_uri": "https://localhost:8080/"
        },
        "id": "xL41pkY_BULi",
        "outputId": "c094e030-9c51-4ed9-8407-5976517458f7"
      },
      "execution_count": 26,
      "outputs": [
        {
          "output_type": "stream",
          "name": "stdout",
          "text": [
            "Revocacao Macro: 0.576\n"
          ]
        }
      ]
    },
    {
      "cell_type": "markdown",
      "source": [
        "F1-Score Weighted-Average\n"
      ],
      "metadata": {
        "id": "1LNONYSW9L8L"
      }
    },
    {
      "cell_type": "code",
      "source": [
        "avg_weighted_f1 = 0\n",
        "for i in range(0,len(f1)):\n",
        "    avg_weighted_f1+=f1[i]*(sup[i]/n)\n",
        "#avg_weighted_f1/=c\n",
        "\n",
        "print(f'Weighted-Avg F1-Score: {avg_weighted_f1:.3f}')"
      ],
      "metadata": {
        "colab": {
          "base_uri": "https://localhost:8080/"
        },
        "id": "jqadWtLZ9MDq",
        "outputId": "c59871e1-977d-4da3-d6a3-8aa805b4bffa"
      },
      "execution_count": 27,
      "outputs": [
        {
          "output_type": "stream",
          "name": "stdout",
          "text": [
            "Weighted-Avg F1-Score: 0.577\n"
          ]
        }
      ]
    },
    {
      "cell_type": "markdown",
      "source": [
        "Macro F1-Score"
      ],
      "metadata": {
        "id": "k3tzi02mBpio"
      }
    },
    {
      "cell_type": "code",
      "source": [
        "f1_macro = 0\n",
        "for i in range(0,len(f1)):\n",
        "    f1_macro+=f1[i]\n",
        "f1_macro/=c\n",
        "\n",
        "print(f'F1-Score Macro: {f1_macro:.3f}')"
      ],
      "metadata": {
        "colab": {
          "base_uri": "https://localhost:8080/"
        },
        "id": "4Baqb0zKBpzg",
        "outputId": "f12c7d81-cd05-4237-e162-6082b21e1de4"
      },
      "execution_count": 28,
      "outputs": [
        {
          "output_type": "stream",
          "name": "stdout",
          "text": [
            "F1-Score Macro: 0.565\n"
          ]
        }
      ]
    },
    {
      "cell_type": "markdown",
      "source": [
        "### Matriz de Confusão e Cálculo de Métricas com Bibliotecas Python\n",
        "\n",
        "Pode-se utilizar implementações de bibliotecas para calcular as métricas e gerar visualizações para melhor entendimento.\n",
        "\n",
        "**Matriz de confusão**\n",
        "\n",
        "A documentação da matriz de confusão no sklearn pode ser encontrada [aqui](https://scikit-learn.org/stable/modules/generated/sklearn.metrics.confusion_matrix.html). Basta utilizar os seguintes comandos:"
      ],
      "metadata": {
        "id": "1DG_Bcf9B_-2"
      }
    },
    {
      "cell_type": "code",
      "source": [
        "from sklearn.metrics import confusion_matrix\n",
        "print(confusion_matrix(y_true, y_pred))"
      ],
      "metadata": {
        "colab": {
          "base_uri": "https://localhost:8080/"
        },
        "id": "a4SMk3S6CAHn",
        "outputId": "a746ec5a-50ea-4512-a5bd-1aeef719c165"
      },
      "execution_count": 29,
      "outputs": [
        {
          "output_type": "stream",
          "name": "stdout",
          "text": [
            "[[4 2 1]\n",
            " [1 5 3]\n",
            " [2 0 3]]\n"
          ]
        }
      ]
    },
    {
      "cell_type": "markdown",
      "source": [
        "Como apresentar visualmente essa matriz de confusão? Podemos utilizar alguma das APIs gráficas do Python, como matplotlib e plotly."
      ],
      "metadata": {
        "id": "tH6fiS-3CYUl"
      }
    },
    {
      "cell_type": "code",
      "source": [
        "from sklearn.metrics import ConfusionMatrixDisplay\n",
        "import matplotlib.pyplot as plt\n",
        "\n",
        "ConfusionMatrixDisplay.from_predictions(y_true, y_pred)\n",
        "plt.show()"
      ],
      "metadata": {
        "colab": {
          "base_uri": "https://localhost:8080/",
          "height": 283
        },
        "id": "S1zC1wdyCdXd",
        "outputId": "aae557d7-d9dd-445b-abe6-a32106a46b0f"
      },
      "execution_count": 30,
      "outputs": [
        {
          "output_type": "display_data",
          "data": {
            "text/plain": [
              "<Figure size 432x288 with 2 Axes>"
            ],
            "image/png": "[encoded data removed]"
          },
          "metadata": {
            "needs_background": "light"
          }
        }
      ]
    },
    {
      "cell_type": "markdown",
      "source": [
        "Classification Report"
      ],
      "metadata": {
        "id": "Y6dC8W72CJuV"
      }
    },
    {
      "cell_type": "code",
      "source": [
        "from sklearn.metrics import classification_report\n",
        "print(classification_report(y_true, y_pred))"
      ],
      "metadata": {
        "colab": {
          "base_uri": "https://localhost:8080/"
        },
        "id": "sIPo0L_MCUil",
        "outputId": "10beca49-a2cc-4b1c-dac3-670b72b1d867"
      },
      "execution_count": 31,
      "outputs": [
        {
          "output_type": "stream",
          "name": "stdout",
          "text": [
            "              precision    recall  f1-score   support\n",
            "\n",
            "           0       0.57      0.57      0.57         7\n",
            "           1       0.71      0.56      0.63         9\n",
            "           2       0.43      0.60      0.50         5\n",
            "\n",
            "    accuracy                           0.57        21\n",
            "   macro avg       0.57      0.58      0.57        21\n",
            "weighted avg       0.60      0.57      0.58        21\n",
            "\n"
          ]
        }
      ]
    }
  ]
}