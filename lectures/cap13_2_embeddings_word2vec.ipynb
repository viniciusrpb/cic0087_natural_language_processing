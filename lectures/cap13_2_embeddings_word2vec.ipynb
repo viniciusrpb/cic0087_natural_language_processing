{
  "cells": [
    {
      "cell_type": "markdown",
      "metadata": {
        "id": "view-in-github",
        "colab_type": "text"
      },
      "source": [
        "<a href=\"https://colab.research.google.com/github/viniciusrpb/cic0269_natural_language_processing/blob/main/lectures/cap13_2_embeddings_word2vec.ipynb\" target=\"_parent\"><img src=\"https://colab.research.google.com/assets/colab-badge.svg\" alt=\"Open In Colab\"/></a>"
      ]
    },
    {
      "cell_type": "markdown",
      "source": [
        "# Capítulo 13 - Word Embeddings\n",
        "\n",
        "Atenção: esse notebook foi adaptado do [tutorial](https://blog.keras.io/using-pre-trained-word-embeddings-in-a-keras-model.html) disponível na documentação do Keras.\n",
        "\n",
        "## 13.1. Transferência por Aprendizado via Word2Vec"
      ],
      "metadata": {
        "id": "hebpaQlpKSyS"
      }
    },
    {
      "cell_type": "code",
      "execution_count": null,
      "metadata": {
        "id": "lBhH-LrUBPQC"
      },
      "outputs": [],
      "source": [
        "!pip install keras\n",
        "!pip install tensorflow\n",
        "!pip install -U gensim"
      ]
    },
    {
      "cell_type": "code",
      "execution_count": 2,
      "metadata": {
        "id": "KdvNPSjGbgpV"
      },
      "outputs": [],
      "source": [
        "from keras.models import Sequential\n",
        "from keras.layers import Dense,Embedding,Activation,Dropout,SimpleRNN,BatchNormalization,RNN,Flatten,Input,LSTM,Bidirectional\n",
        "from keras.utils.np_utils import to_categorical\n",
        "import tensorflow as tf\n",
        "import tensorflow_datasets as tfds\n",
        "from tensorflow import keras\n",
        "from tensorflow.keras.optimizers import SGD\n",
        "from tensorflow.keras.preprocessing.text import Tokenizer\n",
        "from tensorflow.keras.preprocessing.sequence import pad_sequences\n",
        "import pandas as pd\n",
        "import numpy as np\n",
        "import gensim\n",
        "from sklearn.metrics import classification_report\n",
        "from sklearn.model_selection import train_test_split\n",
        "import matplotlib.pyplot as plt"
      ]
    },
    {
      "cell_type": "markdown",
      "source": [
        "Primeiramente, vamos importar os embeddings pré-treinados do corpus da Google, conhecido como ```GoogleNews-vectors-negative300.bin```. Esse corpus possui\n",
        "\n"
      ],
      "metadata": {
        "id": "0i5M2jASK2V9"
      }
    },
    {
      "cell_type": "code",
      "execution_count": 5,
      "metadata": {
        "id": "LR_xXvK8BRWR"
      },
      "outputs": [],
      "source": [
        "ds_train = tfds.load('snli', split='train[50%:]', shuffle_files=True)\n",
        "ds_valid = tfds.load('snli', split='validation', shuffle_files=False)\n",
        "ds_test = tfds.load('snli', split='test', shuffle_files=False)"
      ]
    },
    {
      "cell_type": "code",
      "execution_count": 6,
      "metadata": {
        "id": "V6WDpjh1BS8J"
      },
      "outputs": [],
      "source": [
        "df_train = tfds.as_dataframe(ds_train)\n",
        "df_valid = tfds.as_dataframe(ds_valid)\n",
        "df_test = tfds.as_dataframe(ds_test)"
      ]
    },
    {
      "cell_type": "code",
      "execution_count": 7,
      "metadata": {
        "id": "fjJTCUMjBUtR"
      },
      "outputs": [],
      "source": [
        "def preprocessDataFrame(df):\n",
        "\n",
        "    dic = {}\n",
        "    dic['premise_hypothesis'] = []\n",
        "    dic['label'] = []\n",
        "\n",
        "    hypothesis = [x.decode('utf-8') for x in df['hypothesis'].values]\n",
        "    premise = [x.decode('utf-8') for x in df['premise'].values]\n",
        "\n",
        "    for idx,sentence in enumerate(premise):\n",
        "        dic['premise_hypothesis'].append(premise[idx]+\" \"+hypothesis[idx])\n",
        "        dic['label'].append(df['label'][idx])\n",
        "        \n",
        "    return pd.DataFrame.from_dict(dic)"
      ]
    },
    {
      "cell_type": "code",
      "execution_count": 8,
      "metadata": {
        "id": "7m7IV2NMBWHA"
      },
      "outputs": [],
      "source": [
        "df_train = preprocessDataFrame(df_train)\n",
        "df_valid = preprocessDataFrame(df_valid)\n",
        "df_test = preprocessDataFrame(df_test)"
      ]
    },
    {
      "cell_type": "code",
      "execution_count": 9,
      "metadata": {
        "id": "_7_5cN9NBXyh"
      },
      "outputs": [],
      "source": [
        "df_train['label'] = pd.Categorical(df_train['label'])\n",
        "y_train_int = df_train['label'].cat.codes\n",
        "\n",
        "df_valid['label'] = pd.Categorical(df_valid['label'])\n",
        "y_valid_int = df_valid['label'].cat.codes\n",
        "\n",
        "df_test['label'] = pd.Categorical(df_test['label'])\n",
        "y_test_int = df_test['label'].cat.codes\n",
        "\n",
        "y_train = to_categorical(y_train_int)\n",
        "y_valid = to_categorical(y_valid_int)\n",
        "y_test = to_categorical(y_test_int)"
      ]
    },
    {
      "cell_type": "code",
      "execution_count": 10,
      "metadata": {
        "id": "NsIFIfO5HJhn"
      },
      "outputs": [],
      "source": [
        "train_sentences = df_train['premise_hypothesis'].to_list()\n",
        "\n",
        "vocabulary = {}\n",
        "\n",
        "for i in range(0,len(train_sentences)):\n",
        "    train_sentences[i] = train_sentences[i].lower()\n",
        "    for word in train_sentences[i].split():\n",
        "        if word not in vocabulary:\n",
        "            vocabulary[word] = 1\n",
        "        else:\n",
        "            vocabulary[word]+=1"
      ]
    },
    {
      "cell_type": "code",
      "execution_count": 11,
      "metadata": {
        "id": "q_QmFhfyZ7M8"
      },
      "outputs": [],
      "source": [
        "tokenizer = Tokenizer(num_words = len(vocabulary))\n",
        "tokenizer.fit_on_texts(df_train['premise_hypothesis'])\n",
        "word2index = tokenizer.word_index\n",
        "vocab_size = len(word2index)\n",
        "\n",
        "train_sequences = tokenizer.texts_to_sequences(df_train['premise_hypothesis'])\n",
        "valid_sequences = tokenizer.texts_to_sequences(df_valid['premise_hypothesis'])\n",
        "test_sequences = tokenizer.texts_to_sequences(df_test['premise_hypothesis'])"
      ]
    },
    {
      "cell_type": "code",
      "execution_count": 12,
      "metadata": {
        "id": "0N13KC4yaKWs"
      },
      "outputs": [],
      "source": [
        "trunc_type = 'post'\n",
        "padding_type = 'post'\n",
        "max_length = 64\n",
        "vocab_size = len(vocabulary)\n",
        "\n",
        "train_padded = pad_sequences(train_sequences, maxlen=max_length, padding=padding_type, truncating=trunc_type)\n",
        "valid_padded = pad_sequences(valid_sequences, maxlen=max_length, padding=padding_type, truncating=trunc_type)\n",
        "test_padded = pad_sequences(test_sequences, maxlen=max_length, padding=padding_type, truncating=trunc_type)"
      ]
    },
    {
      "cell_type": "markdown",
      "source": [
        "### Carregando os word embeddings\n",
        "\n",
        "Vamos carregar os word embeddings de um modelo word2vec que foi treinado a partir do *corpus* GoogleNews, que possui aproximadamente $3$ bilhões de palavras. Cada palavra é representada por vetor de $300$ dimensões.\n",
        "\n",
        "Como se trata de um modelo word2vec, vamos utilizar o método ```load_word2vec_format``` para carregar os pesos para um modelo word2vec. Isso ocorre por meio da classe ```KeyedVectors```. Como o arquivo desse embedding está em formato binário, devemos ajustar a flag ```binary=True```. Ademais, devido ao risco de estourarmos a memória RAM (nesse notebook), vamos limitar o vocabulário do modelo a $15000$ palavras."
      ],
      "metadata": {
        "id": "WdoKtiLu3dDN"
      }
    },
    {
      "cell_type": "code",
      "execution_count": 13,
      "metadata": {
        "id": "W4SlpvQp25rs"
      },
      "outputs": [],
      "source": [
        "from gensim.models import KeyedVectors\n",
        "\n",
        "word_vectors= KeyedVectors.load_word2vec_format('GoogleNews-vectors-negative300.bin',\n",
        "                                                binary=True,\n",
        "                                                limit=15000)"
      ]
    },
    {
      "cell_type": "markdown",
      "source": [
        "#### Configurando a Embedding Layer para receber o Embedding word2vec \n",
        "\n",
        "Primeiramente, ajustamos a dimensão de saída da embedding layer que será igual à dimensão do embedding word2vec.\n",
        "\n"
      ],
      "metadata": {
        "id": "UB_SCP8ciuE0"
      }
    },
    {
      "cell_type": "code",
      "execution_count": 14,
      "metadata": {
        "id": "XgGVZEDT4HXd",
        "colab": {
          "base_uri": "https://localhost:8080/"
        },
        "outputId": "a903c797-e61f-40ce-da64-0b5e3530268c"
      },
      "outputs": [
        {
          "output_type": "stream",
          "name": "stdout",
          "text": [
            "300\n"
          ]
        }
      ],
      "source": [
        "embedding_dim = len(word_vectors[0])\n",
        "\n",
        "print(embedding_dim)"
      ]
    },
    {
      "cell_type": "markdown",
      "source": [
        "Fazemos agora o seguinte processo:\n",
        "\n",
        "1.   Criamos a matriz de embeddings com dimensões \"tamanho do vocabulário $\\times$ dimensão da saída do embedding\", inicialmente zerada:\n",
        "\n",
        "\n",
        "\n",
        "\n"
      ],
      "metadata": {
        "id": "mD91BfhQoL46"
      }
    },
    {
      "cell_type": "code",
      "source": [
        "embedding_matrix = np.zeros((vocab_size, embedding_dim))"
      ],
      "metadata": {
        "id": "KgQ-NcWHp0xM"
      },
      "execution_count": 15,
      "outputs": []
    },
    {
      "cell_type": "markdown",
      "source": [
        "2.   Como devemos configurar o embedding com os tokens do conjunto de treinamento, vamos processar palavra por palavra do *corpus* do SNLI, obter seu vetor (de dimensão ```embedding_dim```) por meio da embedding word2vec pré-treinada correspondente e incluí-la na matriz de embeddings.\n",
        "\n",
        "**Atenção:** caso uma palavra da parte de treinamento do *corpus* seja desconhecida ao word embedding, devemos (veja o else) gerar um vetor de dimensão ```embedding_dim``` contendo valores aleatórios ou zeros. No exemplo abaixo, os valores aleatórios seguem uma distribuição normal de média zero e desvio-padrão igual a $1$."
      ],
      "metadata": {
        "id": "1nWE92qup7yL"
      }
    },
    {
      "cell_type": "code",
      "execution_count": 16,
      "metadata": {
        "id": "AlqGoFBhyk5Q"
      },
      "outputs": [],
      "source": [
        "for word, i in word2index.items():\n",
        "    if word in word_vectors:\n",
        "        embedding_vector = word_vectors[word]\n",
        "        embedding_matrix[i] = embedding_vector\n",
        "    else:\n",
        "        embedding_matrix[i] = np.random.normal(0,1,embedding_dim)"
      ]
    },
    {
      "cell_type": "markdown",
      "source": [
        "A embedding layer deve ser configurada da seguinte maneira para receber os pesos de um modelo word2vec que foram treinados a partir de um *corpus* grande (como o Google News ou Wikipedia):\n",
        "\n",
        "* Colocar como ```input_dim``` o tamanho do vocabulário (cada palavra é um eixo no espaço de características) e ```output_dim``` as dimensões do embedding (e dimensão do *word vector*);\n",
        "* Inicializar os pesos dos embeddings utilizando a matriz de embeddings\n",
        "* É importante ajustar o parâmetro ```trainable=False``` para prevenir que os pesos da camada de Embedding sejam alterados durante o treinamento."
      ],
      "metadata": {
        "id": "2ziW7UuY0M2i"
      }
    },
    {
      "cell_type": "code",
      "execution_count": 17,
      "metadata": {
        "id": "H1S6MS_6xj6_"
      },
      "outputs": [],
      "source": [
        "embedding_layer = Embedding(input_dim = vocab_size,\n",
        "                            output_dim = embedding_dim,\n",
        "                            embeddings_initializer=keras.initializers.Constant(embedding_matrix),\n",
        "                            input_length=max_length,\n",
        "                            trainable=False)"
      ]
    },
    {
      "cell_type": "markdown",
      "source": [
        "Segue uma arquitetura simples para predição podemos fazer a inferência de uma premissa para uma hipótese. A adição de camadas recorrentes (SimpleRNN, LSTM, GRU) ou Densa são importantes para aprender os padrões dos dados de interesse e que estão sendo classificados (no caso, o corpus de inferência de linguagem natural):\n",
        "\n",
        "*Homework: tente diferentes arquiteturas para melhorar os resultados obtidos nesse notebook!*"
      ],
      "metadata": {
        "id": "8POI5Ujx1imc"
      }
    },
    {
      "cell_type": "code",
      "execution_count": 18,
      "metadata": {
        "id": "egA0hMxsbgB0",
        "colab": {
          "base_uri": "https://localhost:8080/"
        },
        "outputId": "8e44d7d2-6307-4d6c-ae32-93d2fc8d9889"
      },
      "outputs": [
        {
          "output_type": "stream",
          "name": "stdout",
          "text": [
            "Model: \"sequential\"\n",
            "_________________________________________________________________\n",
            " Layer (type)                Output Shape              Param #   \n",
            "=================================================================\n",
            " embedding (Embedding)       (None, 64, 300)           13635300  \n",
            "                                                                 \n",
            " simple_rnn (SimpleRNN)      (None, 64)                23360     \n",
            "                                                                 \n",
            " dropout (Dropout)           (None, 64)                0         \n",
            "                                                                 \n",
            " dense (Dense)               (None, 4)                 260       \n",
            "                                                                 \n",
            "=================================================================\n",
            "Total params: 13,658,920\n",
            "Trainable params: 23,620\n",
            "Non-trainable params: 13,635,300\n",
            "_________________________________________________________________\n"
          ]
        }
      ],
      "source": [
        "model = Sequential()\n",
        "model.add(embedding_layer)\n",
        "model.add(SimpleRNN(64,activation='relu'))\n",
        "model.add(Dropout(0.5))\n",
        "model.add(Dense(4,activation=\"softmax\"))\n",
        "model.summary()"
      ]
    },
    {
      "cell_type": "code",
      "execution_count": 19,
      "metadata": {
        "id": "cVdwP7P3btU3",
        "colab": {
          "base_uri": "https://localhost:8080/"
        },
        "outputId": "58ae0651-f862-41bd-9d4c-a080370500f3"
      },
      "outputs": [
        {
          "output_type": "stream",
          "name": "stdout",
          "text": [
            "Epoch 1/10\n",
            "8597/8597 [==============================] - 422s 49ms/step - loss: 1.1208 - accuracy: 0.3319 - val_loss: 1.1859 - val_accuracy: 0.3328\n",
            "Epoch 2/10\n",
            "8597/8597 [==============================] - 415s 48ms/step - loss: 1.1107 - accuracy: 0.3329 - val_loss: 1.1844 - val_accuracy: 0.3279\n",
            "Epoch 3/10\n",
            "8597/8597 [==============================] - 416s 48ms/step - loss: 1.1103 - accuracy: 0.3341 - val_loss: 1.1857 - val_accuracy: 0.3237\n",
            "Epoch 4/10\n",
            "8597/8597 [==============================] - 419s 49ms/step - loss: 1.1098 - accuracy: 0.3332 - val_loss: 1.1839 - val_accuracy: 0.3331\n",
            "Epoch 5/10\n",
            "8597/8597 [==============================] - 418s 49ms/step - loss: 1.1096 - accuracy: 0.3319 - val_loss: 1.1926 - val_accuracy: 0.3279\n",
            "Epoch 6/10\n",
            "8597/8597 [==============================] - 412s 48ms/step - loss: 1.1092 - accuracy: 0.3345 - val_loss: 1.1831 - val_accuracy: 0.3280\n",
            "Epoch 7/10\n",
            "8597/8597 [==============================] - 413s 48ms/step - loss: 1.1092 - accuracy: 0.3338 - val_loss: 1.1884 - val_accuracy: 0.3330\n",
            "Epoch 8/10\n",
            "8597/8597 [==============================] - 411s 48ms/step - loss: 1.1090 - accuracy: 0.3337 - val_loss: 1.1852 - val_accuracy: 0.3329\n",
            "Epoch 9/10\n",
            "8597/8597 [==============================] - 414s 48ms/step - loss: 1.1088 - accuracy: 0.3352 - val_loss: 1.1922 - val_accuracy: 0.3235\n",
            "Epoch 10/10\n",
            "8597/8597 [==============================] - 414s 48ms/step - loss: 1.1088 - accuracy: 0.3312 - val_loss: 1.1855 - val_accuracy: 0.3331\n"
          ]
        }
      ],
      "source": [
        "sgd = SGD(learning_rate=0.01)\n",
        "model.compile(loss=\"categorical_crossentropy\",optimizer=sgd,metrics=['accuracy'])\n",
        "history = model.fit(train_padded,y_train,validation_data=(valid_padded,y_valid),batch_size=32,epochs=10)"
      ]
    },
    {
      "cell_type": "code",
      "execution_count": 20,
      "metadata": {
        "id": "kUCsIvdQb0jr",
        "colab": {
          "base_uri": "https://localhost:8080/",
          "height": 295
        },
        "outputId": "66138f23-6bc3-46b6-8ef2-8711b4cf87f9"
      },
      "outputs": [
        {
          "output_type": "display_data",
          "data": {
            "text/plain": [
              "<Figure size 432x288 with 1 Axes>"
            ],
            "image/png": "[encoded data removed]"
          },
          "metadata": {
            "needs_background": "light"
          }
        }
      ],
      "source": [
        "plt.plot(history.history['loss'])\n",
        "plt.plot(history.history['val_loss'])\n",
        "plt.title('model loss')\n",
        "plt.ylabel('loss')\n",
        "plt.xlabel('epoch')\n",
        "plt.legend(['training set','validation set'], loc='upper left')\n",
        "plt.show()"
      ]
    },
    {
      "cell_type": "markdown",
      "source": [
        "Executando-se testes dos dados de teste:"
      ],
      "metadata": {
        "id": "yETsr0G46fLq"
      }
    },
    {
      "cell_type": "code",
      "execution_count": 21,
      "metadata": {
        "id": "qCHm8yDUb3sk",
        "colab": {
          "base_uri": "https://localhost:8080/"
        },
        "outputId": "a1867f37-d1e0-4c61-b90e-7b6c74b41fef"
      },
      "outputs": [
        {
          "output_type": "stream",
          "name": "stdout",
          "text": [
            "              precision    recall  f1-score   support\n",
            "\n",
            "           0       0.00      0.00      0.00       176\n",
            "           1       0.34      1.00      0.50      3368\n",
            "           2       0.50      0.00      0.00      3219\n",
            "           3       0.00      0.00      0.00      3237\n",
            "\n",
            "    accuracy                           0.34     10000\n",
            "   macro avg       0.21      0.25      0.13     10000\n",
            "weighted avg       0.27      0.34      0.17     10000\n",
            "\n"
          ]
        },
        {
          "output_type": "stream",
          "name": "stderr",
          "text": [
            "/usr/local/lib/python3.7/dist-packages/sklearn/metrics/_classification.py:1318: UndefinedMetricWarning: Precision and F-score are ill-defined and being set to 0.0 in labels with no predicted samples. Use `zero_division` parameter to control this behavior.\n",
            "  _warn_prf(average, modifier, msg_start, len(result))\n",
            "/usr/local/lib/python3.7/dist-packages/sklearn/metrics/_classification.py:1318: UndefinedMetricWarning: Precision and F-score are ill-defined and being set to 0.0 in labels with no predicted samples. Use `zero_division` parameter to control this behavior.\n",
            "  _warn_prf(average, modifier, msg_start, len(result))\n",
            "/usr/local/lib/python3.7/dist-packages/sklearn/metrics/_classification.py:1318: UndefinedMetricWarning: Precision and F-score are ill-defined and being set to 0.0 in labels with no predicted samples. Use `zero_division` parameter to control this behavior.\n",
            "  _warn_prf(average, modifier, msg_start, len(result))\n"
          ]
        }
      ],
      "source": [
        "y_prob = model.predict(test_padded)\n",
        "y_pred = np.argmax(y_prob,axis=1)\n",
        "print(classification_report(y_test_int,y_pred))"
      ]
    }
  ],
  "metadata": {
    "colab": {
      "collapsed_sections": [],
      "provenance": [],
      "authorship_tag": "ABX9TyP+sd6Xw73h5MtVNBX+x5+R",
      "include_colab_link": true
    },
    "kernelspec": {
      "display_name": "Python 3",
      "name": "python3"
    },
    "language_info": {
      "name": "python"
    },
    "accelerator": "GPU"
  },
  "nbformat": 4,
  "nbformat_minor": 0
}