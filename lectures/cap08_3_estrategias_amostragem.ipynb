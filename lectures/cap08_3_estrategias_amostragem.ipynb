{
  "nbformat": 4,
  "nbformat_minor": 0,
  "metadata": {
    "colab": {
      "provenance": [],
      "authorship_tag": "ABX9TyPBKa3PXAb/cVBUB2y7KTe2",
      "include_colab_link": true
    },
    "kernelspec": {
      "name": "python3",
      "display_name": "Python 3"
    },
    "language_info": {
      "name": "python"
    }
  },
  "cells": [
    {
      "cell_type": "markdown",
      "metadata": {
        "id": "view-in-github",
        "colab_type": "text"
      },
      "source": [
        "<a href=\"https://colab.research.google.com/github/viniciusrpb/cic0269_natural_language_processing/blob/main/lectures/cap08_3_estrategias_amostragem.ipynb\" target=\"_parent\"><img src=\"https://colab.research.google.com/assets/colab-badge.svg\" alt=\"Open In Colab\"/></a>"
      ]
    },
    {
      "cell_type": "markdown",
      "source": [
        "# Capítulo 8 - Classificação de Textos\n",
        "\n",
        "## 8.3. Estratégias de Amostragem para Avaliação de Desempenho de Classificação\n",
        "\n",
        "Nesta seção vamos estudar como avaliar e comparar os desempenhos entre classificadores"
      ],
      "metadata": {
        "id": "whiaqg-5QDf6"
      }
    },
    {
      "cell_type": "code",
      "source": [
        "!pip install orange3"
      ],
      "metadata": {
        "id": "azjwYRx9RMjs"
      },
      "execution_count": null,
      "outputs": []
    },
    {
      "cell_type": "markdown",
      "source": [
        "### Holdout\n"
      ],
      "metadata": {
        "id": "O1tLWYl7Q8bF"
      }
    },
    {
      "cell_type": "markdown",
      "source": [
        "### K-Fold Cross Validation"
      ],
      "metadata": {
        "id": "gla_JdGxfyGy"
      }
    },
    {
      "cell_type": "markdown",
      "source": [
        "### Testes de Significância Estatística\n",
        "\n",
        "Performance comparison is the important part of our research. We need to compare the performances of two or more methods or algorithms and decide which methods perform best. Some of papers present that the performance of the proposed method improve significantly. The significant performance does not only consider from the difference of accuracy between the two methods but we need to conduct a statistical significance test. This article walks through the implementation of the post-hoc tests (Nemenyi and Bonferroni Tests) in Python.\n",
        "\n",
        "Para detalhes teóricos adicionais, recomendo a leitura do artigo \"Statistical Comparisons of Classifiers over Multiple Data Sets\" de Janez Demsar [aqui](https://www.jmlr.org/papers/volume7/demsar06a/demsar06a.pdf)."
      ],
      "metadata": {
        "id": "hi7D4UIfQsEu"
      }
    },
    {
      "cell_type": "markdown",
      "source": [
        "**Teste de Nemenyi**"
      ],
      "metadata": {
        "id": "3mmuzQIGonAp"
      }
    },
    {
      "cell_type": "code",
      "source": [
        "import Orange \n",
        "import matplotlib.pyplot as plt\n",
        "names = ['C4.5', 'C4.5+m', 'C4.5+cf', 'C4.5+m+cf']\n",
        "avranks = [3.143,2.000,2.893,1.964]\n",
        "cd = Orange.evaluation.compute_CD(avranks, 14,alpha='0.05') #tested on 14 datasets \n",
        "print('cd=',cd)\n",
        "Orange.evaluation.graph_ranks(avranks, names, cd=cd, width=5, textspace=1.5)\n",
        "plt.show();"
      ],
      "metadata": {
        "colab": {
          "base_uri": "https://localhost:8080/",
          "height": 160
        },
        "id": "CB5ifYhNQwT-",
        "outputId": "abc4caf0-23d1-486d-b1cb-972ddd73fa53"
      },
      "execution_count": null,
      "outputs": [
        {
          "output_type": "stream",
          "name": "stdout",
          "text": [
            "cd= 1.2535592581035582\n"
          ]
        },
        {
          "output_type": "display_data",
          "data": {
            "text/plain": [
              "<Figure size 360x111.6 with 1 Axes>"
            ],
            "image/png": "[encoded data removed]"
          },
          "metadata": {}
        }
      ]
    },
    {
      "cell_type": "markdown",
      "source": [
        "**Teste de Bonferroni-Dunn**"
      ],
      "metadata": {
        "id": "jkisSw9dohuq"
      }
    },
    {
      "cell_type": "code",
      "source": [
        "import Orange \n",
        "import matplotlib.pyplot as plt\n",
        "names = ['C4.5', 'C4.5+m', 'C4.5+cf', 'C4.5+m+cf']\n",
        "avranks = [3.143,2.000,2.893,1.964]\n",
        "cd = Orange.evaluation.compute_CD(avranks, 14,alpha='0.05', test='bonferroni-dunn') #tested on 14 datasets \n",
        "print('cd=',cd)\n",
        "Orange.evaluation.graph_ranks(avranks, names, cd=cd, width=5, textspace=1.5, cdmethod=0)\n",
        "plt.show();"
      ],
      "metadata": {
        "colab": {
          "base_uri": "https://localhost:8080/",
          "height": 142
        },
        "id": "qjAszRaXoh4R",
        "outputId": "61df2f49-a803-49b5-a8f1-039045786101"
      },
      "execution_count": null,
      "outputs": [
        {
          "output_type": "stream",
          "name": "stdout",
          "text": [
            "cd= 1.1681523873193944\n"
          ]
        },
        {
          "output_type": "display_data",
          "data": {
            "text/plain": [
              "<Figure size 360x93.6 with 1 Axes>"
            ],
            "image/png": "[encoded data removed]"
          },
          "metadata": {}
        }
      ]
    }
  ]
}