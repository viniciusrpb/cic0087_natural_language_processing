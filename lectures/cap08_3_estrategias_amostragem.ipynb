{
  "nbformat": 4,
  "nbformat_minor": 0,
  "metadata": {
    "colab": {
      "name": "cap08_3_estrategias_amostragem.ipynb",
      "provenance": [],
      "authorship_tag": "ABX9TyNWWNeNGWrGV4BGcvEGKqLO",
      "include_colab_link": true
    },
    "kernelspec": {
      "name": "python3",
      "display_name": "Python 3"
    },
    "language_info": {
      "name": "python"
    }
  },
  "cells": [
    {
      "cell_type": "markdown",
      "metadata": {
        "id": "view-in-github",
        "colab_type": "text"
      },
      "source": [
        "<a href=\"https://colab.research.google.com/github/viniciusrpb/cic0269_natural_language_processing/blob/main/lectures/cap08_3_estrategias_amostragem.ipynb\" target=\"_parent\"><img src=\"https://colab.research.google.com/assets/colab-badge.svg\" alt=\"Open In Colab\"/></a>"
      ]
    },
    {
      "cell_type": "markdown",
      "source": [
        "# Capítulo 8 - Classificação de Textos\n",
        "\n",
        "## 8.3. Estratégias de Amostragem para Avaliação de Desempenho de Classificação\n",
        "\n",
        "Nesta seção vamos estudar como avaliar e comparar os desempenhos entre classificadores"
      ],
      "metadata": {
        "id": "whiaqg-5QDf6"
      }
    },
    {
      "cell_type": "code",
      "source": [
        "!pip install Orange"
      ],
      "metadata": {
        "colab": {
          "base_uri": "https://localhost:8080/"
        },
        "id": "azjwYRx9RMjs",
        "outputId": "622efd38-d62c-49e9-f323-86b45463c381"
      },
      "execution_count": null,
      "outputs": [
        {
          "output_type": "stream",
          "name": "stdout",
          "text": [
            "Looking in indexes: https://pypi.org/simple, https://us-python.pkg.dev/colab-wheels/public/simple/\n",
            "Collecting Orange\n",
            "  Downloading Orange-2.7.8.tar.gz (15.0 MB)\n",
            "\u001b[K     |████████████████████████████████| 15.0 MB 4.9 MB/s \n",
            "\u001b[33mWARNING: Discarding https://files.pythonhosted.org/packages/43/61/29c81c53504fb4c774eaec5218ca39f5d2625a61f0f6a52c61097be17f1c/Orange-2.7.8.tar.gz#sha256=9602d621d8258c90a8122b2ae2eb7471139836f0a16b6941e83735739913af5c (from https://pypi.org/simple/orange/). Command errored out with exit status 1: python setup.py egg_info Check the logs for full command output.\u001b[0m\n",
            "\u001b[?25h  Downloading Orange-2.7.7.tar.gz (15.0 MB)\n",
            "\u001b[K     |████████████████████████████████| 15.0 MB 27.3 MB/s \n",
            "\u001b[33mWARNING: Discarding https://files.pythonhosted.org/packages/e7/e9/7b406a0a74127e4bb38e21fccaf12b47b612275eb485f683847ca642e04b/Orange-2.7.7.tar.gz#sha256=d9eb748de0fbd2623b448e8113241801f94dac9a9c118f73058f2ec86208a662 (from https://pypi.org/simple/orange/). Command errored out with exit status 1: python setup.py egg_info Check the logs for full command output.\u001b[0m\n",
            "\u001b[?25h  Downloading Orange-2.7.5.zip (15.6 MB)\n",
            "\u001b[K     |████████████████████████████████| 15.6 MB 108 kB/s \n",
            "\u001b[33mWARNING: Discarding https://files.pythonhosted.org/packages/e7/2c/4e66d86e2d7a53fbf41da087a1002ad9585a2a6c2761ddc0215e32813b57/Orange-2.7.5.zip#sha256=28387f82da95f5ffebb5515e88ec60550ce32ec03710c84097960cf3d6037077 (from https://pypi.org/simple/orange/). Command errored out with exit status 1: python setup.py egg_info Check the logs for full command output.\u001b[0m\n",
            "\u001b[?25h  Downloading Orange-2.7.5.tar.gz (14.5 MB)\n",
            "\u001b[K     |████████████████████████████████| 14.5 MB 39.5 MB/s \n",
            "\u001b[33mWARNING: Discarding https://files.pythonhosted.org/packages/59/ba/29a37b9019564de4e03162223ee0d12e026a0d75a75ee9de34d77aeb084a/Orange-2.7.5.tar.gz#sha256=c7ebeed3d6f81d95e3be170f46d51cb708a4dab44168131fe5f111dafb2d324c (from https://pypi.org/simple/orange/). Command errored out with exit status 1: python setup.py egg_info Check the logs for full command output.\u001b[0m\n",
            "\u001b[?25h  Downloading Orange-2.7.3.zip (15.7 MB)\n",
            "\u001b[K     |████████████████████████████████| 15.7 MB 49 kB/s \n",
            "\u001b[33mWARNING: Discarding https://files.pythonhosted.org/packages/40/93/bc6310ce8acd07965c51c21c1c8ede224403a038ca512cb8aa923e7f1320/Orange-2.7.3.zip#sha256=175f89e21d2afd2bd6e94fd51a89be7ae2246f402d1cdac0e8e27b69c0c49b04 (from https://pypi.org/simple/orange/). Command errored out with exit status 1: python setup.py egg_info Check the logs for full command output.\u001b[0m\n",
            "\u001b[?25h  Downloading Orange-2.7.3.tar.gz (14.4 MB)\n",
            "\u001b[K     |████████████████████████████████| 14.4 MB 46.4 MB/s \n",
            "\u001b[33mWARNING: Discarding https://files.pythonhosted.org/packages/1e/b5/49ca7506139fbb6f282d17966366936f519719f2ff1f228356d0d3c7b613/Orange-2.7.3.tar.gz#sha256=f1989580c7513908096dd2c7d52e39966427ebfd5b27ce5063469b0ee1ac922c (from https://pypi.org/simple/orange/). Command errored out with exit status 1: python setup.py egg_info Check the logs for full command output.\u001b[0m\n",
            "\u001b[?25h  Downloading Orange-2.7.2.tar.gz (12.6 MB)\n",
            "\u001b[K     |████████████████████████████████| 12.6 MB 34.9 MB/s \n",
            "\u001b[33mWARNING: Discarding https://files.pythonhosted.org/packages/17/d3/70e8bbb3c05e75d2f7133ec52de94262a03580aa11a615df79e3f23c3a8a/Orange-2.7.2.tar.gz#sha256=02ca4f711c0d792ef5a4d5a066756d179476af73c944ee6a9e208369801e11de (from https://pypi.org/simple/orange/). Command errored out with exit status 1: python setup.py egg_info Check the logs for full command output.\u001b[0m\n",
            "\u001b[?25h  Downloading Orange-2.7.1.tar.gz (12.7 MB)\n",
            "\u001b[K     |████████████████████████████████| 12.7 MB 36.8 MB/s \n",
            "\u001b[33mWARNING: Discarding https://files.pythonhosted.org/packages/9b/b9/0a3a743cc8c1ac89b8a9627215bfd603831992901dc84ec7e174c3e82fda/Orange-2.7.1.tar.gz#sha256=1057e675407745d170bb8ee7e8e0a5618c4ea867a9f7f0387aeeca31f1d6fa43 (from https://pypi.org/simple/orange/). Command errored out with exit status 1: python setup.py egg_info Check the logs for full command output.\u001b[0m\n",
            "\u001b[?25h  Downloading Orange-2.7.tar.gz (13.3 MB)\n",
            "\u001b[K     |████████████████████████████████| 13.3 MB 145 kB/s \n",
            "\u001b[33mWARNING: Discarding https://files.pythonhosted.org/packages/7d/a7/cd5c54f8e7c4f1c4ae16eefc9ff837d00266f50e3d9d0d50a3374b704274/Orange-2.7.tar.gz#sha256=c2bdb02dc56640fc0debe6146d50a0b39cb75bafd99481c4c833549fa84dcec9 (from https://pypi.org/simple/orange/). Command errored out with exit status 1: python setup.py egg_info Check the logs for full command output.\u001b[0m\n",
            "\u001b[?25h  Downloading Orange-2.6.tar.gz (20.4 MB)\n",
            "\u001b[K     |████████████████████████████████| 20.4 MB 86.1 MB/s \n",
            "\u001b[33mWARNING: Discarding https://files.pythonhosted.org/packages/b8/6e/457967e0a795c1eb0a68764a354bc3fd7db7626a963f0aa19a8cbac533b1/Orange-2.6.tar.gz#sha256=2281c93e8137aabb590dc1fa4128cadb1e7fa2f722753eacea1f82da70807075 (from https://pypi.org/simple/orange/). Command errored out with exit status 1: python setup.py egg_info Check the logs for full command output.\u001b[0m\n",
            "\u001b[31mERROR: Could not find a version that satisfies the requirement Orange (from versions: 2.0.0b0, 2.0.1b0, 2.5a1, 2.5a2, 2.5a4, 2.6, 2.7, 2.7.1, 2.7.2, 2.7.3, 2.7.5, 2.7.7, 2.7.8)\u001b[0m\n",
            "\u001b[31mERROR: No matching distribution found for Orange\u001b[0m\n",
            "\u001b[?25h"
          ]
        }
      ]
    },
    {
      "cell_type": "markdown",
      "source": [
        "### Holdout\n"
      ],
      "metadata": {
        "id": "O1tLWYl7Q8bF"
      }
    },
    {
      "cell_type": "markdown",
      "source": [
        "### K-Fold Cross Validation"
      ],
      "metadata": {
        "id": "gla_JdGxfyGy"
      }
    },
    {
      "cell_type": "markdown",
      "source": [
        "### Testes de Significância Estatística"
      ],
      "metadata": {
        "id": "hi7D4UIfQsEu"
      }
    },
    {
      "cell_type": "code",
      "source": [
        "import Orange \n",
        "import matplotlib.pyplot as plt\n",
        "names = ['C4.5', 'C4.5+m', 'C4.5+cf', 'C4.5+m+cf']\n",
        "avranks = [3.143,2.000,2.893,1.964]\n",
        "cd = Orange.evaluation.compute_CD(avranks, 14,alpha='0.05', test='bonferroni-dunn') #tested on 14 datasets \n",
        "print('cd=',cd)\n",
        "Orange.evaluation.graph_ranks(avranks, names, cd=cd, width=5, textspace=1.5, cdmethod=0)\n",
        "plt.show();"
      ],
      "metadata": {
        "colab": {
          "base_uri": "https://localhost:8080/",
          "height": 374
        },
        "id": "CB5ifYhNQwT-",
        "outputId": "b426d2fc-bf36-411d-b3cd-7ab60f728996"
      },
      "execution_count": null,
      "outputs": [
        {
          "output_type": "error",
          "ename": "ModuleNotFoundError",
          "evalue": "ignored",
          "traceback": [
            "\u001b[0;31m---------------------------------------------------------------------------\u001b[0m",
            "\u001b[0;31mModuleNotFoundError\u001b[0m                       Traceback (most recent call last)",
            "\u001b[0;32m<ipython-input-3-1f5ad645675f>\u001b[0m in \u001b[0;36m<module>\u001b[0;34m\u001b[0m\n\u001b[0;32m----> 1\u001b[0;31m \u001b[0;32mimport\u001b[0m \u001b[0mOrange\u001b[0m\u001b[0;34m\u001b[0m\u001b[0;34m\u001b[0m\u001b[0m\n\u001b[0m\u001b[1;32m      2\u001b[0m \u001b[0;32mimport\u001b[0m \u001b[0mmatplotlib\u001b[0m\u001b[0;34m.\u001b[0m\u001b[0mpyplot\u001b[0m \u001b[0;32mas\u001b[0m \u001b[0mplt\u001b[0m\u001b[0;34m\u001b[0m\u001b[0;34m\u001b[0m\u001b[0m\n\u001b[1;32m      3\u001b[0m \u001b[0mnames\u001b[0m \u001b[0;34m=\u001b[0m \u001b[0;34m[\u001b[0m\u001b[0;34m'C4.5'\u001b[0m\u001b[0;34m,\u001b[0m \u001b[0;34m'C4.5+m'\u001b[0m\u001b[0;34m,\u001b[0m \u001b[0;34m'C4.5+cf'\u001b[0m\u001b[0;34m,\u001b[0m \u001b[0;34m'C4.5+m+cf'\u001b[0m\u001b[0;34m]\u001b[0m\u001b[0;34m\u001b[0m\u001b[0;34m\u001b[0m\u001b[0m\n\u001b[1;32m      4\u001b[0m \u001b[0mavranks\u001b[0m \u001b[0;34m=\u001b[0m \u001b[0;34m[\u001b[0m\u001b[0;36m3.143\u001b[0m\u001b[0;34m,\u001b[0m\u001b[0;36m2.000\u001b[0m\u001b[0;34m,\u001b[0m\u001b[0;36m2.893\u001b[0m\u001b[0;34m,\u001b[0m\u001b[0;36m1.964\u001b[0m\u001b[0;34m]\u001b[0m\u001b[0;34m\u001b[0m\u001b[0;34m\u001b[0m\u001b[0m\n\u001b[1;32m      5\u001b[0m \u001b[0mcd\u001b[0m \u001b[0;34m=\u001b[0m \u001b[0mOrange\u001b[0m\u001b[0;34m.\u001b[0m\u001b[0mevaluation\u001b[0m\u001b[0;34m.\u001b[0m\u001b[0mcompute_CD\u001b[0m\u001b[0;34m(\u001b[0m\u001b[0mavranks\u001b[0m\u001b[0;34m,\u001b[0m \u001b[0;36m14\u001b[0m\u001b[0;34m,\u001b[0m\u001b[0malpha\u001b[0m\u001b[0;34m=\u001b[0m\u001b[0;34m'0.05'\u001b[0m\u001b[0;34m,\u001b[0m \u001b[0mtest\u001b[0m\u001b[0;34m=\u001b[0m\u001b[0;34m'bonferroni-dunn'\u001b[0m\u001b[0;34m)\u001b[0m \u001b[0;31m#tested on 14 datasets\u001b[0m\u001b[0;34m\u001b[0m\u001b[0;34m\u001b[0m\u001b[0m\n",
            "\u001b[0;31mModuleNotFoundError\u001b[0m: No module named 'Orange'",
            "",
            "\u001b[0;31m---------------------------------------------------------------------------\u001b[0;32m\nNOTE: If your import is failing due to a missing package, you can\nmanually install dependencies using either !pip or !apt.\n\nTo view examples of installing some common dependencies, click the\n\"Open Examples\" button below.\n\u001b[0;31m---------------------------------------------------------------------------\u001b[0m\n"
          ],
          "errorDetails": {
            "actions": [
              {
                "action": "open_url",
                "actionText": "Open Examples",
                "url": "/notebooks/snippets/importing_libraries.ipynb"
              }
            ]
          }
        }
      ]
    }
  ]
}