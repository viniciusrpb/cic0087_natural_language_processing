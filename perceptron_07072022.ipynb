{
  "nbformat": 4,
  "nbformat_minor": 0,
  "metadata": {
    "colab": {
      "name": "Untitled13.ipynb",
      "provenance": [],
      "authorship_tag": "ABX9TyMxEzDgcUhnf06CIzwBmFNO",
      "include_colab_link": true
    },
    "kernelspec": {
      "name": "python3",
      "display_name": "Python 3"
    },
    "language_info": {
      "name": "python"
    }
  },
  "cells": [
    {
      "cell_type": "markdown",
      "metadata": {
        "id": "view-in-github",
        "colab_type": "text"
      },
      "source": [
        "<a href=\"https://colab.research.google.com/github/viniciusrpb/cic0269_natural_language_processing/blob/main/perceptron_07072022.ipynb\" target=\"_parent\"><img src=\"https://colab.research.google.com/assets/colab-badge.svg\" alt=\"Open In Colab\"/></a>"
      ]
    },
    {
      "cell_type": "code",
      "execution_count": null,
      "metadata": {
        "id": "VyZF52tt1bOS"
      },
      "outputs": [],
      "source": [
        "import numpy as np\n",
        "import math"
      ]
    },
    {
      "cell_type": "code",
      "source": [
        "def fativacao(x,tipo,t):\n",
        "    if tipo == 'degrau':\n",
        "        if x >= t:\n",
        "            y = 1\n",
        "        else:\n",
        "            y = 0\n",
        "    elif tipo == 'sigmoide':\n",
        "        y = 1/(1 + math.exp(-x))\n",
        "    elif tipo == 'sinal':\n",
        "        if x >= 0:\n",
        "            y = 1\n",
        "        else:\n",
        "            y = -1\n",
        "    else:\n",
        "        y = 'ERRO: Opcao invalida'\n",
        "    return y"
      ],
      "metadata": {
        "id": "hDI_yn-x5PXv"
      },
      "execution_count": null,
      "outputs": []
    },
    {
      "cell_type": "code",
      "source": [
        "x = [0.5,1.1,0.1,0.2,0.7]"
      ],
      "metadata": {
        "id": "C-zE1v3G1ioW"
      },
      "execution_count": null,
      "outputs": []
    },
    {
      "cell_type": "code",
      "source": [
        "pesos = [-3.0,-6.0,0.0,0.0,0.0]"
      ],
      "metadata": {
        "id": "NOae2fhi17Om"
      },
      "execution_count": null,
      "outputs": []
    },
    {
      "cell_type": "code",
      "source": [
        "d = len(pesos)"
      ],
      "metadata": {
        "id": "MznNDIQh4bwf"
      },
      "execution_count": null,
      "outputs": []
    },
    {
      "cell_type": "code",
      "source": [
        "bias  = 0\n",
        "net = bias\n",
        "\n",
        "for i in range(0,d):\n",
        "    net += x[i]*pesos[i] "
      ],
      "metadata": {
        "id": "FCoLuIWW4Rkn"
      },
      "execution_count": null,
      "outputs": []
    },
    {
      "cell_type": "code",
      "source": [
        "print(fativacao(net,'sigmoide',0.4))"
      ],
      "metadata": {
        "colab": {
          "base_uri": "https://localhost:8080/"
        },
        "id": "BMGc_qcH4idp",
        "outputId": "d0b1fe4f-70e3-42cc-d46e-6492f41a4c84"
      },
      "execution_count": null,
      "outputs": [
        {
          "output_type": "stream",
          "name": "stdout",
          "text": [
            "0.0003034470300289187\n"
          ]
        }
      ]
    },
    {
      "cell_type": "code",
      "source": [
        "pesos = np.random.randn(5)"
      ],
      "metadata": {
        "id": "vJ-jNJVk7yJ3"
      },
      "execution_count": null,
      "outputs": []
    },
    {
      "cell_type": "code",
      "source": [
        "pesos\n"
      ],
      "metadata": {
        "colab": {
          "base_uri": "https://localhost:8080/"
        },
        "id": "_t5T43N78A9v",
        "outputId": "74d6f9fb-1bb7-4d2d-a3fd-961853f7cf2f"
      },
      "execution_count": null,
      "outputs": [
        {
          "output_type": "execute_result",
          "data": {
            "text/plain": [
              "array([ 1.04736501,  0.55595655,  1.43887868, -0.09778675,  0.09966316])"
            ]
          },
          "metadata": {},
          "execution_count": 37
        }
      ]
    },
    {
      "cell_type": "code",
      "source": [
        "X = [[0,0],[0,1],[1,0],[1,1]]\n",
        "labels = [0,0,0,1]\n",
        "d = 2"
      ],
      "metadata": {
        "id": "PBaqOv5D82XH"
      },
      "execution_count": null,
      "outputs": []
    },
    {
      "cell_type": "code",
      "source": [
        "bias  = 0\n",
        "for j,x in enumerate(X):\n",
        "    \n",
        "    net = bias\n",
        "\n",
        "    for i in range(0,d):\n",
        "        net += x[i]*pesos[i]\n",
        "    \n",
        "    y = fativacao(net,'degrau',0.5)\n",
        "    print(f'[{x[0]},{x[1]}] Output perceptron: {y} Label: {labels[j]}')"
      ],
      "metadata": {
        "colab": {
          "base_uri": "https://localhost:8080/"
        },
        "id": "waeJ7nRm8_Ln",
        "outputId": "7bc7006a-5526-4822-efed-caa32dd03dcc"
      },
      "execution_count": null,
      "outputs": [
        {
          "output_type": "stream",
          "name": "stdout",
          "text": [
            "[0,0] Output perceptron: 0 Label: 0\n",
            "[0,1] Output perceptron: 1 Label: 0\n",
            "[1,0] Output perceptron: 1 Label: 0\n",
            "[1,1] Output perceptron: 1 Label: 1\n"
          ]
        }
      ]
    }
  ]
}