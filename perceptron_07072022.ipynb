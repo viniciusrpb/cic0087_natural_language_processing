{
  "nbformat": 4,
  "nbformat_minor": 0,
  "metadata": {
    "colab": {
      "name": "Untitled13.ipynb",
      "provenance": [],
      "authorship_tag": "ABX9TyNuOdXNCVyiS5V10zGDMorP",
      "include_colab_link": true
    },
    "kernelspec": {
      "name": "python3",
      "display_name": "Python 3"
    },
    "language_info": {
      "name": "python"
    }
  },
  "cells": [
    {
      "cell_type": "markdown",
      "metadata": {
        "id": "view-in-github",
        "colab_type": "text"
      },
      "source": [
        "<a href=\"https://colab.research.google.com/github/viniciusrpb/cic0269_natural_language_processing/blob/main/perceptron_07072022.ipynb\" target=\"_parent\"><img src=\"https://colab.research.google.com/assets/colab-badge.svg\" alt=\"Open In Colab\"/></a>"
      ]
    },
    {
      "cell_type": "code",
      "execution_count": 1,
      "metadata": {
        "id": "VyZF52tt1bOS"
      },
      "outputs": [],
      "source": [
        "import numpy as np\n",
        "import math"
      ]
    },
    {
      "cell_type": "code",
      "source": [
        "def fativacao(x,tipo,t):\n",
        "    if tipo == 'degrau':\n",
        "        if x >= t:\n",
        "            y = 1\n",
        "        else:\n",
        "            y = 0\n",
        "    elif tipo == 'sigmoide':\n",
        "        y = 1/(1 + math.exp(-x))\n",
        "    elif tipo == 'sinal':\n",
        "        if x >= 0:\n",
        "            y = 1\n",
        "        else:\n",
        "            y = -1\n",
        "    else:\n",
        "        y = 'ERRO: Opcao invalida'\n",
        "    return y"
      ],
      "metadata": {
        "id": "hDI_yn-x5PXv"
      },
      "execution_count": 2,
      "outputs": []
    },
    {
      "cell_type": "code",
      "source": [
        "x = [0.5,1.1,0.1,0.2,0.7]"
      ],
      "metadata": {
        "id": "C-zE1v3G1ioW"
      },
      "execution_count": 3,
      "outputs": []
    },
    {
      "cell_type": "code",
      "source": [
        "pesos = [-3.0,-6.0,0.0,0.0,0.0]"
      ],
      "metadata": {
        "id": "NOae2fhi17Om"
      },
      "execution_count": 4,
      "outputs": []
    },
    {
      "cell_type": "code",
      "source": [
        "d = len(pesos)"
      ],
      "metadata": {
        "id": "MznNDIQh4bwf"
      },
      "execution_count": 5,
      "outputs": []
    },
    {
      "cell_type": "code",
      "source": [
        "bias  = 0\n",
        "net = bias\n",
        "\n",
        "for i in range(0,d):\n",
        "    net += x[i]*pesos[i] "
      ],
      "metadata": {
        "id": "FCoLuIWW4Rkn"
      },
      "execution_count": 6,
      "outputs": []
    },
    {
      "cell_type": "code",
      "source": [
        "print(fativacao(net,'sigmoide',0.4))"
      ],
      "metadata": {
        "colab": {
          "base_uri": "https://localhost:8080/"
        },
        "id": "BMGc_qcH4idp",
        "outputId": "f7144b46-5106-4789-d2c3-454789d664a9"
      },
      "execution_count": 7,
      "outputs": [
        {
          "output_type": "stream",
          "name": "stdout",
          "text": [
            "0.0003034470300289187\n"
          ]
        }
      ]
    },
    {
      "cell_type": "code",
      "source": [
        "pesos = np.random.randn(5)"
      ],
      "metadata": {
        "id": "vJ-jNJVk7yJ3"
      },
      "execution_count": 8,
      "outputs": []
    },
    {
      "cell_type": "code",
      "source": [
        "pesos\n"
      ],
      "metadata": {
        "colab": {
          "base_uri": "https://localhost:8080/"
        },
        "id": "_t5T43N78A9v",
        "outputId": "ed22f77f-2759-472f-8491-a676c52d0b04"
      },
      "execution_count": 9,
      "outputs": [
        {
          "output_type": "execute_result",
          "data": {
            "text/plain": [
              "array([ 0.61783271,  1.11637047, -1.85563931, -0.21857175,  0.55010942])"
            ]
          },
          "metadata": {},
          "execution_count": 9
        }
      ]
    },
    {
      "cell_type": "code",
      "source": [
        "data_and = [[0,0],[0,1],[1,0],[1,1]]\n",
        "labels = [0,0,0,1]\n",
        "d = 2"
      ],
      "metadata": {
        "id": "PBaqOv5D82XH"
      },
      "execution_count": 10,
      "outputs": []
    },
    {
      "cell_type": "code",
      "source": [
        "bias  = 0\n",
        "for j,x in enumerate(X):\n",
        "    \n",
        "    net = bias\n",
        "\n",
        "    for i in range(0,d):\n",
        "        net += x[i]*pesos[i]\n",
        "    \n",
        "    y = fativacao(net,'degrau',0.5)\n",
        "    print(f'[{x[0]},{x[1]}] Output perceptron: {y} Label: {labels[j]}')"
      ],
      "metadata": {
        "colab": {
          "base_uri": "https://localhost:8080/"
        },
        "id": "waeJ7nRm8_Ln",
        "outputId": "7790516f-5b19-4c6d-e7fd-5e570d045e47"
      },
      "execution_count": 11,
      "outputs": [
        {
          "output_type": "stream",
          "name": "stdout",
          "text": [
            "[0,0] Output perceptron: 0 Label: 0\n",
            "[0,1] Output perceptron: 1 Label: 0\n",
            "[1,0] Output perceptron: 1 Label: 0\n",
            "[1,1] Output perceptron: 1 Label: 1\n"
          ]
        }
      ]
    },
    {
      "cell_type": "markdown",
      "source": [
        "Backpropagation da Perceptron"
      ],
      "metadata": {
        "id": "MnS1vwnF_erz"
      }
    },
    {
      "cell_type": "code",
      "source": [
        "data_and = [[0,0],[0,1],[1,0],[1,1]]\n",
        "labels = [0,0,0,1]\n",
        "d = 2\n",
        "\n",
        "lr = 0.2\n",
        "pesos = np.random.randn(5)\n",
        "l = np.array(labels)\n",
        "X = np.array(data_and)\n",
        "t = 0\n",
        "\n",
        "while t < 15:\n",
        "\n",
        "    loss = 0\n",
        "\n",
        "    print(f'Epoch: {t}')\n",
        "\n",
        "    for i,x in enumerate(X):\n",
        "\n",
        "        net = 0\n",
        "        for j in range(0,d):\n",
        "            net += pesos[j]*x[j]\n",
        "\n",
        "        y = fativacao(net,'degrau',0.4)\n",
        "\n",
        "        erro = (labels[i]-y)**2\n",
        "\n",
        "        loss += erro\n",
        "\n",
        "        if labels[i] != y:\n",
        "\n",
        "            for j in range(0,d):\n",
        "                delta = lr*x[j]*(labels[i]-y)\n",
        "                pesos[j] += delta\n",
        "    t+=1\n",
        "    print(f'Loss function: {loss}')\n"
      ],
      "metadata": {
        "colab": {
          "base_uri": "https://localhost:8080/"
        },
        "id": "pEMY5Xov_d95",
        "outputId": "f55e4625-cfe8-4049-b5e6-04e53cec0426"
      },
      "execution_count": 22,
      "outputs": [
        {
          "output_type": "stream",
          "name": "stdout",
          "text": [
            "Epoch: 0\n",
            "Loss function: 2\n",
            "Epoch: 1\n",
            "Loss function: 2\n",
            "Epoch: 2\n",
            "Loss function: 1\n",
            "Epoch: 3\n",
            "Loss function: 1\n",
            "Epoch: 4\n",
            "Loss function: 1\n",
            "Epoch: 5\n",
            "Loss function: 0\n",
            "Epoch: 6\n",
            "Loss function: 0\n",
            "Epoch: 7\n",
            "Loss function: 0\n",
            "Epoch: 8\n",
            "Loss function: 0\n",
            "Epoch: 9\n",
            "Loss function: 0\n",
            "Epoch: 10\n",
            "Loss function: 0\n",
            "Epoch: 11\n",
            "Loss function: 0\n",
            "Epoch: 12\n",
            "Loss function: 0\n",
            "Epoch: 13\n",
            "Loss function: 0\n",
            "Epoch: 14\n",
            "Loss function: 0\n"
          ]
        }
      ]
    }
  ]
}