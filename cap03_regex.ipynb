{
  "nbformat": 4,
  "nbformat_minor": 0,
  "metadata": {
    "colab": {
      "name": "cap03_regex.ipynb",
      "provenance": [],
      "authorship_tag": "ABX9TyMhBRpzduXjMmn17dhgRGYG",
      "include_colab_link": true
    },
    "kernelspec": {
      "name": "python3",
      "display_name": "Python 3"
    },
    "language_info": {
      "name": "python"
    }
  },
  "cells": [
    {
      "cell_type": "markdown",
      "metadata": {
        "id": "view-in-github",
        "colab_type": "text"
      },
      "source": [
        "<a href=\"https://colab.research.google.com/github/viniciusrpb/cic0269_natural_language_processing/blob/main/cap03_regex.ipynb\" target=\"_parent\"><img src=\"https://colab.research.google.com/assets/colab-badge.svg\" alt=\"Open In Colab\"/></a>"
      ]
    },
    {
      "cell_type": "code",
      "execution_count": 1,
      "metadata": {
        "id": "J8EoZZ60r0cu"
      },
      "outputs": [],
      "source": [
        "import re"
      ]
    },
    {
      "cell_type": "code",
      "source": [
        "text = \"Woodchuck\"\n",
        "text2 = \"woodchuck\""
      ],
      "metadata": {
        "id": "wJm69zbzqr2x"
      },
      "execution_count": 6,
      "outputs": []
    },
    {
      "cell_type": "markdown",
      "source": [
        "regra incorreta"
      ],
      "metadata": {
        "id": "CKHiAIDIsUc0"
      }
    },
    {
      "cell_type": "code",
      "source": [
        "result =re.findall(r'Woodchuck',text)\n",
        "print(result)"
      ],
      "metadata": {
        "colab": {
          "base_uri": "https://localhost:8080/"
        },
        "id": "ciCMbQRCqzOY",
        "outputId": "22fdd018-5d45-4be6-bb8a-99d80069193e"
      },
      "execution_count": 5,
      "outputs": [
        {
          "output_type": "stream",
          "name": "stdout",
          "text": [
            "['Woodchuck']\n"
          ]
        }
      ]
    },
    {
      "cell_type": "code",
      "source": [
        "result =re.findall(r'woodchuck',text)\n",
        "print(result)"
      ],
      "metadata": {
        "colab": {
          "base_uri": "https://localhost:8080/"
        },
        "id": "XcvlAvausWUF",
        "outputId": "fea3dc44-db74-4bca-8ff7-d9183dfbe387"
      },
      "execution_count": 7,
      "outputs": [
        {
          "output_type": "stream",
          "name": "stdout",
          "text": [
            "[]\n"
          ]
        }
      ]
    },
    {
      "cell_type": "markdown",
      "source": [
        "regra correta para pegar \"w\" minúsculo ou maiúsculo"
      ],
      "metadata": {
        "id": "66GEVPS_sYzH"
      }
    },
    {
      "cell_type": "code",
      "source": [
        "result =re.findall(r'[Ww]oodchuck',text2)\n",
        "print(result)"
      ],
      "metadata": {
        "colab": {
          "base_uri": "https://localhost:8080/"
        },
        "id": "1TqqWOtIr0tl",
        "outputId": "bac77781-b48e-440f-af7d-02815de36876"
      },
      "execution_count": 9,
      "outputs": [
        {
          "output_type": "stream",
          "name": "stdout",
          "text": [
            "['woodchuck']\n"
          ]
        }
      ]
    },
    {
      "cell_type": "markdown",
      "source": [
        "pegar apenas dígitos"
      ],
      "metadata": {
        "id": "6qBZz2lltEIv"
      }
    },
    {
      "cell_type": "code",
      "source": [
        "result =re.findall(r'[0123456789]',\"478\")\n",
        "print(result)"
      ],
      "metadata": {
        "colab": {
          "base_uri": "https://localhost:8080/"
        },
        "id": "pAgYOQL4tFnU",
        "outputId": "2f234bfd-a9e0-4d07-c324-7190a3e8ec57"
      },
      "execution_count": 12,
      "outputs": [
        {
          "output_type": "stream",
          "name": "stdout",
          "text": [
            "['4', '7', '8']\n"
          ]
        }
      ]
    },
    {
      "cell_type": "markdown",
      "source": [
        "Utilizando o meta caractere '-'"
      ],
      "metadata": {
        "id": "O0JfpYe2tcZg"
      }
    },
    {
      "cell_type": "code",
      "source": [
        "result =re.findall(r'[0-9]',\"478\")\n",
        "print(result)"
      ],
      "metadata": {
        "id": "Z_VfF3aXtch_"
      },
      "execution_count": null,
      "outputs": []
    },
    {
      "cell_type": "markdown",
      "source": [
        "Alfabeto (palavras)"
      ],
      "metadata": {
        "id": "onRnlLxztmNb"
      }
    },
    {
      "cell_type": "code",
      "source": [
        "result =re.findall(r'[A-Z]',text2)\n",
        "print(result)"
      ],
      "metadata": {
        "colab": {
          "base_uri": "https://localhost:8080/"
        },
        "id": "Q6B_jiu0tmYm",
        "outputId": "8a9b6899-5c7a-4a7b-a83b-d0cae6b3ac7e"
      },
      "execution_count": 14,
      "outputs": [
        {
          "output_type": "stream",
          "name": "stdout",
          "text": [
            "[]\n"
          ]
        }
      ]
    },
    {
      "cell_type": "markdown",
      "source": [
        "várias ocorrências de dígitos"
      ],
      "metadata": {
        "id": "KqWhm5kwvSUZ"
      }
    },
    {
      "cell_type": "code",
      "source": [
        "result =re.findall(r'[0-9]',\"Capítulo 1: Seção 2\")\n",
        "print(result)"
      ],
      "metadata": {
        "colab": {
          "base_uri": "https://localhost:8080/"
        },
        "id": "Y-0QwRNUvVJD",
        "outputId": "2c7668a0-60bb-4c1f-b2d4-6c1bf6d23deb"
      },
      "execution_count": 15,
      "outputs": [
        {
          "output_type": "stream",
          "name": "stdout",
          "text": [
            "['1', '2']\n"
          ]
        }
      ]
    },
    {
      "cell_type": "markdown",
      "source": [
        "por curiosidade, se utilizarmos o search"
      ],
      "metadata": {
        "id": "DRzNuRyRvb_M"
      }
    },
    {
      "cell_type": "code",
      "source": [
        "result =re.search(r'[0-9]',\"Capítulo 1: Seção 2\")\n",
        "print(result)"
      ],
      "metadata": {
        "colab": {
          "base_uri": "https://localhost:8080/"
        },
        "id": "iH3GMHA3veqN",
        "outputId": "576e8865-0a13-48ca-cc58-a27a3f9bbd10"
      },
      "execution_count": 16,
      "outputs": [
        {
          "output_type": "stream",
          "name": "stdout",
          "text": [
            "<re.Match object; span=(9, 10), match='1'>\n"
          ]
        }
      ]
    },
    {
      "cell_type": "markdown",
      "source": [
        "Negação"
      ],
      "metadata": {
        "id": "1Et8RR6XvnuZ"
      }
    },
    {
      "cell_type": "code",
      "source": [
        "result =re.findall(r'[^0-9]',\"Capítulo 1: Seção 2\")\n",
        "print(result)"
      ],
      "metadata": {
        "colab": {
          "base_uri": "https://localhost:8080/"
        },
        "id": "SDKykNhlvn2A",
        "outputId": "565dd0ab-6854-4ccd-94eb-8f9adb315f2b"
      },
      "execution_count": 18,
      "outputs": [
        {
          "output_type": "stream",
          "name": "stdout",
          "text": [
            "['C', 'a', 'p', 'í', 't', 'u', 'l', 'o', ' ', ':', ' ', 'S', 'e', 'ç', 'ã', 'o', ' ']\n"
          ]
        }
      ]
    },
    {
      "cell_type": "code",
      "source": [
        "result =re.findall(r'[^A-Za-z]',\"Capítulo 1: Seção 2\")\n",
        "print(result)"
      ],
      "metadata": {
        "colab": {
          "base_uri": "https://localhost:8080/"
        },
        "id": "JPXZPPCpw4p1",
        "outputId": "1e38234b-4c4a-4e47-abc9-9934aab4c8b6"
      },
      "execution_count": 19,
      "outputs": [
        {
          "output_type": "stream",
          "name": "stdout",
          "text": [
            "['í', ' ', '1', ':', ' ', 'ç', 'ã', ' ', '2']\n"
          ]
        }
      ]
    },
    {
      "cell_type": "markdown",
      "source": [
        "Meta-caractere ponto"
      ],
      "metadata": {
        "id": "cemEX475xV8E"
      }
    },
    {
      "cell_type": "code",
      "source": [
        "result =re.findall(r'beg.n',\"begun\")\n",
        "print(result)"
      ],
      "metadata": {
        "colab": {
          "base_uri": "https://localhost:8080/"
        },
        "id": "lfhwFJ-XxYM_",
        "outputId": "81dc0759-aee8-4b25-b602-520159a8aadb"
      },
      "execution_count": 22,
      "outputs": [
        {
          "output_type": "stream",
          "name": "stdout",
          "text": [
            "['begun']\n"
          ]
        }
      ]
    },
    {
      "cell_type": "code",
      "source": [
        "result =re.findall(r'beg.n',\"bexun\")\n",
        "print(result)"
      ],
      "metadata": {
        "colab": {
          "base_uri": "https://localhost:8080/"
        },
        "id": "Itu31NPzxi11",
        "outputId": "446fe4c4-8ade-40e1-baad-0c809e0d719e"
      },
      "execution_count": 23,
      "outputs": [
        {
          "output_type": "stream",
          "name": "stdout",
          "text": [
            "[]\n"
          ]
        }
      ]
    },
    {
      "cell_type": "markdown",
      "source": [
        "Regex: pegar dois ou mais tipos de termos"
      ],
      "metadata": {
        "id": "o_-5H8DA2QQ5"
      }
    },
    {
      "cell_type": "code",
      "source": [
        "texto = 'Groundhog and woodstock'\n",
        "result =re.findall(r'[Gg]roundhog|[Ww]oodstock',texto)\n",
        "print(result)"
      ],
      "metadata": {
        "colab": {
          "base_uri": "https://localhost:8080/"
        },
        "id": "NSBxZ2Dz2UdS",
        "outputId": "1be696e0-b758-4f38-c832-07a6ad3599d0"
      },
      "execution_count": 28,
      "outputs": [
        {
          "output_type": "stream",
          "name": "stdout",
          "text": [
            "['Groundhog', 'woodstock']\n"
          ]
        }
      ]
    },
    {
      "cell_type": "markdown",
      "source": [
        "O meta caractere ?"
      ],
      "metadata": {
        "id": "RXV9YL_I3m3z"
      }
    },
    {
      "cell_type": "code",
      "source": [
        "texto = 'color and colour'\n",
        "result =re.findall(r'colou?r',texto)\n",
        "print(result)"
      ],
      "metadata": {
        "colab": {
          "base_uri": "https://localhost:8080/"
        },
        "id": "SbuzE7VO3sjk",
        "outputId": "95947c33-8e46-49ae-9ca8-094fc36f705c"
      },
      "execution_count": 34,
      "outputs": [
        {
          "output_type": "stream",
          "name": "stdout",
          "text": [
            "['color', 'colour']\n"
          ]
        }
      ]
    },
    {
      "cell_type": "markdown",
      "source": [
        "O meta caractere '*'"
      ],
      "metadata": {
        "id": "OOpoeUfS4Cdg"
      }
    },
    {
      "cell_type": "code",
      "source": [
        ""
      ],
      "metadata": {
        "id": "XomhIfzH4fry"
      },
      "execution_count": null,
      "outputs": []
    },
    {
      "cell_type": "code",
      "source": [
        "texto = 'Orbita orbita Oorbita'\n",
        "result =re.findall(r'[Oo]*',texto)\n",
        "print(result)"
      ],
      "metadata": {
        "colab": {
          "base_uri": "https://localhost:8080/"
        },
        "id": "H1dLD-vk4Eoq",
        "outputId": "a0202cba-bf49-43ed-c44d-bb300ca33099"
      },
      "execution_count": 37,
      "outputs": [
        {
          "output_type": "stream",
          "name": "stdout",
          "text": [
            "['O', '', '', '', '', '', '', 'o', '', '', '', '', '', '', 'Oo', '', '', '', '', '', '']\n"
          ]
        }
      ]
    },
    {
      "cell_type": "markdown",
      "source": [
        "O meta caractere +"
      ],
      "metadata": {
        "id": "RnsCVBbt4mDy"
      }
    },
    {
      "cell_type": "code",
      "source": [
        "texto = 'aardvark'\n",
        "result =re.findall(r'a+',texto)\n",
        "print(result)"
      ],
      "metadata": {
        "colab": {
          "base_uri": "https://localhost:8080/"
        },
        "id": "RvfJTAz64pRp",
        "outputId": "64eb610d-c4d7-45f1-b48a-3e5ef0635f75"
      },
      "execution_count": 40,
      "outputs": [
        {
          "output_type": "stream",
          "name": "stdout",
          "text": [
            "['aa', 'a']\n"
          ]
        }
      ]
    },
    {
      "cell_type": "markdown",
      "source": [
        "O meta caractere $"
      ],
      "metadata": {
        "id": "9-PzLsHf5RGG"
      }
    },
    {
      "cell_type": "code",
      "source": [
        "texto = 'aardvark'\n",
        "result =re.findall(r'r.$',texto)\n",
        "print(result)"
      ],
      "metadata": {
        "colab": {
          "base_uri": "https://localhost:8080/"
        },
        "id": "teExHyCm5QDL",
        "outputId": "f8291f76-21a6-4f9c-b215-819252124ad4"
      },
      "execution_count": 43,
      "outputs": [
        {
          "output_type": "stream",
          "name": "stdout",
          "text": [
            "['rk']\n"
          ]
        }
      ]
    },
    {
      "cell_type": "markdown",
      "source": [
        "Pegar o último ponto da string"
      ],
      "metadata": {
        "id": "qOnJPenh50g5"
      }
    },
    {
      "cell_type": "code",
      "source": [
        "texto = 'Como fazer.'\n",
        "result =re.findall(r'\\.$',texto)\n",
        "print(result)"
      ],
      "metadata": {
        "colab": {
          "base_uri": "https://localhost:8080/"
        },
        "id": "1wr05OdC5q-B",
        "outputId": "a358953d-5d8d-4ec0-a33c-67ac1a507c80"
      },
      "execution_count": 44,
      "outputs": [
        {
          "output_type": "stream",
          "name": "stdout",
          "text": [
            "['.']\n"
          ]
        }
      ]
    },
    {
      "cell_type": "markdown",
      "source": [
        "Criando grupos"
      ],
      "metadata": {
        "id": "1KmrO4aT7rqh"
      }
    },
    {
      "cell_type": "code",
      "source": [
        "texto = \"the faster they ran, the faster we ran\"\n",
        "result =re.findall(r'the (.*)er they (.*), the \\1er we \\2',texto)\n",
        "print(result)"
      ],
      "metadata": {
        "colab": {
          "base_uri": "https://localhost:8080/"
        },
        "id": "U5TOaLye7tsJ",
        "outputId": "3474eb14-4cec-48a4-92b1-247f41e08755"
      },
      "execution_count": 46,
      "outputs": [
        {
          "output_type": "stream",
          "name": "stdout",
          "text": [
            "[('fast', 'ran')]\n"
          ]
        }
      ]
    },
    {
      "cell_type": "code",
      "source": [
        "texto = \"Capitulo 35\"\n",
        "result =re.sub(r'([0-9]+)',r'<\\1>',texto)\n",
        "print(result)"
      ],
      "metadata": {
        "colab": {
          "base_uri": "https://localhost:8080/"
        },
        "id": "2Jlis5Rc9TLk",
        "outputId": "0048fdf2-417d-416e-cccd-b291f0432471"
      },
      "execution_count": 66,
      "outputs": [
        {
          "output_type": "stream",
          "name": "stdout",
          "text": [
            "Capitulo <35>\n"
          ]
        }
      ]
    },
    {
      "cell_type": "markdown",
      "source": [
        "## Exercício 1\n",
        "\n",
        "Elaborar um regex que faz o match com todos os \"the\"\n"
      ],
      "metadata": {
        "id": "nF5Kgr-6z9aD"
      }
    },
    {
      "cell_type": "code",
      "source": [
        "thetext = \"The main feature is that the other oracle wants to be the theoretical leader.\"\n"
      ],
      "metadata": {
        "id": "DM9BqcSEz-P1"
      },
      "execution_count": 31,
      "outputs": []
    },
    {
      "cell_type": "markdown",
      "source": [
        "Primeiro passo"
      ],
      "metadata": {
        "id": "5b-76Vut3Cgh"
      }
    },
    {
      "cell_type": "code",
      "source": [
        "result =re.findall(r'the',thetext)\n",
        "print(result)"
      ],
      "metadata": {
        "colab": {
          "base_uri": "https://localhost:8080/"
        },
        "id": "sKnsWNKQ3EKH",
        "outputId": "af93c446-a1a4-40f5-d82a-6979afaf3f7c"
      },
      "execution_count": 32,
      "outputs": [
        {
          "output_type": "stream",
          "name": "stdout",
          "text": [
            "['the', 'the', 'the', 'the']\n"
          ]
        }
      ]
    },
    {
      "cell_type": "markdown",
      "source": [
        "Uma melhora..."
      ],
      "metadata": {
        "id": "u-ZvLut83Tjs"
      }
    },
    {
      "cell_type": "code",
      "source": [
        "result =re.findall(r'[Tt]he',thetext)\n",
        "print(result)"
      ],
      "metadata": {
        "colab": {
          "base_uri": "https://localhost:8080/"
        },
        "id": "rmcSwDDn3U5P",
        "outputId": "0b921a7f-0b31-4962-b38e-83afc4e47023"
      },
      "execution_count": 33,
      "outputs": [
        {
          "output_type": "stream",
          "name": "stdout",
          "text": [
            "['The', 'the', 'the', 'the', 'the']\n"
          ]
        }
      ]
    },
    {
      "cell_type": "markdown",
      "source": [
        "Mais uma melhora..."
      ],
      "metadata": {
        "id": "ZequdivX5_bb"
      }
    },
    {
      "cell_type": "code",
      "source": [
        "result =re.findall(r'[^A-Za-z][Tt]he[^A-Za-z]',thetext)\n",
        "print(result)"
      ],
      "metadata": {
        "colab": {
          "base_uri": "https://localhost:8080/"
        },
        "id": "odXrnDP56EA4",
        "outputId": "9b0e9f93-aa48-4e65-9283-b21cd3aca2ca"
      },
      "execution_count": 45,
      "outputs": [
        {
          "output_type": "stream",
          "name": "stdout",
          "text": [
            "[' the ', ' the ']\n"
          ]
        }
      ]
    },
    {
      "cell_type": "markdown",
      "source": [
        "Por fim"
      ],
      "metadata": {
        "id": "hYX__UT27RmW"
      }
    },
    {
      "cell_type": "code",
      "source": [
        "result =re.findall(r'[^A-Za-z][Tt]he[^A-Za-z]',thetext)\n",
        "print(result)"
      ],
      "metadata": {
        "id": "2tsdQTKW7Rs6"
      },
      "execution_count": null,
      "outputs": []
    }
  ]
}