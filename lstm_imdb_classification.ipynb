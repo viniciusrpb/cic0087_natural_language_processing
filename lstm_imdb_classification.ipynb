{
  "nbformat": 4,
  "nbformat_minor": 0,
  "metadata": {
    "colab": {
      "name": "lstm_imdb_classification.ipynb",
      "provenance": [],
      "authorship_tag": "ABX9TyPBXENQ408nECyQuPK2DfSG",
      "include_colab_link": true
    },
    "kernelspec": {
      "name": "python3",
      "display_name": "Python 3"
    },
    "accelerator": "GPU"
  },
  "cells": [
    {
      "cell_type": "markdown",
      "metadata": {
        "id": "view-in-github",
        "colab_type": "text"
      },
      "source": [
        "<a href=\"https://colab.research.google.com/github/viniciusrpb/natural_language_processing/blob/main/lstm_imdb_classification.ipynb\" target=\"_parent\"><img src=\"https://colab.research.google.com/assets/colab-badge.svg\" alt=\"Open In Colab\"/></a>"
      ]
    },
    {
      "cell_type": "code",
      "metadata": {
        "id": "CeXzEG6bsBit"
      },
      "source": [
        "!pip install -Uqq fastbook\n",
        "\n",
        "import fastbook\n",
        "fastbook.setup_book()"
      ],
      "execution_count": 1,
      "outputs": []
    },
    {
      "cell_type": "code",
      "metadata": {
        "id": "HZiruBGys9ct"
      },
      "source": [
        "from fastbook import *\n",
        "from fastai.text import *\n",
        "from fastai.text.all import *"
      ],
      "execution_count": 2,
      "outputs": []
    },
    {
      "cell_type": "code",
      "metadata": {
        "id": "VActLxfGs2bf"
      },
      "source": [
        "path = untar_data(URLs.IMDB)"
      ],
      "execution_count": 3,
      "outputs": []
    },
    {
      "cell_type": "code",
      "metadata": {
        "id": "8lzLLxIqvfB_",
        "outputId": "49ec0b0f-aa82-4b88-aebb-cafae081ce43",
        "colab": {
          "base_uri": "https://localhost:8080/"
        }
      },
      "source": [
        "path.ls()"
      ],
      "execution_count": 4,
      "outputs": [
        {
          "output_type": "execute_result",
          "data": {
            "text/plain": [
              "(#8) [Path('/root/.fastai/data/imdb/unsup'),Path('/root/.fastai/data/imdb/train'),Path('/root/.fastai/data/imdb/tmp_lm'),Path('/root/.fastai/data/imdb/README'),Path('/root/.fastai/data/imdb/tmp_clas'),Path('/root/.fastai/data/imdb/test'),Path('/root/.fastai/data/imdb/imdb.vocab'),Path('/root/.fastai/data/imdb/models')]"
            ]
          },
          "metadata": {
            "tags": []
          },
          "execution_count": 4
        }
      ]
    },
    {
      "cell_type": "code",
      "metadata": {
        "id": "W8SoQy_MtBPk",
        "outputId": "c1f8d72a-23d1-4fe1-ad73-f004c6ef9d01",
        "colab": {
          "base_uri": "https://localhost:8080/"
        }
      },
      "source": [
        "(path/'train').ls()\n",
        "\n",
        "path_train = path/\"train\"\n",
        "#path_test = path/\"test\"\n",
        "\n",
        "training_set = Path(path_train)\n",
        "\n",
        "print(training_set)"
      ],
      "execution_count": 5,
      "outputs": [
        {
          "output_type": "stream",
          "text": [
            "/root/.fastai/data/imdb/train\n"
          ],
          "name": "stdout"
        }
      ]
    },
    {
      "cell_type": "markdown",
      "metadata": {
        "id": "xQEO-DJgxtei"
      },
      "source": [
        "### Ajuste do Modelo de Linguagem"
      ]
    },
    {
      "cell_type": "code",
      "metadata": {
        "id": "IXp19VnpxxrL"
      },
      "source": [
        ""
      ],
      "execution_count": 5,
      "outputs": []
    },
    {
      "cell_type": "code",
      "metadata": {
        "id": "yCj46tUstWU4"
      },
      "source": [
        "get_imdb = partial(get_text_files, folders=['train', 'test', 'unsup'])\n",
        "\n",
        "dls_lm = DataBlock(\n",
        "    blocks=TextBlock.from_folder(path, is_lm=True),\n",
        "    get_items=get_imdb, splitter=RandomSplitter(0.1)\n",
        ").dataloaders(path, path=path, bs=128, seq_len=80)"
      ],
      "execution_count": 6,
      "outputs": []
    },
    {
      "cell_type": "code",
      "metadata": {
        "id": "UiFBynDsuKaA",
        "outputId": "fa6737b6-111d-4f7f-9cac-c8c6a9510be9",
        "colab": {
          "base_uri": "https://localhost:8080/",
          "height": 249
        }
      },
      "source": [
        "dls_lm.show_batch(max_n=2)"
      ],
      "execution_count": 7,
      "outputs": [
        {
          "output_type": "display_data",
          "data": {
            "text/html": [
              "<table border=\"1\" class=\"dataframe\">\n",
              "  <thead>\n",
              "    <tr style=\"text-align: right;\">\n",
              "      <th></th>\n",
              "      <th>text</th>\n",
              "      <th>text_</th>\n",
              "    </tr>\n",
              "  </thead>\n",
              "  <tbody>\n",
              "    <tr>\n",
              "      <th>0</th>\n",
              "      <td>xxbos xxmaj monk is my favorite xxup tv show . i wait for it all week until it 's on xxmaj friday pm . xxmaj is it on any other network besides xxup usa ? i will watch the same shows over and over if they 're on . i love the all day marathons . i spent the entire day xxmaj new xxmaj years xxmaj day watching the xxmaj monk xxmaj marathon ! xxmaj tony xxmaj shaloub is wonderful</td>\n",
              "      <td>xxmaj monk is my favorite xxup tv show . i wait for it all week until it 's on xxmaj friday pm . xxmaj is it on any other network besides xxup usa ? i will watch the same shows over and over if they 're on . i love the all day marathons . i spent the entire day xxmaj new xxmaj years xxmaj day watching the xxmaj monk xxmaj marathon ! xxmaj tony xxmaj shaloub is wonderful and</td>\n",
              "    </tr>\n",
              "    <tr>\n",
              "      <th>1</th>\n",
              "      <td>this film is well worth watching to witness the rebirth of human emotions and passions . xxmaj it will leave a smile on your face for days . xxbos xxmaj this is one of the movies selected to the xxup fifty xxup worst xxup films book by xxmaj harry xxmaj medved . xxmaj and while i agree it is really bad , xxmaj i 'm not sure it reached the level of wretchedness needed to merit inclusion in the book</td>\n",
              "      <td>film is well worth watching to witness the rebirth of human emotions and passions . xxmaj it will leave a smile on your face for days . xxbos xxmaj this is one of the movies selected to the xxup fifty xxup worst xxup films book by xxmaj harry xxmaj medved . xxmaj and while i agree it is really bad , xxmaj i 'm not sure it reached the level of wretchedness needed to merit inclusion in the book --</td>\n",
              "    </tr>\n",
              "  </tbody>\n",
              "</table>"
            ],
            "text/plain": [
              "<IPython.core.display.HTML object>"
            ]
          },
          "metadata": {
            "tags": []
          }
        }
      ]
    },
    {
      "cell_type": "code",
      "metadata": {
        "id": "OTG6-us2zFru"
      },
      "source": [
        "learn = language_model_learner(dls_lm, AWD_LSTM, drop_mult=0.3,metrics=[accuracy, Perplexity()])"
      ],
      "execution_count": 8,
      "outputs": []
    },
    {
      "cell_type": "code",
      "metadata": {
        "id": "ST7QK6uhzPi4"
      },
      "source": [
        "#learn.lr_find()"
      ],
      "execution_count": 9,
      "outputs": []
    },
    {
      "cell_type": "code",
      "metadata": {
        "id": "TxxdO98uzSMM"
      },
      "source": [
        "#learn.recorder.plot(skip_end=15)"
      ],
      "execution_count": 10,
      "outputs": []
    },
    {
      "cell_type": "code",
      "metadata": {
        "id": "TVVvM6ItxhOe",
        "outputId": "7043f9e8-7b25-4313-c548-73016018b421",
        "colab": {
          "base_uri": "https://localhost:8080/",
          "height": 95
        }
      },
      "source": [
        "learn.fit_one_cycle(3, 2e-2)"
      ],
      "execution_count": null,
      "outputs": [
        {
          "output_type": "display_data",
          "data": {
            "text/html": [
              "\n",
              "    <div>\n",
              "        <style>\n",
              "            /* Turns off some styling */\n",
              "            progress {\n",
              "                /* gets rid of default border in Firefox and Opera. */\n",
              "                border: none;\n",
              "                /* Needs to be in here for Safari polyfill so background images work as expected. */\n",
              "                background-size: auto;\n",
              "            }\n",
              "            .progress-bar-interrupted, .progress-bar-interrupted::-webkit-progress-bar {\n",
              "                background: #F44336;\n",
              "            }\n",
              "        </style>\n",
              "      <progress value='0' class='' max='3' style='width:300px; height:20px; vertical-align: middle;'></progress>\n",
              "      0.00% [0/3 00:00<00:00]\n",
              "    </div>\n",
              "    \n",
              "<table border=\"1\" class=\"dataframe\">\n",
              "  <thead>\n",
              "    <tr style=\"text-align: left;\">\n",
              "      <th>epoch</th>\n",
              "      <th>train_loss</th>\n",
              "      <th>valid_loss</th>\n",
              "      <th>accuracy</th>\n",
              "      <th>perplexity</th>\n",
              "      <th>time</th>\n",
              "    </tr>\n",
              "  </thead>\n",
              "  <tbody>\n",
              "  </tbody>\n",
              "</table><p>\n",
              "\n",
              "    <div>\n",
              "        <style>\n",
              "            /* Turns off some styling */\n",
              "            progress {\n",
              "                /* gets rid of default border in Firefox and Opera. */\n",
              "                border: none;\n",
              "                /* Needs to be in here for Safari polyfill so background images work as expected. */\n",
              "                background-size: auto;\n",
              "            }\n",
              "            .progress-bar-interrupted, .progress-bar-interrupted::-webkit-progress-bar {\n",
              "                background: #F44336;\n",
              "            }\n",
              "        </style>\n",
              "      <progress value='26' class='' max='2631' style='width:300px; height:20px; vertical-align: middle;'></progress>\n",
              "      0.99% [26/2631 20:09<33:38:52 4.8775]\n",
              "    </div>\n",
              "    "
            ],
            "text/plain": [
              "<IPython.core.display.HTML object>"
            ]
          },
          "metadata": {
            "tags": []
          }
        }
      ]
    },
    {
      "cell_type": "markdown",
      "metadata": {
        "id": "o13aAiTt-azP"
      },
      "source": [
        "### É bom salvar os modelos"
      ]
    },
    {
      "cell_type": "code",
      "metadata": {
        "id": "GnpKGudP-ZRe"
      },
      "source": [
        "learn.save('1epoch')"
      ],
      "execution_count": null,
      "outputs": []
    },
    {
      "cell_type": "markdown",
      "metadata": {
        "id": "7qUfCBxk-gq3"
      },
      "source": [
        "### Para carregar os modelos e continuar o treinamento"
      ]
    },
    {
      "cell_type": "code",
      "metadata": {
        "id": "VRM1-23j-kP2"
      },
      "source": [
        "learn = learn.load('1epoch')\n",
        "\n",
        "#learn.unfreeze()\n",
        "#learn.fit_one_cycle(5, 2e-3)"
      ],
      "execution_count": null,
      "outputs": []
    },
    {
      "cell_type": "markdown",
      "metadata": {
        "id": "gHh4cxgh-2YE"
      },
      "source": [
        "### Salva o modelo final"
      ]
    },
    {
      "cell_type": "code",
      "metadata": {
        "id": "8pSD4Gtr-1gr"
      },
      "source": [
        "learn.save_encoder('finetuned')"
      ],
      "execution_count": null,
      "outputs": []
    },
    {
      "cell_type": "markdown",
      "metadata": {
        "id": "DqSDBJCwzWLd"
      },
      "source": [
        "### Adivinha a próxima palavra de uma sentença"
      ]
    },
    {
      "cell_type": "code",
      "metadata": {
        "id": "SjqmzRmdxfog"
      },
      "source": [
        "sentenca = \"I liked this movie because\"\n",
        "n_palavras = 40\n",
        "n_sentencas = 2"
      ],
      "execution_count": null,
      "outputs": []
    },
    {
      "cell_type": "code",
      "metadata": {
        "id": "WPFzCMX_xols"
      },
      "source": [
        "print(\"\\n\".join(learn.predict(TEXT, N_WORDS, temperature=0.75) for _ in range(N_SENTENCES)))"
      ],
      "execution_count": null,
      "outputs": []
    },
    {
      "cell_type": "markdown",
      "metadata": {
        "id": "2ghDEHIewpYw"
      },
      "source": [
        "### Classificação de sentenças utilizando LSTM"
      ]
    },
    {
      "cell_type": "code",
      "metadata": {
        "id": "fbXqCoHCuTeY"
      },
      "source": [
        "dls_clas = DataBlock(\n",
        "    blocks=(TextBlock.from_folder(path, vocab=dls_lm.vocab),CategoryBlock),\n",
        "    get_y = parent_label,\n",
        "    get_items=partial(get_text_files, folders=['train', 'test']),\n",
        "    splitter=GrandparentSplitter(valid_name='test')\n",
        ").dataloaders(path, path=path, bs=48, seq_len=72)"
      ],
      "execution_count": null,
      "outputs": []
    },
    {
      "cell_type": "code",
      "metadata": {
        "id": "gTfjLF5u_TZ4"
      },
      "source": [
        "dls_clas.show_batch(max_n=3)"
      ],
      "execution_count": null,
      "outputs": []
    },
    {
      "cell_type": "code",
      "metadata": {
        "id": "ao8cpoVIuV9R"
      },
      "source": [
        "learn = text_classifier_learner(dls_clas, AWD_LSTM, drop_mult=0.5, \n",
        "                                metrics=accuracy)"
      ],
      "execution_count": null,
      "outputs": []
    },
    {
      "cell_type": "code",
      "metadata": {
        "id": "ix6hyhabuXj0"
      },
      "source": [
        "learn = learn.load_encoder('finetuned')"
      ],
      "execution_count": null,
      "outputs": []
    },
    {
      "cell_type": "code",
      "metadata": {
        "id": "2QveHjs_xIpi"
      },
      "source": [
        "learn.fit_one_cycle(1, 2e-2)"
      ],
      "execution_count": null,
      "outputs": []
    },
    {
      "cell_type": "code",
      "metadata": {
        "id": "uZFzunUuv9yJ"
      },
      "source": [
        "learn.freeze_to(-2)\n",
        "learn.fit_one_cycle(1, slice(1e-2/(2.6**4),1e-2))"
      ],
      "execution_count": null,
      "outputs": []
    },
    {
      "cell_type": "code",
      "metadata": {
        "id": "aXBYVUyOwHfN"
      },
      "source": [
        ""
      ],
      "execution_count": null,
      "outputs": []
    },
    {
      "cell_type": "code",
      "metadata": {
        "id": "xQlvrfX9wMjH"
      },
      "source": [
        ""
      ],
      "execution_count": null,
      "outputs": []
    },
    {
      "cell_type": "code",
      "metadata": {
        "id": "Z9F_OgEuwlIX"
      },
      "source": [
        "learn.predict(\"I really loved that movie, it was awesome!\")"
      ],
      "execution_count": null,
      "outputs": []
    }
  ]
}