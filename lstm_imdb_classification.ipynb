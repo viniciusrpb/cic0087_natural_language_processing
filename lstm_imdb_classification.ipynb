{
  "nbformat": 4,
  "nbformat_minor": 0,
  "metadata": {
    "colab": {
      "name": "lstm_imdb_classification.ipynb",
      "provenance": [],
      "authorship_tag": "ABX9TyN5e6aedkjArnPgmZGKs62w",
      "include_colab_link": true
    },
    "kernelspec": {
      "name": "python3",
      "display_name": "Python 3"
    },
    "accelerator": "GPU"
  },
  "cells": [
    {
      "cell_type": "markdown",
      "metadata": {
        "id": "view-in-github",
        "colab_type": "text"
      },
      "source": [
        "<a href=\"https://colab.research.google.com/github/viniciusrpb/natural_language_processing/blob/main/lstm_imdb_classification.ipynb\" target=\"_parent\"><img src=\"https://colab.research.google.com/assets/colab-badge.svg\" alt=\"Open In Colab\"/></a>"
      ]
    },
    {
      "cell_type": "code",
      "metadata": {
        "id": "CeXzEG6bsBit",
        "outputId": "fe67cb9a-5657-4fa7-f262-c206e5600700",
        "colab": {
          "base_uri": "https://localhost:8080/"
        }
      },
      "source": [
        "!pip install -Uqq fastbook\n",
        "\n",
        "import fastbook\n",
        "fastbook.setup_book()"
      ],
      "execution_count": 1,
      "outputs": [
        {
          "output_type": "stream",
          "text": [
            "\u001b[K     |████████████████████████████████| 727kB 10.7MB/s \n",
            "\u001b[K     |████████████████████████████████| 51kB 8.9MB/s \n",
            "\u001b[K     |████████████████████████████████| 1.1MB 46.6MB/s \n",
            "\u001b[K     |████████████████████████████████| 51kB 8.7MB/s \n",
            "\u001b[K     |████████████████████████████████| 194kB 54.7MB/s \n",
            "\u001b[K     |████████████████████████████████| 51kB 7.4MB/s \n",
            "\u001b[K     |████████████████████████████████| 40kB 6.9MB/s \n",
            "\u001b[K     |████████████████████████████████| 92kB 13.6MB/s \n",
            "\u001b[K     |████████████████████████████████| 61kB 10.9MB/s \n",
            "\u001b[K     |████████████████████████████████| 51kB 8.9MB/s \n",
            "\u001b[K     |████████████████████████████████| 2.6MB 56.2MB/s \n",
            "\u001b[?25hMounted at /content/gdrive\n"
          ],
          "name": "stdout"
        }
      ]
    },
    {
      "cell_type": "code",
      "metadata": {
        "id": "HZiruBGys9ct"
      },
      "source": [
        "from fastbook import *\n",
        "from fastai.text import *\n",
        "from fastai.text.all import *"
      ],
      "execution_count": 2,
      "outputs": []
    },
    {
      "cell_type": "code",
      "metadata": {
        "id": "VActLxfGs2bf",
        "outputId": "3925d0df-efe7-4d83-8819-6be3254179e2",
        "colab": {
          "base_uri": "https://localhost:8080/",
          "height": 17
        }
      },
      "source": [
        "path = untar_data(URLs.IMDB)"
      ],
      "execution_count": 3,
      "outputs": [
        {
          "output_type": "display_data",
          "data": {
            "text/html": [
              ""
            ],
            "text/plain": [
              "<IPython.core.display.HTML object>"
            ]
          },
          "metadata": {
            "tags": []
          }
        }
      ]
    },
    {
      "cell_type": "code",
      "metadata": {
        "id": "8lzLLxIqvfB_",
        "outputId": "03bbe90a-2ea1-4ee3-decb-bfbe0c3d7e2f",
        "colab": {
          "base_uri": "https://localhost:8080/"
        }
      },
      "source": [
        "path.ls()"
      ],
      "execution_count": 4,
      "outputs": [
        {
          "output_type": "execute_result",
          "data": {
            "text/plain": [
              "(#7) [Path('/root/.fastai/data/imdb/imdb.vocab'),Path('/root/.fastai/data/imdb/train'),Path('/root/.fastai/data/imdb/tmp_lm'),Path('/root/.fastai/data/imdb/README'),Path('/root/.fastai/data/imdb/unsup'),Path('/root/.fastai/data/imdb/test'),Path('/root/.fastai/data/imdb/tmp_clas')]"
            ]
          },
          "metadata": {
            "tags": []
          },
          "execution_count": 4
        }
      ]
    },
    {
      "cell_type": "code",
      "metadata": {
        "id": "W8SoQy_MtBPk",
        "outputId": "1f701ed4-d478-4957-fa51-91f7952bc500",
        "colab": {
          "base_uri": "https://localhost:8080/"
        }
      },
      "source": [
        "(path/'train').ls()\n",
        "\n",
        "path_train = path/\"train\"\n",
        "#path_test = path/\"test\"\n",
        "\n",
        "training_set = Path(path_train)\n",
        "\n",
        "print(training_set)"
      ],
      "execution_count": 5,
      "outputs": [
        {
          "output_type": "stream",
          "text": [
            "/root/.fastai/data/imdb/train\n"
          ],
          "name": "stdout"
        }
      ]
    },
    {
      "cell_type": "markdown",
      "metadata": {
        "id": "xQEO-DJgxtei"
      },
      "source": [
        "### Ajuste do Modelo de Linguagem"
      ]
    },
    {
      "cell_type": "code",
      "metadata": {
        "id": "IXp19VnpxxrL"
      },
      "source": [
        ""
      ],
      "execution_count": 5,
      "outputs": []
    },
    {
      "cell_type": "code",
      "metadata": {
        "id": "yCj46tUstWU4",
        "outputId": "8b14db6f-849b-4e29-a0c8-9fd0371bf372",
        "colab": {
          "base_uri": "https://localhost:8080/",
          "height": 17
        }
      },
      "source": [
        "get_imdb = partial(get_text_files, folders=['train', 'test', 'unsup'])\n",
        "\n",
        "dls_lm = DataBlock(\n",
        "    blocks=TextBlock.from_folder(path, is_lm=True),\n",
        "    get_items=get_imdb, splitter=RandomSplitter(0.1)\n",
        ").dataloaders(path, path=path, bs=128, seq_len=80)"
      ],
      "execution_count": 6,
      "outputs": [
        {
          "output_type": "display_data",
          "data": {
            "text/html": [
              ""
            ],
            "text/plain": [
              "<IPython.core.display.HTML object>"
            ]
          },
          "metadata": {
            "tags": []
          }
        }
      ]
    },
    {
      "cell_type": "code",
      "metadata": {
        "id": "UiFBynDsuKaA",
        "outputId": "7e593f16-cb13-487a-d5bc-af22b12d16e3",
        "colab": {
          "base_uri": "https://localhost:8080/",
          "height": 249
        }
      },
      "source": [
        "dls_lm.show_batch(max_n=2)"
      ],
      "execution_count": 7,
      "outputs": [
        {
          "output_type": "display_data",
          "data": {
            "text/html": [
              "<table border=\"1\" class=\"dataframe\">\n",
              "  <thead>\n",
              "    <tr style=\"text-align: right;\">\n",
              "      <th></th>\n",
              "      <th>text</th>\n",
              "      <th>text_</th>\n",
              "    </tr>\n",
              "  </thead>\n",
              "  <tbody>\n",
              "    <tr>\n",
              "      <th>0</th>\n",
              "      <td>xxbos xxmaj i 've watched this movie twice now on xxup dvd , and both times it did n't fail to impress me with its unique impartial attitude . xxmaj it seems more like a depiction of reality than most other xxmaj hollywood fare , especially on a topic that is still hotly discussed . xxmaj even though it sticks closely with the southern viewpoint , it does n't fail to question it , and in the end the only</td>\n",
              "      <td>xxmaj i 've watched this movie twice now on xxup dvd , and both times it did n't fail to impress me with its unique impartial attitude . xxmaj it seems more like a depiction of reality than most other xxmaj hollywood fare , especially on a topic that is still hotly discussed . xxmaj even though it sticks closely with the southern viewpoint , it does n't fail to question it , and in the end the only sentence</td>\n",
              "    </tr>\n",
              "    <tr>\n",
              "      <th>1</th>\n",
              "      <td>xxmaj it could have been a lot better . xxmaj less irony and more funny . xxmaj airplane ! , xxmaj naked xxmaj gun , xxmaj top xxmaj secret ! , that 's how this movie should have been . xxmaj an xxmaj abrahams / xxmaj zucker - type movie making fun of bio - pics done by xxmaj apatow and xxmaj kasdan , that would be magic . xxmaj but instead we are treated to a movie that suffers</td>\n",
              "      <td>it could have been a lot better . xxmaj less irony and more funny . xxmaj airplane ! , xxmaj naked xxmaj gun , xxmaj top xxmaj secret ! , that 's how this movie should have been . xxmaj an xxmaj abrahams / xxmaj zucker - type movie making fun of bio - pics done by xxmaj apatow and xxmaj kasdan , that would be magic . xxmaj but instead we are treated to a movie that suffers from</td>\n",
              "    </tr>\n",
              "  </tbody>\n",
              "</table>"
            ],
            "text/plain": [
              "<IPython.core.display.HTML object>"
            ]
          },
          "metadata": {
            "tags": []
          }
        }
      ]
    },
    {
      "cell_type": "code",
      "metadata": {
        "id": "OTG6-us2zFru",
        "outputId": "ef96624d-7e21-4b6f-f486-5620990e4fb5",
        "colab": {
          "base_uri": "https://localhost:8080/",
          "height": 17
        }
      },
      "source": [
        "learn = language_model_learner(dls_lm, AWD_LSTM, drop_mult=0.3,metrics=[accuracy, Perplexity()])"
      ],
      "execution_count": 8,
      "outputs": [
        {
          "output_type": "display_data",
          "data": {
            "text/html": [
              ""
            ],
            "text/plain": [
              "<IPython.core.display.HTML object>"
            ]
          },
          "metadata": {
            "tags": []
          }
        }
      ]
    },
    {
      "cell_type": "code",
      "metadata": {
        "id": "ST7QK6uhzPi4"
      },
      "source": [
        "#learn.lr_find()"
      ],
      "execution_count": 9,
      "outputs": []
    },
    {
      "cell_type": "code",
      "metadata": {
        "id": "TxxdO98uzSMM"
      },
      "source": [
        "#learn.recorder.plot(skip_end=15)"
      ],
      "execution_count": 10,
      "outputs": []
    },
    {
      "cell_type": "code",
      "metadata": {
        "id": "TVVvM6ItxhOe",
        "outputId": "f1fca55a-e4f3-40aa-cc92-4991f3454c4e",
        "colab": {
          "base_uri": "https://localhost:8080/",
          "height": 141
        }
      },
      "source": [
        "learn.fit_one_cycle(3, 2e-2)"
      ],
      "execution_count": 11,
      "outputs": [
        {
          "output_type": "display_data",
          "data": {
            "text/html": [
              "<table border=\"1\" class=\"dataframe\">\n",
              "  <thead>\n",
              "    <tr style=\"text-align: left;\">\n",
              "      <th>epoch</th>\n",
              "      <th>train_loss</th>\n",
              "      <th>valid_loss</th>\n",
              "      <th>accuracy</th>\n",
              "      <th>perplexity</th>\n",
              "      <th>time</th>\n",
              "    </tr>\n",
              "  </thead>\n",
              "  <tbody>\n",
              "    <tr>\n",
              "      <td>0</td>\n",
              "      <td>4.232985</td>\n",
              "      <td>4.067201</td>\n",
              "      <td>0.283161</td>\n",
              "      <td>58.393272</td>\n",
              "      <td>54:00</td>\n",
              "    </tr>\n",
              "    <tr>\n",
              "      <td>1</td>\n",
              "      <td>4.096335</td>\n",
              "      <td>3.930717</td>\n",
              "      <td>0.296140</td>\n",
              "      <td>50.943501</td>\n",
              "      <td>54:14</td>\n",
              "    </tr>\n",
              "    <tr>\n",
              "      <td>2</td>\n",
              "      <td>3.989829</td>\n",
              "      <td>3.863410</td>\n",
              "      <td>0.303243</td>\n",
              "      <td>47.627506</td>\n",
              "      <td>54:16</td>\n",
              "    </tr>\n",
              "  </tbody>\n",
              "</table>"
            ],
            "text/plain": [
              "<IPython.core.display.HTML object>"
            ]
          },
          "metadata": {
            "tags": []
          }
        }
      ]
    },
    {
      "cell_type": "markdown",
      "metadata": {
        "id": "o13aAiTt-azP"
      },
      "source": [
        "### É bom salvar os modelos"
      ]
    },
    {
      "cell_type": "code",
      "metadata": {
        "id": "GnpKGudP-ZRe",
        "outputId": "ddec1d18-5eb5-48c3-b2ea-fdac5052f120",
        "colab": {
          "base_uri": "https://localhost:8080/"
        }
      },
      "source": [
        "learn.save('1epoch')"
      ],
      "execution_count": 12,
      "outputs": [
        {
          "output_type": "execute_result",
          "data": {
            "text/plain": [
              "Path('/root/.fastai/data/imdb/models/1epoch.pth')"
            ]
          },
          "metadata": {
            "tags": []
          },
          "execution_count": 12
        }
      ]
    },
    {
      "cell_type": "markdown",
      "metadata": {
        "id": "7qUfCBxk-gq3"
      },
      "source": [
        "### Para carregar os modelos e continuar o treinamento"
      ]
    },
    {
      "cell_type": "code",
      "metadata": {
        "id": "VRM1-23j-kP2"
      },
      "source": [
        "learn = learn.load('1epoch')\n",
        "\n",
        "#learn.unfreeze()\n",
        "#learn.fit_one_cycle(5, 2e-3)"
      ],
      "execution_count": 13,
      "outputs": []
    },
    {
      "cell_type": "markdown",
      "metadata": {
        "id": "gHh4cxgh-2YE"
      },
      "source": [
        "### Salva o modelo final"
      ]
    },
    {
      "cell_type": "code",
      "metadata": {
        "id": "8pSD4Gtr-1gr"
      },
      "source": [
        "learn.save_encoder('finetuned')"
      ],
      "execution_count": 14,
      "outputs": []
    },
    {
      "cell_type": "markdown",
      "metadata": {
        "id": "DqSDBJCwzWLd"
      },
      "source": [
        "### Adivinha a próxima palavra de uma sentença"
      ]
    },
    {
      "cell_type": "code",
      "metadata": {
        "id": "SjqmzRmdxfog"
      },
      "source": [
        "sentenca = \"I liked this movie because\"\n",
        "n_palavras = 40\n",
        "n_sentencas = 2"
      ],
      "execution_count": 15,
      "outputs": []
    },
    {
      "cell_type": "code",
      "metadata": {
        "id": "WPFzCMX_xols",
        "outputId": "c00d6cd8-1c6b-4652-a838-9c85f6a8dbe4",
        "colab": {
          "base_uri": "https://localhost:8080/",
          "height": 73
        }
      },
      "source": [
        "print(\"\\n\".join(learn.predict(sentenca, n_palavras, temperature=0.75) for _ in range(n_sentencas)))"
      ],
      "execution_count": 17,
      "outputs": [
        {
          "output_type": "display_data",
          "data": {
            "text/html": [
              ""
            ],
            "text/plain": [
              "<IPython.core.display.HTML object>"
            ]
          },
          "metadata": {
            "tags": []
          }
        },
        {
          "output_type": "display_data",
          "data": {
            "text/html": [
              ""
            ],
            "text/plain": [
              "<IPython.core.display.HTML object>"
            ]
          },
          "metadata": {
            "tags": []
          }
        },
        {
          "output_type": "stream",
          "text": [
            "i liked this movie because i tried to be a Lieutenant of the West , but i thought the film was a good character . i enjoyed it too . However you 've never been prepared for this . You 've\n",
            "i liked this movie because that its a great movie . i just think that it was very good , and i would have liked to see how the bad scenes were so stupid . i did n't get that . i can give it\n"
          ],
          "name": "stdout"
        }
      ]
    },
    {
      "cell_type": "markdown",
      "metadata": {
        "id": "2ghDEHIewpYw"
      },
      "source": [
        "### Classificação de sentenças utilizando LSTM"
      ]
    },
    {
      "cell_type": "code",
      "metadata": {
        "id": "fbXqCoHCuTeY"
      },
      "source": [
        "dls_clas = DataBlock(\n",
        "    blocks=(TextBlock.from_folder(path, vocab=dls_lm.vocab),CategoryBlock),\n",
        "    get_y = parent_label,\n",
        "    get_items=partial(get_text_files, folders=['train', 'test']),\n",
        "    splitter=GrandparentSplitter(valid_name='test')\n",
        ").dataloaders(path, path=path, bs=48, seq_len=72)"
      ],
      "execution_count": null,
      "outputs": []
    },
    {
      "cell_type": "code",
      "metadata": {
        "id": "gTfjLF5u_TZ4"
      },
      "source": [
        "dls_clas.show_batch(max_n=3)"
      ],
      "execution_count": null,
      "outputs": []
    },
    {
      "cell_type": "code",
      "metadata": {
        "id": "ao8cpoVIuV9R"
      },
      "source": [
        "learn = text_classifier_learner(dls_clas, AWD_LSTM, drop_mult=0.5, \n",
        "                                metrics=accuracy)"
      ],
      "execution_count": null,
      "outputs": []
    },
    {
      "cell_type": "code",
      "metadata": {
        "id": "ix6hyhabuXj0"
      },
      "source": [
        "learn = learn.load_encoder('finetuned')"
      ],
      "execution_count": null,
      "outputs": []
    },
    {
      "cell_type": "code",
      "metadata": {
        "id": "2QveHjs_xIpi"
      },
      "source": [
        "learn.fit_one_cycle(1, 2e-2)"
      ],
      "execution_count": null,
      "outputs": []
    },
    {
      "cell_type": "code",
      "metadata": {
        "id": "uZFzunUuv9yJ"
      },
      "source": [
        "learn.freeze_to(-2)\n",
        "learn.fit_one_cycle(1, slice(1e-2/(2.6**4),1e-2))"
      ],
      "execution_count": null,
      "outputs": []
    },
    {
      "cell_type": "code",
      "metadata": {
        "id": "aXBYVUyOwHfN"
      },
      "source": [
        ""
      ],
      "execution_count": null,
      "outputs": []
    },
    {
      "cell_type": "code",
      "metadata": {
        "id": "xQlvrfX9wMjH"
      },
      "source": [
        ""
      ],
      "execution_count": null,
      "outputs": []
    },
    {
      "cell_type": "code",
      "metadata": {
        "id": "Z9F_OgEuwlIX"
      },
      "source": [
        "learn.predict(\"I really loved that movie, it was awesome!\")"
      ],
      "execution_count": null,
      "outputs": []
    }
  ]
}