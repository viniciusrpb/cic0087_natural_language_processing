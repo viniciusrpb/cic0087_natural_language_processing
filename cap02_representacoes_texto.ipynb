{
  "nbformat": 4,
  "nbformat_minor": 0,
  "metadata": {
    "colab": {
      "name": "cap02_representacoes_texto.ipynb",
      "provenance": [],
      "collapsed_sections": [],
      "include_colab_link": true
    },
    "kernelspec": {
      "name": "python3",
      "display_name": "Python 3"
    },
    "language_info": {
      "name": "python"
    }
  },
  "cells": [
    {
      "cell_type": "markdown",
      "metadata": {
        "id": "view-in-github",
        "colab_type": "text"
      },
      "source": [
        "<a href=\"https://colab.research.google.com/github/viniciusrpb/cic0087_naturallanguageprocessing/blob/main/cap02_representacoes_texto.ipynb\" target=\"_parent\"><img src=\"https://colab.research.google.com/assets/colab-badge.svg\" alt=\"Open In Colab\"/></a>"
      ]
    },
    {
      "cell_type": "markdown",
      "source": [
        "# Representações de texto\n",
        "\n",
        "A escolha de uma representação para documentos de textos é importante e afeta os resultados das técnicas de aprendizado de máquina e de processamento de linguagem natural. No processo de transformar textos puros em representações numéricas, também conhecido como caracterização de textos, existem duas etapas principais a serem feitas. A primeira é chamada de *tokenização*, que se refere a dividir o texto em palavras ou grupos de palavras, e a segunda é conhecida como *numericalização*, que se trata de uma transformação de texto puro para uma representação numérica. Há diversas abordagens possíveis para caracterização de textos, e vamos ilustrar duas delas neste notebook."
      ],
      "metadata": {
        "id": "8zkyXx4IAJib"
      }
    },
    {
      "cell_type": "code",
      "source": [
        "from google.colab import drive\n",
        "drive.mount('/content/drive')"
      ],
      "metadata": {
        "colab": {
          "base_uri": "https://localhost:8080/"
        },
        "id": "1-824lhDI8iI",
        "outputId": "f210ce00-dbc2-4041-959a-1c108b192eca"
      },
      "execution_count": null,
      "outputs": [
        {
          "output_type": "stream",
          "name": "stdout",
          "text": [
            "Drive already mounted at /content/drive; to attempt to forcibly remount, call drive.mount(\"/content/drive\", force_remount=True).\n"
          ]
        }
      ]
    },
    {
      "cell_type": "code",
      "source": [
        "import pandas as pd\n",
        "import numpy as np"
      ],
      "metadata": {
        "id": "kGMoEdIeL6EV"
      },
      "execution_count": null,
      "outputs": []
    },
    {
      "cell_type": "code",
      "source": [
        "df = pd.read_csv('/content/drive/MyDrive/tutoriais_tac/olist.csv')"
      ],
      "metadata": {
        "id": "8dTMKi83JwWC"
      },
      "execution_count": null,
      "outputs": []
    },
    {
      "cell_type": "markdown",
      "source": [
        "## Count Vectorizer\n",
        "\n",
        "A primeira abordagem que veremos, o chamado *Count Vectorizer*, é uma técnica *bag-of-words* e se pauta em uma ideia simples. A documentação do Scikit-learn define como 'converter uma coleção de documentos de texto em uma matriz de contagem de tokens'.\n",
        "\n",
        "Por exemplo, vamos considerar um corpus com as seguintes frases:\n",
        "\n",
        "1. Tom Jobim é um artista da bossa nova.\n",
        "2. Garota de Ipanema é uma música da bossa nova composta por Tom Jobim. A música é uma obra-prima.\n",
        "\n",
        "O vocabulário é o conjunto de termos distintos que ocorre em cada frase do corpus. Cada frase é, então, representada por um vetor que associa cada token do vocabulário com sua quantidade na frase em questão. Temos o seguinte:\n",
        "\n",
        "| Vocubulário  | Tom | Jobim | é | um | artista | da | Bossa | Nova | Garota | de | Ipanema | uma | música | composta | por | a | obra-prima |\n",
        "|--------------|-----|-------|---|----|---------|----|-------|------|--------|----|---------|-----|--------|----------|-----|---|------------|\n",
        "| Repr frase 1 | 1   | 1     | 1 | 1  | 1       | 1  | 1     | 1    | 0      | 0  | 0       | 0   | 0      | 0        | 0   | 0 | 0          |\n",
        "| Repr frase 2 | 1   | 1     | 2 | 0  | 0       | 0  | 1     | 1    | 1      | 2  | 1       | 2   | 2      | 1        | 1   | 1 | 1          |\n",
        "\n",
        "Vamos usar o módulo implementado pelo Scikit-learn. O link da documentação é https://scikit-learn.org/stable/modules/generated/sklearn.feature_extraction.text.CountVectorizer.html.\n"
      ],
      "metadata": {
        "id": "Q28ImRk-IIt2"
      }
    },
    {
      "cell_type": "code",
      "execution_count": null,
      "metadata": {
        "id": "t8rGmv5j_m-3"
      },
      "outputs": [],
      "source": [
        "from sklearn.feature_extraction.text import CountVectorizer"
      ]
    },
    {
      "cell_type": "code",
      "source": [
        "corpus = [\n",
        "    'Tom Jobim é um artista da bossa nova.',\n",
        "    'Garota de Ipanema é uma música da bossa nova composta por Tom Jobim. A música é uma obra-prima.'\n",
        "]"
      ],
      "metadata": {
        "id": "otg6pIPxQNwq"
      },
      "execution_count": null,
      "outputs": []
    },
    {
      "cell_type": "markdown",
      "source": [
        "A implementação já traz alguns pontos de pré-processamento embutidos por padrão."
      ],
      "metadata": {
        "id": "qxZFcloURBnw"
      }
    },
    {
      "cell_type": "code",
      "source": [
        "vectorizer = CountVectorizer()\n",
        "X = vectorizer.fit_transform(corpus)\n",
        "print(vectorizer.get_feature_names_out())\n",
        "\n",
        "print(X.toarray())"
      ],
      "metadata": {
        "colab": {
          "base_uri": "https://localhost:8080/"
        },
        "id": "aChsSHYUQhAm",
        "outputId": "8b045c17-7004-4e91-b626-d2d8b9f7956b"
      },
      "execution_count": null,
      "outputs": [
        {
          "output_type": "stream",
          "name": "stdout",
          "text": [
            "['artista' 'bossa' 'composta' 'da' 'de' 'garota' 'ipanema' 'jobim'\n",
            " 'música' 'nova' 'obra' 'por' 'prima' 'tom' 'um' 'uma']\n",
            "[[1 1 0 1 0 0 0 1 0 1 0 0 0 1 1 0]\n",
            " [0 1 1 1 1 1 1 1 2 1 1 1 1 1 0 2]]\n"
          ]
        }
      ]
    },
    {
      "cell_type": "code",
      "source": [
        "df"
      ],
      "metadata": {
        "colab": {
          "base_uri": "https://localhost:8080/",
          "height": 818
        },
        "id": "g1AAYS8WNvlE",
        "outputId": "9b1afb5b-d6bb-47c7-8c60-05e590e2716b"
      },
      "execution_count": null,
      "outputs": [
        {
          "output_type": "execute_result",
          "data": {
            "text/html": [
              "\n",
              "  <div id=\"df-6520c3d5-6f65-4b8a-8fda-572c8e1a557e\">\n",
              "    <div class=\"colab-df-container\">\n",
              "      <div>\n",
              "<style scoped>\n",
              "    .dataframe tbody tr th:only-of-type {\n",
              "        vertical-align: middle;\n",
              "    }\n",
              "\n",
              "    .dataframe tbody tr th {\n",
              "        vertical-align: top;\n",
              "    }\n",
              "\n",
              "    .dataframe thead th {\n",
              "        text-align: right;\n",
              "    }\n",
              "</style>\n",
              "<table border=\"1\" class=\"dataframe\">\n",
              "  <thead>\n",
              "    <tr style=\"text-align: right;\">\n",
              "      <th></th>\n",
              "      <th>original_index</th>\n",
              "      <th>review_text</th>\n",
              "      <th>review_text_processed</th>\n",
              "      <th>review_text_tokenized</th>\n",
              "      <th>polarity</th>\n",
              "      <th>rating</th>\n",
              "      <th>kfold_polarity</th>\n",
              "      <th>kfold_rating</th>\n",
              "    </tr>\n",
              "  </thead>\n",
              "  <tbody>\n",
              "    <tr>\n",
              "      <th>0</th>\n",
              "      <td>97262</td>\n",
              "      <td>Perfeito....chegou antes do prazo.....</td>\n",
              "      <td>perfeito....chegou antes do prazo.....</td>\n",
              "      <td>['perfeito', 'chegou', 'antes', 'do', 'prazo']</td>\n",
              "      <td>1.0</td>\n",
              "      <td>5</td>\n",
              "      <td>1</td>\n",
              "      <td>1</td>\n",
              "    </tr>\n",
              "    <tr>\n",
              "      <th>1</th>\n",
              "      <td>72931</td>\n",
              "      <td>Foi uma ótima compra! Chegou antes mesmo do pr...</td>\n",
              "      <td>foi uma otima compra! chegou antes mesmo do pr...</td>\n",
              "      <td>['foi', 'uma', 'otima', 'compra', 'chegou', 'a...</td>\n",
              "      <td>1.0</td>\n",
              "      <td>5</td>\n",
              "      <td>1</td>\n",
              "      <td>1</td>\n",
              "    </tr>\n",
              "    <tr>\n",
              "      <th>2</th>\n",
              "      <td>19659</td>\n",
              "      <td>Recebi muito rapido e um otimo custo beneficio</td>\n",
              "      <td>recebi muito rapido e um otimo custo beneficio</td>\n",
              "      <td>['recebi', 'muito', 'rapido', 'um', 'otimo', '...</td>\n",
              "      <td>1.0</td>\n",
              "      <td>5</td>\n",
              "      <td>1</td>\n",
              "      <td>1</td>\n",
              "    </tr>\n",
              "    <tr>\n",
              "      <th>3</th>\n",
              "      <td>43054</td>\n",
              "      <td>Recomendo</td>\n",
              "      <td>recomendo</td>\n",
              "      <td>['recomendo']</td>\n",
              "      <td>1.0</td>\n",
              "      <td>5</td>\n",
              "      <td>1</td>\n",
              "      <td>1</td>\n",
              "    </tr>\n",
              "    <tr>\n",
              "      <th>4</th>\n",
              "      <td>59202</td>\n",
              "      <td>Só veio uma capa comprei 3 aí paguei. Mais de ...</td>\n",
              "      <td>so veio uma capa comprei 3 ai paguei. mais de ...</td>\n",
              "      <td>['so', 'veio', 'uma', 'capa', 'comprei', 'ai',...</td>\n",
              "      <td>0.0</td>\n",
              "      <td>1</td>\n",
              "      <td>1</td>\n",
              "      <td>1</td>\n",
              "    </tr>\n",
              "    <tr>\n",
              "      <th>...</th>\n",
              "      <td>...</td>\n",
              "      <td>...</td>\n",
              "      <td>...</td>\n",
              "      <td>...</td>\n",
              "      <td>...</td>\n",
              "      <td>...</td>\n",
              "      <td>...</td>\n",
              "      <td>...</td>\n",
              "    </tr>\n",
              "    <tr>\n",
              "      <th>41739</th>\n",
              "      <td>49725</td>\n",
              "      <td>SUCESSO :D</td>\n",
              "      <td>sucesso :d</td>\n",
              "      <td>['sucesso']</td>\n",
              "      <td>1.0</td>\n",
              "      <td>5</td>\n",
              "      <td>10</td>\n",
              "      <td>10</td>\n",
              "    </tr>\n",
              "    <tr>\n",
              "      <th>41740</th>\n",
              "      <td>76794</td>\n",
              "      <td>Tudo OK. Produto entregue no prazo correto.</td>\n",
              "      <td>tudo ok. produto entregue no prazo correto.</td>\n",
              "      <td>['tudo', 'ok', 'produto', 'entregue', 'no', 'p...</td>\n",
              "      <td>1.0</td>\n",
              "      <td>5</td>\n",
              "      <td>10</td>\n",
              "      <td>10</td>\n",
              "    </tr>\n",
              "    <tr>\n",
              "      <th>41741</th>\n",
              "      <td>72847</td>\n",
              "      <td>Ultimamente estão atrasando muito as entregas</td>\n",
              "      <td>ultimamente estao atrasando muito as entregas</td>\n",
              "      <td>['ultimamente', 'estao', 'atrasando', 'muito',...</td>\n",
              "      <td>0.0</td>\n",
              "      <td>1</td>\n",
              "      <td>10</td>\n",
              "      <td>10</td>\n",
              "    </tr>\n",
              "    <tr>\n",
              "      <th>41742</th>\n",
              "      <td>50905</td>\n",
              "      <td>recomendo</td>\n",
              "      <td>recomendo</td>\n",
              "      <td>['recomendo']</td>\n",
              "      <td>1.0</td>\n",
              "      <td>5</td>\n",
              "      <td>10</td>\n",
              "      <td>10</td>\n",
              "    </tr>\n",
              "    <tr>\n",
              "      <th>41743</th>\n",
              "      <td>6468</td>\n",
              "      <td>A mascara veio com um pequeno defeito na estam...</td>\n",
              "      <td>a mascara veio com um pequeno defeito na estam...</td>\n",
              "      <td>['mascara', 'veio', 'com', 'um', 'pequeno', 'd...</td>\n",
              "      <td>0.0</td>\n",
              "      <td>2</td>\n",
              "      <td>10</td>\n",
              "      <td>10</td>\n",
              "    </tr>\n",
              "  </tbody>\n",
              "</table>\n",
              "<p>41744 rows × 8 columns</p>\n",
              "</div>\n",
              "      <button class=\"colab-df-convert\" onclick=\"convertToInteractive('df-6520c3d5-6f65-4b8a-8fda-572c8e1a557e')\"\n",
              "              title=\"Convert this dataframe to an interactive table.\"\n",
              "              style=\"display:none;\">\n",
              "        \n",
              "  <svg xmlns=\"http://www.w3.org/2000/svg\" height=\"24px\"viewBox=\"0 0 24 24\"\n",
              "       width=\"24px\">\n",
              "    <path d=\"M0 0h24v24H0V0z\" fill=\"none\"/>\n",
              "    <path d=\"M18.56 5.44l.94 2.06.94-2.06 2.06-.94-2.06-.94-.94-2.06-.94 2.06-2.06.94zm-11 1L8.5 8.5l.94-2.06 2.06-.94-2.06-.94L8.5 2.5l-.94 2.06-2.06.94zm10 10l.94 2.06.94-2.06 2.06-.94-2.06-.94-.94-2.06-.94 2.06-2.06.94z\"/><path d=\"M17.41 7.96l-1.37-1.37c-.4-.4-.92-.59-1.43-.59-.52 0-1.04.2-1.43.59L10.3 9.45l-7.72 7.72c-.78.78-.78 2.05 0 2.83L4 21.41c.39.39.9.59 1.41.59.51 0 1.02-.2 1.41-.59l7.78-7.78 2.81-2.81c.8-.78.8-2.07 0-2.86zM5.41 20L4 18.59l7.72-7.72 1.47 1.35L5.41 20z\"/>\n",
              "  </svg>\n",
              "      </button>\n",
              "      \n",
              "  <style>\n",
              "    .colab-df-container {\n",
              "      display:flex;\n",
              "      flex-wrap:wrap;\n",
              "      gap: 12px;\n",
              "    }\n",
              "\n",
              "    .colab-df-convert {\n",
              "      background-color: #E8F0FE;\n",
              "      border: none;\n",
              "      border-radius: 50%;\n",
              "      cursor: pointer;\n",
              "      display: none;\n",
              "      fill: #1967D2;\n",
              "      height: 32px;\n",
              "      padding: 0 0 0 0;\n",
              "      width: 32px;\n",
              "    }\n",
              "\n",
              "    .colab-df-convert:hover {\n",
              "      background-color: #E2EBFA;\n",
              "      box-shadow: 0px 1px 2px rgba(60, 64, 67, 0.3), 0px 1px 3px 1px rgba(60, 64, 67, 0.15);\n",
              "      fill: #174EA6;\n",
              "    }\n",
              "\n",
              "    [theme=dark] .colab-df-convert {\n",
              "      background-color: #3B4455;\n",
              "      fill: #D2E3FC;\n",
              "    }\n",
              "\n",
              "    [theme=dark] .colab-df-convert:hover {\n",
              "      background-color: #434B5C;\n",
              "      box-shadow: 0px 1px 3px 1px rgba(0, 0, 0, 0.15);\n",
              "      filter: drop-shadow(0px 1px 2px rgba(0, 0, 0, 0.3));\n",
              "      fill: #FFFFFF;\n",
              "    }\n",
              "  </style>\n",
              "\n",
              "      <script>\n",
              "        const buttonEl =\n",
              "          document.querySelector('#df-6520c3d5-6f65-4b8a-8fda-572c8e1a557e button.colab-df-convert');\n",
              "        buttonEl.style.display =\n",
              "          google.colab.kernel.accessAllowed ? 'block' : 'none';\n",
              "\n",
              "        async function convertToInteractive(key) {\n",
              "          const element = document.querySelector('#df-6520c3d5-6f65-4b8a-8fda-572c8e1a557e');\n",
              "          const dataTable =\n",
              "            await google.colab.kernel.invokeFunction('convertToInteractive',\n",
              "                                                     [key], {});\n",
              "          if (!dataTable) return;\n",
              "\n",
              "          const docLinkHtml = 'Like what you see? Visit the ' +\n",
              "            '<a target=\"_blank\" href=https://colab.research.google.com/notebooks/data_table.ipynb>data table notebook</a>'\n",
              "            + ' to learn more about interactive tables.';\n",
              "          element.innerHTML = '';\n",
              "          dataTable['output_type'] = 'display_data';\n",
              "          await google.colab.output.renderOutput(dataTable, element);\n",
              "          const docLink = document.createElement('div');\n",
              "          docLink.innerHTML = docLinkHtml;\n",
              "          element.appendChild(docLink);\n",
              "        }\n",
              "      </script>\n",
              "    </div>\n",
              "  </div>\n",
              "  "
            ],
            "text/plain": [
              "       original_index  ... kfold_rating\n",
              "0               97262  ...            1\n",
              "1               72931  ...            1\n",
              "2               19659  ...            1\n",
              "3               43054  ...            1\n",
              "4               59202  ...            1\n",
              "...               ...  ...          ...\n",
              "41739           49725  ...           10\n",
              "41740           76794  ...           10\n",
              "41741           72847  ...           10\n",
              "41742           50905  ...           10\n",
              "41743            6468  ...           10\n",
              "\n",
              "[41744 rows x 8 columns]"
            ]
          },
          "metadata": {},
          "execution_count": 34
        }
      ]
    },
    {
      "cell_type": "code",
      "source": [
        "from sklearn.model_selection import train_test_split"
      ],
      "metadata": {
        "id": "6OuICyGWKC94"
      },
      "execution_count": null,
      "outputs": []
    },
    {
      "cell_type": "code",
      "source": [
        "df.info()"
      ],
      "metadata": {
        "colab": {
          "base_uri": "https://localhost:8080/"
        },
        "id": "Lv_wjTF6PF-x",
        "outputId": "69996c0b-69dd-4c70-93ec-91fcade1dc14"
      },
      "execution_count": null,
      "outputs": [
        {
          "output_type": "stream",
          "name": "stdout",
          "text": [
            "<class 'pandas.core.frame.DataFrame'>\n",
            "RangeIndex: 41744 entries, 0 to 41743\n",
            "Data columns (total 8 columns):\n",
            " #   Column                 Non-Null Count  Dtype  \n",
            "---  ------                 --------------  -----  \n",
            " 0   original_index         41744 non-null  int64  \n",
            " 1   review_text            41744 non-null  object \n",
            " 2   review_text_processed  41743 non-null  object \n",
            " 3   review_text_tokenized  41744 non-null  object \n",
            " 4   polarity               38079 non-null  float64\n",
            " 5   rating                 41744 non-null  int64  \n",
            " 6   kfold_polarity         41744 non-null  int64  \n",
            " 7   kfold_rating           41744 non-null  int64  \n",
            "dtypes: float64(1), int64(4), object(3)\n",
            "memory usage: 2.5+ MB\n"
          ]
        }
      ]
    },
    {
      "cell_type": "code",
      "source": [
        "df.fillna(1.0, inplace=True)"
      ],
      "metadata": {
        "id": "lGM5f1F7PA3N"
      },
      "execution_count": null,
      "outputs": []
    },
    {
      "cell_type": "code",
      "source": [
        "df.info()"
      ],
      "metadata": {
        "colab": {
          "base_uri": "https://localhost:8080/"
        },
        "id": "eShCxnxiPUty",
        "outputId": "3f755bc3-c73f-438f-dd86-4213c0f9c643"
      },
      "execution_count": null,
      "outputs": [
        {
          "output_type": "stream",
          "name": "stdout",
          "text": [
            "<class 'pandas.core.frame.DataFrame'>\n",
            "RangeIndex: 41744 entries, 0 to 41743\n",
            "Data columns (total 8 columns):\n",
            " #   Column                 Non-Null Count  Dtype  \n",
            "---  ------                 --------------  -----  \n",
            " 0   original_index         41744 non-null  int64  \n",
            " 1   review_text            41744 non-null  object \n",
            " 2   review_text_processed  41744 non-null  object \n",
            " 3   review_text_tokenized  41744 non-null  object \n",
            " 4   polarity               41744 non-null  float64\n",
            " 5   rating                 41744 non-null  int64  \n",
            " 6   kfold_polarity         41744 non-null  int64  \n",
            " 7   kfold_rating           41744 non-null  int64  \n",
            "dtypes: float64(1), int64(4), object(3)\n",
            "memory usage: 2.5+ MB\n"
          ]
        }
      ]
    },
    {
      "cell_type": "code",
      "source": [
        "X_train, X_test, y_train, y_test = train_test_split(df['review_text'], df['polarity'],\n",
        "                                                    test_size=0.2, random_state=14, stratify=df['polarity'])\n",
        "\n",
        "# X_test, X_val, y_test, y_val = train_test_split(X_test, y_test,\n",
        "#                                                     test_size=0.5, random_state=14, stratify=y_test)"
      ],
      "metadata": {
        "id": "lMoYdANPN54L"
      },
      "execution_count": null,
      "outputs": []
    },
    {
      "cell_type": "code",
      "source": [
        "X_train_cv = vectorizer.fit_transform(X_train)\n",
        "X_test_cv = vectorizer.transform(X_test)"
      ],
      "metadata": {
        "id": "vj8AZ_kqPZC3"
      },
      "execution_count": null,
      "outputs": []
    },
    {
      "cell_type": "code",
      "source": [
        "X_train_cv"
      ],
      "metadata": {
        "colab": {
          "base_uri": "https://localhost:8080/"
        },
        "id": "p0BeXU39Pw5V",
        "outputId": "50011768-6098-40be-99e1-03b6168a36dc"
      },
      "execution_count": null,
      "outputs": [
        {
          "output_type": "execute_result",
          "data": {
            "text/plain": [
              "<33395x14482 sparse matrix of type '<class 'numpy.int64'>'\n",
              "\twith 333436 stored elements in Compressed Sparse Row format>"
            ]
          },
          "metadata": {},
          "execution_count": 43
        }
      ]
    },
    {
      "cell_type": "markdown",
      "source": [
        "## TF-IDF\n",
        "\n",
        "O procedimento descrito pela técnica Count Vectorizer é simples e bastante poderoso, mas tem uma limitação principal. [Manning et al. 2008](https://nlp.stanford.edu/IR-book/information-retrieval-book.html) descrevem que nele 'todos os termos são considerados igualmente importantes quando se trata de avaliar relevância'. Portanto, uma melhoria nesse sentido seria ponderar a computação de características dos dados textuais levando em consideração a frequência de cada palavra do exemplo considerado e no corpus como um todo. Isso permitiria que os algoritmos pudessem obter informações mais relevantes, mesmo quando lidando com dados textuais muito grandes. Isso é conhecido como *Term Frequency - Inverse Document Frequency*, ou TF-IDF, e também é uma técnica *bag-of-words*."
      ],
      "metadata": {
        "id": "qHvd8AEvRbK8"
      }
    },
    {
      "cell_type": "markdown",
      "source": [
        "Para ilustrar essa questão do que significa *relevância*, consideremos as seguintes frases em um contexto de uma tarefa de análise de sentimentos:\n",
        "\n",
        "1. Eu adorei o último jogo do Vasco. Foi muito melhor que no jogo anterior, com mudanças táticas importantes que impactaram no estilo de jogo do time. (Sentimento positivo)\n",
        "2. Eu detestei o novo modo de jogo do Call of Duty. (Sentimento negativo)\n",
        "\n",
        "Numa abordagem usando Count Vectorizer, temos o seguinte panorama:"
      ],
      "metadata": {
        "id": "2eiW94eltdHK"
      }
    },
    {
      "cell_type": "code",
      "source": [
        "corpus = [\n",
        "    'Eu adorei o último jogo do Vasco. Foi muito melhor que no jogo anterior, com mudanças táticas importantes que impactaram no estilo de jogo do time.',\n",
        "    'Eu detestei o novo modo de jogo do Call of Duty.'\n",
        "]"
      ],
      "metadata": {
        "id": "G8AUy8oWQmNM"
      },
      "execution_count": null,
      "outputs": []
    },
    {
      "cell_type": "code",
      "source": [
        "vectorizer = CountVectorizer()\n",
        "X = vectorizer.fit_transform(corpus)\n",
        "print(vectorizer.get_feature_names_out())\n",
        "\n",
        "print(X.toarray())"
      ],
      "metadata": {
        "colab": {
          "base_uri": "https://localhost:8080/"
        },
        "id": "8w9AE_KtvdKT",
        "outputId": "90dda23c-249d-42be-83af-a3f2e91bff28"
      },
      "execution_count": null,
      "outputs": [
        {
          "output_type": "stream",
          "name": "stdout",
          "text": [
            "['adorei' 'anterior' 'call' 'com' 'de' 'detestei' 'do' 'duty' 'estilo'\n",
            " 'eu' 'foi' 'impactaram' 'importantes' 'jogo' 'melhor' 'modo' 'mudanças'\n",
            " 'muito' 'no' 'novo' 'of' 'que' 'time' 'táticas' 'vasco' 'último']\n",
            "[[1 1 0 1 1 0 2 0 1 1 1 1 1 3 1 0 1 1 2 0 0 2 1 1 1 1]\n",
            " [0 0 1 0 1 1 1 1 0 1 0 0 0 1 0 1 0 0 0 1 1 0 0 0 0 0]]\n"
          ]
        }
      ]
    },
    {
      "cell_type": "markdown",
      "source": [
        "Como todos os termos são igualmente importantes, os classificadores podem entender que o fator mais importante para que uma frase de exemplo possua sentimento positivo é ter mais ocorrências do termo 'jogo'. Usando TF-IDF podemos driblar essa questão ao atribuir um peso menor para termos que ocorrem muito no vocabulário como um todo. Formalmente, temos\n",
        "\n",
        "\n",
        "TF$(p, e)$ = $1 + log\\:f_{p, e}$ [1]\n",
        "\n",
        "IDF$(p, C)$ = $log\\: \\left(1 + \\frac{N}{n_{p}}\\right)$ [2]\n",
        "\n",
        "em que *Term Frequency*, TF, é o termo da equação [1], *Inverse Document Frequency*, IDF, é representado pela equação [2], e ainda $p$ é a palavra em questão, $e$ é o exemplo de texto analisado, $C$ é o corpus, $N$ é o número de documentos no corpus e $n_{p}$ é o número de ocorrências da palavra $p$ em todos os documentos. O resultado final é a multiplicação de TF com IDF, conforme a equação [3]:\n",
        "\n",
        "TF-IDF$(p, e, C)$ = $TF(p, e) * IDF(p, C)$ [3]"
      ],
      "metadata": {
        "id": "cV1Lg8uWvh5s"
      }
    },
    {
      "cell_type": "markdown",
      "source": [
        "Das frases de exemplo, vamos considerar o termo 'jogo', que foi o que mais apareceu no vocabulário.\n",
        "\n",
        "TF$(jogo, frase 1)$ = $1 + log\\:f_{jogo, frase 1}$\n",
        "$= 1 + log \\:3 = 1 + 0.47712 = 1.47712$\n",
        "\n",
        "IDF$(jogo, corpus)$ = $log\\: \\left(1 + \\frac{2}{4}\\right)$ = $log\\: \\left(\\frac{6}{4}\\right)$ = $0.17609$\n",
        "\n",
        "TF-IDF$(jogo, frase 1, corpus)$ = $1.47712 * 0.17609$ = $0.2601$"
      ],
      "metadata": {
        "id": "XUSU9E_Uzelv"
      }
    },
    {
      "cell_type": "markdown",
      "source": [
        "Código sklearn linha 1461 -> https://github.com/scikit-learn/scikit-learn/blob/main/sklearn/feature_extraction/text.py\n",
        "\n",
        "https://towardsdatascience.com/tf-idf-explained-and-python-sklearn-implementation-b020c5e83275\n",
        "\n",
        "https://www.tablesgenerator.com/markdown_tables#"
      ],
      "metadata": {
        "id": "koPIUjfwAxpR"
      }
    },
    {
      "cell_type": "code",
      "source": [
        "from sklearn.feature_extraction.text import TfidfVectorizer"
      ],
      "metadata": {
        "id": "_iTVRawWwDbl"
      },
      "execution_count": null,
      "outputs": []
    },
    {
      "cell_type": "code",
      "source": [
        "vectorizer = TfidfVectorizer()\n",
        "X = vectorizer.fit_transform(corpus)\n",
        "print(vectorizer.get_feature_names_out())\n",
        "\n",
        "print(X.toarray())"
      ],
      "metadata": {
        "colab": {
          "base_uri": "https://localhost:8080/"
        },
        "id": "1NZMGQJd4U-E",
        "outputId": "8d4d5bd5-fd76-42fb-eb86-ad9d1310adf7"
      },
      "execution_count": null,
      "outputs": [
        {
          "output_type": "stream",
          "name": "stdout",
          "text": [
            "['adorei' 'anterior' 'call' 'com' 'de' 'detestei' 'do' 'duty' 'estilo'\n",
            " 'eu' 'foi' 'impactaram' 'importantes' 'jogo' 'melhor' 'modo' 'mudanças'\n",
            " 'muito' 'no' 'novo' 'of' 'que' 'time' 'táticas' 'vasco' 'último']\n",
            "[[0.18382334 0.18382334 0.         0.18382334 0.13079182 0.\n",
            "  0.26158365 0.         0.18382334 0.13079182 0.18382334 0.18382334\n",
            "  0.18382334 0.39237547 0.18382334 0.         0.18382334 0.18382334\n",
            "  0.36764669 0.         0.         0.36764669 0.18382334 0.18382334\n",
            "  0.18382334 0.18382334]\n",
            " [0.         0.         0.35300279 0.         0.25116439 0.35300279\n",
            "  0.25116439 0.35300279 0.         0.25116439 0.         0.\n",
            "  0.         0.25116439 0.         0.35300279 0.         0.\n",
            "  0.         0.35300279 0.35300279 0.         0.         0.\n",
            "  0.         0.        ]]\n"
          ]
        }
      ]
    },
    {
      "cell_type": "code",
      "source": [
        "vectorizer.get_feature_names_out()"
      ],
      "metadata": {
        "colab": {
          "base_uri": "https://localhost:8080/"
        },
        "id": "JjWaFh7w4agM",
        "outputId": "13bf7b4d-176f-43cc-ba99-83bd6c0cfdd2"
      },
      "execution_count": null,
      "outputs": [
        {
          "output_type": "execute_result",
          "data": {
            "text/plain": [
              "array(['adorei', 'anterior', 'call', 'com', 'de', 'detestei', 'do',\n",
              "       'duty', 'estilo', 'eu', 'foi', 'impactaram', 'importantes', 'jogo',\n",
              "       'melhor', 'modo', 'mudanças', 'muito', 'no', 'novo', 'of', 'que',\n",
              "       'time', 'táticas', 'vasco', 'último'], dtype=object)"
            ]
          },
          "metadata": {},
          "execution_count": 49
        }
      ]
    },
    {
      "cell_type": "code",
      "source": [
        "import pandas as pd"
      ],
      "metadata": {
        "id": "e8TesKFN8Nla"
      },
      "execution_count": null,
      "outputs": []
    },
    {
      "cell_type": "code",
      "source": [
        "df = pd.DataFrame(X[1].T.todense(), index=vectorizer.get_feature_names(), columns=[\"TF-IDF\"])\n",
        "df = df.sort_values('TF-IDF', ascending=False)\n",
        "print (df.head(25))"
      ],
      "metadata": {
        "colab": {
          "base_uri": "https://localhost:8080/"
        },
        "id": "z7_jsniV4hX6",
        "outputId": "d4953daf-f248-4fda-a8a0-f86ac26b439e"
      },
      "execution_count": null,
      "outputs": [
        {
          "output_type": "stream",
          "name": "stdout",
          "text": [
            "               TF-IDF\n",
            "call         0.353003\n",
            "detestei     0.353003\n",
            "duty         0.353003\n",
            "of           0.353003\n",
            "novo         0.353003\n",
            "modo         0.353003\n",
            "jogo         0.251164\n",
            "de           0.251164\n",
            "do           0.251164\n",
            "eu           0.251164\n",
            "muito        0.000000\n",
            "vasco        0.000000\n",
            "táticas      0.000000\n",
            "time         0.000000\n",
            "que          0.000000\n",
            "no           0.000000\n",
            "adorei       0.000000\n",
            "mudanças     0.000000\n",
            "melhor       0.000000\n",
            "anterior     0.000000\n",
            "importantes  0.000000\n",
            "impactaram   0.000000\n",
            "foi          0.000000\n",
            "estilo       0.000000\n",
            "com          0.000000\n"
          ]
        },
        {
          "output_type": "stream",
          "name": "stderr",
          "text": [
            "/usr/local/lib/python3.7/dist-packages/sklearn/utils/deprecation.py:87: FutureWarning: Function get_feature_names is deprecated; get_feature_names is deprecated in 1.0 and will be removed in 1.2. Please use get_feature_names_out instead.\n",
            "  warnings.warn(msg, category=FutureWarning)\n"
          ]
        }
      ]
    },
    {
      "cell_type": "code",
      "source": [
        "X_train_cv = vectorizer.fit_transform(X_train)\n",
        "X_test_cv = vectorizer.transform(X_test)"
      ],
      "metadata": {
        "id": "QSjV9PufTovO"
      },
      "execution_count": null,
      "outputs": []
    },
    {
      "cell_type": "code",
      "source": [
        "X_train_cv"
      ],
      "metadata": {
        "colab": {
          "base_uri": "https://localhost:8080/"
        },
        "id": "3U6hVsk5TwHf",
        "outputId": "df257818-ef46-4bc0-9957-b9e3d296ea60"
      },
      "execution_count": null,
      "outputs": [
        {
          "output_type": "execute_result",
          "data": {
            "text/plain": [
              "<33395x14482 sparse matrix of type '<class 'numpy.float64'>'\n",
              "\twith 333436 stored elements in Compressed Sparse Row format>"
            ]
          },
          "metadata": {},
          "execution_count": 52
        }
      ]
    },
    {
      "cell_type": "code",
      "source": [
        ""
      ],
      "metadata": {
        "id": "_5NRyCf7TxN8"
      },
      "execution_count": null,
      "outputs": []
    }
  ]
}