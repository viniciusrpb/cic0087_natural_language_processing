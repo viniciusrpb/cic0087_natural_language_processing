{
  "nbformat": 4,
  "nbformat_minor": 0,
  "metadata": {
    "colab": {
      "name": "cap07_1_probabilistic_language_models.ipynb",
      "provenance": [],
      "authorship_tag": "ABX9TyOWZ/eqoCfPaCGhucXaL5iV",
      "include_colab_link": true
    },
    "kernelspec": {
      "name": "python3",
      "display_name": "Python 3"
    },
    "language_info": {
      "name": "python"
    }
  },
  "cells": [
    {
      "cell_type": "markdown",
      "metadata": {
        "id": "view-in-github",
        "colab_type": "text"
      },
      "source": [
        "<a href=\"https://colab.research.google.com/github/viniciusrpb/cic0269_natural_language_processing/blob/main/cap07_1_probabilistic_language_models.ipynb\" target=\"_parent\"><img src=\"https://colab.research.google.com/assets/colab-badge.svg\" alt=\"Open In Colab\"/></a>"
      ]
    },
    {
      "cell_type": "code",
      "source": [
        ""
      ],
      "metadata": {
        "id": "T6v4q5kF6J-0"
      },
      "execution_count": null,
      "outputs": []
    },
    {
      "cell_type": "code",
      "execution_count": 1,
      "metadata": {
        "id": "6PBYceZ9wHfa"
      },
      "outputs": [],
      "source": [
        "corpus = []\n",
        "corpus.append('Batatinha quando nasce esparrama pelo chão igual batatinha')\n",
        "corpus.append('A pior experiência da minha vida')\n",
        "corpus.append('Quero meu dinheiro de volta pois é meu e é meu')\n",
        "corpus.append('A experiência do dinheiro esparrama minha vida')\n",
        "corpus.append('Acai é a melhor coisa da vida')"
      ]
    },
    {
      "cell_type": "markdown",
      "source": [
        "unigram"
      ],
      "metadata": {
        "id": "V_hcW86m6Nw-"
      }
    },
    {
      "cell_type": "code",
      "source": [
        "unigram = {}\n",
        "n=0\n",
        "for i,doc in enumerate(corpus):\n",
        "    unigram['sentenca {}'.format(i+1)] = dict()\n",
        "    tokens = doc.split()\n",
        "    for word in tokens:\n",
        "        if word in unigram['sentenca {}'.format(i+1)]:\n",
        "            unigram['sentenca {}'.format(i+1)][word] += 1\n",
        "        else:\n",
        "            unigram['sentenca {}'.format(i+1)][word] = 1\n",
        "        n+=1"
      ],
      "metadata": {
        "id": "u_pFQ9Qe6PX-"
      },
      "execution_count": 16,
      "outputs": []
    },
    {
      "cell_type": "code",
      "source": [
        "unigram"
      ],
      "metadata": {
        "colab": {
          "base_uri": "https://localhost:8080/"
        },
        "id": "VcNrPkBI63_j",
        "outputId": "3f69e001-1918-4ad0-86cd-f4352f570cee"
      },
      "execution_count": 3,
      "outputs": [
        {
          "output_type": "execute_result",
          "data": {
            "text/plain": [
              "{'sentenca 1': {'Batatinha': 1,\n",
              "  'batatinha': 1,\n",
              "  'chão': 1,\n",
              "  'esparrama': 1,\n",
              "  'igual': 1,\n",
              "  'nasce': 1,\n",
              "  'pelo': 1,\n",
              "  'quando': 1},\n",
              " 'sentenca 2': {'A': 1,\n",
              "  'da': 1,\n",
              "  'experiência': 1,\n",
              "  'minha': 1,\n",
              "  'pior': 1,\n",
              "  'vida': 1},\n",
              " 'sentenca 3': {'Quero': 1,\n",
              "  'de': 1,\n",
              "  'dinheiro': 1,\n",
              "  'e': 1,\n",
              "  'meu': 3,\n",
              "  'pois': 1,\n",
              "  'volta': 1,\n",
              "  'é': 2},\n",
              " 'sentenca 4': {'A': 1,\n",
              "  'dinheiro': 1,\n",
              "  'do': 1,\n",
              "  'esparrama': 1,\n",
              "  'experiência': 1,\n",
              "  'minha': 1,\n",
              "  'vida': 1},\n",
              " 'sentenca 5': {'Acai': 1,\n",
              "  'a': 1,\n",
              "  'coisa': 1,\n",
              "  'da': 1,\n",
              "  'melhor': 1,\n",
              "  'vida': 1,\n",
              "  'é': 1}}"
            ]
          },
          "metadata": {},
          "execution_count": 3
        }
      ]
    },
    {
      "cell_type": "code",
      "source": [
        "bigram = {}\n",
        "\n",
        "for i,doc in enumerate(corpus):\n",
        "    bigram['sentenca {}'.format(i+1)] = dict()\n",
        "    tokens = doc.split()\n",
        "    for j in range(0,len(tokens)-1):\n",
        "        par = (tokens[j],tokens[j+1])\n",
        "        if par in bigram['sentenca {}'.format(i+1)]:\n",
        "            bigram['sentenca {}'.format(i+1)][par] += 1\n",
        "        else:\n",
        "            bigram['sentenca {}'.format(i+1)][par] = 1"
      ],
      "metadata": {
        "id": "_SzeFNa5AdVZ"
      },
      "execution_count": 7,
      "outputs": []
    },
    {
      "cell_type": "code",
      "source": [
        "bigram"
      ],
      "metadata": {
        "colab": {
          "base_uri": "https://localhost:8080/"
        },
        "id": "-5LvkyuPG64i",
        "outputId": "05d9a9fd-6859-4fdc-b089-7a7faa58b81c"
      },
      "execution_count": 10,
      "outputs": [
        {
          "output_type": "execute_result",
          "data": {
            "text/plain": [
              "{'sentenca 1': {('Batatinha', 'quando'): 1,\n",
              "  ('chão', 'igual'): 1,\n",
              "  ('esparrama', 'pelo'): 1,\n",
              "  ('igual', 'batatinha'): 1,\n",
              "  ('nasce', 'esparrama'): 1,\n",
              "  ('pelo', 'chão'): 1,\n",
              "  ('quando', 'nasce'): 1},\n",
              " 'sentenca 2': {('A', 'pior'): 1,\n",
              "  ('da', 'minha'): 1,\n",
              "  ('experiência', 'da'): 1,\n",
              "  ('minha', 'vida'): 1,\n",
              "  ('pior', 'experiência'): 1},\n",
              " 'sentenca 3': {('Quero', 'meu'): 1,\n",
              "  ('de', 'volta'): 1,\n",
              "  ('dinheiro', 'de'): 1,\n",
              "  ('e', 'é'): 1,\n",
              "  ('meu', 'dinheiro'): 1,\n",
              "  ('meu', 'e'): 1,\n",
              "  ('pois', 'é'): 1,\n",
              "  ('volta', 'pois'): 1,\n",
              "  ('é', 'meu'): 2},\n",
              " 'sentenca 4': {('A', 'experiência'): 1,\n",
              "  ('dinheiro', 'esparrama'): 1,\n",
              "  ('do', 'dinheiro'): 1,\n",
              "  ('esparrama', 'minha'): 1,\n",
              "  ('experiência', 'do'): 1,\n",
              "  ('minha', 'vida'): 1},\n",
              " 'sentenca 5': {('Acai', 'é'): 1,\n",
              "  ('a', 'melhor'): 1,\n",
              "  ('coisa', 'da'): 1,\n",
              "  ('da', 'vida'): 1,\n",
              "  ('melhor', 'coisa'): 1,\n",
              "  ('é', 'a'): 1}}"
            ]
          },
          "metadata": {},
          "execution_count": 10
        }
      ]
    },
    {
      "cell_type": "code",
      "source": [
        "histograma_bigram = {}\n",
        "histograma_unigram = {}"
      ],
      "metadata": {
        "id": "KqT2R1YkA81S"
      },
      "execution_count": 11,
      "outputs": []
    },
    {
      "cell_type": "code",
      "source": [
        "for doc in bigram:\n",
        "    for par in bigram[doc]:\n",
        "        if par in histograma_bigram:\n",
        "            histograma_bigram[par] += bigram[doc][par]\n",
        "        else:\n",
        "            histograma_bigram[par] = bigram[doc][par]"
      ],
      "metadata": {
        "id": "s-rAxgokGU0D"
      },
      "execution_count": 12,
      "outputs": []
    },
    {
      "cell_type": "code",
      "source": [
        "histograma_bigram"
      ],
      "metadata": {
        "colab": {
          "base_uri": "https://localhost:8080/"
        },
        "id": "O8UTi6ZSHbdw",
        "outputId": "5d058ab2-9a8f-4b5f-8c92-7beb2ff3ea04"
      },
      "execution_count": 13,
      "outputs": [
        {
          "output_type": "execute_result",
          "data": {
            "text/plain": [
              "{('A', 'experiência'): 1,\n",
              " ('A', 'pior'): 1,\n",
              " ('Acai', 'é'): 1,\n",
              " ('Batatinha', 'quando'): 1,\n",
              " ('Quero', 'meu'): 1,\n",
              " ('a', 'melhor'): 1,\n",
              " ('chão', 'igual'): 1,\n",
              " ('coisa', 'da'): 1,\n",
              " ('da', 'minha'): 1,\n",
              " ('da', 'vida'): 1,\n",
              " ('de', 'volta'): 1,\n",
              " ('dinheiro', 'de'): 1,\n",
              " ('dinheiro', 'esparrama'): 1,\n",
              " ('do', 'dinheiro'): 1,\n",
              " ('e', 'é'): 1,\n",
              " ('esparrama', 'minha'): 1,\n",
              " ('esparrama', 'pelo'): 1,\n",
              " ('experiência', 'da'): 1,\n",
              " ('experiência', 'do'): 1,\n",
              " ('igual', 'batatinha'): 1,\n",
              " ('melhor', 'coisa'): 1,\n",
              " ('meu', 'dinheiro'): 1,\n",
              " ('meu', 'e'): 1,\n",
              " ('minha', 'vida'): 2,\n",
              " ('nasce', 'esparrama'): 1,\n",
              " ('pelo', 'chão'): 1,\n",
              " ('pior', 'experiência'): 1,\n",
              " ('pois', 'é'): 1,\n",
              " ('quando', 'nasce'): 1,\n",
              " ('volta', 'pois'): 1,\n",
              " ('é', 'a'): 1,\n",
              " ('é', 'meu'): 2}"
            ]
          },
          "metadata": {},
          "execution_count": 13
        }
      ]
    },
    {
      "cell_type": "code",
      "source": [
        "for doc in unigram:\n",
        "    for par in unigram[doc]:\n",
        "        if par in histograma_unigram:\n",
        "            histograma_unigram[par] += unigram[doc][par]\n",
        "        else:\n",
        "            histograma_unigram[par] = unigram[doc][par]"
      ],
      "metadata": {
        "id": "aU6f-PqkHThN"
      },
      "execution_count": 14,
      "outputs": []
    },
    {
      "cell_type": "code",
      "source": [
        "histograma_unigram"
      ],
      "metadata": {
        "colab": {
          "base_uri": "https://localhost:8080/"
        },
        "id": "YCND2lUIHhmL",
        "outputId": "aa92afcb-1207-4e87-e6b7-119036f2998f"
      },
      "execution_count": 15,
      "outputs": [
        {
          "output_type": "execute_result",
          "data": {
            "text/plain": [
              "{'A': 2,\n",
              " 'Acai': 1,\n",
              " 'Batatinha': 1,\n",
              " 'Quero': 1,\n",
              " 'a': 1,\n",
              " 'batatinha': 1,\n",
              " 'chão': 1,\n",
              " 'coisa': 1,\n",
              " 'da': 2,\n",
              " 'de': 1,\n",
              " 'dinheiro': 2,\n",
              " 'do': 1,\n",
              " 'e': 1,\n",
              " 'esparrama': 2,\n",
              " 'experiência': 2,\n",
              " 'igual': 1,\n",
              " 'melhor': 1,\n",
              " 'meu': 3,\n",
              " 'minha': 2,\n",
              " 'nasce': 1,\n",
              " 'pelo': 1,\n",
              " 'pior': 1,\n",
              " 'pois': 1,\n",
              " 'quando': 1,\n",
              " 'vida': 3,\n",
              " 'volta': 1,\n",
              " 'é': 3}"
            ]
          },
          "metadata": {},
          "execution_count": 15
        }
      ]
    },
    {
      "cell_type": "code",
      "source": [
        "def prob(sentence):\n",
        "\n",
        "    tokens = sentence.split()\n",
        "\n",
        "    p = histograma_unigram[tokens[0]]/n\n",
        "\n",
        "    for i in range(0,len(tokens)-1):\n",
        "        # para casa: passar o log no produtório!\n",
        "        p = p*(histograma_bigram[(tokens[i+1],tokens[i])]/histograma_unigram[tokens[i]])\n",
        "    \n",
        "    return p"
      ],
      "metadata": {
        "id": "tQEsfE82Hv0k"
      },
      "execution_count": null,
      "outputs": []
    },
    {
      "cell_type": "markdown",
      "source": [
        "Sentença de teste"
      ],
      "metadata": {
        "id": "MFBVVaRvH1iD"
      }
    },
    {
      "cell_type": "code",
      "source": [
        "def P(\"batatinha frita\")"
      ],
      "metadata": {
        "id": "WI-OOXoUH2pR"
      },
      "execution_count": null,
      "outputs": []
    }
  ]
}