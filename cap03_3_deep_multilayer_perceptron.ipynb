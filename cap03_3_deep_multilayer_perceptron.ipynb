{
  "nbformat": 4,
  "nbformat_minor": 0,
  "metadata": {
    "colab": {
      "name": "Untitled14.ipynb",
      "provenance": [],
      "collapsed_sections": [],
      "authorship_tag": "ABX9TyM9y09LkaHMezBZoriMjqE7",
      "include_colab_link": true
    },
    "kernelspec": {
      "name": "python3",
      "display_name": "Python 3"
    },
    "language_info": {
      "name": "python"
    }
  },
  "cells": [
    {
      "cell_type": "markdown",
      "metadata": {
        "id": "view-in-github",
        "colab_type": "text"
      },
      "source": [
        "<a href=\"https://colab.research.google.com/github/viniciusrpb/cic0269_natural_language_processing/blob/main/cap03_3_deep_multilayer_perceptron.ipynb\" target=\"_parent\"><img src=\"https://colab.research.google.com/assets/colab-badge.svg\" alt=\"Open In Colab\"/></a>"
      ]
    },
    {
      "cell_type": "code",
      "execution_count": 1,
      "metadata": {
        "id": "8qesw4rNMsde"
      },
      "outputs": [],
      "source": [
        "#!pip install keras\n",
        "#!pip install tensorflow"
      ]
    },
    {
      "cell_type": "code",
      "source": [
        "import pandas as pd\n",
        "from keras.models import Sequential\n",
        "from keras.layers import Dense\n",
        "from sklearn.feature_extraction.text import TfidfVectorizer\n",
        "from tensorflow.keras.optimizers import SGD\n",
        "from keras.utils.np_utils import to_categorical\n",
        "import matplotlib.pyplot as plt"
      ],
      "metadata": {
        "id": "kLa3daEePeVT"
      },
      "execution_count": 2,
      "outputs": []
    },
    {
      "cell_type": "code",
      "source": [
        "path_train = 'https://raw.githubusercontent.com/viniciusrpb/cic0269_natural_language_processing/main/datasets/corpora/tweets_polarity_classification/twitter-2013train-A.txt'\n",
        "path_test = 'https://raw.githubusercontent.com/viniciusrpb/cic0269_natural_language_processing/main/datasets/corpora/tweets_polarity_classification/twitter-2013test-A.txt'\n",
        "path_valid = 'https://raw.githubusercontent.com/viniciusrpb/cic0269_natural_language_processing/main/datasets/corpora/tweets_polarity_classification/twitter-2013dev-A.txt'"
      ],
      "metadata": {
        "id": "kJ8N5yE_Nwm6"
      },
      "execution_count": 3,
      "outputs": []
    },
    {
      "cell_type": "code",
      "source": [
        "df_train = pd.read_csv(path_train,names=['id','polarity','text'],sep='\\t')\n",
        "df_valid = pd.read_csv(path_valid,names=['id','polarity','text'],sep='\\t')\n",
        "df_test = pd.read_csv(path_test,names=['id','polarity','text'],sep='\\t')"
      ],
      "metadata": {
        "id": "MWO6bS02PaeH"
      },
      "execution_count": 4,
      "outputs": []
    },
    {
      "cell_type": "code",
      "source": [
        "df_test"
      ],
      "metadata": {
        "colab": {
          "base_uri": "https://localhost:8080/",
          "height": 424
        },
        "id": "KEfJe3N5Pzpo",
        "outputId": "053540b5-217e-4381-b17b-552846317e32"
      },
      "execution_count": 5,
      "outputs": [
        {
          "output_type": "execute_result",
          "data": {
            "text/plain": [
              "                      id  polarity  \\\n",
              "0     264238274963451904  positive   \n",
              "1     218775148495515649  positive   \n",
              "2     258965201766998017   neutral   \n",
              "3     262926411352903682  negative   \n",
              "4     171874368908050432   neutral   \n",
              "...                  ...       ...   \n",
              "3542  264233437060288512  negative   \n",
              "3543  263779058284904448   neutral   \n",
              "3544  250744453831213056  negative   \n",
              "3545  258679974591090688  positive   \n",
              "3546  243018372453916674   neutral   \n",
              "\n",
              "                                                   text  \n",
              "0     @jjuueellzz down in the Atlantic city, ventnor...  \n",
              "1     Musical awareness: Great Big Beautiful Tomorro...  \n",
              "2     On Radio786 100.4fm 7:10 Fri Oct 19 Labour ana...  \n",
              "3     Kapan sih lo ngebuktiin,jan ngomong doang Susa...  \n",
              "4     Excuse the connectivity of this live stream, f...  \n",
              "...                                                 ...  \n",
              "3542  Khaleda Zia's present India visit may have a b...  \n",
              "3543  FYI, golf fans: @jameslepp will join Moj on We...  \n",
              "3544  @__Aniko you think mr.Calle let practice with ...  \n",
              "3545  Don't hide under your desk! It's just a salsa ...  \n",
              "3546  Saturday flashmob on the music of The Runaways...  \n",
              "\n",
              "[3547 rows x 3 columns]"
            ],
            "text/html": [
              "\n",
              "  <div id=\"df-4500bcb1-fc82-40b7-97a4-cfe350d99ee5\">\n",
              "    <div class=\"colab-df-container\">\n",
              "      <div>\n",
              "<style scoped>\n",
              "    .dataframe tbody tr th:only-of-type {\n",
              "        vertical-align: middle;\n",
              "    }\n",
              "\n",
              "    .dataframe tbody tr th {\n",
              "        vertical-align: top;\n",
              "    }\n",
              "\n",
              "    .dataframe thead th {\n",
              "        text-align: right;\n",
              "    }\n",
              "</style>\n",
              "<table border=\"1\" class=\"dataframe\">\n",
              "  <thead>\n",
              "    <tr style=\"text-align: right;\">\n",
              "      <th></th>\n",
              "      <th>id</th>\n",
              "      <th>polarity</th>\n",
              "      <th>text</th>\n",
              "    </tr>\n",
              "  </thead>\n",
              "  <tbody>\n",
              "    <tr>\n",
              "      <th>0</th>\n",
              "      <td>264238274963451904</td>\n",
              "      <td>positive</td>\n",
              "      <td>@jjuueellzz down in the Atlantic city, ventnor...</td>\n",
              "    </tr>\n",
              "    <tr>\n",
              "      <th>1</th>\n",
              "      <td>218775148495515649</td>\n",
              "      <td>positive</td>\n",
              "      <td>Musical awareness: Great Big Beautiful Tomorro...</td>\n",
              "    </tr>\n",
              "    <tr>\n",
              "      <th>2</th>\n",
              "      <td>258965201766998017</td>\n",
              "      <td>neutral</td>\n",
              "      <td>On Radio786 100.4fm 7:10 Fri Oct 19 Labour ana...</td>\n",
              "    </tr>\n",
              "    <tr>\n",
              "      <th>3</th>\n",
              "      <td>262926411352903682</td>\n",
              "      <td>negative</td>\n",
              "      <td>Kapan sih lo ngebuktiin,jan ngomong doang Susa...</td>\n",
              "    </tr>\n",
              "    <tr>\n",
              "      <th>4</th>\n",
              "      <td>171874368908050432</td>\n",
              "      <td>neutral</td>\n",
              "      <td>Excuse the connectivity of this live stream, f...</td>\n",
              "    </tr>\n",
              "    <tr>\n",
              "      <th>...</th>\n",
              "      <td>...</td>\n",
              "      <td>...</td>\n",
              "      <td>...</td>\n",
              "    </tr>\n",
              "    <tr>\n",
              "      <th>3542</th>\n",
              "      <td>264233437060288512</td>\n",
              "      <td>negative</td>\n",
              "      <td>Khaleda Zia's present India visit may have a b...</td>\n",
              "    </tr>\n",
              "    <tr>\n",
              "      <th>3543</th>\n",
              "      <td>263779058284904448</td>\n",
              "      <td>neutral</td>\n",
              "      <td>FYI, golf fans: @jameslepp will join Moj on We...</td>\n",
              "    </tr>\n",
              "    <tr>\n",
              "      <th>3544</th>\n",
              "      <td>250744453831213056</td>\n",
              "      <td>negative</td>\n",
              "      <td>@__Aniko you think mr.Calle let practice with ...</td>\n",
              "    </tr>\n",
              "    <tr>\n",
              "      <th>3545</th>\n",
              "      <td>258679974591090688</td>\n",
              "      <td>positive</td>\n",
              "      <td>Don't hide under your desk! It's just a salsa ...</td>\n",
              "    </tr>\n",
              "    <tr>\n",
              "      <th>3546</th>\n",
              "      <td>243018372453916674</td>\n",
              "      <td>neutral</td>\n",
              "      <td>Saturday flashmob on the music of The Runaways...</td>\n",
              "    </tr>\n",
              "  </tbody>\n",
              "</table>\n",
              "<p>3547 rows × 3 columns</p>\n",
              "</div>\n",
              "      <button class=\"colab-df-convert\" onclick=\"convertToInteractive('df-4500bcb1-fc82-40b7-97a4-cfe350d99ee5')\"\n",
              "              title=\"Convert this dataframe to an interactive table.\"\n",
              "              style=\"display:none;\">\n",
              "        \n",
              "  <svg xmlns=\"http://www.w3.org/2000/svg\" height=\"24px\"viewBox=\"0 0 24 24\"\n",
              "       width=\"24px\">\n",
              "    <path d=\"M0 0h24v24H0V0z\" fill=\"none\"/>\n",
              "    <path d=\"M18.56 5.44l.94 2.06.94-2.06 2.06-.94-2.06-.94-.94-2.06-.94 2.06-2.06.94zm-11 1L8.5 8.5l.94-2.06 2.06-.94-2.06-.94L8.5 2.5l-.94 2.06-2.06.94zm10 10l.94 2.06.94-2.06 2.06-.94-2.06-.94-.94-2.06-.94 2.06-2.06.94z\"/><path d=\"M17.41 7.96l-1.37-1.37c-.4-.4-.92-.59-1.43-.59-.52 0-1.04.2-1.43.59L10.3 9.45l-7.72 7.72c-.78.78-.78 2.05 0 2.83L4 21.41c.39.39.9.59 1.41.59.51 0 1.02-.2 1.41-.59l7.78-7.78 2.81-2.81c.8-.78.8-2.07 0-2.86zM5.41 20L4 18.59l7.72-7.72 1.47 1.35L5.41 20z\"/>\n",
              "  </svg>\n",
              "      </button>\n",
              "      \n",
              "  <style>\n",
              "    .colab-df-container {\n",
              "      display:flex;\n",
              "      flex-wrap:wrap;\n",
              "      gap: 12px;\n",
              "    }\n",
              "\n",
              "    .colab-df-convert {\n",
              "      background-color: #E8F0FE;\n",
              "      border: none;\n",
              "      border-radius: 50%;\n",
              "      cursor: pointer;\n",
              "      display: none;\n",
              "      fill: #1967D2;\n",
              "      height: 32px;\n",
              "      padding: 0 0 0 0;\n",
              "      width: 32px;\n",
              "    }\n",
              "\n",
              "    .colab-df-convert:hover {\n",
              "      background-color: #E2EBFA;\n",
              "      box-shadow: 0px 1px 2px rgba(60, 64, 67, 0.3), 0px 1px 3px 1px rgba(60, 64, 67, 0.15);\n",
              "      fill: #174EA6;\n",
              "    }\n",
              "\n",
              "    [theme=dark] .colab-df-convert {\n",
              "      background-color: #3B4455;\n",
              "      fill: #D2E3FC;\n",
              "    }\n",
              "\n",
              "    [theme=dark] .colab-df-convert:hover {\n",
              "      background-color: #434B5C;\n",
              "      box-shadow: 0px 1px 3px 1px rgba(0, 0, 0, 0.15);\n",
              "      filter: drop-shadow(0px 1px 2px rgba(0, 0, 0, 0.3));\n",
              "      fill: #FFFFFF;\n",
              "    }\n",
              "  </style>\n",
              "\n",
              "      <script>\n",
              "        const buttonEl =\n",
              "          document.querySelector('#df-4500bcb1-fc82-40b7-97a4-cfe350d99ee5 button.colab-df-convert');\n",
              "        buttonEl.style.display =\n",
              "          google.colab.kernel.accessAllowed ? 'block' : 'none';\n",
              "\n",
              "        async function convertToInteractive(key) {\n",
              "          const element = document.querySelector('#df-4500bcb1-fc82-40b7-97a4-cfe350d99ee5');\n",
              "          const dataTable =\n",
              "            await google.colab.kernel.invokeFunction('convertToInteractive',\n",
              "                                                     [key], {});\n",
              "          if (!dataTable) return;\n",
              "\n",
              "          const docLinkHtml = 'Like what you see? Visit the ' +\n",
              "            '<a target=\"_blank\" href=https://colab.research.google.com/notebooks/data_table.ipynb>data table notebook</a>'\n",
              "            + ' to learn more about interactive tables.';\n",
              "          element.innerHTML = '';\n",
              "          dataTable['output_type'] = 'display_data';\n",
              "          await google.colab.output.renderOutput(dataTable, element);\n",
              "          const docLink = document.createElement('div');\n",
              "          docLink.innerHTML = docLinkHtml;\n",
              "          element.appendChild(docLink);\n",
              "        }\n",
              "      </script>\n",
              "    </div>\n",
              "  </div>\n",
              "  "
            ]
          },
          "metadata": {},
          "execution_count": 5
        }
      ]
    },
    {
      "cell_type": "code",
      "source": [
        "print(f'Train size {df_train.shape}')\n",
        "print(f'Valid size {df_valid.shape}')\n",
        "print(f'Test size {df_test.shape}')"
      ],
      "metadata": {
        "colab": {
          "base_uri": "https://localhost:8080/"
        },
        "id": "DSwe3wvLP_xb",
        "outputId": "04bfc3db-dc92-4cda-cf90-26e8fdf32db1"
      },
      "execution_count": 6,
      "outputs": [
        {
          "output_type": "stream",
          "name": "stdout",
          "text": [
            "Train size (9684, 3)\n",
            "Valid size (1654, 3)\n",
            "Test size (3547, 3)\n"
          ]
        }
      ]
    },
    {
      "cell_type": "code",
      "source": [
        "df_train = df_train.drop(labels=['id'],axis=1)\n",
        "df_valid = df_valid.drop(labels=['id'],axis=1)\n",
        "df_test = df_test.drop(labels=['id'],axis=1)"
      ],
      "metadata": {
        "id": "JEEwUpt-Qa-o"
      },
      "execution_count": 7,
      "outputs": []
    },
    {
      "cell_type": "code",
      "source": [
        "vectorizer = TfidfVectorizer(norm=None,lowercase=True,stop_words=\"english\",max_df=0.95,min_df=2)\n",
        "\n",
        "vectorizer.fit(df_train['text'])\n",
        "\n",
        "tfidf_train = vectorizer.transform(df_train['text']).toarray()\n",
        "tfidf_valid = vectorizer.transform(df_valid['text']).toarray()\n",
        "tfidf_test = vectorizer.transform(df_test['text']).toarray()"
      ],
      "metadata": {
        "id": "dbtaZnFlRA8l"
      },
      "execution_count": 8,
      "outputs": []
    },
    {
      "cell_type": "code",
      "source": [
        "df_train['polarity'] = pd.Categorical(df_train['polarity'])\n",
        "y_train_int = df_train['polarity'].cat.codes\n",
        "\n",
        "df_valid['polarity'] = pd.Categorical(df_valid['polarity'])\n",
        "y_valid_int = df_valid['polarity'].cat.codes\n",
        "\n",
        "df_test['polarity'] = pd.Categorical(df_test['polarity'])\n",
        "y_test_int = df_test['polarity'].cat.codes"
      ],
      "metadata": {
        "id": "BrT8ydnGb4Eq"
      },
      "execution_count": 17,
      "outputs": []
    },
    {
      "cell_type": "code",
      "source": [
        "y_train = to_categorical(y_train_int)\n",
        "y_valid = to_categorical(y_valid_int)\n",
        "y_test = to_categorical(y_test_int)"
      ],
      "metadata": {
        "id": "V4Wd20UQdP9z"
      },
      "execution_count": 18,
      "outputs": []
    },
    {
      "cell_type": "code",
      "source": [
        ""
      ],
      "metadata": {
        "id": "9jjAj7fSdyP1"
      },
      "execution_count": 10,
      "outputs": []
    },
    {
      "cell_type": "code",
      "source": [
        "X_train = tfidf_train\n",
        "X_valid = tfidf_valid\n",
        "X_test = tfidf_test"
      ],
      "metadata": {
        "id": "7jC6GyCRbplq"
      },
      "execution_count": 19,
      "outputs": []
    },
    {
      "cell_type": "code",
      "source": [
        "N = tfidf_train.shape[0]\n",
        "vocab_size = tfidf_train.shape[1]\n",
        "print(f'Quantidade de instancias de treinamento {N} e tamanho do vocabulario {vocab_size}')"
      ],
      "metadata": {
        "colab": {
          "base_uri": "https://localhost:8080/"
        },
        "id": "vKP6m6AsXsql",
        "outputId": "ce0b42ce-7f9e-4f02-b6bf-e24bc644f1a9"
      },
      "execution_count": 20,
      "outputs": [
        {
          "output_type": "stream",
          "name": "stdout",
          "text": [
            "Quantidade de instancias de treinamento 9684 e tamanho do vocabulario 7654\n"
          ]
        }
      ]
    },
    {
      "cell_type": "markdown",
      "source": [
        "Arquitetura da Rede Multilayer Perceptron Profunda"
      ],
      "metadata": {
        "id": "8ZBTwtGUR7oW"
      }
    },
    {
      "cell_type": "markdown",
      "source": [
        "Hyperparâmetros da rede"
      ],
      "metadata": {
        "id": "opRBBhsCTuiL"
      }
    },
    {
      "cell_type": "code",
      "source": [
        "number_of_neurons_layer1 = 20\n",
        "number_of_neurons_layer2 = 10\n",
        "number_of_neurons_output = 3\n",
        "lr = 0.01"
      ],
      "metadata": {
        "id": "knTDnztUTtyW"
      },
      "execution_count": 41,
      "outputs": []
    },
    {
      "cell_type": "code",
      "source": [
        "model = Sequential()\n",
        "# Input Layer\n",
        "model.add(Dense(number_of_neurons_layer1,input_dim=vocab_size,activation='sigmoid'))\n",
        "model.add(Dense(number_of_neurons_layer2,activation='sigmoid'))\n",
        "model.add(Dense(number_of_neurons_output,activation='softmax'))\n",
        "model.summary()"
      ],
      "metadata": {
        "colab": {
          "base_uri": "https://localhost:8080/"
        },
        "id": "lFnqMSwQR-C9",
        "outputId": "53d4bfec-63f9-4461-9c4b-88c1cb2e4be6"
      },
      "execution_count": 42,
      "outputs": [
        {
          "output_type": "stream",
          "name": "stdout",
          "text": [
            "Model: \"sequential_5\"\n",
            "_________________________________________________________________\n",
            " Layer (type)                Output Shape              Param #   \n",
            "=================================================================\n",
            " dense_15 (Dense)            (None, 20)                153100    \n",
            "                                                                 \n",
            " dense_16 (Dense)            (None, 10)                210       \n",
            "                                                                 \n",
            " dense_17 (Dense)            (None, 3)                 33        \n",
            "                                                                 \n",
            "=================================================================\n",
            "Total params: 153,343\n",
            "Trainable params: 153,343\n",
            "Non-trainable params: 0\n",
            "_________________________________________________________________\n"
          ]
        }
      ]
    },
    {
      "cell_type": "code",
      "source": [
        "sgd = SGD(learning_rate=lr)\n",
        "model.compile(optimizer=sgd,loss='categorical_crossentropy',metrics=['accuracy'])"
      ],
      "metadata": {
        "id": "NVCoUJfAZ21I"
      },
      "execution_count": 43,
      "outputs": []
    },
    {
      "cell_type": "code",
      "source": [
        "history = model.fit(X_train,y_train,validation_data=(X_valid,y_valid),epochs=50)"
      ],
      "metadata": {
        "colab": {
          "base_uri": "https://localhost:8080/"
        },
        "id": "6f4dinSJbXft",
        "outputId": "2c461988-494c-4585-abbb-26c33eaa90dc"
      },
      "execution_count": 44,
      "outputs": [
        {
          "output_type": "stream",
          "name": "stdout",
          "text": [
            "Epoch 1/50\n",
            "303/303 [==============================] - 3s 7ms/step - loss: 1.0475 - accuracy: 0.4394 - val_loss: 1.0580 - val_accuracy: 0.4468\n",
            "Epoch 2/50\n",
            "303/303 [==============================] - 2s 6ms/step - loss: 1.0033 - accuracy: 0.4736 - val_loss: 1.0612 - val_accuracy: 0.4468\n",
            "Epoch 3/50\n",
            "303/303 [==============================] - 2s 6ms/step - loss: 1.0003 - accuracy: 0.4736 - val_loss: 1.0582 - val_accuracy: 0.4468\n",
            "Epoch 4/50\n",
            "303/303 [==============================] - 2s 6ms/step - loss: 0.9973 - accuracy: 0.4736 - val_loss: 1.0556 - val_accuracy: 0.4468\n",
            "Epoch 5/50\n",
            "303/303 [==============================] - 2s 6ms/step - loss: 0.9940 - accuracy: 0.4740 - val_loss: 1.0540 - val_accuracy: 0.4468\n",
            "Epoch 6/50\n",
            "303/303 [==============================] - 2s 6ms/step - loss: 0.9904 - accuracy: 0.4754 - val_loss: 1.0511 - val_accuracy: 0.4504\n",
            "Epoch 7/50\n",
            "303/303 [==============================] - 2s 7ms/step - loss: 0.9861 - accuracy: 0.4832 - val_loss: 1.0472 - val_accuracy: 0.4510\n",
            "Epoch 8/50\n",
            "303/303 [==============================] - 2s 7ms/step - loss: 0.9815 - accuracy: 0.4893 - val_loss: 1.0437 - val_accuracy: 0.4595\n",
            "Epoch 9/50\n",
            "303/303 [==============================] - 2s 6ms/step - loss: 0.9759 - accuracy: 0.5052 - val_loss: 1.0408 - val_accuracy: 0.4716\n",
            "Epoch 10/50\n",
            "303/303 [==============================] - 2s 6ms/step - loss: 0.9695 - accuracy: 0.5236 - val_loss: 1.0367 - val_accuracy: 0.4921\n",
            "Epoch 11/50\n",
            "303/303 [==============================] - 2s 6ms/step - loss: 0.9618 - accuracy: 0.5455 - val_loss: 1.0299 - val_accuracy: 0.5266\n",
            "Epoch 12/50\n",
            "303/303 [==============================] - 2s 6ms/step - loss: 0.9530 - accuracy: 0.5769 - val_loss: 1.0242 - val_accuracy: 0.5429\n",
            "Epoch 13/50\n",
            "303/303 [==============================] - 2s 6ms/step - loss: 0.9425 - accuracy: 0.6002 - val_loss: 1.0196 - val_accuracy: 0.5484\n",
            "Epoch 14/50\n",
            "303/303 [==============================] - 2s 7ms/step - loss: 0.9308 - accuracy: 0.6178 - val_loss: 1.0089 - val_accuracy: 0.5568\n",
            "Epoch 15/50\n",
            "303/303 [==============================] - 2s 6ms/step - loss: 0.9170 - accuracy: 0.6308 - val_loss: 0.9991 - val_accuracy: 0.5635\n",
            "Epoch 16/50\n",
            "303/303 [==============================] - 2s 6ms/step - loss: 0.9018 - accuracy: 0.6422 - val_loss: 0.9899 - val_accuracy: 0.5719\n",
            "Epoch 17/50\n",
            "303/303 [==============================] - 2s 7ms/step - loss: 0.8851 - accuracy: 0.6560 - val_loss: 0.9802 - val_accuracy: 0.5762\n",
            "Epoch 18/50\n",
            "303/303 [==============================] - 2s 6ms/step - loss: 0.8673 - accuracy: 0.6627 - val_loss: 0.9682 - val_accuracy: 0.5798\n",
            "Epoch 19/50\n",
            "303/303 [==============================] - 2s 6ms/step - loss: 0.8487 - accuracy: 0.6738 - val_loss: 0.9561 - val_accuracy: 0.5822\n",
            "Epoch 20/50\n",
            "303/303 [==============================] - 2s 6ms/step - loss: 0.8296 - accuracy: 0.6783 - val_loss: 0.9449 - val_accuracy: 0.5846\n",
            "Epoch 21/50\n",
            "303/303 [==============================] - 2s 6ms/step - loss: 0.8102 - accuracy: 0.6879 - val_loss: 0.9353 - val_accuracy: 0.5852\n",
            "Epoch 22/50\n",
            "303/303 [==============================] - 2s 6ms/step - loss: 0.7909 - accuracy: 0.6938 - val_loss: 0.9241 - val_accuracy: 0.5877\n",
            "Epoch 23/50\n",
            "303/303 [==============================] - 2s 6ms/step - loss: 0.7720 - accuracy: 0.6979 - val_loss: 0.9157 - val_accuracy: 0.5895\n",
            "Epoch 24/50\n",
            "303/303 [==============================] - 2s 6ms/step - loss: 0.7533 - accuracy: 0.7051 - val_loss: 0.9080 - val_accuracy: 0.5931\n",
            "Epoch 25/50\n",
            "303/303 [==============================] - 2s 6ms/step - loss: 0.7349 - accuracy: 0.7123 - val_loss: 0.8995 - val_accuracy: 0.5985\n",
            "Epoch 26/50\n",
            "303/303 [==============================] - 2s 6ms/step - loss: 0.7170 - accuracy: 0.7166 - val_loss: 0.8912 - val_accuracy: 0.5985\n",
            "Epoch 27/50\n",
            "303/303 [==============================] - 2s 6ms/step - loss: 0.6995 - accuracy: 0.7240 - val_loss: 0.8875 - val_accuracy: 0.5979\n",
            "Epoch 28/50\n",
            "303/303 [==============================] - 2s 6ms/step - loss: 0.6823 - accuracy: 0.7281 - val_loss: 0.8805 - val_accuracy: 0.6004\n",
            "Epoch 29/50\n",
            "303/303 [==============================] - 2s 7ms/step - loss: 0.6653 - accuracy: 0.7345 - val_loss: 0.8755 - val_accuracy: 0.6034\n",
            "Epoch 30/50\n",
            "303/303 [==============================] - 2s 6ms/step - loss: 0.6484 - accuracy: 0.7406 - val_loss: 0.8726 - val_accuracy: 0.6010\n",
            "Epoch 31/50\n",
            "303/303 [==============================] - 2s 6ms/step - loss: 0.6319 - accuracy: 0.7462 - val_loss: 0.8688 - val_accuracy: 0.6094\n",
            "Epoch 32/50\n",
            "303/303 [==============================] - 2s 6ms/step - loss: 0.6155 - accuracy: 0.7530 - val_loss: 0.8665 - val_accuracy: 0.6137\n",
            "Epoch 33/50\n",
            "303/303 [==============================] - 2s 6ms/step - loss: 0.5991 - accuracy: 0.7604 - val_loss: 0.8618 - val_accuracy: 0.6155\n",
            "Epoch 34/50\n",
            "303/303 [==============================] - 2s 6ms/step - loss: 0.5832 - accuracy: 0.7678 - val_loss: 0.8603 - val_accuracy: 0.6161\n",
            "Epoch 35/50\n",
            "303/303 [==============================] - 2s 6ms/step - loss: 0.5673 - accuracy: 0.7751 - val_loss: 0.8611 - val_accuracy: 0.6197\n",
            "Epoch 36/50\n",
            "303/303 [==============================] - 2s 6ms/step - loss: 0.5517 - accuracy: 0.7814 - val_loss: 0.8609 - val_accuracy: 0.6215\n",
            "Epoch 37/50\n",
            "303/303 [==============================] - 2s 6ms/step - loss: 0.5362 - accuracy: 0.7899 - val_loss: 0.8593 - val_accuracy: 0.6252\n",
            "Epoch 38/50\n",
            "303/303 [==============================] - 2s 6ms/step - loss: 0.5209 - accuracy: 0.7970 - val_loss: 0.8630 - val_accuracy: 0.6221\n",
            "Epoch 39/50\n",
            "303/303 [==============================] - 2s 6ms/step - loss: 0.5059 - accuracy: 0.8053 - val_loss: 0.8618 - val_accuracy: 0.6227\n",
            "Epoch 40/50\n",
            "303/303 [==============================] - 2s 6ms/step - loss: 0.4911 - accuracy: 0.8127 - val_loss: 0.8653 - val_accuracy: 0.6203\n",
            "Epoch 41/50\n",
            "303/303 [==============================] - 2s 6ms/step - loss: 0.4767 - accuracy: 0.8211 - val_loss: 0.8678 - val_accuracy: 0.6215\n",
            "Epoch 42/50\n",
            "303/303 [==============================] - 2s 6ms/step - loss: 0.4624 - accuracy: 0.8287 - val_loss: 0.8738 - val_accuracy: 0.6233\n",
            "Epoch 43/50\n",
            "303/303 [==============================] - 2s 6ms/step - loss: 0.4485 - accuracy: 0.8369 - val_loss: 0.8770 - val_accuracy: 0.6258\n",
            "Epoch 44/50\n",
            "303/303 [==============================] - 2s 6ms/step - loss: 0.4349 - accuracy: 0.8435 - val_loss: 0.8834 - val_accuracy: 0.6233\n",
            "Epoch 45/50\n",
            "303/303 [==============================] - 2s 6ms/step - loss: 0.4213 - accuracy: 0.8512 - val_loss: 0.8866 - val_accuracy: 0.6221\n",
            "Epoch 46/50\n",
            "303/303 [==============================] - 2s 6ms/step - loss: 0.4084 - accuracy: 0.8569 - val_loss: 0.8911 - val_accuracy: 0.6233\n",
            "Epoch 47/50\n",
            "303/303 [==============================] - 2s 6ms/step - loss: 0.3957 - accuracy: 0.8620 - val_loss: 0.8966 - val_accuracy: 0.6264\n",
            "Epoch 48/50\n",
            "303/303 [==============================] - 2s 6ms/step - loss: 0.3833 - accuracy: 0.8680 - val_loss: 0.9048 - val_accuracy: 0.6245\n",
            "Epoch 49/50\n",
            "303/303 [==============================] - 2s 7ms/step - loss: 0.3711 - accuracy: 0.8751 - val_loss: 0.9100 - val_accuracy: 0.6233\n",
            "Epoch 50/50\n",
            "303/303 [==============================] - 2s 6ms/step - loss: 0.3594 - accuracy: 0.8798 - val_loss: 0.9229 - val_accuracy: 0.6239\n"
          ]
        }
      ]
    },
    {
      "cell_type": "code",
      "source": [
        "plt.plot(history.history['loss'])\n",
        "plt.plot(history.history['val_loss'])\n",
        "plt.title('Model loss')\n",
        "plt.ylabel('Loss')\n",
        "plt.xlabel('Epoch')\n",
        "plt.legend(['Train', 'Validation'], loc='upper left')\n",
        "plt.show()"
      ],
      "metadata": {
        "colab": {
          "base_uri": "https://localhost:8080/",
          "height": 295
        },
        "id": "OJHj7NfRfJrS",
        "outputId": "0821ed58-f83f-436e-bbd1-9eed88e839f9"
      },
      "execution_count": 45,
      "outputs": [
        {
          "output_type": "display_data",
          "data": {
            "text/plain": [
              "<Figure size 432x288 with 1 Axes>"
            ],
            "image/png": "[encoded data removed]"
          },
          "metadata": {
            "needs_background": "light"
          }
        }
      ]
    },
    {
      "cell_type": "code",
      "source": [
        "plt.plot(history.history['accuracy'])\n",
        "plt.plot(history.history['val_accuracy'])\n",
        "plt.title('Model acc')\n",
        "plt.ylabel('Accuracy')\n",
        "plt.xlabel('Epoch')\n",
        "plt.legend(['Train', 'Validation'], loc='upper left')\n",
        "plt.show()"
      ],
      "metadata": {
        "colab": {
          "base_uri": "https://localhost:8080/",
          "height": 295
        },
        "id": "cUKzQDzCgdVX",
        "outputId": "93793ab2-50a8-4419-ac19-22900d0ac2c7"
      },
      "execution_count": 46,
      "outputs": [
        {
          "output_type": "display_data",
          "data": {
            "text/plain": [
              "<Figure size 432x288 with 1 Axes>"
            ],
            "image/png": "[encoded data removed]"
          },
          "metadata": {
            "needs_background": "light"
          }
        }
      ]
    },
    {
      "cell_type": "markdown",
      "source": [
        "Avaliação com os Dados de Teste"
      ],
      "metadata": {
        "id": "QP7yxTEPg1Nv"
      }
    },
    {
      "cell_type": "code",
      "source": [
        "y = model.evaluate(X_test,y_test)"
      ],
      "metadata": {
        "colab": {
          "base_uri": "https://localhost:8080/"
        },
        "id": "yM-hXxVtg4J2",
        "outputId": "32fbc641-5c27-482d-8dbb-bdf7e48b5c67"
      },
      "execution_count": 47,
      "outputs": [
        {
          "output_type": "stream",
          "name": "stdout",
          "text": [
            "111/111 [==============================] - 0s 3ms/step - loss: 0.9208 - accuracy: 0.6417\n"
          ]
        }
      ]
    },
    {
      "cell_type": "code",
      "source": [
        "import numpy as np\n",
        "y_prob = model.predict(X_test)\n",
        "y_prob"
      ],
      "metadata": {
        "colab": {
          "base_uri": "https://localhost:8080/"
        },
        "id": "u42IOHfzlCnM",
        "outputId": "6fefca5a-7f4b-4349-9102-ecb69486a333"
      },
      "execution_count": 55,
      "outputs": [
        {
          "output_type": "execute_result",
          "data": {
            "text/plain": [
              "array([[0.17074671, 0.44691294, 0.8585702 ],\n",
              "       [0.2094191 , 0.139247  , 0.94845414],\n",
              "       [0.3438528 , 0.9153207 , 0.3249991 ],\n",
              "       ...,\n",
              "       [0.41042435, 0.709682  , 0.53452444],\n",
              "       [0.38839334, 0.18037426, 0.8866572 ],\n",
              "       [0.35963285, 0.69613624, 0.60424256]], dtype=float32)"
            ]
          },
          "metadata": {},
          "execution_count": 55
        }
      ]
    },
    {
      "cell_type": "code",
      "source": [
        "y_pred = np.argmax(y_prob,axis=1)\n",
        "y_pred"
      ],
      "metadata": {
        "colab": {
          "base_uri": "https://localhost:8080/"
        },
        "id": "zJDx8GlRlyPz",
        "outputId": "08ecbcfb-ba14-4462-ece3-f60afd4152e1"
      },
      "execution_count": 56,
      "outputs": [
        {
          "output_type": "execute_result",
          "data": {
            "text/plain": [
              "array([2, 2, 1, ..., 1, 2, 1])"
            ]
          },
          "metadata": {},
          "execution_count": 56
        }
      ]
    },
    {
      "cell_type": "code",
      "source": [
        "y_test_int"
      ],
      "metadata": {
        "colab": {
          "base_uri": "https://localhost:8080/"
        },
        "id": "yTsaRqgVllE3",
        "outputId": "2bc450e4-ab6a-4898-c854-999695d64d8d"
      },
      "execution_count": 54,
      "outputs": [
        {
          "output_type": "execute_result",
          "data": {
            "text/plain": [
              "0       2\n",
              "1       2\n",
              "2       1\n",
              "3       0\n",
              "4       1\n",
              "       ..\n",
              "3542    0\n",
              "3543    1\n",
              "3544    0\n",
              "3545    2\n",
              "3546    1\n",
              "Length: 3547, dtype: int8"
            ]
          },
          "metadata": {},
          "execution_count": 54
        }
      ]
    }
  ]
}