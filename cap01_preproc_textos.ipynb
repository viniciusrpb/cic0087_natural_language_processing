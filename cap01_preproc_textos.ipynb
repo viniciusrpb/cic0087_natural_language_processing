{
  "cells": [
    {
      "cell_type": "markdown",
      "metadata": {
        "id": "view-in-github",
        "colab_type": "text"
      },
      "source": [
        "<a href=\"https://colab.research.google.com/github/viniciusrpb/cic0087_naturallanguageprocessing/blob/main/cap01_preproc_textos.ipynb\" target=\"_parent\"><img src=\"https://colab.research.google.com/assets/colab-badge.svg\" alt=\"Open In Colab\"/></a>"
      ]
    },
    {
      "cell_type": "markdown",
      "metadata": {
        "id": "UK--7wLKeZ0J"
      },
      "source": [
        "# Pré-processamento de textos"
      ]
    },
    {
      "cell_type": "markdown",
      "metadata": {
        "id": "JStfbv43ee4J"
      },
      "source": [
        "Esse notebook se propõe a ser um tutorial breve sobre pré-processamento de textos. Será usada uma base de dados sobre análise de sentimento em português, que está disponível em https://www.kaggle.com/fredericods/ptbr-sentiment-analysis-datasets. Especificamente, vamos utilizar apenas o arquivo `olist.csv`."
      ]
    },
    {
      "cell_type": "markdown",
      "metadata": {
        "id": "MlMGprPtoXcm"
      },
      "source": [
        "### Porque é importante pré-processar textos?\n",
        "\n",
        "- O texto original pode conter caracteres, palavras ou frases\n",
        "irrelevantes para a análise;\n",
        "- Um termo pode estar presente em um documento sob\n",
        "diferentes formas."
      ]
    },
    {
      "cell_type": "code",
      "execution_count": null,
      "metadata": {
        "id": "PoRDypGdZ4e_"
      },
      "outputs": [],
      "source": [
        "import pandas as pd\n",
        "import numpy as np"
      ]
    },
    {
      "cell_type": "code",
      "execution_count": null,
      "metadata": {
        "colab": {
          "base_uri": "https://localhost:8080/"
        },
        "id": "lCTVAiveofXG",
        "outputId": "ea3e20fd-21d8-43f1-fe32-26e5bce67063"
      },
      "outputs": [
        {
          "output_type": "stream",
          "name": "stdout",
          "text": [
            "Mounted at /content/drive\n"
          ]
        }
      ],
      "source": [
        "from google.colab import drive\n",
        "drive.mount('/content/drive')"
      ]
    },
    {
      "cell_type": "code",
      "execution_count": null,
      "metadata": {
        "id": "QcTpfjJZhUqE"
      },
      "outputs": [],
      "source": [
        "df_original = pd.read_csv('/content/drive/MyDrive/tutoriais_tac/olist.csv')"
      ]
    },
    {
      "cell_type": "code",
      "execution_count": null,
      "metadata": {
        "colab": {
          "base_uri": "https://localhost:8080/",
          "height": 818
        },
        "id": "Nu7fHuhwjC_G",
        "outputId": "9acd7b27-05e2-4c80-ce02-aeed6730ff80"
      },
      "outputs": [
        {
          "output_type": "execute_result",
          "data": {
            "text/html": [
              "\n",
              "  <div id=\"df-bd04a6e2-72b1-4040-9c44-975f6ca5aec7\">\n",
              "    <div class=\"colab-df-container\">\n",
              "      <div>\n",
              "<style scoped>\n",
              "    .dataframe tbody tr th:only-of-type {\n",
              "        vertical-align: middle;\n",
              "    }\n",
              "\n",
              "    .dataframe tbody tr th {\n",
              "        vertical-align: top;\n",
              "    }\n",
              "\n",
              "    .dataframe thead th {\n",
              "        text-align: right;\n",
              "    }\n",
              "</style>\n",
              "<table border=\"1\" class=\"dataframe\">\n",
              "  <thead>\n",
              "    <tr style=\"text-align: right;\">\n",
              "      <th></th>\n",
              "      <th>original_index</th>\n",
              "      <th>review_text</th>\n",
              "      <th>review_text_processed</th>\n",
              "      <th>review_text_tokenized</th>\n",
              "      <th>polarity</th>\n",
              "      <th>rating</th>\n",
              "      <th>kfold_polarity</th>\n",
              "      <th>kfold_rating</th>\n",
              "    </tr>\n",
              "  </thead>\n",
              "  <tbody>\n",
              "    <tr>\n",
              "      <th>0</th>\n",
              "      <td>97262</td>\n",
              "      <td>Perfeito....chegou antes do prazo.....</td>\n",
              "      <td>perfeito....chegou antes do prazo.....</td>\n",
              "      <td>['perfeito', 'chegou', 'antes', 'do', 'prazo']</td>\n",
              "      <td>1.0</td>\n",
              "      <td>5</td>\n",
              "      <td>1</td>\n",
              "      <td>1</td>\n",
              "    </tr>\n",
              "    <tr>\n",
              "      <th>1</th>\n",
              "      <td>72931</td>\n",
              "      <td>Foi uma ótima compra! Chegou antes mesmo do pr...</td>\n",
              "      <td>foi uma otima compra! chegou antes mesmo do pr...</td>\n",
              "      <td>['foi', 'uma', 'otima', 'compra', 'chegou', 'a...</td>\n",
              "      <td>1.0</td>\n",
              "      <td>5</td>\n",
              "      <td>1</td>\n",
              "      <td>1</td>\n",
              "    </tr>\n",
              "    <tr>\n",
              "      <th>2</th>\n",
              "      <td>19659</td>\n",
              "      <td>Recebi muito rapido e um otimo custo beneficio</td>\n",
              "      <td>recebi muito rapido e um otimo custo beneficio</td>\n",
              "      <td>['recebi', 'muito', 'rapido', 'um', 'otimo', '...</td>\n",
              "      <td>1.0</td>\n",
              "      <td>5</td>\n",
              "      <td>1</td>\n",
              "      <td>1</td>\n",
              "    </tr>\n",
              "    <tr>\n",
              "      <th>3</th>\n",
              "      <td>43054</td>\n",
              "      <td>Recomendo</td>\n",
              "      <td>recomendo</td>\n",
              "      <td>['recomendo']</td>\n",
              "      <td>1.0</td>\n",
              "      <td>5</td>\n",
              "      <td>1</td>\n",
              "      <td>1</td>\n",
              "    </tr>\n",
              "    <tr>\n",
              "      <th>4</th>\n",
              "      <td>59202</td>\n",
              "      <td>Só veio uma capa comprei 3 aí paguei. Mais de ...</td>\n",
              "      <td>so veio uma capa comprei 3 ai paguei. mais de ...</td>\n",
              "      <td>['so', 'veio', 'uma', 'capa', 'comprei', 'ai',...</td>\n",
              "      <td>0.0</td>\n",
              "      <td>1</td>\n",
              "      <td>1</td>\n",
              "      <td>1</td>\n",
              "    </tr>\n",
              "    <tr>\n",
              "      <th>...</th>\n",
              "      <td>...</td>\n",
              "      <td>...</td>\n",
              "      <td>...</td>\n",
              "      <td>...</td>\n",
              "      <td>...</td>\n",
              "      <td>...</td>\n",
              "      <td>...</td>\n",
              "      <td>...</td>\n",
              "    </tr>\n",
              "    <tr>\n",
              "      <th>41739</th>\n",
              "      <td>49725</td>\n",
              "      <td>SUCESSO :D</td>\n",
              "      <td>sucesso :d</td>\n",
              "      <td>['sucesso']</td>\n",
              "      <td>1.0</td>\n",
              "      <td>5</td>\n",
              "      <td>10</td>\n",
              "      <td>10</td>\n",
              "    </tr>\n",
              "    <tr>\n",
              "      <th>41740</th>\n",
              "      <td>76794</td>\n",
              "      <td>Tudo OK. Produto entregue no prazo correto.</td>\n",
              "      <td>tudo ok. produto entregue no prazo correto.</td>\n",
              "      <td>['tudo', 'ok', 'produto', 'entregue', 'no', 'p...</td>\n",
              "      <td>1.0</td>\n",
              "      <td>5</td>\n",
              "      <td>10</td>\n",
              "      <td>10</td>\n",
              "    </tr>\n",
              "    <tr>\n",
              "      <th>41741</th>\n",
              "      <td>72847</td>\n",
              "      <td>Ultimamente estão atrasando muito as entregas</td>\n",
              "      <td>ultimamente estao atrasando muito as entregas</td>\n",
              "      <td>['ultimamente', 'estao', 'atrasando', 'muito',...</td>\n",
              "      <td>0.0</td>\n",
              "      <td>1</td>\n",
              "      <td>10</td>\n",
              "      <td>10</td>\n",
              "    </tr>\n",
              "    <tr>\n",
              "      <th>41742</th>\n",
              "      <td>50905</td>\n",
              "      <td>recomendo</td>\n",
              "      <td>recomendo</td>\n",
              "      <td>['recomendo']</td>\n",
              "      <td>1.0</td>\n",
              "      <td>5</td>\n",
              "      <td>10</td>\n",
              "      <td>10</td>\n",
              "    </tr>\n",
              "    <tr>\n",
              "      <th>41743</th>\n",
              "      <td>6468</td>\n",
              "      <td>A mascara veio com um pequeno defeito na estam...</td>\n",
              "      <td>a mascara veio com um pequeno defeito na estam...</td>\n",
              "      <td>['mascara', 'veio', 'com', 'um', 'pequeno', 'd...</td>\n",
              "      <td>0.0</td>\n",
              "      <td>2</td>\n",
              "      <td>10</td>\n",
              "      <td>10</td>\n",
              "    </tr>\n",
              "  </tbody>\n",
              "</table>\n",
              "<p>41744 rows × 8 columns</p>\n",
              "</div>\n",
              "      <button class=\"colab-df-convert\" onclick=\"convertToInteractive('df-bd04a6e2-72b1-4040-9c44-975f6ca5aec7')\"\n",
              "              title=\"Convert this dataframe to an interactive table.\"\n",
              "              style=\"display:none;\">\n",
              "        \n",
              "  <svg xmlns=\"http://www.w3.org/2000/svg\" height=\"24px\"viewBox=\"0 0 24 24\"\n",
              "       width=\"24px\">\n",
              "    <path d=\"M0 0h24v24H0V0z\" fill=\"none\"/>\n",
              "    <path d=\"M18.56 5.44l.94 2.06.94-2.06 2.06-.94-2.06-.94-.94-2.06-.94 2.06-2.06.94zm-11 1L8.5 8.5l.94-2.06 2.06-.94-2.06-.94L8.5 2.5l-.94 2.06-2.06.94zm10 10l.94 2.06.94-2.06 2.06-.94-2.06-.94-.94-2.06-.94 2.06-2.06.94z\"/><path d=\"M17.41 7.96l-1.37-1.37c-.4-.4-.92-.59-1.43-.59-.52 0-1.04.2-1.43.59L10.3 9.45l-7.72 7.72c-.78.78-.78 2.05 0 2.83L4 21.41c.39.39.9.59 1.41.59.51 0 1.02-.2 1.41-.59l7.78-7.78 2.81-2.81c.8-.78.8-2.07 0-2.86zM5.41 20L4 18.59l7.72-7.72 1.47 1.35L5.41 20z\"/>\n",
              "  </svg>\n",
              "      </button>\n",
              "      \n",
              "  <style>\n",
              "    .colab-df-container {\n",
              "      display:flex;\n",
              "      flex-wrap:wrap;\n",
              "      gap: 12px;\n",
              "    }\n",
              "\n",
              "    .colab-df-convert {\n",
              "      background-color: #E8F0FE;\n",
              "      border: none;\n",
              "      border-radius: 50%;\n",
              "      cursor: pointer;\n",
              "      display: none;\n",
              "      fill: #1967D2;\n",
              "      height: 32px;\n",
              "      padding: 0 0 0 0;\n",
              "      width: 32px;\n",
              "    }\n",
              "\n",
              "    .colab-df-convert:hover {\n",
              "      background-color: #E2EBFA;\n",
              "      box-shadow: 0px 1px 2px rgba(60, 64, 67, 0.3), 0px 1px 3px 1px rgba(60, 64, 67, 0.15);\n",
              "      fill: #174EA6;\n",
              "    }\n",
              "\n",
              "    [theme=dark] .colab-df-convert {\n",
              "      background-color: #3B4455;\n",
              "      fill: #D2E3FC;\n",
              "    }\n",
              "\n",
              "    [theme=dark] .colab-df-convert:hover {\n",
              "      background-color: #434B5C;\n",
              "      box-shadow: 0px 1px 3px 1px rgba(0, 0, 0, 0.15);\n",
              "      filter: drop-shadow(0px 1px 2px rgba(0, 0, 0, 0.3));\n",
              "      fill: #FFFFFF;\n",
              "    }\n",
              "  </style>\n",
              "\n",
              "      <script>\n",
              "        const buttonEl =\n",
              "          document.querySelector('#df-bd04a6e2-72b1-4040-9c44-975f6ca5aec7 button.colab-df-convert');\n",
              "        buttonEl.style.display =\n",
              "          google.colab.kernel.accessAllowed ? 'block' : 'none';\n",
              "\n",
              "        async function convertToInteractive(key) {\n",
              "          const element = document.querySelector('#df-bd04a6e2-72b1-4040-9c44-975f6ca5aec7');\n",
              "          const dataTable =\n",
              "            await google.colab.kernel.invokeFunction('convertToInteractive',\n",
              "                                                     [key], {});\n",
              "          if (!dataTable) return;\n",
              "\n",
              "          const docLinkHtml = 'Like what you see? Visit the ' +\n",
              "            '<a target=\"_blank\" href=https://colab.research.google.com/notebooks/data_table.ipynb>data table notebook</a>'\n",
              "            + ' to learn more about interactive tables.';\n",
              "          element.innerHTML = '';\n",
              "          dataTable['output_type'] = 'display_data';\n",
              "          await google.colab.output.renderOutput(dataTable, element);\n",
              "          const docLink = document.createElement('div');\n",
              "          docLink.innerHTML = docLinkHtml;\n",
              "          element.appendChild(docLink);\n",
              "        }\n",
              "      </script>\n",
              "    </div>\n",
              "  </div>\n",
              "  "
            ],
            "text/plain": [
              "       original_index  ... kfold_rating\n",
              "0               97262  ...            1\n",
              "1               72931  ...            1\n",
              "2               19659  ...            1\n",
              "3               43054  ...            1\n",
              "4               59202  ...            1\n",
              "...               ...  ...          ...\n",
              "41739           49725  ...           10\n",
              "41740           76794  ...           10\n",
              "41741           72847  ...           10\n",
              "41742           50905  ...           10\n",
              "41743            6468  ...           10\n",
              "\n",
              "[41744 rows x 8 columns]"
            ]
          },
          "metadata": {},
          "execution_count": 5
        }
      ],
      "source": [
        "df_original"
      ]
    },
    {
      "cell_type": "code",
      "source": [
        "df_original.iloc[1]['review_text']"
      ],
      "metadata": {
        "colab": {
          "base_uri": "https://localhost:8080/",
          "height": 52
        },
        "id": "ZjPBnG73BhId",
        "outputId": "32af7390-129a-4054-b2b9-d0fc4c273194"
      },
      "execution_count": null,
      "outputs": [
        {
          "output_type": "execute_result",
          "data": {
            "application/vnd.google.colaboratory.intrinsic+json": {
              "type": "string"
            },
            "text/plain": [
              "'Foi uma ótima compra! Chegou antes mesmo do prazo e o produto é igual o que estava no anúncio. Correspondeu as expectativas!'"
            ]
          },
          "metadata": {},
          "execution_count": 8
        }
      ]
    },
    {
      "cell_type": "code",
      "execution_count": null,
      "metadata": {
        "colab": {
          "base_uri": "https://localhost:8080/",
          "height": 424
        },
        "id": "PQWuuCRqn8lz",
        "outputId": "83b1c2ea-85bd-4dfe-fd49-d9c7af66ba60"
      },
      "outputs": [
        {
          "output_type": "execute_result",
          "data": {
            "text/html": [
              "\n",
              "  <div id=\"df-c6dea8e3-56f7-4a14-81c8-c322e8f91db4\">\n",
              "    <div class=\"colab-df-container\">\n",
              "      <div>\n",
              "<style scoped>\n",
              "    .dataframe tbody tr th:only-of-type {\n",
              "        vertical-align: middle;\n",
              "    }\n",
              "\n",
              "    .dataframe tbody tr th {\n",
              "        vertical-align: top;\n",
              "    }\n",
              "\n",
              "    .dataframe thead th {\n",
              "        text-align: right;\n",
              "    }\n",
              "</style>\n",
              "<table border=\"1\" class=\"dataframe\">\n",
              "  <thead>\n",
              "    <tr style=\"text-align: right;\">\n",
              "      <th></th>\n",
              "      <th>review_text</th>\n",
              "      <th>review_text_processed</th>\n",
              "      <th>polarity</th>\n",
              "    </tr>\n",
              "  </thead>\n",
              "  <tbody>\n",
              "    <tr>\n",
              "      <th>0</th>\n",
              "      <td>Perfeito....chegou antes do prazo.....</td>\n",
              "      <td>perfeito....chegou antes do prazo.....</td>\n",
              "      <td>1.0</td>\n",
              "    </tr>\n",
              "    <tr>\n",
              "      <th>1</th>\n",
              "      <td>Foi uma ótima compra! Chegou antes mesmo do pr...</td>\n",
              "      <td>foi uma otima compra! chegou antes mesmo do pr...</td>\n",
              "      <td>1.0</td>\n",
              "    </tr>\n",
              "    <tr>\n",
              "      <th>2</th>\n",
              "      <td>Recebi muito rapido e um otimo custo beneficio</td>\n",
              "      <td>recebi muito rapido e um otimo custo beneficio</td>\n",
              "      <td>1.0</td>\n",
              "    </tr>\n",
              "    <tr>\n",
              "      <th>3</th>\n",
              "      <td>Recomendo</td>\n",
              "      <td>recomendo</td>\n",
              "      <td>1.0</td>\n",
              "    </tr>\n",
              "    <tr>\n",
              "      <th>4</th>\n",
              "      <td>Só veio uma capa comprei 3 aí paguei. Mais de ...</td>\n",
              "      <td>so veio uma capa comprei 3 ai paguei. mais de ...</td>\n",
              "      <td>0.0</td>\n",
              "    </tr>\n",
              "    <tr>\n",
              "      <th>...</th>\n",
              "      <td>...</td>\n",
              "      <td>...</td>\n",
              "      <td>...</td>\n",
              "    </tr>\n",
              "    <tr>\n",
              "      <th>41739</th>\n",
              "      <td>SUCESSO :D</td>\n",
              "      <td>sucesso :d</td>\n",
              "      <td>1.0</td>\n",
              "    </tr>\n",
              "    <tr>\n",
              "      <th>41740</th>\n",
              "      <td>Tudo OK. Produto entregue no prazo correto.</td>\n",
              "      <td>tudo ok. produto entregue no prazo correto.</td>\n",
              "      <td>1.0</td>\n",
              "    </tr>\n",
              "    <tr>\n",
              "      <th>41741</th>\n",
              "      <td>Ultimamente estão atrasando muito as entregas</td>\n",
              "      <td>ultimamente estao atrasando muito as entregas</td>\n",
              "      <td>0.0</td>\n",
              "    </tr>\n",
              "    <tr>\n",
              "      <th>41742</th>\n",
              "      <td>recomendo</td>\n",
              "      <td>recomendo</td>\n",
              "      <td>1.0</td>\n",
              "    </tr>\n",
              "    <tr>\n",
              "      <th>41743</th>\n",
              "      <td>A mascara veio com um pequeno defeito na estam...</td>\n",
              "      <td>a mascara veio com um pequeno defeito na estam...</td>\n",
              "      <td>0.0</td>\n",
              "    </tr>\n",
              "  </tbody>\n",
              "</table>\n",
              "<p>41744 rows × 3 columns</p>\n",
              "</div>\n",
              "      <button class=\"colab-df-convert\" onclick=\"convertToInteractive('df-c6dea8e3-56f7-4a14-81c8-c322e8f91db4')\"\n",
              "              title=\"Convert this dataframe to an interactive table.\"\n",
              "              style=\"display:none;\">\n",
              "        \n",
              "  <svg xmlns=\"http://www.w3.org/2000/svg\" height=\"24px\"viewBox=\"0 0 24 24\"\n",
              "       width=\"24px\">\n",
              "    <path d=\"M0 0h24v24H0V0z\" fill=\"none\"/>\n",
              "    <path d=\"M18.56 5.44l.94 2.06.94-2.06 2.06-.94-2.06-.94-.94-2.06-.94 2.06-2.06.94zm-11 1L8.5 8.5l.94-2.06 2.06-.94-2.06-.94L8.5 2.5l-.94 2.06-2.06.94zm10 10l.94 2.06.94-2.06 2.06-.94-2.06-.94-.94-2.06-.94 2.06-2.06.94z\"/><path d=\"M17.41 7.96l-1.37-1.37c-.4-.4-.92-.59-1.43-.59-.52 0-1.04.2-1.43.59L10.3 9.45l-7.72 7.72c-.78.78-.78 2.05 0 2.83L4 21.41c.39.39.9.59 1.41.59.51 0 1.02-.2 1.41-.59l7.78-7.78 2.81-2.81c.8-.78.8-2.07 0-2.86zM5.41 20L4 18.59l7.72-7.72 1.47 1.35L5.41 20z\"/>\n",
              "  </svg>\n",
              "      </button>\n",
              "      \n",
              "  <style>\n",
              "    .colab-df-container {\n",
              "      display:flex;\n",
              "      flex-wrap:wrap;\n",
              "      gap: 12px;\n",
              "    }\n",
              "\n",
              "    .colab-df-convert {\n",
              "      background-color: #E8F0FE;\n",
              "      border: none;\n",
              "      border-radius: 50%;\n",
              "      cursor: pointer;\n",
              "      display: none;\n",
              "      fill: #1967D2;\n",
              "      height: 32px;\n",
              "      padding: 0 0 0 0;\n",
              "      width: 32px;\n",
              "    }\n",
              "\n",
              "    .colab-df-convert:hover {\n",
              "      background-color: #E2EBFA;\n",
              "      box-shadow: 0px 1px 2px rgba(60, 64, 67, 0.3), 0px 1px 3px 1px rgba(60, 64, 67, 0.15);\n",
              "      fill: #174EA6;\n",
              "    }\n",
              "\n",
              "    [theme=dark] .colab-df-convert {\n",
              "      background-color: #3B4455;\n",
              "      fill: #D2E3FC;\n",
              "    }\n",
              "\n",
              "    [theme=dark] .colab-df-convert:hover {\n",
              "      background-color: #434B5C;\n",
              "      box-shadow: 0px 1px 3px 1px rgba(0, 0, 0, 0.15);\n",
              "      filter: drop-shadow(0px 1px 2px rgba(0, 0, 0, 0.3));\n",
              "      fill: #FFFFFF;\n",
              "    }\n",
              "  </style>\n",
              "\n",
              "      <script>\n",
              "        const buttonEl =\n",
              "          document.querySelector('#df-c6dea8e3-56f7-4a14-81c8-c322e8f91db4 button.colab-df-convert');\n",
              "        buttonEl.style.display =\n",
              "          google.colab.kernel.accessAllowed ? 'block' : 'none';\n",
              "\n",
              "        async function convertToInteractive(key) {\n",
              "          const element = document.querySelector('#df-c6dea8e3-56f7-4a14-81c8-c322e8f91db4');\n",
              "          const dataTable =\n",
              "            await google.colab.kernel.invokeFunction('convertToInteractive',\n",
              "                                                     [key], {});\n",
              "          if (!dataTable) return;\n",
              "\n",
              "          const docLinkHtml = 'Like what you see? Visit the ' +\n",
              "            '<a target=\"_blank\" href=https://colab.research.google.com/notebooks/data_table.ipynb>data table notebook</a>'\n",
              "            + ' to learn more about interactive tables.';\n",
              "          element.innerHTML = '';\n",
              "          dataTable['output_type'] = 'display_data';\n",
              "          await google.colab.output.renderOutput(dataTable, element);\n",
              "          const docLink = document.createElement('div');\n",
              "          docLink.innerHTML = docLinkHtml;\n",
              "          element.appendChild(docLink);\n",
              "        }\n",
              "      </script>\n",
              "    </div>\n",
              "  </div>\n",
              "  "
            ],
            "text/plain": [
              "                                             review_text  ... polarity\n",
              "0                 Perfeito....chegou antes do prazo.....  ...      1.0\n",
              "1      Foi uma ótima compra! Chegou antes mesmo do pr...  ...      1.0\n",
              "2         Recebi muito rapido e um otimo custo beneficio  ...      1.0\n",
              "3                                              Recomendo  ...      1.0\n",
              "4      Só veio uma capa comprei 3 aí paguei. Mais de ...  ...      0.0\n",
              "...                                                  ...  ...      ...\n",
              "41739                                         SUCESSO :D  ...      1.0\n",
              "41740       Tudo OK. Produto entregue no prazo correto.   ...      1.0\n",
              "41741      Ultimamente estão atrasando muito as entregas  ...      0.0\n",
              "41742                                          recomendo  ...      1.0\n",
              "41743  A mascara veio com um pequeno defeito na estam...  ...      0.0\n",
              "\n",
              "[41744 rows x 3 columns]"
            ]
          },
          "metadata": {},
          "execution_count": 10
        }
      ],
      "source": [
        "df = df_original[['review_text', 'review_text_processed', 'polarity']]\n",
        "df"
      ]
    },
    {
      "cell_type": "code",
      "execution_count": null,
      "metadata": {
        "colab": {
          "base_uri": "https://localhost:8080/",
          "height": 52
        },
        "id": "63gq7RPomy2a",
        "outputId": "52734d5f-808e-49a2-9194-7191a7408201"
      },
      "outputs": [
        {
          "output_type": "execute_result",
          "data": {
            "application/vnd.google.colaboratory.intrinsic+json": {
              "type": "string"
            },
            "text/plain": [
              "'foi uma otima compra! chegou antes mesmo do prazo e o produto e igual o que estava no anuncio. correspondeu as expectativas!'"
            ]
          },
          "metadata": {},
          "execution_count": 12
        }
      ],
      "source": [
        "df.iloc[1]['review_text_processed']"
      ]
    },
    {
      "cell_type": "code",
      "execution_count": null,
      "metadata": {
        "id": "y4VxXIJKq9AF"
      },
      "outputs": [],
      "source": [
        "exemplo = 'EXCELENTE!! Valeu demais passar um tempo pesquisando preços, pois encontrei esse ótimo carregador de celular, nota 10.'"
      ]
    },
    {
      "cell_type": "markdown",
      "source": [
        "### Jargões\n",
        "\n",
        "- **Token:** termo de uma frase, uma ocorrência particular de uma palavra especı́fica em um texto\n",
        "- **Corpus:** uma coleção de documentos/frases\n",
        "- **Corpora:** coletivo de corpus\n",
        "- **Vocabulário:** todas as palavras em uma coleção de documentos de texto."
      ],
      "metadata": {
        "id": "L8_TzDKs7Gl4"
      }
    },
    {
      "cell_type": "markdown",
      "metadata": {
        "id": "XgColLqk_Fl2"
      },
      "source": [
        "### Normalizar capitalização"
      ]
    },
    {
      "cell_type": "code",
      "execution_count": null,
      "metadata": {
        "colab": {
          "base_uri": "https://localhost:8080/",
          "height": 35
        },
        "id": "Rv3KLOm7_MED",
        "outputId": "eb0270cf-1567-47d7-983c-6672b2de2898"
      },
      "outputs": [
        {
          "output_type": "execute_result",
          "data": {
            "application/vnd.google.colaboratory.intrinsic+json": {
              "type": "string"
            },
            "text/plain": [
              "'excelente!! valeu demais passar um tempo pesquisando preços, pois encontrei esse ótimo carregador de celular, nota 10.'"
            ]
          },
          "metadata": {},
          "execution_count": 19
        }
      ],
      "source": [
        "exemplo = exemplo.lower()\n",
        "exemplo"
      ]
    },
    {
      "cell_type": "code",
      "source": [
        "df['review_text']"
      ],
      "metadata": {
        "colab": {
          "base_uri": "https://localhost:8080/"
        },
        "id": "inrQ6VTcC7-7",
        "outputId": "073750c7-8114-4791-87b9-e02db859f180"
      },
      "execution_count": null,
      "outputs": [
        {
          "output_type": "execute_result",
          "data": {
            "text/plain": [
              "0                   Perfeito....chegou antes do prazo.....\n",
              "1        Foi uma ótima compra! Chegou antes mesmo do pr...\n",
              "2           Recebi muito rapido e um otimo custo beneficio\n",
              "3                                                Recomendo\n",
              "4        Só veio uma capa comprei 3 aí paguei. Mais de ...\n",
              "                               ...                        \n",
              "41739                                           SUCESSO :D\n",
              "41740         Tudo OK. Produto entregue no prazo correto. \n",
              "41741        Ultimamente estão atrasando muito as entregas\n",
              "41742                                            recomendo\n",
              "41743    A mascara veio com um pequeno defeito na estam...\n",
              "Name: review_text, Length: 41744, dtype: object"
            ]
          },
          "metadata": {},
          "execution_count": 22
        }
      ]
    },
    {
      "cell_type": "code",
      "execution_count": null,
      "metadata": {
        "colab": {
          "base_uri": "https://localhost:8080/",
          "height": 696
        },
        "id": "eFz0gBNAfCuL",
        "outputId": "6089b3fb-5cbc-4c4e-939e-7eadda84ad63"
      },
      "outputs": [
        {
          "output_type": "stream",
          "name": "stderr",
          "text": [
            "/usr/local/lib/python3.7/dist-packages/ipykernel_launcher.py:1: SettingWithCopyWarning: \n",
            "A value is trying to be set on a copy of a slice from a DataFrame.\n",
            "Try using .loc[row_indexer,col_indexer] = value instead\n",
            "\n",
            "See the caveats in the documentation: https://pandas.pydata.org/pandas-docs/stable/user_guide/indexing.html#returning-a-view-versus-a-copy\n",
            "  \"\"\"Entry point for launching an IPython kernel.\n"
          ]
        },
        {
          "output_type": "execute_result",
          "data": {
            "text/html": [
              "\n",
              "  <div id=\"df-f588135f-3f91-443b-a6ac-df25cedb23f6\">\n",
              "    <div class=\"colab-df-container\">\n",
              "      <div>\n",
              "<style scoped>\n",
              "    .dataframe tbody tr th:only-of-type {\n",
              "        vertical-align: middle;\n",
              "    }\n",
              "\n",
              "    .dataframe tbody tr th {\n",
              "        vertical-align: top;\n",
              "    }\n",
              "\n",
              "    .dataframe thead th {\n",
              "        text-align: right;\n",
              "    }\n",
              "</style>\n",
              "<table border=\"1\" class=\"dataframe\">\n",
              "  <thead>\n",
              "    <tr style=\"text-align: right;\">\n",
              "      <th></th>\n",
              "      <th>review_text</th>\n",
              "      <th>review_text_processed</th>\n",
              "      <th>polarity</th>\n",
              "      <th>review_preproc</th>\n",
              "    </tr>\n",
              "  </thead>\n",
              "  <tbody>\n",
              "    <tr>\n",
              "      <th>0</th>\n",
              "      <td>Perfeito....chegou antes do prazo.....</td>\n",
              "      <td>perfeito....chegou antes do prazo.....</td>\n",
              "      <td>1.0</td>\n",
              "      <td>perfeito....chegou antes do prazo.....</td>\n",
              "    </tr>\n",
              "    <tr>\n",
              "      <th>1</th>\n",
              "      <td>Foi uma ótima compra! Chegou antes mesmo do pr...</td>\n",
              "      <td>foi uma otima compra! chegou antes mesmo do pr...</td>\n",
              "      <td>1.0</td>\n",
              "      <td>foi uma ótima compra! chegou antes mesmo do pr...</td>\n",
              "    </tr>\n",
              "    <tr>\n",
              "      <th>2</th>\n",
              "      <td>Recebi muito rapido e um otimo custo beneficio</td>\n",
              "      <td>recebi muito rapido e um otimo custo beneficio</td>\n",
              "      <td>1.0</td>\n",
              "      <td>recebi muito rapido e um otimo custo beneficio</td>\n",
              "    </tr>\n",
              "    <tr>\n",
              "      <th>3</th>\n",
              "      <td>Recomendo</td>\n",
              "      <td>recomendo</td>\n",
              "      <td>1.0</td>\n",
              "      <td>recomendo</td>\n",
              "    </tr>\n",
              "    <tr>\n",
              "      <th>4</th>\n",
              "      <td>Só veio uma capa comprei 3 aí paguei. Mais de ...</td>\n",
              "      <td>so veio uma capa comprei 3 ai paguei. mais de ...</td>\n",
              "      <td>0.0</td>\n",
              "      <td>só veio uma capa comprei 3 aí paguei. mais de ...</td>\n",
              "    </tr>\n",
              "    <tr>\n",
              "      <th>...</th>\n",
              "      <td>...</td>\n",
              "      <td>...</td>\n",
              "      <td>...</td>\n",
              "      <td>...</td>\n",
              "    </tr>\n",
              "    <tr>\n",
              "      <th>41739</th>\n",
              "      <td>SUCESSO :D</td>\n",
              "      <td>sucesso :d</td>\n",
              "      <td>1.0</td>\n",
              "      <td>sucesso :d</td>\n",
              "    </tr>\n",
              "    <tr>\n",
              "      <th>41740</th>\n",
              "      <td>Tudo OK. Produto entregue no prazo correto.</td>\n",
              "      <td>tudo ok. produto entregue no prazo correto.</td>\n",
              "      <td>1.0</td>\n",
              "      <td>tudo ok. produto entregue no prazo correto.</td>\n",
              "    </tr>\n",
              "    <tr>\n",
              "      <th>41741</th>\n",
              "      <td>Ultimamente estão atrasando muito as entregas</td>\n",
              "      <td>ultimamente estao atrasando muito as entregas</td>\n",
              "      <td>0.0</td>\n",
              "      <td>ultimamente estão atrasando muito as entregas</td>\n",
              "    </tr>\n",
              "    <tr>\n",
              "      <th>41742</th>\n",
              "      <td>recomendo</td>\n",
              "      <td>recomendo</td>\n",
              "      <td>1.0</td>\n",
              "      <td>recomendo</td>\n",
              "    </tr>\n",
              "    <tr>\n",
              "      <th>41743</th>\n",
              "      <td>A mascara veio com um pequeno defeito na estam...</td>\n",
              "      <td>a mascara veio com um pequeno defeito na estam...</td>\n",
              "      <td>0.0</td>\n",
              "      <td>a mascara veio com um pequeno defeito na estam...</td>\n",
              "    </tr>\n",
              "  </tbody>\n",
              "</table>\n",
              "<p>41744 rows × 4 columns</p>\n",
              "</div>\n",
              "      <button class=\"colab-df-convert\" onclick=\"convertToInteractive('df-f588135f-3f91-443b-a6ac-df25cedb23f6')\"\n",
              "              title=\"Convert this dataframe to an interactive table.\"\n",
              "              style=\"display:none;\">\n",
              "        \n",
              "  <svg xmlns=\"http://www.w3.org/2000/svg\" height=\"24px\"viewBox=\"0 0 24 24\"\n",
              "       width=\"24px\">\n",
              "    <path d=\"M0 0h24v24H0V0z\" fill=\"none\"/>\n",
              "    <path d=\"M18.56 5.44l.94 2.06.94-2.06 2.06-.94-2.06-.94-.94-2.06-.94 2.06-2.06.94zm-11 1L8.5 8.5l.94-2.06 2.06-.94-2.06-.94L8.5 2.5l-.94 2.06-2.06.94zm10 10l.94 2.06.94-2.06 2.06-.94-2.06-.94-.94-2.06-.94 2.06-2.06.94z\"/><path d=\"M17.41 7.96l-1.37-1.37c-.4-.4-.92-.59-1.43-.59-.52 0-1.04.2-1.43.59L10.3 9.45l-7.72 7.72c-.78.78-.78 2.05 0 2.83L4 21.41c.39.39.9.59 1.41.59.51 0 1.02-.2 1.41-.59l7.78-7.78 2.81-2.81c.8-.78.8-2.07 0-2.86zM5.41 20L4 18.59l7.72-7.72 1.47 1.35L5.41 20z\"/>\n",
              "  </svg>\n",
              "      </button>\n",
              "      \n",
              "  <style>\n",
              "    .colab-df-container {\n",
              "      display:flex;\n",
              "      flex-wrap:wrap;\n",
              "      gap: 12px;\n",
              "    }\n",
              "\n",
              "    .colab-df-convert {\n",
              "      background-color: #E8F0FE;\n",
              "      border: none;\n",
              "      border-radius: 50%;\n",
              "      cursor: pointer;\n",
              "      display: none;\n",
              "      fill: #1967D2;\n",
              "      height: 32px;\n",
              "      padding: 0 0 0 0;\n",
              "      width: 32px;\n",
              "    }\n",
              "\n",
              "    .colab-df-convert:hover {\n",
              "      background-color: #E2EBFA;\n",
              "      box-shadow: 0px 1px 2px rgba(60, 64, 67, 0.3), 0px 1px 3px 1px rgba(60, 64, 67, 0.15);\n",
              "      fill: #174EA6;\n",
              "    }\n",
              "\n",
              "    [theme=dark] .colab-df-convert {\n",
              "      background-color: #3B4455;\n",
              "      fill: #D2E3FC;\n",
              "    }\n",
              "\n",
              "    [theme=dark] .colab-df-convert:hover {\n",
              "      background-color: #434B5C;\n",
              "      box-shadow: 0px 1px 3px 1px rgba(0, 0, 0, 0.15);\n",
              "      filter: drop-shadow(0px 1px 2px rgba(0, 0, 0, 0.3));\n",
              "      fill: #FFFFFF;\n",
              "    }\n",
              "  </style>\n",
              "\n",
              "      <script>\n",
              "        const buttonEl =\n",
              "          document.querySelector('#df-f588135f-3f91-443b-a6ac-df25cedb23f6 button.colab-df-convert');\n",
              "        buttonEl.style.display =\n",
              "          google.colab.kernel.accessAllowed ? 'block' : 'none';\n",
              "\n",
              "        async function convertToInteractive(key) {\n",
              "          const element = document.querySelector('#df-f588135f-3f91-443b-a6ac-df25cedb23f6');\n",
              "          const dataTable =\n",
              "            await google.colab.kernel.invokeFunction('convertToInteractive',\n",
              "                                                     [key], {});\n",
              "          if (!dataTable) return;\n",
              "\n",
              "          const docLinkHtml = 'Like what you see? Visit the ' +\n",
              "            '<a target=\"_blank\" href=https://colab.research.google.com/notebooks/data_table.ipynb>data table notebook</a>'\n",
              "            + ' to learn more about interactive tables.';\n",
              "          element.innerHTML = '';\n",
              "          dataTable['output_type'] = 'display_data';\n",
              "          await google.colab.output.renderOutput(dataTable, element);\n",
              "          const docLink = document.createElement('div');\n",
              "          docLink.innerHTML = docLinkHtml;\n",
              "          element.appendChild(docLink);\n",
              "        }\n",
              "      </script>\n",
              "    </div>\n",
              "  </div>\n",
              "  "
            ],
            "text/plain": [
              "                                             review_text  ...                                     review_preproc\n",
              "0                 Perfeito....chegou antes do prazo.....  ...             perfeito....chegou antes do prazo.....\n",
              "1      Foi uma ótima compra! Chegou antes mesmo do pr...  ...  foi uma ótima compra! chegou antes mesmo do pr...\n",
              "2         Recebi muito rapido e um otimo custo beneficio  ...     recebi muito rapido e um otimo custo beneficio\n",
              "3                                              Recomendo  ...                                          recomendo\n",
              "4      Só veio uma capa comprei 3 aí paguei. Mais de ...  ...  só veio uma capa comprei 3 aí paguei. mais de ...\n",
              "...                                                  ...  ...                                                ...\n",
              "41739                                         SUCESSO :D  ...                                         sucesso :d\n",
              "41740       Tudo OK. Produto entregue no prazo correto.   ...       tudo ok. produto entregue no prazo correto. \n",
              "41741      Ultimamente estão atrasando muito as entregas  ...      ultimamente estão atrasando muito as entregas\n",
              "41742                                          recomendo  ...                                          recomendo\n",
              "41743  A mascara veio com um pequeno defeito na estam...  ...  a mascara veio com um pequeno defeito na estam...\n",
              "\n",
              "[41744 rows x 4 columns]"
            ]
          },
          "metadata": {},
          "execution_count": 23
        }
      ],
      "source": [
        "df['review_preproc'] = df['review_text'].apply(lambda x: x.lower())\n",
        "df"
      ]
    },
    {
      "cell_type": "markdown",
      "metadata": {
        "id": "XfXO_s4sr9g2"
      },
      "source": [
        "### Retirar pontuação\n",
        "\n"
      ]
    },
    {
      "cell_type": "markdown",
      "metadata": {
        "id": "2ShO9qSRgMFk"
      },
      "source": [
        "**Opção 1:** Analisar caractere a caractere"
      ]
    },
    {
      "cell_type": "code",
      "execution_count": null,
      "metadata": {
        "id": "FluHtyNs8tKn"
      },
      "outputs": [],
      "source": [
        "for u in exemplo:\n",
        "    print(u)"
      ]
    },
    {
      "cell_type": "code",
      "execution_count": null,
      "metadata": {
        "colab": {
          "base_uri": "https://localhost:8080/",
          "height": 35
        },
        "id": "FYNUcpo1qV2o",
        "outputId": "1079b048-fdcc-45cc-be0d-f549709461b6"
      },
      "outputs": [
        {
          "output_type": "execute_result",
          "data": {
            "application/vnd.google.colaboratory.intrinsic+json": {
              "type": "string"
            },
            "text/plain": [
              "'excelente valeu demais passar um tempo pesquisando preços pois encontrei esse ótimo carregador de celular nota 10'"
            ]
          },
          "metadata": {},
          "execution_count": 25
        }
      ],
      "source": [
        "exemplo_sem_punct = \"\".join(u for u in exemplo if u not in (\"?\", \".\", \";\", \":\", \"!\", \",\"))\n",
        "exemplo_sem_punct"
      ]
    },
    {
      "cell_type": "markdown",
      "metadata": {
        "id": "RuJ4SyFhhhKb"
      },
      "source": [
        "**Opção 2:** Usar o RegexTokenizer da lib NLTK"
      ]
    },
    {
      "cell_type": "code",
      "execution_count": null,
      "metadata": {
        "id": "Qk7p5vrIhml8"
      },
      "outputs": [],
      "source": [
        "from nltk.tokenize import RegexpTokenizer\n",
        "\n",
        "# com '\\w+' selecionamos apenas tokens de palavras ou dígitos\n",
        "tokenizer = RegexpTokenizer(r'\\w+')"
      ]
    },
    {
      "cell_type": "code",
      "source": [
        "tokenizer.tokenize(exemplo)"
      ],
      "metadata": {
        "colab": {
          "base_uri": "https://localhost:8080/"
        },
        "id": "2aHOeOwqltds",
        "outputId": "9711ad3c-2227-4f1f-d692-87bd1eb8b42b"
      },
      "execution_count": null,
      "outputs": [
        {
          "output_type": "execute_result",
          "data": {
            "text/plain": [
              "['excelente',\n",
              " 'valeu',\n",
              " 'demais',\n",
              " 'passar',\n",
              " 'um',\n",
              " 'tempo',\n",
              " 'pesquisando',\n",
              " 'preços',\n",
              " 'pois',\n",
              " 'encontrei',\n",
              " 'esse',\n",
              " 'ótimo',\n",
              " 'carregador',\n",
              " 'de',\n",
              " 'celular',\n",
              " 'nota',\n",
              " '10']"
            ]
          },
          "metadata": {},
          "execution_count": 27
        }
      ]
    },
    {
      "cell_type": "code",
      "execution_count": null,
      "metadata": {
        "colab": {
          "base_uri": "https://localhost:8080/",
          "height": 35
        },
        "id": "r8RYuJ5QzBjo",
        "outputId": "0affa54a-cd93-4009-9c0a-df67548cef74"
      },
      "outputs": [
        {
          "output_type": "execute_result",
          "data": {
            "application/vnd.google.colaboratory.intrinsic+json": {
              "type": "string"
            },
            "text/plain": [
              "'excelente valeu demais passar um tempo pesquisando preços pois encontrei esse ótimo carregador de celular nota 10'"
            ]
          },
          "metadata": {},
          "execution_count": 28
        }
      ],
      "source": [
        "exemplo = ' '.join(tokenizer.tokenize(exemplo))\n",
        "exemplo"
      ]
    },
    {
      "cell_type": "code",
      "execution_count": null,
      "metadata": {
        "colab": {
          "base_uri": "https://localhost:8080/",
          "height": 696
        },
        "id": "b6avOXgPeQyJ",
        "outputId": "eee1a44a-ec72-4a5e-d26e-dec05067e773"
      },
      "outputs": [
        {
          "output_type": "stream",
          "name": "stderr",
          "text": [
            "/usr/local/lib/python3.7/dist-packages/ipykernel_launcher.py:1: SettingWithCopyWarning: \n",
            "A value is trying to be set on a copy of a slice from a DataFrame.\n",
            "Try using .loc[row_indexer,col_indexer] = value instead\n",
            "\n",
            "See the caveats in the documentation: https://pandas.pydata.org/pandas-docs/stable/user_guide/indexing.html#returning-a-view-versus-a-copy\n",
            "  \"\"\"Entry point for launching an IPython kernel.\n"
          ]
        },
        {
          "output_type": "execute_result",
          "data": {
            "text/html": [
              "\n",
              "  <div id=\"df-6c32524e-be87-4bfb-8cff-823650f43e22\">\n",
              "    <div class=\"colab-df-container\">\n",
              "      <div>\n",
              "<style scoped>\n",
              "    .dataframe tbody tr th:only-of-type {\n",
              "        vertical-align: middle;\n",
              "    }\n",
              "\n",
              "    .dataframe tbody tr th {\n",
              "        vertical-align: top;\n",
              "    }\n",
              "\n",
              "    .dataframe thead th {\n",
              "        text-align: right;\n",
              "    }\n",
              "</style>\n",
              "<table border=\"1\" class=\"dataframe\">\n",
              "  <thead>\n",
              "    <tr style=\"text-align: right;\">\n",
              "      <th></th>\n",
              "      <th>review_text</th>\n",
              "      <th>review_text_processed</th>\n",
              "      <th>polarity</th>\n",
              "      <th>review_preproc</th>\n",
              "    </tr>\n",
              "  </thead>\n",
              "  <tbody>\n",
              "    <tr>\n",
              "      <th>0</th>\n",
              "      <td>Perfeito....chegou antes do prazo.....</td>\n",
              "      <td>perfeito....chegou antes do prazo.....</td>\n",
              "      <td>1.0</td>\n",
              "      <td>perfeito chegou antes do prazo</td>\n",
              "    </tr>\n",
              "    <tr>\n",
              "      <th>1</th>\n",
              "      <td>Foi uma ótima compra! Chegou antes mesmo do pr...</td>\n",
              "      <td>foi uma otima compra! chegou antes mesmo do pr...</td>\n",
              "      <td>1.0</td>\n",
              "      <td>foi uma ótima compra chegou antes mesmo do pra...</td>\n",
              "    </tr>\n",
              "    <tr>\n",
              "      <th>2</th>\n",
              "      <td>Recebi muito rapido e um otimo custo beneficio</td>\n",
              "      <td>recebi muito rapido e um otimo custo beneficio</td>\n",
              "      <td>1.0</td>\n",
              "      <td>recebi muito rapido e um otimo custo beneficio</td>\n",
              "    </tr>\n",
              "    <tr>\n",
              "      <th>3</th>\n",
              "      <td>Recomendo</td>\n",
              "      <td>recomendo</td>\n",
              "      <td>1.0</td>\n",
              "      <td>recomendo</td>\n",
              "    </tr>\n",
              "    <tr>\n",
              "      <th>4</th>\n",
              "      <td>Só veio uma capa comprei 3 aí paguei. Mais de ...</td>\n",
              "      <td>so veio uma capa comprei 3 ai paguei. mais de ...</td>\n",
              "      <td>0.0</td>\n",
              "      <td>só veio uma capa comprei 3 aí paguei mais de 1...</td>\n",
              "    </tr>\n",
              "    <tr>\n",
              "      <th>...</th>\n",
              "      <td>...</td>\n",
              "      <td>...</td>\n",
              "      <td>...</td>\n",
              "      <td>...</td>\n",
              "    </tr>\n",
              "    <tr>\n",
              "      <th>41739</th>\n",
              "      <td>SUCESSO :D</td>\n",
              "      <td>sucesso :d</td>\n",
              "      <td>1.0</td>\n",
              "      <td>sucesso d</td>\n",
              "    </tr>\n",
              "    <tr>\n",
              "      <th>41740</th>\n",
              "      <td>Tudo OK. Produto entregue no prazo correto.</td>\n",
              "      <td>tudo ok. produto entregue no prazo correto.</td>\n",
              "      <td>1.0</td>\n",
              "      <td>tudo ok produto entregue no prazo correto</td>\n",
              "    </tr>\n",
              "    <tr>\n",
              "      <th>41741</th>\n",
              "      <td>Ultimamente estão atrasando muito as entregas</td>\n",
              "      <td>ultimamente estao atrasando muito as entregas</td>\n",
              "      <td>0.0</td>\n",
              "      <td>ultimamente estão atrasando muito as entregas</td>\n",
              "    </tr>\n",
              "    <tr>\n",
              "      <th>41742</th>\n",
              "      <td>recomendo</td>\n",
              "      <td>recomendo</td>\n",
              "      <td>1.0</td>\n",
              "      <td>recomendo</td>\n",
              "    </tr>\n",
              "    <tr>\n",
              "      <th>41743</th>\n",
              "      <td>A mascara veio com um pequeno defeito na estam...</td>\n",
              "      <td>a mascara veio com um pequeno defeito na estam...</td>\n",
              "      <td>0.0</td>\n",
              "      <td>a mascara veio com um pequeno defeito na estam...</td>\n",
              "    </tr>\n",
              "  </tbody>\n",
              "</table>\n",
              "<p>41744 rows × 4 columns</p>\n",
              "</div>\n",
              "      <button class=\"colab-df-convert\" onclick=\"convertToInteractive('df-6c32524e-be87-4bfb-8cff-823650f43e22')\"\n",
              "              title=\"Convert this dataframe to an interactive table.\"\n",
              "              style=\"display:none;\">\n",
              "        \n",
              "  <svg xmlns=\"http://www.w3.org/2000/svg\" height=\"24px\"viewBox=\"0 0 24 24\"\n",
              "       width=\"24px\">\n",
              "    <path d=\"M0 0h24v24H0V0z\" fill=\"none\"/>\n",
              "    <path d=\"M18.56 5.44l.94 2.06.94-2.06 2.06-.94-2.06-.94-.94-2.06-.94 2.06-2.06.94zm-11 1L8.5 8.5l.94-2.06 2.06-.94-2.06-.94L8.5 2.5l-.94 2.06-2.06.94zm10 10l.94 2.06.94-2.06 2.06-.94-2.06-.94-.94-2.06-.94 2.06-2.06.94z\"/><path d=\"M17.41 7.96l-1.37-1.37c-.4-.4-.92-.59-1.43-.59-.52 0-1.04.2-1.43.59L10.3 9.45l-7.72 7.72c-.78.78-.78 2.05 0 2.83L4 21.41c.39.39.9.59 1.41.59.51 0 1.02-.2 1.41-.59l7.78-7.78 2.81-2.81c.8-.78.8-2.07 0-2.86zM5.41 20L4 18.59l7.72-7.72 1.47 1.35L5.41 20z\"/>\n",
              "  </svg>\n",
              "      </button>\n",
              "      \n",
              "  <style>\n",
              "    .colab-df-container {\n",
              "      display:flex;\n",
              "      flex-wrap:wrap;\n",
              "      gap: 12px;\n",
              "    }\n",
              "\n",
              "    .colab-df-convert {\n",
              "      background-color: #E8F0FE;\n",
              "      border: none;\n",
              "      border-radius: 50%;\n",
              "      cursor: pointer;\n",
              "      display: none;\n",
              "      fill: #1967D2;\n",
              "      height: 32px;\n",
              "      padding: 0 0 0 0;\n",
              "      width: 32px;\n",
              "    }\n",
              "\n",
              "    .colab-df-convert:hover {\n",
              "      background-color: #E2EBFA;\n",
              "      box-shadow: 0px 1px 2px rgba(60, 64, 67, 0.3), 0px 1px 3px 1px rgba(60, 64, 67, 0.15);\n",
              "      fill: #174EA6;\n",
              "    }\n",
              "\n",
              "    [theme=dark] .colab-df-convert {\n",
              "      background-color: #3B4455;\n",
              "      fill: #D2E3FC;\n",
              "    }\n",
              "\n",
              "    [theme=dark] .colab-df-convert:hover {\n",
              "      background-color: #434B5C;\n",
              "      box-shadow: 0px 1px 3px 1px rgba(0, 0, 0, 0.15);\n",
              "      filter: drop-shadow(0px 1px 2px rgba(0, 0, 0, 0.3));\n",
              "      fill: #FFFFFF;\n",
              "    }\n",
              "  </style>\n",
              "\n",
              "      <script>\n",
              "        const buttonEl =\n",
              "          document.querySelector('#df-6c32524e-be87-4bfb-8cff-823650f43e22 button.colab-df-convert');\n",
              "        buttonEl.style.display =\n",
              "          google.colab.kernel.accessAllowed ? 'block' : 'none';\n",
              "\n",
              "        async function convertToInteractive(key) {\n",
              "          const element = document.querySelector('#df-6c32524e-be87-4bfb-8cff-823650f43e22');\n",
              "          const dataTable =\n",
              "            await google.colab.kernel.invokeFunction('convertToInteractive',\n",
              "                                                     [key], {});\n",
              "          if (!dataTable) return;\n",
              "\n",
              "          const docLinkHtml = 'Like what you see? Visit the ' +\n",
              "            '<a target=\"_blank\" href=https://colab.research.google.com/notebooks/data_table.ipynb>data table notebook</a>'\n",
              "            + ' to learn more about interactive tables.';\n",
              "          element.innerHTML = '';\n",
              "          dataTable['output_type'] = 'display_data';\n",
              "          await google.colab.output.renderOutput(dataTable, element);\n",
              "          const docLink = document.createElement('div');\n",
              "          docLink.innerHTML = docLinkHtml;\n",
              "          element.appendChild(docLink);\n",
              "        }\n",
              "      </script>\n",
              "    </div>\n",
              "  </div>\n",
              "  "
            ],
            "text/plain": [
              "                                             review_text  ...                                     review_preproc\n",
              "0                 Perfeito....chegou antes do prazo.....  ...                     perfeito chegou antes do prazo\n",
              "1      Foi uma ótima compra! Chegou antes mesmo do pr...  ...  foi uma ótima compra chegou antes mesmo do pra...\n",
              "2         Recebi muito rapido e um otimo custo beneficio  ...     recebi muito rapido e um otimo custo beneficio\n",
              "3                                              Recomendo  ...                                          recomendo\n",
              "4      Só veio uma capa comprei 3 aí paguei. Mais de ...  ...  só veio uma capa comprei 3 aí paguei mais de 1...\n",
              "...                                                  ...  ...                                                ...\n",
              "41739                                         SUCESSO :D  ...                                          sucesso d\n",
              "41740       Tudo OK. Produto entregue no prazo correto.   ...          tudo ok produto entregue no prazo correto\n",
              "41741      Ultimamente estão atrasando muito as entregas  ...      ultimamente estão atrasando muito as entregas\n",
              "41742                                          recomendo  ...                                          recomendo\n",
              "41743  A mascara veio com um pequeno defeito na estam...  ...  a mascara veio com um pequeno defeito na estam...\n",
              "\n",
              "[41744 rows x 4 columns]"
            ]
          },
          "metadata": {},
          "execution_count": 29
        }
      ],
      "source": [
        "df['review_preproc'] = df['review_preproc'].apply(lambda x: ' '.join(tokenizer.tokenize(x)))\n",
        "df"
      ]
    },
    {
      "cell_type": "markdown",
      "metadata": {
        "id": "9VWOQvxatO1d"
      },
      "source": [
        "### Retirar acentos\n",
        "\n",
        "Processar caracteres em ascii é uma boa prática, por isso retiramos acentos."
      ]
    },
    {
      "cell_type": "markdown",
      "metadata": {
        "id": "Nv4gkbMbgd4Q"
      },
      "source": [
        "**Opção 1:** Criar um mapeamento de caracteres acentuados para caracteres sem acento"
      ]
    },
    {
      "cell_type": "code",
      "execution_count": null,
      "metadata": {
        "colab": {
          "base_uri": "https://localhost:8080/",
          "height": 35
        },
        "id": "YGSiZg-8tSjQ",
        "outputId": "929b2adc-b504-4ac1-b68a-b89115458e9e"
      },
      "outputs": [
        {
          "output_type": "execute_result",
          "data": {
            "application/vnd.google.colaboratory.intrinsic+json": {
              "type": "string"
            },
            "text/plain": [
              "'otimo'"
            ]
          },
          "metadata": {},
          "execution_count": 30
        }
      ],
      "source": [
        "repl = str.maketrans(\n",
        "    \"áéúíó\",\n",
        "    \"aeuio\"\n",
        ")\n",
        "palavra = 'ótimo'\n",
        "palavra.translate(repl)"
      ]
    },
    {
      "cell_type": "markdown",
      "metadata": {
        "id": "nmNnYBu2h2tF"
      },
      "source": [
        "**Opção 2:** Usar lib unidecode, https://github.com/avian2/unidecode."
      ]
    },
    {
      "cell_type": "code",
      "execution_count": null,
      "metadata": {
        "colab": {
          "base_uri": "https://localhost:8080/"
        },
        "id": "EsRoEVV0h_Wk",
        "outputId": "ecd1140a-7f09-49f6-cb12-d94575637fc0"
      },
      "outputs": [
        {
          "output_type": "stream",
          "name": "stdout",
          "text": [
            "Collecting unidecode\n",
            "  Downloading Unidecode-1.3.2-py3-none-any.whl (235 kB)\n",
            "\u001b[?25l\r\u001b[K     |█▍                              | 10 kB 24.3 MB/s eta 0:00:01\r\u001b[K     |██▉                             | 20 kB 30.5 MB/s eta 0:00:01\r\u001b[K     |████▏                           | 30 kB 35.0 MB/s eta 0:00:01\r\u001b[K     |█████▋                          | 40 kB 20.6 MB/s eta 0:00:01\r\u001b[K     |███████                         | 51 kB 10.7 MB/s eta 0:00:01\r\u001b[K     |████████▍                       | 61 kB 10.8 MB/s eta 0:00:01\r\u001b[K     |█████████▊                      | 71 kB 8.4 MB/s eta 0:00:01\r\u001b[K     |███████████▏                    | 81 kB 9.4 MB/s eta 0:00:01\r\u001b[K     |████████████▌                   | 92 kB 7.7 MB/s eta 0:00:01\r\u001b[K     |██████████████                  | 102 kB 8.4 MB/s eta 0:00:01\r\u001b[K     |███████████████▎                | 112 kB 8.4 MB/s eta 0:00:01\r\u001b[K     |████████████████▊               | 122 kB 8.4 MB/s eta 0:00:01\r\u001b[K     |██████████████████              | 133 kB 8.4 MB/s eta 0:00:01\r\u001b[K     |███████████████████▌            | 143 kB 8.4 MB/s eta 0:00:01\r\u001b[K     |████████████████████▉           | 153 kB 8.4 MB/s eta 0:00:01\r\u001b[K     |██████████████████████▎         | 163 kB 8.4 MB/s eta 0:00:01\r\u001b[K     |███████████████████████▋        | 174 kB 8.4 MB/s eta 0:00:01\r\u001b[K     |█████████████████████████       | 184 kB 8.4 MB/s eta 0:00:01\r\u001b[K     |██████████████████████████▍     | 194 kB 8.4 MB/s eta 0:00:01\r\u001b[K     |███████████████████████████▉    | 204 kB 8.4 MB/s eta 0:00:01\r\u001b[K     |█████████████████████████████▏  | 215 kB 8.4 MB/s eta 0:00:01\r\u001b[K     |██████████████████████████████▋ | 225 kB 8.4 MB/s eta 0:00:01\r\u001b[K     |████████████████████████████████| 235 kB 8.4 MB/s eta 0:00:01\r\u001b[K     |████████████████████████████████| 235 kB 8.4 MB/s \n",
            "\u001b[?25hInstalling collected packages: unidecode\n",
            "Successfully installed unidecode-1.3.2\n"
          ]
        }
      ],
      "source": [
        "!pip install unidecode\n",
        "import unidecode"
      ]
    },
    {
      "cell_type": "code",
      "source": [
        "exemplo.split()"
      ],
      "metadata": {
        "colab": {
          "base_uri": "https://localhost:8080/"
        },
        "id": "TvgIOSltnK5X",
        "outputId": "a5c86a56-8408-4983-9187-0236e13d90b1"
      },
      "execution_count": null,
      "outputs": [
        {
          "output_type": "execute_result",
          "data": {
            "text/plain": [
              "['excelente',\n",
              " 'valeu',\n",
              " 'demais',\n",
              " 'passar',\n",
              " 'um',\n",
              " 'tempo',\n",
              " 'pesquisando',\n",
              " 'preços',\n",
              " 'pois',\n",
              " 'encontrei',\n",
              " 'esse',\n",
              " 'ótimo',\n",
              " 'carregador',\n",
              " 'de',\n",
              " 'celular',\n",
              " 'nota',\n",
              " '10']"
            ]
          },
          "metadata": {},
          "execution_count": 33
        }
      ]
    },
    {
      "cell_type": "code",
      "execution_count": null,
      "metadata": {
        "colab": {
          "base_uri": "https://localhost:8080/",
          "height": 35
        },
        "id": "KLVMuNxNh9DS",
        "outputId": "7bc5c6a6-328d-4883-ef95-f48f6732dfa0"
      },
      "outputs": [
        {
          "output_type": "execute_result",
          "data": {
            "application/vnd.google.colaboratory.intrinsic+json": {
              "type": "string"
            },
            "text/plain": [
              "'excelente valeu demais passar um tempo pesquisando precos pois encontrei esse otimo carregador de celular nota 10'"
            ]
          },
          "metadata": {},
          "execution_count": 34
        }
      ],
      "source": [
        "exemplo = ' '.join([unidecode.unidecode(termo) for termo in exemplo.split()])\n",
        "exemplo"
      ]
    },
    {
      "cell_type": "code",
      "execution_count": null,
      "metadata": {
        "colab": {
          "base_uri": "https://localhost:8080/",
          "height": 696
        },
        "id": "-50w1wO2u61I",
        "outputId": "48b8f520-dc16-4e62-92cf-c773aa1548f1"
      },
      "outputs": [
        {
          "output_type": "stream",
          "name": "stderr",
          "text": [
            "/usr/local/lib/python3.7/dist-packages/ipykernel_launcher.py:1: SettingWithCopyWarning: \n",
            "A value is trying to be set on a copy of a slice from a DataFrame.\n",
            "Try using .loc[row_indexer,col_indexer] = value instead\n",
            "\n",
            "See the caveats in the documentation: https://pandas.pydata.org/pandas-docs/stable/user_guide/indexing.html#returning-a-view-versus-a-copy\n",
            "  \"\"\"Entry point for launching an IPython kernel.\n"
          ]
        },
        {
          "output_type": "execute_result",
          "data": {
            "text/html": [
              "\n",
              "  <div id=\"df-79457cc3-528e-4e06-aef3-bbb1e1d78a65\">\n",
              "    <div class=\"colab-df-container\">\n",
              "      <div>\n",
              "<style scoped>\n",
              "    .dataframe tbody tr th:only-of-type {\n",
              "        vertical-align: middle;\n",
              "    }\n",
              "\n",
              "    .dataframe tbody tr th {\n",
              "        vertical-align: top;\n",
              "    }\n",
              "\n",
              "    .dataframe thead th {\n",
              "        text-align: right;\n",
              "    }\n",
              "</style>\n",
              "<table border=\"1\" class=\"dataframe\">\n",
              "  <thead>\n",
              "    <tr style=\"text-align: right;\">\n",
              "      <th></th>\n",
              "      <th>review_text</th>\n",
              "      <th>review_text_processed</th>\n",
              "      <th>polarity</th>\n",
              "      <th>review_preproc</th>\n",
              "    </tr>\n",
              "  </thead>\n",
              "  <tbody>\n",
              "    <tr>\n",
              "      <th>0</th>\n",
              "      <td>Perfeito....chegou antes do prazo.....</td>\n",
              "      <td>perfeito....chegou antes do prazo.....</td>\n",
              "      <td>1.0</td>\n",
              "      <td>perfeito chegou antes do prazo</td>\n",
              "    </tr>\n",
              "    <tr>\n",
              "      <th>1</th>\n",
              "      <td>Foi uma ótima compra! Chegou antes mesmo do pr...</td>\n",
              "      <td>foi uma otima compra! chegou antes mesmo do pr...</td>\n",
              "      <td>1.0</td>\n",
              "      <td>foi uma otima compra chegou antes mesmo do pra...</td>\n",
              "    </tr>\n",
              "    <tr>\n",
              "      <th>2</th>\n",
              "      <td>Recebi muito rapido e um otimo custo beneficio</td>\n",
              "      <td>recebi muito rapido e um otimo custo beneficio</td>\n",
              "      <td>1.0</td>\n",
              "      <td>recebi muito rapido e um otimo custo beneficio</td>\n",
              "    </tr>\n",
              "    <tr>\n",
              "      <th>3</th>\n",
              "      <td>Recomendo</td>\n",
              "      <td>recomendo</td>\n",
              "      <td>1.0</td>\n",
              "      <td>recomendo</td>\n",
              "    </tr>\n",
              "    <tr>\n",
              "      <th>4</th>\n",
              "      <td>Só veio uma capa comprei 3 aí paguei. Mais de ...</td>\n",
              "      <td>so veio uma capa comprei 3 ai paguei. mais de ...</td>\n",
              "      <td>0.0</td>\n",
              "      <td>so veio uma capa comprei 3 ai paguei mais de 1...</td>\n",
              "    </tr>\n",
              "    <tr>\n",
              "      <th>...</th>\n",
              "      <td>...</td>\n",
              "      <td>...</td>\n",
              "      <td>...</td>\n",
              "      <td>...</td>\n",
              "    </tr>\n",
              "    <tr>\n",
              "      <th>41739</th>\n",
              "      <td>SUCESSO :D</td>\n",
              "      <td>sucesso :d</td>\n",
              "      <td>1.0</td>\n",
              "      <td>sucesso d</td>\n",
              "    </tr>\n",
              "    <tr>\n",
              "      <th>41740</th>\n",
              "      <td>Tudo OK. Produto entregue no prazo correto.</td>\n",
              "      <td>tudo ok. produto entregue no prazo correto.</td>\n",
              "      <td>1.0</td>\n",
              "      <td>tudo ok produto entregue no prazo correto</td>\n",
              "    </tr>\n",
              "    <tr>\n",
              "      <th>41741</th>\n",
              "      <td>Ultimamente estão atrasando muito as entregas</td>\n",
              "      <td>ultimamente estao atrasando muito as entregas</td>\n",
              "      <td>0.0</td>\n",
              "      <td>ultimamente estao atrasando muito as entregas</td>\n",
              "    </tr>\n",
              "    <tr>\n",
              "      <th>41742</th>\n",
              "      <td>recomendo</td>\n",
              "      <td>recomendo</td>\n",
              "      <td>1.0</td>\n",
              "      <td>recomendo</td>\n",
              "    </tr>\n",
              "    <tr>\n",
              "      <th>41743</th>\n",
              "      <td>A mascara veio com um pequeno defeito na estam...</td>\n",
              "      <td>a mascara veio com um pequeno defeito na estam...</td>\n",
              "      <td>0.0</td>\n",
              "      <td>a mascara veio com um pequeno defeito na estam...</td>\n",
              "    </tr>\n",
              "  </tbody>\n",
              "</table>\n",
              "<p>41744 rows × 4 columns</p>\n",
              "</div>\n",
              "      <button class=\"colab-df-convert\" onclick=\"convertToInteractive('df-79457cc3-528e-4e06-aef3-bbb1e1d78a65')\"\n",
              "              title=\"Convert this dataframe to an interactive table.\"\n",
              "              style=\"display:none;\">\n",
              "        \n",
              "  <svg xmlns=\"http://www.w3.org/2000/svg\" height=\"24px\"viewBox=\"0 0 24 24\"\n",
              "       width=\"24px\">\n",
              "    <path d=\"M0 0h24v24H0V0z\" fill=\"none\"/>\n",
              "    <path d=\"M18.56 5.44l.94 2.06.94-2.06 2.06-.94-2.06-.94-.94-2.06-.94 2.06-2.06.94zm-11 1L8.5 8.5l.94-2.06 2.06-.94-2.06-.94L8.5 2.5l-.94 2.06-2.06.94zm10 10l.94 2.06.94-2.06 2.06-.94-2.06-.94-.94-2.06-.94 2.06-2.06.94z\"/><path d=\"M17.41 7.96l-1.37-1.37c-.4-.4-.92-.59-1.43-.59-.52 0-1.04.2-1.43.59L10.3 9.45l-7.72 7.72c-.78.78-.78 2.05 0 2.83L4 21.41c.39.39.9.59 1.41.59.51 0 1.02-.2 1.41-.59l7.78-7.78 2.81-2.81c.8-.78.8-2.07 0-2.86zM5.41 20L4 18.59l7.72-7.72 1.47 1.35L5.41 20z\"/>\n",
              "  </svg>\n",
              "      </button>\n",
              "      \n",
              "  <style>\n",
              "    .colab-df-container {\n",
              "      display:flex;\n",
              "      flex-wrap:wrap;\n",
              "      gap: 12px;\n",
              "    }\n",
              "\n",
              "    .colab-df-convert {\n",
              "      background-color: #E8F0FE;\n",
              "      border: none;\n",
              "      border-radius: 50%;\n",
              "      cursor: pointer;\n",
              "      display: none;\n",
              "      fill: #1967D2;\n",
              "      height: 32px;\n",
              "      padding: 0 0 0 0;\n",
              "      width: 32px;\n",
              "    }\n",
              "\n",
              "    .colab-df-convert:hover {\n",
              "      background-color: #E2EBFA;\n",
              "      box-shadow: 0px 1px 2px rgba(60, 64, 67, 0.3), 0px 1px 3px 1px rgba(60, 64, 67, 0.15);\n",
              "      fill: #174EA6;\n",
              "    }\n",
              "\n",
              "    [theme=dark] .colab-df-convert {\n",
              "      background-color: #3B4455;\n",
              "      fill: #D2E3FC;\n",
              "    }\n",
              "\n",
              "    [theme=dark] .colab-df-convert:hover {\n",
              "      background-color: #434B5C;\n",
              "      box-shadow: 0px 1px 3px 1px rgba(0, 0, 0, 0.15);\n",
              "      filter: drop-shadow(0px 1px 2px rgba(0, 0, 0, 0.3));\n",
              "      fill: #FFFFFF;\n",
              "    }\n",
              "  </style>\n",
              "\n",
              "      <script>\n",
              "        const buttonEl =\n",
              "          document.querySelector('#df-79457cc3-528e-4e06-aef3-bbb1e1d78a65 button.colab-df-convert');\n",
              "        buttonEl.style.display =\n",
              "          google.colab.kernel.accessAllowed ? 'block' : 'none';\n",
              "\n",
              "        async function convertToInteractive(key) {\n",
              "          const element = document.querySelector('#df-79457cc3-528e-4e06-aef3-bbb1e1d78a65');\n",
              "          const dataTable =\n",
              "            await google.colab.kernel.invokeFunction('convertToInteractive',\n",
              "                                                     [key], {});\n",
              "          if (!dataTable) return;\n",
              "\n",
              "          const docLinkHtml = 'Like what you see? Visit the ' +\n",
              "            '<a target=\"_blank\" href=https://colab.research.google.com/notebooks/data_table.ipynb>data table notebook</a>'\n",
              "            + ' to learn more about interactive tables.';\n",
              "          element.innerHTML = '';\n",
              "          dataTable['output_type'] = 'display_data';\n",
              "          await google.colab.output.renderOutput(dataTable, element);\n",
              "          const docLink = document.createElement('div');\n",
              "          docLink.innerHTML = docLinkHtml;\n",
              "          element.appendChild(docLink);\n",
              "        }\n",
              "      </script>\n",
              "    </div>\n",
              "  </div>\n",
              "  "
            ],
            "text/plain": [
              "                                             review_text  ...                                     review_preproc\n",
              "0                 Perfeito....chegou antes do prazo.....  ...                     perfeito chegou antes do prazo\n",
              "1      Foi uma ótima compra! Chegou antes mesmo do pr...  ...  foi uma otima compra chegou antes mesmo do pra...\n",
              "2         Recebi muito rapido e um otimo custo beneficio  ...     recebi muito rapido e um otimo custo beneficio\n",
              "3                                              Recomendo  ...                                          recomendo\n",
              "4      Só veio uma capa comprei 3 aí paguei. Mais de ...  ...  so veio uma capa comprei 3 ai paguei mais de 1...\n",
              "...                                                  ...  ...                                                ...\n",
              "41739                                         SUCESSO :D  ...                                          sucesso d\n",
              "41740       Tudo OK. Produto entregue no prazo correto.   ...          tudo ok produto entregue no prazo correto\n",
              "41741      Ultimamente estão atrasando muito as entregas  ...      ultimamente estao atrasando muito as entregas\n",
              "41742                                          recomendo  ...                                          recomendo\n",
              "41743  A mascara veio com um pequeno defeito na estam...  ...  a mascara veio com um pequeno defeito na estam...\n",
              "\n",
              "[41744 rows x 4 columns]"
            ]
          },
          "metadata": {},
          "execution_count": 35
        }
      ],
      "source": [
        "df['review_preproc'] = df['review_preproc'].apply(lambda x: ' '.join([unidecode.unidecode(termo) for termo in x.split()]))\n",
        "df"
      ]
    },
    {
      "cell_type": "markdown",
      "metadata": {
        "id": "XP3U0XWKsmSf"
      },
      "source": [
        "### Retirar stopwords\n",
        "\n",
        "Dentro de um vocabulário, podem existir termos que se repetem muito e agregam pouca informação. Isso costuma acontecer com preposições e artigos, por exemplo.\n",
        "\n",
        "As palavras que ocorrem nesse sentido são separadas em uma lista, e então removidas.\n",
        "\n",
        "Referência complementar: https://www.nltk.org/howto/portuguese_en.html"
      ]
    },
    {
      "cell_type": "markdown",
      "metadata": {
        "id": "2eboxoJniHob"
      },
      "source": [
        "**Opção 1:** Podemos manualmente setar termos para retirada em uma lista"
      ]
    },
    {
      "cell_type": "code",
      "execution_count": null,
      "metadata": {
        "id": "T3eVHhOSsv15"
      },
      "outputs": [],
      "source": [
        "stopwords = ['de', 'para', 'uma', 'o', 'e']"
      ]
    },
    {
      "cell_type": "markdown",
      "metadata": {
        "id": "it72EuTxiSuY"
      },
      "source": [
        "**Opção 2:** Podemos usar a lista de stopwords compilada pela lib NLTK"
      ]
    },
    {
      "cell_type": "code",
      "execution_count": null,
      "metadata": {
        "colab": {
          "base_uri": "https://localhost:8080/"
        },
        "id": "27O0uibLiZPM",
        "outputId": "49dacd3f-82f3-4a34-8f43-b284493b0fc1"
      },
      "outputs": [
        {
          "output_type": "stream",
          "name": "stdout",
          "text": [
            "[nltk_data] Downloading package stopwords to /root/nltk_data...\n",
            "[nltk_data]   Unzipping corpora/stopwords.zip.\n"
          ]
        }
      ],
      "source": [
        "import nltk\n",
        "nltk.download('stopwords')\n",
        "stopwords = nltk.corpus.stopwords.words('portuguese')"
      ]
    },
    {
      "cell_type": "code",
      "source": [
        "stopwords"
      ],
      "metadata": {
        "id": "xSQ48651GO1Y"
      },
      "execution_count": null,
      "outputs": []
    },
    {
      "cell_type": "code",
      "execution_count": null,
      "metadata": {
        "colab": {
          "base_uri": "https://localhost:8080/",
          "height": 35
        },
        "id": "PAO_uksIykAS",
        "outputId": "b740d39e-06b5-4124-d60a-fa2228322369"
      },
      "outputs": [
        {
          "output_type": "execute_result",
          "data": {
            "application/vnd.google.colaboratory.intrinsic+json": {
              "type": "string"
            },
            "text/plain": [
              "'excelente valeu demais passar tempo pesquisando precos pois encontrei otimo carregador celular nota 10'"
            ]
          },
          "metadata": {},
          "execution_count": 39
        }
      ],
      "source": [
        "exemplo = ' '.join([termo for termo in exemplo.split() if termo not in stopwords])\n",
        "exemplo"
      ]
    },
    {
      "cell_type": "code",
      "execution_count": null,
      "metadata": {
        "colab": {
          "base_uri": "https://localhost:8080/",
          "height": 696
        },
        "id": "TDm9MCCVwuHT",
        "outputId": "4c802503-75dd-429f-b270-a7e60c97b7ca"
      },
      "outputs": [
        {
          "output_type": "stream",
          "name": "stderr",
          "text": [
            "/usr/local/lib/python3.7/dist-packages/ipykernel_launcher.py:1: SettingWithCopyWarning: \n",
            "A value is trying to be set on a copy of a slice from a DataFrame.\n",
            "Try using .loc[row_indexer,col_indexer] = value instead\n",
            "\n",
            "See the caveats in the documentation: https://pandas.pydata.org/pandas-docs/stable/user_guide/indexing.html#returning-a-view-versus-a-copy\n",
            "  \"\"\"Entry point for launching an IPython kernel.\n"
          ]
        },
        {
          "output_type": "execute_result",
          "data": {
            "text/html": [
              "\n",
              "  <div id=\"df-a8349659-6240-4199-99fb-8d8677a17caa\">\n",
              "    <div class=\"colab-df-container\">\n",
              "      <div>\n",
              "<style scoped>\n",
              "    .dataframe tbody tr th:only-of-type {\n",
              "        vertical-align: middle;\n",
              "    }\n",
              "\n",
              "    .dataframe tbody tr th {\n",
              "        vertical-align: top;\n",
              "    }\n",
              "\n",
              "    .dataframe thead th {\n",
              "        text-align: right;\n",
              "    }\n",
              "</style>\n",
              "<table border=\"1\" class=\"dataframe\">\n",
              "  <thead>\n",
              "    <tr style=\"text-align: right;\">\n",
              "      <th></th>\n",
              "      <th>review_text</th>\n",
              "      <th>review_text_processed</th>\n",
              "      <th>polarity</th>\n",
              "      <th>review_preproc</th>\n",
              "    </tr>\n",
              "  </thead>\n",
              "  <tbody>\n",
              "    <tr>\n",
              "      <th>0</th>\n",
              "      <td>Perfeito....chegou antes do prazo.....</td>\n",
              "      <td>perfeito....chegou antes do prazo.....</td>\n",
              "      <td>1.0</td>\n",
              "      <td>perfeito chegou antes prazo</td>\n",
              "    </tr>\n",
              "    <tr>\n",
              "      <th>1</th>\n",
              "      <td>Foi uma ótima compra! Chegou antes mesmo do pr...</td>\n",
              "      <td>foi uma otima compra! chegou antes mesmo do pr...</td>\n",
              "      <td>1.0</td>\n",
              "      <td>otima compra chegou antes prazo produto igual ...</td>\n",
              "    </tr>\n",
              "    <tr>\n",
              "      <th>2</th>\n",
              "      <td>Recebi muito rapido e um otimo custo beneficio</td>\n",
              "      <td>recebi muito rapido e um otimo custo beneficio</td>\n",
              "      <td>1.0</td>\n",
              "      <td>recebi rapido otimo custo beneficio</td>\n",
              "    </tr>\n",
              "    <tr>\n",
              "      <th>3</th>\n",
              "      <td>Recomendo</td>\n",
              "      <td>recomendo</td>\n",
              "      <td>1.0</td>\n",
              "      <td>recomendo</td>\n",
              "    </tr>\n",
              "    <tr>\n",
              "      <th>4</th>\n",
              "      <td>Só veio uma capa comprei 3 aí paguei. Mais de ...</td>\n",
              "      <td>so veio uma capa comprei 3 ai paguei. mais de ...</td>\n",
              "      <td>0.0</td>\n",
              "      <td>so veio capa comprei 3 ai paguei 100 reais capa</td>\n",
              "    </tr>\n",
              "    <tr>\n",
              "      <th>...</th>\n",
              "      <td>...</td>\n",
              "      <td>...</td>\n",
              "      <td>...</td>\n",
              "      <td>...</td>\n",
              "    </tr>\n",
              "    <tr>\n",
              "      <th>41739</th>\n",
              "      <td>SUCESSO :D</td>\n",
              "      <td>sucesso :d</td>\n",
              "      <td>1.0</td>\n",
              "      <td>sucesso d</td>\n",
              "    </tr>\n",
              "    <tr>\n",
              "      <th>41740</th>\n",
              "      <td>Tudo OK. Produto entregue no prazo correto.</td>\n",
              "      <td>tudo ok. produto entregue no prazo correto.</td>\n",
              "      <td>1.0</td>\n",
              "      <td>tudo ok produto entregue prazo correto</td>\n",
              "    </tr>\n",
              "    <tr>\n",
              "      <th>41741</th>\n",
              "      <td>Ultimamente estão atrasando muito as entregas</td>\n",
              "      <td>ultimamente estao atrasando muito as entregas</td>\n",
              "      <td>0.0</td>\n",
              "      <td>ultimamente estao atrasando entregas</td>\n",
              "    </tr>\n",
              "    <tr>\n",
              "      <th>41742</th>\n",
              "      <td>recomendo</td>\n",
              "      <td>recomendo</td>\n",
              "      <td>1.0</td>\n",
              "      <td>recomendo</td>\n",
              "    </tr>\n",
              "    <tr>\n",
              "      <th>41743</th>\n",
              "      <td>A mascara veio com um pequeno defeito na estam...</td>\n",
              "      <td>a mascara veio com um pequeno defeito na estam...</td>\n",
              "      <td>0.0</td>\n",
              "      <td>mascara veio pequeno defeito estampa derretido...</td>\n",
              "    </tr>\n",
              "  </tbody>\n",
              "</table>\n",
              "<p>41744 rows × 4 columns</p>\n",
              "</div>\n",
              "      <button class=\"colab-df-convert\" onclick=\"convertToInteractive('df-a8349659-6240-4199-99fb-8d8677a17caa')\"\n",
              "              title=\"Convert this dataframe to an interactive table.\"\n",
              "              style=\"display:none;\">\n",
              "        \n",
              "  <svg xmlns=\"http://www.w3.org/2000/svg\" height=\"24px\"viewBox=\"0 0 24 24\"\n",
              "       width=\"24px\">\n",
              "    <path d=\"M0 0h24v24H0V0z\" fill=\"none\"/>\n",
              "    <path d=\"M18.56 5.44l.94 2.06.94-2.06 2.06-.94-2.06-.94-.94-2.06-.94 2.06-2.06.94zm-11 1L8.5 8.5l.94-2.06 2.06-.94-2.06-.94L8.5 2.5l-.94 2.06-2.06.94zm10 10l.94 2.06.94-2.06 2.06-.94-2.06-.94-.94-2.06-.94 2.06-2.06.94z\"/><path d=\"M17.41 7.96l-1.37-1.37c-.4-.4-.92-.59-1.43-.59-.52 0-1.04.2-1.43.59L10.3 9.45l-7.72 7.72c-.78.78-.78 2.05 0 2.83L4 21.41c.39.39.9.59 1.41.59.51 0 1.02-.2 1.41-.59l7.78-7.78 2.81-2.81c.8-.78.8-2.07 0-2.86zM5.41 20L4 18.59l7.72-7.72 1.47 1.35L5.41 20z\"/>\n",
              "  </svg>\n",
              "      </button>\n",
              "      \n",
              "  <style>\n",
              "    .colab-df-container {\n",
              "      display:flex;\n",
              "      flex-wrap:wrap;\n",
              "      gap: 12px;\n",
              "    }\n",
              "\n",
              "    .colab-df-convert {\n",
              "      background-color: #E8F0FE;\n",
              "      border: none;\n",
              "      border-radius: 50%;\n",
              "      cursor: pointer;\n",
              "      display: none;\n",
              "      fill: #1967D2;\n",
              "      height: 32px;\n",
              "      padding: 0 0 0 0;\n",
              "      width: 32px;\n",
              "    }\n",
              "\n",
              "    .colab-df-convert:hover {\n",
              "      background-color: #E2EBFA;\n",
              "      box-shadow: 0px 1px 2px rgba(60, 64, 67, 0.3), 0px 1px 3px 1px rgba(60, 64, 67, 0.15);\n",
              "      fill: #174EA6;\n",
              "    }\n",
              "\n",
              "    [theme=dark] .colab-df-convert {\n",
              "      background-color: #3B4455;\n",
              "      fill: #D2E3FC;\n",
              "    }\n",
              "\n",
              "    [theme=dark] .colab-df-convert:hover {\n",
              "      background-color: #434B5C;\n",
              "      box-shadow: 0px 1px 3px 1px rgba(0, 0, 0, 0.15);\n",
              "      filter: drop-shadow(0px 1px 2px rgba(0, 0, 0, 0.3));\n",
              "      fill: #FFFFFF;\n",
              "    }\n",
              "  </style>\n",
              "\n",
              "      <script>\n",
              "        const buttonEl =\n",
              "          document.querySelector('#df-a8349659-6240-4199-99fb-8d8677a17caa button.colab-df-convert');\n",
              "        buttonEl.style.display =\n",
              "          google.colab.kernel.accessAllowed ? 'block' : 'none';\n",
              "\n",
              "        async function convertToInteractive(key) {\n",
              "          const element = document.querySelector('#df-a8349659-6240-4199-99fb-8d8677a17caa');\n",
              "          const dataTable =\n",
              "            await google.colab.kernel.invokeFunction('convertToInteractive',\n",
              "                                                     [key], {});\n",
              "          if (!dataTable) return;\n",
              "\n",
              "          const docLinkHtml = 'Like what you see? Visit the ' +\n",
              "            '<a target=\"_blank\" href=https://colab.research.google.com/notebooks/data_table.ipynb>data table notebook</a>'\n",
              "            + ' to learn more about interactive tables.';\n",
              "          element.innerHTML = '';\n",
              "          dataTable['output_type'] = 'display_data';\n",
              "          await google.colab.output.renderOutput(dataTable, element);\n",
              "          const docLink = document.createElement('div');\n",
              "          docLink.innerHTML = docLinkHtml;\n",
              "          element.appendChild(docLink);\n",
              "        }\n",
              "      </script>\n",
              "    </div>\n",
              "  </div>\n",
              "  "
            ],
            "text/plain": [
              "                                             review_text  ...                                     review_preproc\n",
              "0                 Perfeito....chegou antes do prazo.....  ...                        perfeito chegou antes prazo\n",
              "1      Foi uma ótima compra! Chegou antes mesmo do pr...  ...  otima compra chegou antes prazo produto igual ...\n",
              "2         Recebi muito rapido e um otimo custo beneficio  ...                recebi rapido otimo custo beneficio\n",
              "3                                              Recomendo  ...                                          recomendo\n",
              "4      Só veio uma capa comprei 3 aí paguei. Mais de ...  ...    so veio capa comprei 3 ai paguei 100 reais capa\n",
              "...                                                  ...  ...                                                ...\n",
              "41739                                         SUCESSO :D  ...                                          sucesso d\n",
              "41740       Tudo OK. Produto entregue no prazo correto.   ...             tudo ok produto entregue prazo correto\n",
              "41741      Ultimamente estão atrasando muito as entregas  ...               ultimamente estao atrasando entregas\n",
              "41742                                          recomendo  ...                                          recomendo\n",
              "41743  A mascara veio com um pequeno defeito na estam...  ...  mascara veio pequeno defeito estampa derretido...\n",
              "\n",
              "[41744 rows x 4 columns]"
            ]
          },
          "metadata": {},
          "execution_count": 40
        }
      ],
      "source": [
        "df['review_preproc'] = df['review_preproc'].apply(lambda x: ' '.join([termo for termo in x.split() if termo not in stopwords]))\n",
        "df"
      ]
    },
    {
      "cell_type": "markdown",
      "metadata": {
        "id": "nnVSBjKqswcL"
      },
      "source": [
        "### Stemmização"
      ]
    },
    {
      "cell_type": "markdown",
      "metadata": {
        "id": "B3tcZsi0i0lV"
      },
      "source": [
        "O objetivo do processo de stemmização é remover a terminação ou os últimos caracteres de uma palavra, de forma a deixar apenas o radical da mesma. Podem ser removidos, por exemplo, sufixos e vogais temáticas verbais.\n",
        "\n",
        "Exemplo: \n",
        "- Termos: Correr, correndo, correrei, ...\n",
        "- Termo derivado da transformação após aplicação do stemmer: corr ou corre, a depender da implementação do algoritmo.\n",
        "\n",
        "Referência complementar: https://www.datacamp.com/community/tutorials/stemming-lemmatization-python"
      ]
    },
    {
      "cell_type": "code",
      "execution_count": null,
      "metadata": {
        "colab": {
          "base_uri": "https://localhost:8080/"
        },
        "id": "qd2vjCURsz3k",
        "outputId": "76bfd734-fa85-4385-ecf7-1c02ccb63f01"
      },
      "outputs": [
        {
          "output_type": "stream",
          "name": "stdout",
          "text": [
            "[nltk_data] Downloading package rslp to /root/nltk_data...\n",
            "[nltk_data]   Unzipping stemmers/rslp.zip.\n"
          ]
        }
      ],
      "source": [
        "nltk.download('rslp')\n",
        "stemmer = nltk.stem.RSLPStemmer()"
      ]
    },
    {
      "cell_type": "code",
      "execution_count": null,
      "metadata": {
        "id": "IYoqamxryTX4",
        "colab": {
          "base_uri": "https://localhost:8080/",
          "height": 35
        },
        "outputId": "ca44ae80-48ed-461c-edc2-944cfb7ca3b9"
      },
      "outputs": [
        {
          "output_type": "execute_result",
          "data": {
            "application/vnd.google.colaboratory.intrinsic+json": {
              "type": "string"
            },
            "text/plain": [
              "'excel val demal pass temp pesquis prec poi encontr otim carreg celul not 10'"
            ]
          },
          "metadata": {},
          "execution_count": 42
        }
      ],
      "source": [
        "exemplo = ' '.join([stemmer.stem(termo) for termo in exemplo.split()])\n",
        "exemplo"
      ]
    },
    {
      "cell_type": "code",
      "execution_count": null,
      "metadata": {
        "colab": {
          "base_uri": "https://localhost:8080/",
          "height": 696
        },
        "id": "G9KLXfv7xiKi",
        "outputId": "daa0abbd-a52d-40cc-ff9a-00ebeceaad38"
      },
      "outputs": [
        {
          "output_type": "stream",
          "name": "stderr",
          "text": [
            "/usr/local/lib/python3.7/dist-packages/ipykernel_launcher.py:1: SettingWithCopyWarning: \n",
            "A value is trying to be set on a copy of a slice from a DataFrame.\n",
            "Try using .loc[row_indexer,col_indexer] = value instead\n",
            "\n",
            "See the caveats in the documentation: https://pandas.pydata.org/pandas-docs/stable/user_guide/indexing.html#returning-a-view-versus-a-copy\n",
            "  \"\"\"Entry point for launching an IPython kernel.\n"
          ]
        },
        {
          "output_type": "execute_result",
          "data": {
            "text/html": [
              "\n",
              "  <div id=\"df-2c1895b5-69bb-4814-93dd-8669a4a1d45c\">\n",
              "    <div class=\"colab-df-container\">\n",
              "      <div>\n",
              "<style scoped>\n",
              "    .dataframe tbody tr th:only-of-type {\n",
              "        vertical-align: middle;\n",
              "    }\n",
              "\n",
              "    .dataframe tbody tr th {\n",
              "        vertical-align: top;\n",
              "    }\n",
              "\n",
              "    .dataframe thead th {\n",
              "        text-align: right;\n",
              "    }\n",
              "</style>\n",
              "<table border=\"1\" class=\"dataframe\">\n",
              "  <thead>\n",
              "    <tr style=\"text-align: right;\">\n",
              "      <th></th>\n",
              "      <th>review_text</th>\n",
              "      <th>review_text_processed</th>\n",
              "      <th>polarity</th>\n",
              "      <th>review_preproc</th>\n",
              "    </tr>\n",
              "  </thead>\n",
              "  <tbody>\n",
              "    <tr>\n",
              "      <th>0</th>\n",
              "      <td>Perfeito....chegou antes do prazo.....</td>\n",
              "      <td>perfeito....chegou antes do prazo.....</td>\n",
              "      <td>1.0</td>\n",
              "      <td>perfeit cheg ant praz</td>\n",
              "    </tr>\n",
              "    <tr>\n",
              "      <th>1</th>\n",
              "      <td>Foi uma ótima compra! Chegou antes mesmo do pr...</td>\n",
              "      <td>foi uma otima compra! chegou antes mesmo do pr...</td>\n",
              "      <td>1.0</td>\n",
              "      <td>otim compr cheg ant praz produt igual anunci c...</td>\n",
              "    </tr>\n",
              "    <tr>\n",
              "      <th>2</th>\n",
              "      <td>Recebi muito rapido e um otimo custo beneficio</td>\n",
              "      <td>recebi muito rapido e um otimo custo beneficio</td>\n",
              "      <td>1.0</td>\n",
              "      <td>receb rap otim cust benefici</td>\n",
              "    </tr>\n",
              "    <tr>\n",
              "      <th>3</th>\n",
              "      <td>Recomendo</td>\n",
              "      <td>recomendo</td>\n",
              "      <td>1.0</td>\n",
              "      <td>recom</td>\n",
              "    </tr>\n",
              "    <tr>\n",
              "      <th>4</th>\n",
              "      <td>Só veio uma capa comprei 3 aí paguei. Mais de ...</td>\n",
              "      <td>so veio uma capa comprei 3 ai paguei. mais de ...</td>\n",
              "      <td>0.0</td>\n",
              "      <td>so vei cap compr 3 ai pag 100 real cap</td>\n",
              "    </tr>\n",
              "    <tr>\n",
              "      <th>...</th>\n",
              "      <td>...</td>\n",
              "      <td>...</td>\n",
              "      <td>...</td>\n",
              "      <td>...</td>\n",
              "    </tr>\n",
              "    <tr>\n",
              "      <th>41739</th>\n",
              "      <td>SUCESSO :D</td>\n",
              "      <td>sucesso :d</td>\n",
              "      <td>1.0</td>\n",
              "      <td>sucess d</td>\n",
              "    </tr>\n",
              "    <tr>\n",
              "      <th>41740</th>\n",
              "      <td>Tudo OK. Produto entregue no prazo correto.</td>\n",
              "      <td>tudo ok. produto entregue no prazo correto.</td>\n",
              "      <td>1.0</td>\n",
              "      <td>tud ok produt entreg praz corret</td>\n",
              "    </tr>\n",
              "    <tr>\n",
              "      <th>41741</th>\n",
              "      <td>Ultimamente estão atrasando muito as entregas</td>\n",
              "      <td>ultimamente estao atrasando muito as entregas</td>\n",
              "      <td>0.0</td>\n",
              "      <td>ultim esta atras entreg</td>\n",
              "    </tr>\n",
              "    <tr>\n",
              "      <th>41742</th>\n",
              "      <td>recomendo</td>\n",
              "      <td>recomendo</td>\n",
              "      <td>1.0</td>\n",
              "      <td>recom</td>\n",
              "    </tr>\n",
              "    <tr>\n",
              "      <th>41743</th>\n",
              "      <td>A mascara veio com um pequeno defeito na estam...</td>\n",
              "      <td>a mascara veio com um pequeno defeito na estam...</td>\n",
              "      <td>0.0</td>\n",
              "      <td>masc vei pequen defeit estamp derret so nao de...</td>\n",
              "    </tr>\n",
              "  </tbody>\n",
              "</table>\n",
              "<p>41744 rows × 4 columns</p>\n",
              "</div>\n",
              "      <button class=\"colab-df-convert\" onclick=\"convertToInteractive('df-2c1895b5-69bb-4814-93dd-8669a4a1d45c')\"\n",
              "              title=\"Convert this dataframe to an interactive table.\"\n",
              "              style=\"display:none;\">\n",
              "        \n",
              "  <svg xmlns=\"http://www.w3.org/2000/svg\" height=\"24px\"viewBox=\"0 0 24 24\"\n",
              "       width=\"24px\">\n",
              "    <path d=\"M0 0h24v24H0V0z\" fill=\"none\"/>\n",
              "    <path d=\"M18.56 5.44l.94 2.06.94-2.06 2.06-.94-2.06-.94-.94-2.06-.94 2.06-2.06.94zm-11 1L8.5 8.5l.94-2.06 2.06-.94-2.06-.94L8.5 2.5l-.94 2.06-2.06.94zm10 10l.94 2.06.94-2.06 2.06-.94-2.06-.94-.94-2.06-.94 2.06-2.06.94z\"/><path d=\"M17.41 7.96l-1.37-1.37c-.4-.4-.92-.59-1.43-.59-.52 0-1.04.2-1.43.59L10.3 9.45l-7.72 7.72c-.78.78-.78 2.05 0 2.83L4 21.41c.39.39.9.59 1.41.59.51 0 1.02-.2 1.41-.59l7.78-7.78 2.81-2.81c.8-.78.8-2.07 0-2.86zM5.41 20L4 18.59l7.72-7.72 1.47 1.35L5.41 20z\"/>\n",
              "  </svg>\n",
              "      </button>\n",
              "      \n",
              "  <style>\n",
              "    .colab-df-container {\n",
              "      display:flex;\n",
              "      flex-wrap:wrap;\n",
              "      gap: 12px;\n",
              "    }\n",
              "\n",
              "    .colab-df-convert {\n",
              "      background-color: #E8F0FE;\n",
              "      border: none;\n",
              "      border-radius: 50%;\n",
              "      cursor: pointer;\n",
              "      display: none;\n",
              "      fill: #1967D2;\n",
              "      height: 32px;\n",
              "      padding: 0 0 0 0;\n",
              "      width: 32px;\n",
              "    }\n",
              "\n",
              "    .colab-df-convert:hover {\n",
              "      background-color: #E2EBFA;\n",
              "      box-shadow: 0px 1px 2px rgba(60, 64, 67, 0.3), 0px 1px 3px 1px rgba(60, 64, 67, 0.15);\n",
              "      fill: #174EA6;\n",
              "    }\n",
              "\n",
              "    [theme=dark] .colab-df-convert {\n",
              "      background-color: #3B4455;\n",
              "      fill: #D2E3FC;\n",
              "    }\n",
              "\n",
              "    [theme=dark] .colab-df-convert:hover {\n",
              "      background-color: #434B5C;\n",
              "      box-shadow: 0px 1px 3px 1px rgba(0, 0, 0, 0.15);\n",
              "      filter: drop-shadow(0px 1px 2px rgba(0, 0, 0, 0.3));\n",
              "      fill: #FFFFFF;\n",
              "    }\n",
              "  </style>\n",
              "\n",
              "      <script>\n",
              "        const buttonEl =\n",
              "          document.querySelector('#df-2c1895b5-69bb-4814-93dd-8669a4a1d45c button.colab-df-convert');\n",
              "        buttonEl.style.display =\n",
              "          google.colab.kernel.accessAllowed ? 'block' : 'none';\n",
              "\n",
              "        async function convertToInteractive(key) {\n",
              "          const element = document.querySelector('#df-2c1895b5-69bb-4814-93dd-8669a4a1d45c');\n",
              "          const dataTable =\n",
              "            await google.colab.kernel.invokeFunction('convertToInteractive',\n",
              "                                                     [key], {});\n",
              "          if (!dataTable) return;\n",
              "\n",
              "          const docLinkHtml = 'Like what you see? Visit the ' +\n",
              "            '<a target=\"_blank\" href=https://colab.research.google.com/notebooks/data_table.ipynb>data table notebook</a>'\n",
              "            + ' to learn more about interactive tables.';\n",
              "          element.innerHTML = '';\n",
              "          dataTable['output_type'] = 'display_data';\n",
              "          await google.colab.output.renderOutput(dataTable, element);\n",
              "          const docLink = document.createElement('div');\n",
              "          docLink.innerHTML = docLinkHtml;\n",
              "          element.appendChild(docLink);\n",
              "        }\n",
              "      </script>\n",
              "    </div>\n",
              "  </div>\n",
              "  "
            ],
            "text/plain": [
              "                                             review_text  ...                                     review_preproc\n",
              "0                 Perfeito....chegou antes do prazo.....  ...                              perfeit cheg ant praz\n",
              "1      Foi uma ótima compra! Chegou antes mesmo do pr...  ...  otim compr cheg ant praz produt igual anunci c...\n",
              "2         Recebi muito rapido e um otimo custo beneficio  ...                       receb rap otim cust benefici\n",
              "3                                              Recomendo  ...                                              recom\n",
              "4      Só veio uma capa comprei 3 aí paguei. Mais de ...  ...             so vei cap compr 3 ai pag 100 real cap\n",
              "...                                                  ...  ...                                                ...\n",
              "41739                                         SUCESSO :D  ...                                           sucess d\n",
              "41740       Tudo OK. Produto entregue no prazo correto.   ...                   tud ok produt entreg praz corret\n",
              "41741      Ultimamente estão atrasando muito as entregas  ...                            ultim esta atras entreg\n",
              "41742                                          recomendo  ...                                              recom\n",
              "41743  A mascara veio com um pequeno defeito na estam...  ...  masc vei pequen defeit estamp derret so nao de...\n",
              "\n",
              "[41744 rows x 4 columns]"
            ]
          },
          "metadata": {},
          "execution_count": 43
        }
      ],
      "source": [
        "df['review_preproc'] = df['review_preproc'].apply(lambda x: ' '.join(stemmer.stem(termo) for termo in x.split()))\n",
        "df"
      ]
    },
    {
      "cell_type": "markdown",
      "metadata": {
        "id": "RMDEkgOss0b-"
      },
      "source": [
        "### Preciso sempre usar todas essas técnicas?\n",
        "\n",
        "Não! O importante é analisar o tipo de dado que se está lidando e verificar a melhor forma de passá-lo para os algoritmos da tarefa de NLP em voga. Um exemplo é esse dado abaixo, sobre atos de pessoal do Diário Oficial do DF."
      ]
    },
    {
      "cell_type": "code",
      "execution_count": null,
      "metadata": {
        "id": "lzSnL1Jo9uHz",
        "colab": {
          "base_uri": "https://localhost:8080/"
        },
        "outputId": "153e6a0c-4192-4a0e-d6d8-18d7f8d2ef6d"
      },
      "outputs": [
        {
          "output_type": "stream",
          "name": "stdout",
          "text": [
            "Cloning into 'tcdf_text_classification'...\n",
            "warning: --local is ignored\n",
            "remote: Enumerating objects: 34, done.\u001b[K\n",
            "remote: Counting objects: 100% (34/34), done.\u001b[K\n",
            "remote: Compressing objects: 100% (25/25), done.\u001b[K\n",
            "remote: Total 34 (delta 12), reused 27 (delta 7), pack-reused 0\u001b[K\n",
            "Receiving objects: 100% (34/34), 700.04 KiB | 2.66 MiB/s, done.\n",
            "Resolving deltas: 100% (12/12), done.\n"
          ]
        }
      ],
      "source": [
        "!git clone -l -s git://github.com/mstauffer/tcdf_text_classification.git"
      ]
    },
    {
      "cell_type": "code",
      "execution_count": null,
      "metadata": {
        "id": "CQoBfjaM90lV",
        "colab": {
          "base_uri": "https://localhost:8080/",
          "height": 731
        },
        "outputId": "46b1754f-3612-4012-c8fb-353129f54288"
      },
      "outputs": [
        {
          "output_type": "execute_result",
          "data": {
            "text/html": [
              "\n",
              "  <div id=\"df-363570a8-c7da-47e4-b4c0-1e7b2fe5bae1\">\n",
              "    <div class=\"colab-df-container\">\n",
              "      <div>\n",
              "<style scoped>\n",
              "    .dataframe tbody tr th:only-of-type {\n",
              "        vertical-align: middle;\n",
              "    }\n",
              "\n",
              "    .dataframe tbody tr th {\n",
              "        vertical-align: top;\n",
              "    }\n",
              "\n",
              "    .dataframe thead th {\n",
              "        text-align: right;\n",
              "    }\n",
              "</style>\n",
              "<table border=\"1\" class=\"dataframe\">\n",
              "  <thead>\n",
              "    <tr style=\"text-align: right;\">\n",
              "      <th></th>\n",
              "      <th>id_dodf</th>\n",
              "      <th>tipo_rel</th>\n",
              "      <th>id_rel</th>\n",
              "      <th>anotador_rel</th>\n",
              "      <th>tipo_ent</th>\n",
              "      <th>id_ent</th>\n",
              "      <th>anotador_ent</th>\n",
              "      <th>offset</th>\n",
              "      <th>length</th>\n",
              "      <th>texto</th>\n",
              "    </tr>\n",
              "  </thead>\n",
              "  <tbody>\n",
              "    <tr>\n",
              "      <th>0</th>\n",
              "      <td>80_194.30.9.8</td>\n",
              "      <td>Ato_Reversao</td>\n",
              "      <td>R1</td>\n",
              "      <td>carlos_gabriel</td>\n",
              "      <td>nome</td>\n",
              "      <td>3537</td>\n",
              "      <td>carlos_gabriel</td>\n",
              "      <td>197948</td>\n",
              "      <td>23</td>\n",
              "      <td>YURI MACHADO DE MENEZES</td>\n",
              "    </tr>\n",
              "    <tr>\n",
              "      <th>1</th>\n",
              "      <td>80_194.30.9.8</td>\n",
              "      <td>Ato_Reversao</td>\n",
              "      <td>R1</td>\n",
              "      <td>carlos_gabriel</td>\n",
              "      <td>matricula</td>\n",
              "      <td>3538</td>\n",
              "      <td>carlos_gabriel</td>\n",
              "      <td>197983</td>\n",
              "      <td>8</td>\n",
              "      <td>61.836-5</td>\n",
              "    </tr>\n",
              "    <tr>\n",
              "      <th>2</th>\n",
              "      <td>80_194.30.9.8</td>\n",
              "      <td>Ato_Reversao</td>\n",
              "      <td>R1</td>\n",
              "      <td>carlos_gabriel</td>\n",
              "      <td>vigencia</td>\n",
              "      <td>3539</td>\n",
              "      <td>carlos_gabriel</td>\n",
              "      <td>198021</td>\n",
              "      <td>22</td>\n",
              "      <td>12 de setembro de 2008</td>\n",
              "    </tr>\n",
              "    <tr>\n",
              "      <th>3</th>\n",
              "      <td>80_194.30.9.8</td>\n",
              "      <td>Ato_Reversao</td>\n",
              "      <td>R1</td>\n",
              "      <td>carlos_gabriel</td>\n",
              "      <td>Ato_Reversao</td>\n",
              "      <td>3540</td>\n",
              "      <td>carlos_gabriel</td>\n",
              "      <td>197866</td>\n",
              "      <td>178</td>\n",
              "      <td>REVERTER o REGIME DE TEMPO INTEGRAL E DEDICACA...</td>\n",
              "    </tr>\n",
              "    <tr>\n",
              "      <th>4</th>\n",
              "      <td>87_118.20.6.8</td>\n",
              "      <td>Ato_Nomeacao_Comissionado</td>\n",
              "      <td>R1</td>\n",
              "      <td>lygia_paloma</td>\n",
              "      <td>nome</td>\n",
              "      <td>1583</td>\n",
              "      <td>lygia_paloma</td>\n",
              "      <td>212316</td>\n",
              "      <td>28</td>\n",
              "      <td>JOAO PAULO PATROCINA MARQUES</td>\n",
              "    </tr>\n",
              "    <tr>\n",
              "      <th>...</th>\n",
              "      <td>...</td>\n",
              "      <td>...</td>\n",
              "      <td>...</td>\n",
              "      <td>...</td>\n",
              "      <td>...</td>\n",
              "      <td>...</td>\n",
              "      <td>...</td>\n",
              "      <td>...</td>\n",
              "      <td>...</td>\n",
              "      <td>...</td>\n",
              "    </tr>\n",
              "    <tr>\n",
              "      <th>20750</th>\n",
              "      <td>13_212.10.10.2013</td>\n",
              "      <td>Ato_Substituicao</td>\n",
              "      <td>R40</td>\n",
              "      <td>khalil_carsten</td>\n",
              "      <td>matricula_substituido</td>\n",
              "      <td>8685</td>\n",
              "      <td>vinicius_borges</td>\n",
              "      <td>644324</td>\n",
              "      <td>9</td>\n",
              "      <td>174.833-5</td>\n",
              "    </tr>\n",
              "    <tr>\n",
              "      <th>20751</th>\n",
              "      <td>13_212.10.10.2013</td>\n",
              "      <td>Ato_Substituicao</td>\n",
              "      <td>R40</td>\n",
              "      <td>khalil_carsten</td>\n",
              "      <td>data_inicial</td>\n",
              "      <td>8686</td>\n",
              "      <td>vinicius_borges</td>\n",
              "      <td>644348</td>\n",
              "      <td>2</td>\n",
              "      <td>09</td>\n",
              "    </tr>\n",
              "    <tr>\n",
              "      <th>20752</th>\n",
              "      <td>13_212.10.10.2013</td>\n",
              "      <td>Ato_Substituicao</td>\n",
              "      <td>R40</td>\n",
              "      <td>khalil_carsten</td>\n",
              "      <td>data_final</td>\n",
              "      <td>8687</td>\n",
              "      <td>vinicius_borges</td>\n",
              "      <td>644353</td>\n",
              "      <td>10</td>\n",
              "      <td>11/10/2013</td>\n",
              "    </tr>\n",
              "    <tr>\n",
              "      <th>20753</th>\n",
              "      <td>13_212.10.10.2013</td>\n",
              "      <td>Ato_Substituicao</td>\n",
              "      <td>R40</td>\n",
              "      <td>khalil_carsten</td>\n",
              "      <td>motivo</td>\n",
              "      <td>8688</td>\n",
              "      <td>vinicius_borges</td>\n",
              "      <td>644380</td>\n",
              "      <td>32</td>\n",
              "      <td>ferias regulamentares da titular</td>\n",
              "    </tr>\n",
              "    <tr>\n",
              "      <th>20754</th>\n",
              "      <td>13_212.10.10.2013</td>\n",
              "      <td>Ato_Substituicao</td>\n",
              "      <td>R40</td>\n",
              "      <td>khalil_carsten</td>\n",
              "      <td>nome_substituto</td>\n",
              "      <td>112344</td>\n",
              "      <td>khalil_carsten</td>\n",
              "      <td>644086</td>\n",
              "      <td>42</td>\n",
              "      <td>VANESSA CARNEIRO FERNANDES FERREIRA AMARAL</td>\n",
              "    </tr>\n",
              "  </tbody>\n",
              "</table>\n",
              "<p>20755 rows × 10 columns</p>\n",
              "</div>\n",
              "      <button class=\"colab-df-convert\" onclick=\"convertToInteractive('df-363570a8-c7da-47e4-b4c0-1e7b2fe5bae1')\"\n",
              "              title=\"Convert this dataframe to an interactive table.\"\n",
              "              style=\"display:none;\">\n",
              "        \n",
              "  <svg xmlns=\"http://www.w3.org/2000/svg\" height=\"24px\"viewBox=\"0 0 24 24\"\n",
              "       width=\"24px\">\n",
              "    <path d=\"M0 0h24v24H0V0z\" fill=\"none\"/>\n",
              "    <path d=\"M18.56 5.44l.94 2.06.94-2.06 2.06-.94-2.06-.94-.94-2.06-.94 2.06-2.06.94zm-11 1L8.5 8.5l.94-2.06 2.06-.94-2.06-.94L8.5 2.5l-.94 2.06-2.06.94zm10 10l.94 2.06.94-2.06 2.06-.94-2.06-.94-.94-2.06-.94 2.06-2.06.94z\"/><path d=\"M17.41 7.96l-1.37-1.37c-.4-.4-.92-.59-1.43-.59-.52 0-1.04.2-1.43.59L10.3 9.45l-7.72 7.72c-.78.78-.78 2.05 0 2.83L4 21.41c.39.39.9.59 1.41.59.51 0 1.02-.2 1.41-.59l7.78-7.78 2.81-2.81c.8-.78.8-2.07 0-2.86zM5.41 20L4 18.59l7.72-7.72 1.47 1.35L5.41 20z\"/>\n",
              "  </svg>\n",
              "      </button>\n",
              "      \n",
              "  <style>\n",
              "    .colab-df-container {\n",
              "      display:flex;\n",
              "      flex-wrap:wrap;\n",
              "      gap: 12px;\n",
              "    }\n",
              "\n",
              "    .colab-df-convert {\n",
              "      background-color: #E8F0FE;\n",
              "      border: none;\n",
              "      border-radius: 50%;\n",
              "      cursor: pointer;\n",
              "      display: none;\n",
              "      fill: #1967D2;\n",
              "      height: 32px;\n",
              "      padding: 0 0 0 0;\n",
              "      width: 32px;\n",
              "    }\n",
              "\n",
              "    .colab-df-convert:hover {\n",
              "      background-color: #E2EBFA;\n",
              "      box-shadow: 0px 1px 2px rgba(60, 64, 67, 0.3), 0px 1px 3px 1px rgba(60, 64, 67, 0.15);\n",
              "      fill: #174EA6;\n",
              "    }\n",
              "\n",
              "    [theme=dark] .colab-df-convert {\n",
              "      background-color: #3B4455;\n",
              "      fill: #D2E3FC;\n",
              "    }\n",
              "\n",
              "    [theme=dark] .colab-df-convert:hover {\n",
              "      background-color: #434B5C;\n",
              "      box-shadow: 0px 1px 3px 1px rgba(0, 0, 0, 0.15);\n",
              "      filter: drop-shadow(0px 1px 2px rgba(0, 0, 0, 0.3));\n",
              "      fill: #FFFFFF;\n",
              "    }\n",
              "  </style>\n",
              "\n",
              "      <script>\n",
              "        const buttonEl =\n",
              "          document.querySelector('#df-363570a8-c7da-47e4-b4c0-1e7b2fe5bae1 button.colab-df-convert');\n",
              "        buttonEl.style.display =\n",
              "          google.colab.kernel.accessAllowed ? 'block' : 'none';\n",
              "\n",
              "        async function convertToInteractive(key) {\n",
              "          const element = document.querySelector('#df-363570a8-c7da-47e4-b4c0-1e7b2fe5bae1');\n",
              "          const dataTable =\n",
              "            await google.colab.kernel.invokeFunction('convertToInteractive',\n",
              "                                                     [key], {});\n",
              "          if (!dataTable) return;\n",
              "\n",
              "          const docLinkHtml = 'Like what you see? Visit the ' +\n",
              "            '<a target=\"_blank\" href=https://colab.research.google.com/notebooks/data_table.ipynb>data table notebook</a>'\n",
              "            + ' to learn more about interactive tables.';\n",
              "          element.innerHTML = '';\n",
              "          dataTable['output_type'] = 'display_data';\n",
              "          await google.colab.output.renderOutput(dataTable, element);\n",
              "          const docLink = document.createElement('div');\n",
              "          docLink.innerHTML = docLinkHtml;\n",
              "          element.appendChild(docLink);\n",
              "        }\n",
              "      </script>\n",
              "    </div>\n",
              "  </div>\n",
              "  "
            ],
            "text/plain": [
              "                 id_dodf  ...                                              texto\n",
              "0          80_194.30.9.8  ...                            YURI MACHADO DE MENEZES\n",
              "1          80_194.30.9.8  ...                                           61.836-5\n",
              "2          80_194.30.9.8  ...                             12 de setembro de 2008\n",
              "3          80_194.30.9.8  ...  REVERTER o REGIME DE TEMPO INTEGRAL E DEDICACA...\n",
              "4          87_118.20.6.8  ...                       JOAO PAULO PATROCINA MARQUES\n",
              "...                  ...  ...                                                ...\n",
              "20750  13_212.10.10.2013  ...                                          174.833-5\n",
              "20751  13_212.10.10.2013  ...                                                 09\n",
              "20752  13_212.10.10.2013  ...                                         11/10/2013\n",
              "20753  13_212.10.10.2013  ...                   ferias regulamentares da titular\n",
              "20754  13_212.10.10.2013  ...         VANESSA CARNEIRO FERNANDES FERREIRA AMARAL\n",
              "\n",
              "[20755 rows x 10 columns]"
            ]
          },
          "metadata": {},
          "execution_count": 45
        }
      ],
      "source": [
        "df_atos_pessoal = pd.read_csv('/content/tcdf_text_classification/dodf_atos.csv')\n",
        "df_atos_pessoal"
      ]
    },
    {
      "cell_type": "markdown",
      "metadata": {
        "id": "Wh925XOE948k"
      },
      "source": [
        "Aqui entidades numéricas, capitalização e pontuação podem ser importantes. Por isso, pensando em uma tarefa de classificação, faz sentido não adotar alguns dos passos de pré-processamento que normalmente são feitos."
      ]
    },
    {
      "cell_type": "code",
      "execution_count": null,
      "metadata": {
        "id": "Ae9QzA19-1e3"
      },
      "outputs": [],
      "source": [
        ""
      ]
    },
    {
      "cell_type": "markdown",
      "source": [
        "## Word2Vec\n",
        "\n",
        "A próxima técnica foi um marco na área de NLP. Até então tínhamos representações de texto em matrizes esparsas, isto é, dado um vocubulário com $n$ termos, tínhamos uma matriz com $n$ colunas para representar a contagem (Count Vectorizer) ou contagem ponderada (TF-IDF) de cada termo em cada frase do corpus.\n",
        "\n",
        "Do ponto de vista matemático, podemos enxergar essas matrizes de palavras como um espaço vetorial, onde cada palavra será um eixo desse espaço. O que caracteriza essas técnicas como bag-of-words é a ideia de que a ordem entre as palavras e/ou seus relacionamentos não importam para a representação vetorial. É literalmente o que o nome sugere: temos um corpus contido por diferentes palavras e colocamos todas elas em um saco.\n",
        "\n",
        "---\n",
        "retirar\n",
        "\n",
        "Se quisermos obter uma representação para uma frase nesse mesmo espaço, basta olhar para o vetor que contém a média de todos os pontos (todas as palavras) contidos pela frase.\n",
        "\n",
        "---\n",
        "\n",
        "Em 2013, Mikolov et. al. criaram uma rede neural que também se pauta nessa ideia de representar palavras em um espaço vetorial. A diferença - genial, diga-se de passagem - foi criar esse espaço de modo a estabelecer relacionamentos semânticos entre os termos. Isso é feito ao analisar o contexto de cada palavra, isto é, que tipos de termos que tendem a ocorrer próximo a determinada palavra. Dessa forma, é possível enxergar as dimensões do espaço vetorial como 'definições de relacionamento' entre as palavras.\n",
        "\n",
        "A rede é do tipo *self-supervised*, na medida em que as frases de entrada são não-rotuladas, mas que os 'rótulos' necessários já estão contidos com a ideia de contexto de palavras ao redor. \n",
        "\n",
        "O paper original descrive dois métodos para embeddings. CBOW e Skip-Gram. O método CBOW, ou *Continuous Bag-of-Words*, estabelece o objetivo da tarefa da rede em prever uma palavra dadas outras aos seu derredor, enquanto que o método Skip-Gram tenta predizer as palavras ao redor dado um termo específico.\n",
        "\n",
        "Imagem do paper: https://arxiv.org/pdf/1301.3781.pdf\n"
      ],
      "metadata": {
        "id": "rKAk9CLgNSkT"
      }
    },
    {
      "cell_type": "code",
      "source": [
        ""
      ],
      "metadata": {
        "id": "0CECUOeN88mv"
      },
      "execution_count": null,
      "outputs": []
    }
  ],
  "metadata": {
    "colab": {
      "collapsed_sections": [],
      "name": "tutorial_preproc_textos.ipynb",
      "provenance": [],
      "include_colab_link": true
    },
    "kernelspec": {
      "display_name": "Python 3",
      "name": "python3"
    },
    "language_info": {
      "name": "python"
    }
  },
  "nbformat": 4,
  "nbformat_minor": 0
}