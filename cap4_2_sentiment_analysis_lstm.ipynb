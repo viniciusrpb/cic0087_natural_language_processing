{
  "cells": [
    {
      "cell_type": "markdown",
      "metadata": {
        "id": "view-in-github",
        "colab_type": "text"
      },
      "source": [
        "<a href=\"https://colab.research.google.com/github/viniciusrpb/cic0087_natural_language_processing/blob/main/cap4_2_sentiment_analysis_lstm.ipynb\" target=\"_parent\"><img src=\"https://colab.research.google.com/assets/colab-badge.svg\" alt=\"Open In Colab\"/></a>"
      ]
    },
    {
      "cell_type": "markdown",
      "metadata": {
        "id": "fpkeAnnOM-Ln"
      },
      "source": [
        "# Capítulo 4 - Redes Neurais Recorrentes\n",
        "\n",
        "## 4.3. Estudo de caso: Análise de Sentimentos utilizando uma Long Short Term Memory\n",
        "\n",
        "### Tarefa: classificação de polaridade em tweets\n",
        "\n",
        "Classificar um *tweet* em alguma das três polaridades: positiva (*positive*), negativa (*negative*) e positiva (*neutral*).\n",
        "\n",
        "### O *corpus*\n",
        "\n",
        "Para isso, vamos precisar utilizar as bibliotecas keras, tensorflow, numpy, sklearn, matplotlib.\n",
        "\n",
        "Fonte: [SemEval-2013 Task 2: Sentiment Analysis in Twitter](https://aclanthology.org/S13-2052/)\n",
        "\n",
        "O *corpus* de tweets empregado nesse estudo de caso podem ser acessados na pasta \"corpus_tweets\" deste repositório. Segue a especificação de cada arquivo:\n",
        "\n",
        "*   ```twitter-2013train-A.txt```: conjunto de tweets para treinamento\n",
        "*   ```twitter-2013dev-A.txt```: conjunto de tweets para validação\n",
        "*   ```twitter-2013test-A.txt```: conjunto de tweets para testes"
      ]
    },
    {
      "cell_type": "code",
      "execution_count": 1,
      "metadata": {
        "id": "9-mA1ZKFmpUk"
      },
      "outputs": [],
      "source": [
        "#!pip install -U keras\n",
        "#!pip install -U tensorflow"
      ]
    },
    {
      "cell_type": "code",
      "execution_count": 2,
      "metadata": {
        "id": "d_kI-a9tsUFc"
      },
      "outputs": [],
      "source": [
        "from keras.models import Sequential\n",
        "from keras.layers import Dense, Activation,Dropout, Flatten, Embedding, SimpleRNN\n",
        "from keras.datasets import reuters\n",
        "from keras.preprocessing.text import Tokenizer\n",
        "from keras.utils.np_utils import to_categorical\n",
        "from keras.preprocessing import sequence\n",
        "import pandas as pd\n",
        "from keras.preprocessing.sequence import pad_sequences\n",
        "import numpy as np\n",
        "from collections import Counter"
      ]
    },
    {
      "cell_type": "markdown",
      "metadata": {
        "id": "jf19ddaLY9zF"
      },
      "source": [
        "### Carregamento do corpus para Pandas DataFrames\n",
        "\n",
        "\n",
        "\n",
        "**PS.:** Mais informações sobre a divisão de um conjunto de dados em treinamento, validação e teste, você encontra nesse [link](https://machinelearningmastery.com/difference-test-validation-datasets/)."
      ]
    },
    {
      "cell_type": "code",
      "execution_count": 3,
      "metadata": {
        "id": "LQlVP9RXmWKN"
      },
      "outputs": [],
      "source": [
        "path_train = 'twitter-2013train-A.txt'\n",
        "path_valid = 'twitter-2013dev-A.txt'\n",
        "path_test = 'twitter-2013test-A.txt'"
      ]
    },
    {
      "cell_type": "code",
      "execution_count": 4,
      "metadata": {
        "colab": {
          "base_uri": "https://localhost:8080/",
          "height": 206
        },
        "id": "W_CkgJDqrxrF",
        "outputId": "e7a76039-373d-4e58-aae4-dbd8ed82b93b"
      },
      "outputs": [
        {
          "output_type": "execute_result",
          "data": {
            "text/plain": [
              "                   id  polarity  \\\n",
              "0  264183816548130816  positive   \n",
              "1  263405084770172928  negative   \n",
              "2  262163168678248449  negative   \n",
              "3  264249301910310912  negative   \n",
              "4  262682041215234048   neutral   \n",
              "\n",
              "                                                text  \n",
              "0  Gas by my house hit $3.39!!!! I\\u2019m going t...  \n",
              "1  Theo Walcott is still shit\\u002c watch Rafa an...  \n",
              "2  its not that I\\u2019m a GSP fan\\u002c i just h...  \n",
              "3  Iranian general says Israel\\u2019s Iron Dome c...  \n",
              "4  Tehran\\u002c Mon Amour: Obama Tried to Establi...  "
            ],
            "text/html": [
              "\n",
              "  <div id=\"df-17e03e1c-0c01-4af5-9171-50d67a89d1a1\">\n",
              "    <div class=\"colab-df-container\">\n",
              "      <div>\n",
              "<style scoped>\n",
              "    .dataframe tbody tr th:only-of-type {\n",
              "        vertical-align: middle;\n",
              "    }\n",
              "\n",
              "    .dataframe tbody tr th {\n",
              "        vertical-align: top;\n",
              "    }\n",
              "\n",
              "    .dataframe thead th {\n",
              "        text-align: right;\n",
              "    }\n",
              "</style>\n",
              "<table border=\"1\" class=\"dataframe\">\n",
              "  <thead>\n",
              "    <tr style=\"text-align: right;\">\n",
              "      <th></th>\n",
              "      <th>id</th>\n",
              "      <th>polarity</th>\n",
              "      <th>text</th>\n",
              "    </tr>\n",
              "  </thead>\n",
              "  <tbody>\n",
              "    <tr>\n",
              "      <th>0</th>\n",
              "      <td>264183816548130816</td>\n",
              "      <td>positive</td>\n",
              "      <td>Gas by my house hit $3.39!!!! I\\u2019m going t...</td>\n",
              "    </tr>\n",
              "    <tr>\n",
              "      <th>1</th>\n",
              "      <td>263405084770172928</td>\n",
              "      <td>negative</td>\n",
              "      <td>Theo Walcott is still shit\\u002c watch Rafa an...</td>\n",
              "    </tr>\n",
              "    <tr>\n",
              "      <th>2</th>\n",
              "      <td>262163168678248449</td>\n",
              "      <td>negative</td>\n",
              "      <td>its not that I\\u2019m a GSP fan\\u002c i just h...</td>\n",
              "    </tr>\n",
              "    <tr>\n",
              "      <th>3</th>\n",
              "      <td>264249301910310912</td>\n",
              "      <td>negative</td>\n",
              "      <td>Iranian general says Israel\\u2019s Iron Dome c...</td>\n",
              "    </tr>\n",
              "    <tr>\n",
              "      <th>4</th>\n",
              "      <td>262682041215234048</td>\n",
              "      <td>neutral</td>\n",
              "      <td>Tehran\\u002c Mon Amour: Obama Tried to Establi...</td>\n",
              "    </tr>\n",
              "  </tbody>\n",
              "</table>\n",
              "</div>\n",
              "      <button class=\"colab-df-convert\" onclick=\"convertToInteractive('df-17e03e1c-0c01-4af5-9171-50d67a89d1a1')\"\n",
              "              title=\"Convert this dataframe to an interactive table.\"\n",
              "              style=\"display:none;\">\n",
              "        \n",
              "  <svg xmlns=\"http://www.w3.org/2000/svg\" height=\"24px\"viewBox=\"0 0 24 24\"\n",
              "       width=\"24px\">\n",
              "    <path d=\"M0 0h24v24H0V0z\" fill=\"none\"/>\n",
              "    <path d=\"M18.56 5.44l.94 2.06.94-2.06 2.06-.94-2.06-.94-.94-2.06-.94 2.06-2.06.94zm-11 1L8.5 8.5l.94-2.06 2.06-.94-2.06-.94L8.5 2.5l-.94 2.06-2.06.94zm10 10l.94 2.06.94-2.06 2.06-.94-2.06-.94-.94-2.06-.94 2.06-2.06.94z\"/><path d=\"M17.41 7.96l-1.37-1.37c-.4-.4-.92-.59-1.43-.59-.52 0-1.04.2-1.43.59L10.3 9.45l-7.72 7.72c-.78.78-.78 2.05 0 2.83L4 21.41c.39.39.9.59 1.41.59.51 0 1.02-.2 1.41-.59l7.78-7.78 2.81-2.81c.8-.78.8-2.07 0-2.86zM5.41 20L4 18.59l7.72-7.72 1.47 1.35L5.41 20z\"/>\n",
              "  </svg>\n",
              "      </button>\n",
              "      \n",
              "  <style>\n",
              "    .colab-df-container {\n",
              "      display:flex;\n",
              "      flex-wrap:wrap;\n",
              "      gap: 12px;\n",
              "    }\n",
              "\n",
              "    .colab-df-convert {\n",
              "      background-color: #E8F0FE;\n",
              "      border: none;\n",
              "      border-radius: 50%;\n",
              "      cursor: pointer;\n",
              "      display: none;\n",
              "      fill: #1967D2;\n",
              "      height: 32px;\n",
              "      padding: 0 0 0 0;\n",
              "      width: 32px;\n",
              "    }\n",
              "\n",
              "    .colab-df-convert:hover {\n",
              "      background-color: #E2EBFA;\n",
              "      box-shadow: 0px 1px 2px rgba(60, 64, 67, 0.3), 0px 1px 3px 1px rgba(60, 64, 67, 0.15);\n",
              "      fill: #174EA6;\n",
              "    }\n",
              "\n",
              "    [theme=dark] .colab-df-convert {\n",
              "      background-color: #3B4455;\n",
              "      fill: #D2E3FC;\n",
              "    }\n",
              "\n",
              "    [theme=dark] .colab-df-convert:hover {\n",
              "      background-color: #434B5C;\n",
              "      box-shadow: 0px 1px 3px 1px rgba(0, 0, 0, 0.15);\n",
              "      filter: drop-shadow(0px 1px 2px rgba(0, 0, 0, 0.3));\n",
              "      fill: #FFFFFF;\n",
              "    }\n",
              "  </style>\n",
              "\n",
              "      <script>\n",
              "        const buttonEl =\n",
              "          document.querySelector('#df-17e03e1c-0c01-4af5-9171-50d67a89d1a1 button.colab-df-convert');\n",
              "        buttonEl.style.display =\n",
              "          google.colab.kernel.accessAllowed ? 'block' : 'none';\n",
              "\n",
              "        async function convertToInteractive(key) {\n",
              "          const element = document.querySelector('#df-17e03e1c-0c01-4af5-9171-50d67a89d1a1');\n",
              "          const dataTable =\n",
              "            await google.colab.kernel.invokeFunction('convertToInteractive',\n",
              "                                                     [key], {});\n",
              "          if (!dataTable) return;\n",
              "\n",
              "          const docLinkHtml = 'Like what you see? Visit the ' +\n",
              "            '<a target=\"_blank\" href=https://colab.research.google.com/notebooks/data_table.ipynb>data table notebook</a>'\n",
              "            + ' to learn more about interactive tables.';\n",
              "          element.innerHTML = '';\n",
              "          dataTable['output_type'] = 'display_data';\n",
              "          await google.colab.output.renderOutput(dataTable, element);\n",
              "          const docLink = document.createElement('div');\n",
              "          docLink.innerHTML = docLinkHtml;\n",
              "          element.appendChild(docLink);\n",
              "        }\n",
              "      </script>\n",
              "    </div>\n",
              "  </div>\n",
              "  "
            ]
          },
          "metadata": {},
          "execution_count": 4
        }
      ],
      "source": [
        "df_train = pd.read_csv(path_train, names=[\"id\",\"polarity\",\"text\"],encoding='utf8', sep='\\t')\n",
        "df_valid = pd.read_csv(path_valid, names=[\"id\",\"polarity\",\"text\"],encoding='utf8', sep='\\t')\n",
        "df_test = pd.read_csv(path_test, names=[\"id\",\"polarity\",\"text\"],encoding='utf8', sep='\\t')\n",
        "\n",
        "df_train.head()"
      ]
    },
    {
      "cell_type": "code",
      "execution_count": 5,
      "metadata": {
        "colab": {
          "base_uri": "https://localhost:8080/"
        },
        "id": "Qx7KJLSPcwUX",
        "outputId": "03c9241b-04c6-4303-ff6c-f06ce9fb8dac"
      },
      "outputs": [
        {
          "output_type": "stream",
          "name": "stdout",
          "text": [
            "O conjunto de treinamento possui 9684 tweets\n",
            "O conjunto de validação possui 1654 tweets\n",
            "O conjunto de testes possui 3547 tweets\n"
          ]
        }
      ],
      "source": [
        "print(f\"O conjunto de treinamento possui {df_train.shape[0]} tweets\")\n",
        "print(f\"O conjunto de validação possui {df_valid.shape[0]} tweets\")\n",
        "print(f\"O conjunto de testes possui {df_test.shape[0]} tweets\")"
      ]
    },
    {
      "cell_type": "markdown",
      "metadata": {
        "id": "6Px27il9UkoN"
      },
      "source": [
        "Remove o atributo \"id\", uma vez que não precisaremos dele para a tarefa de classificação de polaridade de tweets."
      ]
    },
    {
      "cell_type": "code",
      "execution_count": 6,
      "metadata": {
        "colab": {
          "base_uri": "https://localhost:8080/",
          "height": 423
        },
        "id": "_rvrjHJ6UkwM",
        "outputId": "ccf595ff-646f-47e0-f4bf-2c871af6e395"
      },
      "outputs": [
        {
          "output_type": "execute_result",
          "data": {
            "text/plain": [
              "      polarity                                               text\n",
              "0     positive  @jjuueellzz down in the Atlantic city, ventnor...\n",
              "1     positive  Musical awareness: Great Big Beautiful Tomorro...\n",
              "2      neutral  On Radio786 100.4fm 7:10 Fri Oct 19 Labour ana...\n",
              "3     negative  Kapan sih lo ngebuktiin,jan ngomong doang Susa...\n",
              "4      neutral  Excuse the connectivity of this live stream, f...\n",
              "...        ...                                                ...\n",
              "3542  negative  Khaleda Zia's present India visit may have a b...\n",
              "3543   neutral  FYI, golf fans: @jameslepp will join Moj on We...\n",
              "3544  negative  @__Aniko you think mr.Calle let practice with ...\n",
              "3545  positive  Don't hide under your desk! It's just a salsa ...\n",
              "3546   neutral  Saturday flashmob on the music of The Runaways...\n",
              "\n",
              "[3547 rows x 2 columns]"
            ],
            "text/html": [
              "\n",
              "  <div id=\"df-3ce7c7a3-b125-4b4e-8287-d1d8b5f44edf\">\n",
              "    <div class=\"colab-df-container\">\n",
              "      <div>\n",
              "<style scoped>\n",
              "    .dataframe tbody tr th:only-of-type {\n",
              "        vertical-align: middle;\n",
              "    }\n",
              "\n",
              "    .dataframe tbody tr th {\n",
              "        vertical-align: top;\n",
              "    }\n",
              "\n",
              "    .dataframe thead th {\n",
              "        text-align: right;\n",
              "    }\n",
              "</style>\n",
              "<table border=\"1\" class=\"dataframe\">\n",
              "  <thead>\n",
              "    <tr style=\"text-align: right;\">\n",
              "      <th></th>\n",
              "      <th>polarity</th>\n",
              "      <th>text</th>\n",
              "    </tr>\n",
              "  </thead>\n",
              "  <tbody>\n",
              "    <tr>\n",
              "      <th>0</th>\n",
              "      <td>positive</td>\n",
              "      <td>@jjuueellzz down in the Atlantic city, ventnor...</td>\n",
              "    </tr>\n",
              "    <tr>\n",
              "      <th>1</th>\n",
              "      <td>positive</td>\n",
              "      <td>Musical awareness: Great Big Beautiful Tomorro...</td>\n",
              "    </tr>\n",
              "    <tr>\n",
              "      <th>2</th>\n",
              "      <td>neutral</td>\n",
              "      <td>On Radio786 100.4fm 7:10 Fri Oct 19 Labour ana...</td>\n",
              "    </tr>\n",
              "    <tr>\n",
              "      <th>3</th>\n",
              "      <td>negative</td>\n",
              "      <td>Kapan sih lo ngebuktiin,jan ngomong doang Susa...</td>\n",
              "    </tr>\n",
              "    <tr>\n",
              "      <th>4</th>\n",
              "      <td>neutral</td>\n",
              "      <td>Excuse the connectivity of this live stream, f...</td>\n",
              "    </tr>\n",
              "    <tr>\n",
              "      <th>...</th>\n",
              "      <td>...</td>\n",
              "      <td>...</td>\n",
              "    </tr>\n",
              "    <tr>\n",
              "      <th>3542</th>\n",
              "      <td>negative</td>\n",
              "      <td>Khaleda Zia's present India visit may have a b...</td>\n",
              "    </tr>\n",
              "    <tr>\n",
              "      <th>3543</th>\n",
              "      <td>neutral</td>\n",
              "      <td>FYI, golf fans: @jameslepp will join Moj on We...</td>\n",
              "    </tr>\n",
              "    <tr>\n",
              "      <th>3544</th>\n",
              "      <td>negative</td>\n",
              "      <td>@__Aniko you think mr.Calle let practice with ...</td>\n",
              "    </tr>\n",
              "    <tr>\n",
              "      <th>3545</th>\n",
              "      <td>positive</td>\n",
              "      <td>Don't hide under your desk! It's just a salsa ...</td>\n",
              "    </tr>\n",
              "    <tr>\n",
              "      <th>3546</th>\n",
              "      <td>neutral</td>\n",
              "      <td>Saturday flashmob on the music of The Runaways...</td>\n",
              "    </tr>\n",
              "  </tbody>\n",
              "</table>\n",
              "<p>3547 rows × 2 columns</p>\n",
              "</div>\n",
              "      <button class=\"colab-df-convert\" onclick=\"convertToInteractive('df-3ce7c7a3-b125-4b4e-8287-d1d8b5f44edf')\"\n",
              "              title=\"Convert this dataframe to an interactive table.\"\n",
              "              style=\"display:none;\">\n",
              "        \n",
              "  <svg xmlns=\"http://www.w3.org/2000/svg\" height=\"24px\"viewBox=\"0 0 24 24\"\n",
              "       width=\"24px\">\n",
              "    <path d=\"M0 0h24v24H0V0z\" fill=\"none\"/>\n",
              "    <path d=\"M18.56 5.44l.94 2.06.94-2.06 2.06-.94-2.06-.94-.94-2.06-.94 2.06-2.06.94zm-11 1L8.5 8.5l.94-2.06 2.06-.94-2.06-.94L8.5 2.5l-.94 2.06-2.06.94zm10 10l.94 2.06.94-2.06 2.06-.94-2.06-.94-.94-2.06-.94 2.06-2.06.94z\"/><path d=\"M17.41 7.96l-1.37-1.37c-.4-.4-.92-.59-1.43-.59-.52 0-1.04.2-1.43.59L10.3 9.45l-7.72 7.72c-.78.78-.78 2.05 0 2.83L4 21.41c.39.39.9.59 1.41.59.51 0 1.02-.2 1.41-.59l7.78-7.78 2.81-2.81c.8-.78.8-2.07 0-2.86zM5.41 20L4 18.59l7.72-7.72 1.47 1.35L5.41 20z\"/>\n",
              "  </svg>\n",
              "      </button>\n",
              "      \n",
              "  <style>\n",
              "    .colab-df-container {\n",
              "      display:flex;\n",
              "      flex-wrap:wrap;\n",
              "      gap: 12px;\n",
              "    }\n",
              "\n",
              "    .colab-df-convert {\n",
              "      background-color: #E8F0FE;\n",
              "      border: none;\n",
              "      border-radius: 50%;\n",
              "      cursor: pointer;\n",
              "      display: none;\n",
              "      fill: #1967D2;\n",
              "      height: 32px;\n",
              "      padding: 0 0 0 0;\n",
              "      width: 32px;\n",
              "    }\n",
              "\n",
              "    .colab-df-convert:hover {\n",
              "      background-color: #E2EBFA;\n",
              "      box-shadow: 0px 1px 2px rgba(60, 64, 67, 0.3), 0px 1px 3px 1px rgba(60, 64, 67, 0.15);\n",
              "      fill: #174EA6;\n",
              "    }\n",
              "\n",
              "    [theme=dark] .colab-df-convert {\n",
              "      background-color: #3B4455;\n",
              "      fill: #D2E3FC;\n",
              "    }\n",
              "\n",
              "    [theme=dark] .colab-df-convert:hover {\n",
              "      background-color: #434B5C;\n",
              "      box-shadow: 0px 1px 3px 1px rgba(0, 0, 0, 0.15);\n",
              "      filter: drop-shadow(0px 1px 2px rgba(0, 0, 0, 0.3));\n",
              "      fill: #FFFFFF;\n",
              "    }\n",
              "  </style>\n",
              "\n",
              "      <script>\n",
              "        const buttonEl =\n",
              "          document.querySelector('#df-3ce7c7a3-b125-4b4e-8287-d1d8b5f44edf button.colab-df-convert');\n",
              "        buttonEl.style.display =\n",
              "          google.colab.kernel.accessAllowed ? 'block' : 'none';\n",
              "\n",
              "        async function convertToInteractive(key) {\n",
              "          const element = document.querySelector('#df-3ce7c7a3-b125-4b4e-8287-d1d8b5f44edf');\n",
              "          const dataTable =\n",
              "            await google.colab.kernel.invokeFunction('convertToInteractive',\n",
              "                                                     [key], {});\n",
              "          if (!dataTable) return;\n",
              "\n",
              "          const docLinkHtml = 'Like what you see? Visit the ' +\n",
              "            '<a target=\"_blank\" href=https://colab.research.google.com/notebooks/data_table.ipynb>data table notebook</a>'\n",
              "            + ' to learn more about interactive tables.';\n",
              "          element.innerHTML = '';\n",
              "          dataTable['output_type'] = 'display_data';\n",
              "          await google.colab.output.renderOutput(dataTable, element);\n",
              "          const docLink = document.createElement('div');\n",
              "          docLink.innerHTML = docLinkHtml;\n",
              "          element.appendChild(docLink);\n",
              "        }\n",
              "      </script>\n",
              "    </div>\n",
              "  </div>\n",
              "  "
            ]
          },
          "metadata": {},
          "execution_count": 6
        }
      ],
      "source": [
        "df_train.drop(labels=['id'],axis=1)\n",
        "df_valid.drop(labels=['id'],axis=1)\n",
        "df_test.drop(labels=['id'],axis=1)"
      ]
    },
    {
      "cell_type": "code",
      "execution_count": 7,
      "metadata": {
        "id": "NhetYpklsyB7"
      },
      "outputs": [],
      "source": [
        "df_train['polarity'] = pd.Categorical(df_train['polarity'])\n",
        "df_valid['polarity'] = pd.Categorical(df_valid['polarity'])\n",
        "df_test['polarity'] = pd.Categorical(df_test['polarity'])\n",
        "\n",
        "y_train = df_train['polarity'].cat.codes\n",
        "y_valid = df_valid['polarity'].cat.codes\n",
        "y_test = df_test['polarity'].cat.codes"
      ]
    },
    {
      "cell_type": "code",
      "execution_count": 8,
      "metadata": {
        "colab": {
          "base_uri": "https://localhost:8080/"
        },
        "id": "GtoXk9BoryXV",
        "outputId": "a6565634-2317-451a-9d15-def28b774e7e"
      },
      "outputs": [
        {
          "output_type": "stream",
          "name": "stdout",
          "text": [
            "Valor original da classe positive Transformação inteira: 2\n",
            "Valor original da classe negative Transformação inteira: 0\n",
            "Valor original da classe negative Transformação inteira: 0\n",
            "Valor original da classe negative Transformação inteira: 0\n",
            "Valor original da classe neutral Transformação inteira: 1\n"
          ]
        }
      ],
      "source": [
        "for i in range(0,5):\n",
        "    v = df_train['polarity'][i]\n",
        "    print(f'Valor original da classe {v} Transformação inteira: {y_train[i]}')"
      ]
    },
    {
      "cell_type": "code",
      "execution_count": 9,
      "metadata": {
        "id": "V4Xx__cczY9p"
      },
      "outputs": [],
      "source": [
        "from keras.utils.np_utils import to_categorical\n",
        "\n",
        "num_classes = 3\n",
        "\n",
        "y_train_enc = to_categorical(y_train,3)\n",
        "y_valid_enc = to_categorical(y_valid,3)\n",
        "y_test_enc = to_categorical(y_test,3)"
      ]
    },
    {
      "cell_type": "code",
      "execution_count": 10,
      "metadata": {
        "colab": {
          "base_uri": "https://localhost:8080/"
        },
        "id": "MfLRKtQ3mKpm",
        "outputId": "ad8edac0-14d3-473b-ec0a-73ed11d0b1d5"
      },
      "outputs": [
        {
          "output_type": "stream",
          "name": "stdout",
          "text": [
            "Tweet 0: valor original da classe 'positive'; mapeamento para inteiro: 2; representação one-hot-encoding [0,0,1]\n",
            "Tweet 1: valor original da classe 'negative'; mapeamento para inteiro: 0; representação one-hot-encoding [1,0,0]\n",
            "Tweet 2: valor original da classe 'negative'; mapeamento para inteiro: 0; representação one-hot-encoding [1,0,0]\n",
            "Tweet 3: valor original da classe 'negative'; mapeamento para inteiro: 0; representação one-hot-encoding [1,0,0]\n",
            "Tweet 4: valor original da classe 'neutral'; mapeamento para inteiro: 1; representação one-hot-encoding [0,1,0]\n"
          ]
        }
      ],
      "source": [
        "for i in range(0,5):\n",
        "    v = df_train['polarity'][i]\n",
        "    print(f\"Tweet {i}: valor original da classe '{v}'; mapeamento para inteiro: {y_train[i]}; representação one-hot-encoding [{int(y_train_enc[i][0])},{int(y_train_enc[i][1])},{int(y_train_enc[i][2])}]\")"
      ]
    },
    {
      "cell_type": "markdown",
      "metadata": {
        "id": "_jua1-8lRZhr"
      },
      "source": [
        "### Extração de características dos tweets\n",
        "\n",
        "Vamos tentar novamente. Dessa vez, vamos fazer um pré-processamento nos tweets que, certamente apresentam palavras que não acrescentam nada ao aprendizado do modelo, como:\n",
        "\n",
        "*   @\n",
        "*   URL\n",
        "*   RT\n",
        "*   Stopwords\n",
        "\n",
        "Criando então as função para remover essas stopwords\n"
      ]
    },
    {
      "cell_type": "code",
      "source": [
        "from nltk.corpus import stopwords\n",
        "import nltk\n",
        "nltk.download('stopwords')\n",
        "import re\n",
        "import string \n",
        "\n",
        "def clean_stopwords_shortwords(w):\n",
        "    \n",
        "    words = w.split() \n",
        "    clean_words = [word for word in words if (word not in stopwords_list) and len(word) > 2]\n",
        "    return \" \".join(clean_words) \n",
        "\n",
        "def preprocess_tweet(sentence):\n",
        "    stopwords_list=stopwords.words('english')\n",
        "    sentence = sentence.lower().strip()\n",
        "    sentence = re.sub(r'^RT[\\s]+', '', sentence)\n",
        "    sentence = re.sub(r'https?:\\/\\/.*[\\r\\n]*', '', sentence)\n",
        "    sentence = re.sub(r'#', '', sentence)\n",
        "    sentence = re.sub(r'[0-9]', '', sentence)\n",
        "\n",
        "    sentence_clean = \"\"\n",
        "\n",
        "    for word in sentence.split():\n",
        "        if (word not in stopwords_list):\n",
        "            sentence_clean+=word+\" \"\n",
        "\n",
        "    for c in string.punctuation:\n",
        "        sentence_clean = sentence_clean.replace(c,\"\")\n",
        "    return sentence_clean\n",
        "\n",
        "def preprocess_tweets(X):\n",
        "\n",
        "    df = []\n",
        "\n",
        "    for string in X:\n",
        "        ans = preprocess_tweet(string)\n",
        "        df.append(ans)\n",
        "    \n",
        "    return pd.DataFrame(df,columns =['text'])"
      ],
      "metadata": {
        "colab": {
          "base_uri": "https://localhost:8080/"
        },
        "id": "gmT4EhjZxXda",
        "outputId": "c501db7c-7b19-48f7-ad17-bc7d69101398"
      },
      "execution_count": 11,
      "outputs": [
        {
          "output_type": "stream",
          "name": "stdout",
          "text": [
            "[nltk_data] Downloading package stopwords to /root/nltk_data...\n",
            "[nltk_data]   Package stopwords is already up-to-date!\n"
          ]
        }
      ]
    },
    {
      "cell_type": "code",
      "source": [
        "df_train_proc = preprocess_tweets(df_train['text'])\n",
        "df_valid_proc = preprocess_tweets(df_valid['text'])\n",
        "df_test_proc = preprocess_tweets(df_test['text'])"
      ],
      "metadata": {
        "id": "Kr2ZEceoxbqZ"
      },
      "execution_count": 12,
      "outputs": []
    },
    {
      "cell_type": "code",
      "source": [
        "print(f\"Original tweet: {df_train['text'].iloc[0]}\")\n",
        "print(f\"Preprocessed tweet: {df_train_proc['text'].iloc[0]}\")"
      ],
      "metadata": {
        "colab": {
          "base_uri": "https://localhost:8080/"
        },
        "id": "_G0tjUllxgFq",
        "outputId": "46d43df4-adb7-4ba1-8720-574f118c1f3d"
      },
      "execution_count": 13,
      "outputs": [
        {
          "output_type": "stream",
          "name": "stdout",
          "text": [
            "Original tweet: Gas by my house hit $3.39!!!! I\\u2019m going to Chapel Hill on Sat. :)\n",
            "Preprocessed tweet: gas house hit  ium going chapel hill sat  \n"
          ]
        }
      ]
    },
    {
      "cell_type": "code",
      "execution_count": 14,
      "metadata": {
        "id": "x5CTJsW8cacH"
      },
      "outputs": [],
      "source": [
        "results = Counter()\n",
        "df_train_proc['text'].str.lower().str.split().apply(results.update)\n",
        "df_valid_proc['text'].str.lower().str.split().apply(results.update)\n",
        "df_test_proc['text'].str.lower().str.split().apply(results.update)\n",
        "total_vocab_size = len(results)"
      ]
    },
    {
      "cell_type": "code",
      "execution_count": 15,
      "metadata": {
        "id": "qwoESY8g21bp"
      },
      "outputs": [],
      "source": [
        "def qtde_termos_tweet(df):\n",
        "    soma = 0\n",
        "    for item in df:\n",
        "        soma += len(item)\n",
        "    media = soma/len(df)\n",
        "    print(f'Em média, cada tweets possui {media} palavras.')\n",
        "    return int(media)"
      ]
    },
    {
      "cell_type": "markdown",
      "metadata": {
        "id": "uo36NUe33AV_"
      },
      "source": [
        "Hiperparâmetros"
      ]
    },
    {
      "cell_type": "code",
      "execution_count": 16,
      "metadata": {
        "id": "j7EjtvOkcv8u",
        "colab": {
          "base_uri": "https://localhost:8080/"
        },
        "outputId": "060ea35a-6f90-4b21-fba0-0c742bfd9785"
      },
      "outputs": [
        {
          "output_type": "stream",
          "name": "stdout",
          "text": [
            "Em média, cada tweets possui 78.97614622057002 palavras.\n"
          ]
        }
      ],
      "source": [
        "media = qtde_termos_tweet(df_train_proc['text'])\n",
        "\n",
        "vocab_size = total_vocab_size\n",
        "embedding_dim = media//2\n",
        "max_length = media//2\n",
        "trunc_type = 'post'\n",
        "padding_type = 'post'\n",
        "oov_tok = '<OOV>'\n",
        "bs=64"
      ]
    },
    {
      "cell_type": "code",
      "execution_count": 17,
      "metadata": {
        "id": "jUZSUfO_cyCW"
      },
      "outputs": [],
      "source": [
        "tokenizer = Tokenizer(num_words = vocab_size, oov_token=oov_tok)\n",
        "tokenizer.fit_on_texts(df_train_proc['text'])\n",
        "\n",
        "word_index = tokenizer.word_index\n",
        "vocab_size = len(word_index)"
      ]
    },
    {
      "cell_type": "code",
      "execution_count": 18,
      "metadata": {
        "id": "hhR9fSS7chou"
      },
      "outputs": [],
      "source": [
        "train_sequences = tokenizer.texts_to_sequences(df_train_proc['text'])\n",
        "\n",
        "valid_sequences = tokenizer.texts_to_sequences(df_valid_proc['text'])\n",
        "\n",
        "test_sequences = tokenizer.texts_to_sequences(df_test_proc['text'])\n",
        "\n",
        "X_train = pad_sequences(train_sequences, maxlen=max_length, padding=padding_type, truncating=trunc_type)\n",
        "\n",
        "X_valid = pad_sequences(valid_sequences, maxlen=max_length, padding=padding_type, truncating=trunc_type)\n",
        "\n",
        "X_test = pad_sequences(test_sequences, maxlen=max_length, padding=padding_type, truncating=trunc_type)"
      ]
    },
    {
      "cell_type": "markdown",
      "metadata": {
        "id": "PUMbZxfTtROx"
      },
      "source": [
        "Segue o modelo LSTM"
      ]
    },
    {
      "cell_type": "code",
      "execution_count": 19,
      "metadata": {
        "colab": {
          "base_uri": "https://localhost:8080/"
        },
        "id": "S0oQObrHtQYq",
        "outputId": "623ffe2d-d156-4571-b3c9-de2f12f6cab3"
      },
      "outputs": [
        {
          "output_type": "stream",
          "name": "stdout",
          "text": [
            "Model: \"sequential\"\n",
            "_________________________________________________________________\n",
            " Layer (type)                Output Shape              Param #   \n",
            "=================================================================\n",
            " embedding (Embedding)       (None, 39, 39)            920205    \n",
            "                                                                 \n",
            " lstm (LSTM)                 (None, 32)                9216      \n",
            "                                                                 \n",
            " dropout (Dropout)           (None, 32)                0         \n",
            "                                                                 \n",
            " dense (Dense)               (None, 3)                 99        \n",
            "                                                                 \n",
            " activation (Activation)     (None, 3)                 0         \n",
            "                                                                 \n",
            "=================================================================\n",
            "Total params: 929,520\n",
            "Trainable params: 929,520\n",
            "Non-trainable params: 0\n",
            "_________________________________________________________________\n",
            "None\n"
          ]
        }
      ],
      "source": [
        "from keras.layers import LSTM\n",
        "from keras.layers.embeddings import Embedding\n",
        "\n",
        "model = Sequential()\n",
        "model.add(Embedding(vocab_size, output_dim=max_length, input_length=max_length))\n",
        "model.add(LSTM(32))\n",
        "model.add(Dropout(0.2))\n",
        "model.add(Dense(num_classes))\n",
        "model.add(Activation('sigmoid'))\n",
        "print(model.summary())"
      ]
    },
    {
      "cell_type": "code",
      "execution_count": 20,
      "metadata": {
        "id": "OL9ZvwaiudTF"
      },
      "outputs": [],
      "source": [
        "from tensorflow.keras.optimizers import SGD,Adam\n",
        "\n",
        "opt = Adam(learning_rate=0.00001,decay=10-6)\n",
        "model.compile(\n",
        "    loss='categorical_crossentropy',\n",
        "    optimizer=opt,\n",
        "    metrics=['accuracy']\n",
        ")"
      ]
    },
    {
      "cell_type": "code",
      "execution_count": 21,
      "metadata": {
        "colab": {
          "base_uri": "https://localhost:8080/"
        },
        "id": "YaFB_4xfugKV",
        "outputId": "24a99eb4-7183-47b9-e69b-d8e43bcdcd15"
      },
      "outputs": [
        {
          "output_type": "stream",
          "name": "stdout",
          "text": [
            "Epoch 1/10\n",
            "152/152 [==============================] - 4s 9ms/step - loss: 1.0984 - accuracy: 0.3555 - val_loss: 1.0989 - val_accuracy: 0.3476\n",
            "Epoch 2/10\n",
            "152/152 [==============================] - 1s 6ms/step - loss: 1.0983 - accuracy: 0.3563 - val_loss: 1.0989 - val_accuracy: 0.3476\n",
            "Epoch 3/10\n",
            "152/152 [==============================] - 1s 6ms/step - loss: 1.0982 - accuracy: 0.3547 - val_loss: 1.0989 - val_accuracy: 0.3476\n",
            "Epoch 4/10\n",
            "152/152 [==============================] - 1s 6ms/step - loss: 1.0983 - accuracy: 0.3554 - val_loss: 1.0989 - val_accuracy: 0.3476\n",
            "Epoch 5/10\n",
            "152/152 [==============================] - 1s 6ms/step - loss: 1.0985 - accuracy: 0.3538 - val_loss: 1.0989 - val_accuracy: 0.3476\n",
            "Epoch 6/10\n",
            "152/152 [==============================] - 1s 6ms/step - loss: 1.0985 - accuracy: 0.3527 - val_loss: 1.0989 - val_accuracy: 0.3476\n",
            "Epoch 7/10\n",
            "152/152 [==============================] - 1s 6ms/step - loss: 1.0984 - accuracy: 0.3534 - val_loss: 1.0989 - val_accuracy: 0.3476\n",
            "Epoch 8/10\n",
            "152/152 [==============================] - 1s 6ms/step - loss: 1.0982 - accuracy: 0.3609 - val_loss: 1.0989 - val_accuracy: 0.3476\n",
            "Epoch 9/10\n",
            "152/152 [==============================] - 1s 6ms/step - loss: 1.0985 - accuracy: 0.3548 - val_loss: 1.0989 - val_accuracy: 0.3476\n",
            "Epoch 10/10\n",
            "152/152 [==============================] - 1s 6ms/step - loss: 1.0982 - accuracy: 0.3581 - val_loss: 1.0989 - val_accuracy: 0.3476\n"
          ]
        }
      ],
      "source": [
        "history = model.fit(X_train,y_train_enc,validation_data=(X_valid,y_valid_enc),epochs=10,batch_size=bs)"
      ]
    },
    {
      "cell_type": "code",
      "execution_count": 22,
      "metadata": {
        "id": "sepT496a5MXH"
      },
      "outputs": [],
      "source": [
        "import matplotlib.pyplot as plt\n",
        "\n",
        "def plot_graphics(history, metric):\n",
        "    plt.plot(history.history[metric])\n",
        "    plt.plot(history.history['val_'+metric], '')\n",
        "    plt.xlabel(\"Epochs\")\n",
        "    plt.ylabel(metric)\n",
        "    plt.legend([metric, 'val_'+metric])"
      ]
    },
    {
      "cell_type": "code",
      "source": [
        "plot_graphics(history, 'loss')"
      ],
      "metadata": {
        "colab": {
          "base_uri": "https://localhost:8080/",
          "height": 290
        },
        "id": "jofPBgoDXQMY",
        "outputId": "8ab8a257-f690-4ad8-e683-692c6ec912c7"
      },
      "execution_count": 23,
      "outputs": [
        {
          "output_type": "display_data",
          "data": {
            "text/plain": [
              "<Figure size 432x288 with 1 Axes>"
            ],
            "image/png": "[encoded data removed]"
          },
          "metadata": {
            "needs_background": "light"
          }
        }
      ]
    },
    {
      "cell_type": "code",
      "execution_count": 24,
      "metadata": {
        "colab": {
          "base_uri": "https://localhost:8080/"
        },
        "id": "p1aVfStSvph6",
        "outputId": "0afd983e-afc8-4e28-f72f-f8697ca53244"
      },
      "outputs": [
        {
          "output_type": "stream",
          "name": "stdout",
          "text": [
            "0.4158443808555603\n",
            "56/56 - 0s - 445ms/epoch - 8ms/step\n",
            "              precision    recall  f1-score   support\n",
            "\n",
            "           0       0.00      0.00      0.00       559\n",
            "           1       0.00      0.00      0.00      1513\n",
            "           2       0.42      1.00      0.59      1475\n",
            "\n",
            "    accuracy                           0.42      3547\n",
            "   macro avg       0.14      0.33      0.20      3547\n",
            "weighted avg       0.17      0.42      0.24      3547\n",
            "\n"
          ]
        },
        {
          "output_type": "stream",
          "name": "stderr",
          "text": [
            "/usr/local/lib/python3.7/dist-packages/sklearn/metrics/_classification.py:1318: UndefinedMetricWarning: Precision and F-score are ill-defined and being set to 0.0 in labels with no predicted samples. Use `zero_division` parameter to control this behavior.\n",
            "  _warn_prf(average, modifier, msg_start, len(result))\n",
            "/usr/local/lib/python3.7/dist-packages/sklearn/metrics/_classification.py:1318: UndefinedMetricWarning: Precision and F-score are ill-defined and being set to 0.0 in labels with no predicted samples. Use `zero_division` parameter to control this behavior.\n",
            "  _warn_prf(average, modifier, msg_start, len(result))\n",
            "/usr/local/lib/python3.7/dist-packages/sklearn/metrics/_classification.py:1318: UndefinedMetricWarning: Precision and F-score are ill-defined and being set to 0.0 in labels with no predicted samples. Use `zero_division` parameter to control this behavior.\n",
            "  _warn_prf(average, modifier, msg_start, len(result))\n"
          ]
        }
      ],
      "source": [
        "# import classification_report\n",
        "from sklearn.metrics import classification_report\n",
        "\n",
        "_, test_acc = model.evaluate(X_test, y_test_enc, verbose=0)\n",
        "print(test_acc)\n",
        "\n",
        "y_pred = model.predict(X_test, batch_size=bs, verbose=2)\n",
        "\n",
        "# get the class with highest probability for each sample\n",
        "y_pred = np.argmax(y_pred, axis=-1)\n",
        "\n",
        "# get the classification report\n",
        "print(classification_report(y_test, y_pred))"
      ]
    },
    {
      "cell_type": "markdown",
      "source": [
        "Veja que no exemplo acima, os tweets de teste foram classificados apenas como pertencentes a uma única classe. Isso era esperado com base nos resultados obtidos nos dados de validação durante o treinamento.\n",
        "\n",
        "Caso você esteja enfrentando o mesmo comportamento acima, lembre-se sempre de analisar os valores da função *loss* que podem estar atingindo um mínimo local muito cedo. Você pode tentar as seguintes alternativas:\n",
        "\n",
        "\n",
        "*   Pré-processamento dos dados: pode ser que os dados estejam poluídos, desbalanceados, ou apresentando redundância\n",
        "*   Otimize os hiperparâmetros: tente variar a *learning rate* entre $[10^{-3},10^{-6}]$, como também o *batch size*\n",
        "*   Deixe sua rede mais profunda, mas coloque camadas Dropout para evitar a ocorrência de *Overfitting*\n",
        "\n",
        "\n",
        "### Modelo 2\n",
        "\n",
        "\n"
      ],
      "metadata": {
        "id": "yT9kFHzLN4Uw"
      }
    },
    {
      "cell_type": "markdown",
      "source": [
        "Vamos tentar também novos hiperparâmetros:"
      ],
      "metadata": {
        "id": "T34AwhwLPvdb"
      }
    },
    {
      "cell_type": "code",
      "source": [
        "model2 = Sequential()\n",
        "model2.add(Embedding(vocab_size, output_dim=max_length, input_length=max_length))\n",
        "model2.add(LSTM(32))\n",
        "model2.add(Dropout(0.2))\n",
        "model2.add(Dense(num_classes))\n",
        "model2.add(Activation('sigmoid'))\n",
        "print(model2.summary())"
      ],
      "metadata": {
        "colab": {
          "base_uri": "https://localhost:8080/"
        },
        "id": "ZH5glZW8KYBG",
        "outputId": "1d8ab3b2-6ca1-4a5b-a9b6-7364b2a99b49"
      },
      "execution_count": 45,
      "outputs": [
        {
          "output_type": "stream",
          "name": "stdout",
          "text": [
            "Model: \"sequential_7\"\n",
            "_________________________________________________________________\n",
            " Layer (type)                Output Shape              Param #   \n",
            "=================================================================\n",
            " embedding_7 (Embedding)     (None, 39, 39)            920205    \n",
            "                                                                 \n",
            " lstm_7 (LSTM)               (None, 32)                9216      \n",
            "                                                                 \n",
            " dropout_7 (Dropout)         (None, 32)                0         \n",
            "                                                                 \n",
            " dense_7 (Dense)             (None, 3)                 99        \n",
            "                                                                 \n",
            " activation_7 (Activation)   (None, 3)                 0         \n",
            "                                                                 \n",
            "=================================================================\n",
            "Total params: 929,520\n",
            "Trainable params: 929,520\n",
            "Non-trainable params: 0\n",
            "_________________________________________________________________\n",
            "None\n"
          ]
        }
      ]
    },
    {
      "cell_type": "code",
      "source": [
        "opt = Adam(learning_rate=0.00001, decay=1e-6)\n",
        "model2.compile(\n",
        "    loss='categorical_crossentropy',\n",
        "    optimizer=opt,\n",
        "    metrics=['accuracy']\n",
        ")"
      ],
      "metadata": {
        "id": "gXtmX2q-KgbW"
      },
      "execution_count": 46,
      "outputs": []
    },
    {
      "cell_type": "code",
      "source": [
        "history = model2.fit(X_train,y_train_enc,validation_data=(X_valid,y_valid_enc),epochs=80,batch_size=bs)"
      ],
      "metadata": {
        "colab": {
          "base_uri": "https://localhost:8080/"
        },
        "id": "r7pc6_x5Kjel",
        "outputId": "afd63750-c0a3-4e1c-aa1b-928aba931e99"
      },
      "execution_count": 47,
      "outputs": [
        {
          "output_type": "stream",
          "name": "stdout",
          "text": [
            "Epoch 1/80\n",
            "152/152 [==============================] - 3s 8ms/step - loss: 1.0876 - accuracy: 0.4719 - val_loss: 1.0881 - val_accuracy: 0.4468\n",
            "Epoch 2/80\n",
            "152/152 [==============================] - 1s 6ms/step - loss: 1.0815 - accuracy: 0.4729 - val_loss: 1.0838 - val_accuracy: 0.4468\n",
            "Epoch 3/80\n",
            "152/152 [==============================] - 1s 6ms/step - loss: 1.0751 - accuracy: 0.4727 - val_loss: 1.0792 - val_accuracy: 0.4468\n",
            "Epoch 4/80\n",
            "152/152 [==============================] - 1s 6ms/step - loss: 1.0678 - accuracy: 0.4732 - val_loss: 1.0742 - val_accuracy: 0.4468\n",
            "Epoch 5/80\n",
            "152/152 [==============================] - 1s 6ms/step - loss: 1.0608 - accuracy: 0.4739 - val_loss: 1.0692 - val_accuracy: 0.4468\n",
            "Epoch 6/80\n",
            "152/152 [==============================] - 1s 6ms/step - loss: 1.0524 - accuracy: 0.4734 - val_loss: 1.0641 - val_accuracy: 0.4468\n",
            "Epoch 7/80\n",
            "152/152 [==============================] - 1s 6ms/step - loss: 1.0439 - accuracy: 0.4736 - val_loss: 1.0594 - val_accuracy: 0.4468\n",
            "Epoch 8/80\n",
            "152/152 [==============================] - 1s 6ms/step - loss: 1.0358 - accuracy: 0.4736 - val_loss: 1.0554 - val_accuracy: 0.4468\n",
            "Epoch 9/80\n",
            "152/152 [==============================] - 1s 6ms/step - loss: 1.0270 - accuracy: 0.4735 - val_loss: 1.0530 - val_accuracy: 0.4468\n",
            "Epoch 10/80\n",
            "152/152 [==============================] - 1s 6ms/step - loss: 1.0208 - accuracy: 0.4735 - val_loss: 1.0525 - val_accuracy: 0.4468\n",
            "Epoch 11/80\n",
            "152/152 [==============================] - 1s 6ms/step - loss: 1.0158 - accuracy: 0.4736 - val_loss: 1.0537 - val_accuracy: 0.4468\n",
            "Epoch 12/80\n",
            "152/152 [==============================] - 1s 6ms/step - loss: 1.0128 - accuracy: 0.4735 - val_loss: 1.0554 - val_accuracy: 0.4468\n",
            "Epoch 13/80\n",
            "152/152 [==============================] - 1s 6ms/step - loss: 1.0096 - accuracy: 0.4730 - val_loss: 1.0570 - val_accuracy: 0.4468\n",
            "Epoch 14/80\n",
            "152/152 [==============================] - 1s 6ms/step - loss: 1.0093 - accuracy: 0.4732 - val_loss: 1.0583 - val_accuracy: 0.4468\n",
            "Epoch 15/80\n",
            "152/152 [==============================] - 1s 6ms/step - loss: 1.0098 - accuracy: 0.4723 - val_loss: 1.0586 - val_accuracy: 0.4468\n",
            "Epoch 16/80\n",
            "152/152 [==============================] - 1s 6ms/step - loss: 1.0092 - accuracy: 0.4694 - val_loss: 1.0594 - val_accuracy: 0.4468\n",
            "Epoch 17/80\n",
            "152/152 [==============================] - 1s 6ms/step - loss: 1.0080 - accuracy: 0.4729 - val_loss: 1.0600 - val_accuracy: 0.4468\n",
            "Epoch 18/80\n",
            "152/152 [==============================] - 1s 6ms/step - loss: 1.0096 - accuracy: 0.4696 - val_loss: 1.0599 - val_accuracy: 0.4468\n",
            "Epoch 19/80\n",
            "152/152 [==============================] - 1s 6ms/step - loss: 1.0088 - accuracy: 0.4711 - val_loss: 1.0603 - val_accuracy: 0.4468\n",
            "Epoch 20/80\n",
            "152/152 [==============================] - 1s 6ms/step - loss: 1.0086 - accuracy: 0.4698 - val_loss: 1.0605 - val_accuracy: 0.4468\n",
            "Epoch 21/80\n",
            "152/152 [==============================] - 1s 6ms/step - loss: 1.0075 - accuracy: 0.4666 - val_loss: 1.0609 - val_accuracy: 0.4468\n",
            "Epoch 22/80\n",
            "152/152 [==============================] - 1s 6ms/step - loss: 1.0085 - accuracy: 0.4695 - val_loss: 1.0608 - val_accuracy: 0.4468\n",
            "Epoch 23/80\n",
            "152/152 [==============================] - 1s 6ms/step - loss: 1.0085 - accuracy: 0.4689 - val_loss: 1.0608 - val_accuracy: 0.4468\n",
            "Epoch 24/80\n",
            "152/152 [==============================] - 1s 6ms/step - loss: 1.0089 - accuracy: 0.4671 - val_loss: 1.0609 - val_accuracy: 0.4468\n",
            "Epoch 25/80\n",
            "152/152 [==============================] - 1s 6ms/step - loss: 1.0086 - accuracy: 0.4713 - val_loss: 1.0611 - val_accuracy: 0.4468\n",
            "Epoch 26/80\n",
            "152/152 [==============================] - 1s 6ms/step - loss: 1.0073 - accuracy: 0.4698 - val_loss: 1.0616 - val_accuracy: 0.4468\n",
            "Epoch 27/80\n",
            "152/152 [==============================] - 1s 6ms/step - loss: 1.0081 - accuracy: 0.4696 - val_loss: 1.0611 - val_accuracy: 0.4468\n",
            "Epoch 28/80\n",
            "152/152 [==============================] - 1s 6ms/step - loss: 1.0075 - accuracy: 0.4709 - val_loss: 1.0611 - val_accuracy: 0.4468\n",
            "Epoch 29/80\n",
            "152/152 [==============================] - 1s 6ms/step - loss: 1.0075 - accuracy: 0.4712 - val_loss: 1.0616 - val_accuracy: 0.4468\n",
            "Epoch 30/80\n",
            "152/152 [==============================] - 1s 6ms/step - loss: 1.0074 - accuracy: 0.4695 - val_loss: 1.0614 - val_accuracy: 0.4468\n",
            "Epoch 31/80\n",
            "152/152 [==============================] - 1s 6ms/step - loss: 1.0075 - accuracy: 0.4677 - val_loss: 1.0615 - val_accuracy: 0.4468\n",
            "Epoch 32/80\n",
            "152/152 [==============================] - 1s 6ms/step - loss: 1.0089 - accuracy: 0.4672 - val_loss: 1.0610 - val_accuracy: 0.4468\n",
            "Epoch 33/80\n",
            "152/152 [==============================] - 1s 6ms/step - loss: 1.0069 - accuracy: 0.4690 - val_loss: 1.0611 - val_accuracy: 0.4468\n",
            "Epoch 34/80\n",
            "152/152 [==============================] - 1s 6ms/step - loss: 1.0069 - accuracy: 0.4726 - val_loss: 1.0614 - val_accuracy: 0.4468\n",
            "Epoch 35/80\n",
            "152/152 [==============================] - 1s 6ms/step - loss: 1.0072 - accuracy: 0.4716 - val_loss: 1.0612 - val_accuracy: 0.4468\n",
            "Epoch 36/80\n",
            "152/152 [==============================] - 1s 6ms/step - loss: 1.0066 - accuracy: 0.4726 - val_loss: 1.0614 - val_accuracy: 0.4468\n",
            "Epoch 37/80\n",
            "152/152 [==============================] - 1s 6ms/step - loss: 1.0064 - accuracy: 0.4710 - val_loss: 1.0613 - val_accuracy: 0.4468\n",
            "Epoch 38/80\n",
            "152/152 [==============================] - 1s 6ms/step - loss: 1.0074 - accuracy: 0.4712 - val_loss: 1.0610 - val_accuracy: 0.4468\n",
            "Epoch 39/80\n",
            "152/152 [==============================] - 1s 6ms/step - loss: 1.0044 - accuracy: 0.4703 - val_loss: 1.0618 - val_accuracy: 0.4468\n",
            "Epoch 40/80\n",
            "152/152 [==============================] - 1s 6ms/step - loss: 1.0053 - accuracy: 0.4703 - val_loss: 1.0615 - val_accuracy: 0.4468\n",
            "Epoch 41/80\n",
            "152/152 [==============================] - 1s 6ms/step - loss: 1.0051 - accuracy: 0.4707 - val_loss: 1.0610 - val_accuracy: 0.4468\n",
            "Epoch 42/80\n",
            "152/152 [==============================] - 1s 6ms/step - loss: 1.0053 - accuracy: 0.4728 - val_loss: 1.0607 - val_accuracy: 0.4468\n",
            "Epoch 43/80\n",
            "152/152 [==============================] - 1s 6ms/step - loss: 1.0040 - accuracy: 0.4737 - val_loss: 1.0611 - val_accuracy: 0.4468\n",
            "Epoch 44/80\n",
            "152/152 [==============================] - 1s 6ms/step - loss: 1.0039 - accuracy: 0.4739 - val_loss: 1.0609 - val_accuracy: 0.4468\n",
            "Epoch 45/80\n",
            "152/152 [==============================] - 1s 6ms/step - loss: 1.0041 - accuracy: 0.4692 - val_loss: 1.0606 - val_accuracy: 0.4468\n",
            "Epoch 46/80\n",
            "152/152 [==============================] - 1s 6ms/step - loss: 1.0017 - accuracy: 0.4754 - val_loss: 1.0604 - val_accuracy: 0.4468\n",
            "Epoch 47/80\n",
            "152/152 [==============================] - 1s 6ms/step - loss: 1.0016 - accuracy: 0.4728 - val_loss: 1.0608 - val_accuracy: 0.4468\n",
            "Epoch 48/80\n",
            "152/152 [==============================] - 1s 6ms/step - loss: 0.9993 - accuracy: 0.4726 - val_loss: 1.0596 - val_accuracy: 0.4468\n",
            "Epoch 49/80\n",
            "152/152 [==============================] - 1s 6ms/step - loss: 0.9974 - accuracy: 0.4706 - val_loss: 1.0594 - val_accuracy: 0.4468\n",
            "Epoch 50/80\n",
            "152/152 [==============================] - 1s 6ms/step - loss: 0.9946 - accuracy: 0.4738 - val_loss: 1.0582 - val_accuracy: 0.4468\n",
            "Epoch 51/80\n",
            "152/152 [==============================] - 1s 6ms/step - loss: 0.9908 - accuracy: 0.4738 - val_loss: 1.0562 - val_accuracy: 0.4468\n",
            "Epoch 52/80\n",
            "152/152 [==============================] - 1s 6ms/step - loss: 0.9833 - accuracy: 0.4741 - val_loss: 1.0518 - val_accuracy: 0.4468\n",
            "Epoch 53/80\n",
            "152/152 [==============================] - 1s 6ms/step - loss: 0.9707 - accuracy: 0.4767 - val_loss: 1.0473 - val_accuracy: 0.4468\n",
            "Epoch 54/80\n",
            "152/152 [==============================] - 1s 6ms/step - loss: 0.9489 - accuracy: 0.4767 - val_loss: 1.0332 - val_accuracy: 0.4468\n",
            "Epoch 55/80\n",
            "152/152 [==============================] - 1s 7ms/step - loss: 0.9120 - accuracy: 0.4882 - val_loss: 1.0146 - val_accuracy: 0.4619\n",
            "Epoch 56/80\n",
            "152/152 [==============================] - 1s 6ms/step - loss: 0.8655 - accuracy: 0.5299 - val_loss: 0.9990 - val_accuracy: 0.4885\n",
            "Epoch 57/80\n",
            "152/152 [==============================] - 1s 6ms/step - loss: 0.8274 - accuracy: 0.5823 - val_loss: 0.9901 - val_accuracy: 0.4940\n",
            "Epoch 58/80\n",
            "152/152 [==============================] - 1s 7ms/step - loss: 0.8043 - accuracy: 0.6132 - val_loss: 0.9932 - val_accuracy: 0.4976\n",
            "Epoch 59/80\n",
            "152/152 [==============================] - 1s 6ms/step - loss: 0.7873 - accuracy: 0.6291 - val_loss: 0.9992 - val_accuracy: 0.4982\n",
            "Epoch 60/80\n",
            "152/152 [==============================] - 1s 6ms/step - loss: 0.7722 - accuracy: 0.6410 - val_loss: 1.0002 - val_accuracy: 0.4976\n",
            "Epoch 61/80\n",
            "152/152 [==============================] - 1s 7ms/step - loss: 0.7604 - accuracy: 0.6505 - val_loss: 1.0028 - val_accuracy: 0.5000\n",
            "Epoch 62/80\n",
            "152/152 [==============================] - 1s 6ms/step - loss: 0.7478 - accuracy: 0.6593 - val_loss: 1.0100 - val_accuracy: 0.5012\n",
            "Epoch 63/80\n",
            "152/152 [==============================] - 1s 6ms/step - loss: 0.7370 - accuracy: 0.6685 - val_loss: 1.0063 - val_accuracy: 0.4940\n",
            "Epoch 64/80\n",
            "152/152 [==============================] - 1s 6ms/step - loss: 0.7294 - accuracy: 0.6779 - val_loss: 1.0137 - val_accuracy: 0.4976\n",
            "Epoch 65/80\n",
            "152/152 [==============================] - 1s 6ms/step - loss: 0.7161 - accuracy: 0.6808 - val_loss: 1.0206 - val_accuracy: 0.4988\n",
            "Epoch 66/80\n",
            "152/152 [==============================] - 1s 6ms/step - loss: 0.7076 - accuracy: 0.6885 - val_loss: 1.0276 - val_accuracy: 0.5012\n",
            "Epoch 67/80\n",
            "152/152 [==============================] - 1s 6ms/step - loss: 0.6967 - accuracy: 0.6968 - val_loss: 1.0277 - val_accuracy: 0.4940\n",
            "Epoch 68/80\n",
            "152/152 [==============================] - 1s 6ms/step - loss: 0.6846 - accuracy: 0.7031 - val_loss: 1.0353 - val_accuracy: 0.4958\n",
            "Epoch 69/80\n",
            "152/152 [==============================] - 1s 6ms/step - loss: 0.6769 - accuracy: 0.7068 - val_loss: 1.0420 - val_accuracy: 0.4952\n",
            "Epoch 70/80\n",
            "152/152 [==============================] - 1s 6ms/step - loss: 0.6683 - accuracy: 0.7124 - val_loss: 1.0433 - val_accuracy: 0.4946\n",
            "Epoch 71/80\n",
            "152/152 [==============================] - 1s 6ms/step - loss: 0.6559 - accuracy: 0.7221 - val_loss: 1.0525 - val_accuracy: 0.4958\n",
            "Epoch 72/80\n",
            "152/152 [==============================] - 1s 6ms/step - loss: 0.6436 - accuracy: 0.7246 - val_loss: 1.0681 - val_accuracy: 0.5018\n",
            "Epoch 73/80\n",
            "152/152 [==============================] - 1s 6ms/step - loss: 0.6339 - accuracy: 0.7285 - val_loss: 1.0683 - val_accuracy: 0.4952\n",
            "Epoch 74/80\n",
            "152/152 [==============================] - 1s 7ms/step - loss: 0.6227 - accuracy: 0.7393 - val_loss: 1.0873 - val_accuracy: 0.5030\n",
            "Epoch 75/80\n",
            "152/152 [==============================] - 1s 6ms/step - loss: 0.6120 - accuracy: 0.7387 - val_loss: 1.1007 - val_accuracy: 0.5042\n",
            "Epoch 76/80\n",
            "152/152 [==============================] - 1s 6ms/step - loss: 0.5999 - accuracy: 0.7487 - val_loss: 1.1044 - val_accuracy: 0.4982\n",
            "Epoch 77/80\n",
            "152/152 [==============================] - 1s 6ms/step - loss: 0.5878 - accuracy: 0.7520 - val_loss: 1.1268 - val_accuracy: 0.5042\n",
            "Epoch 78/80\n",
            "152/152 [==============================] - 1s 6ms/step - loss: 0.5761 - accuracy: 0.7601 - val_loss: 1.1326 - val_accuracy: 0.5030\n",
            "Epoch 79/80\n",
            "152/152 [==============================] - 1s 6ms/step - loss: 0.5648 - accuracy: 0.7651 - val_loss: 1.1388 - val_accuracy: 0.4982\n",
            "Epoch 80/80\n",
            "152/152 [==============================] - 1s 6ms/step - loss: 0.5532 - accuracy: 0.7703 - val_loss: 1.1678 - val_accuracy: 0.5042\n"
          ]
        }
      ]
    },
    {
      "cell_type": "code",
      "source": [
        "# import classification_report\n",
        "from sklearn.metrics import classification_report\n",
        "\n",
        "_, test_acc = model2.evaluate(X_test, y_test_enc, verbose=2)\n",
        "print(test_acc)\n",
        "\n",
        "y_pred = model2.predict(X_test, batch_size=bs, verbose=2)\n",
        "\n",
        "# get the class with highest probability for each sample\n",
        "y_pred = np.argmax(y_pred, axis=-1)\n",
        "\n",
        "# get the classification report\n",
        "print(classification_report(y_test, y_pred))"
      ],
      "metadata": {
        "id": "gFQE_6Rlx2Mp",
        "colab": {
          "base_uri": "https://localhost:8080/"
        },
        "outputId": "23cdb47b-a410-48e9-d6fc-921c304c0689"
      },
      "execution_count": 48,
      "outputs": [
        {
          "output_type": "stream",
          "name": "stdout",
          "text": [
            "111/111 - 0s - loss: 1.1590 - accuracy: 0.5489 - 326ms/epoch - 3ms/step\n",
            "0.5489145517349243\n",
            "56/56 - 0s - 422ms/epoch - 8ms/step\n",
            "              precision    recall  f1-score   support\n",
            "\n",
            "           0       0.59      0.03      0.05       559\n",
            "           1       0.58      0.69      0.63      1513\n",
            "           2       0.51      0.60      0.55      1475\n",
            "\n",
            "    accuracy                           0.55      3547\n",
            "   macro avg       0.56      0.44      0.41      3547\n",
            "weighted avg       0.56      0.55      0.51      3547\n",
            "\n"
          ]
        }
      ]
    }
  ],
  "metadata": {
    "accelerator": "GPU",
    "colab": {
      "collapsed_sections": [],
      "name": "cap4_2_sentiment_analysis_lstm.ipynb",
      "provenance": [],
      "authorship_tag": "ABX9TyNZbIeNOHASox4VeBYEktnk",
      "include_colab_link": true
    },
    "kernelspec": {
      "display_name": "Python 3",
      "name": "python3"
    },
    "language_info": {
      "name": "python"
    }
  },
  "nbformat": 4,
  "nbformat_minor": 0
}